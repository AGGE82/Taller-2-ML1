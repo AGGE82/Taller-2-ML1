{
 "cells": [
  {
   "cell_type": "markdown",
   "id": "f52aaab6",
   "metadata": {},
   "source": [
    "## DIABETES.csv\n"
   ]
  },
  {
   "cell_type": "code",
   "execution_count": 1,
   "id": "d03a4536",
   "metadata": {},
   "outputs": [],
   "source": [
    "import pandas as pd\n",
    "import numpy as np\n",
    "import requests\n",
    "import time\n",
    "import matplotlib.pyplot as plt\n",
    "\n",
    "from sklearn.ensemble import RandomForestClassifier \n",
    "from sklearn.metrics import accuracy_score, ConfusionMatrixDisplay\n",
    "from prefect import flow, task, get_run_logger\n",
    "from typing import Callable\n",
    "from functools import wraps\n",
    "from io import StringIO\n",
    "from sklearn.tree import DecisionTreeClassifier \n",
    "from sklearn.model_selection import train_test_split \n",
    "from sklearn.model_selection import cross_val_score\n",
    "from sklearn.neighbors import KNeighborsClassifier\n",
    "from sklearn import metrics \n",
    "from sklearn.preprocessing import StandardScaler\n",
    "from sklearn.svm import SVC\n",
    "from sklearn import datasets\n",
    "\n",
    "# Para representar el árbol de decisión\n",
    "from six import StringIO  # Capa de compatibilidad entre Python 2 y Python 3\n",
    "from sklearn.tree import export_graphviz # Visualización de árboles de decisión\n",
    "from IPython.display import Image # Módulo de gestión de imágenes digitales \n",
    "import pydotplus # Envoltorio mejorado del lenguaje \"dot\" de graphviz \n",
    "from sklearn.metrics import classification_report"
   ]
  },
  {
   "cell_type": "code",
   "execution_count": 2,
   "id": "6bbf9bb7",
   "metadata": {},
   "outputs": [],
   "source": [
    "def timing_decorator(func: Callable) -> Callable:\n",
    "    '''Custom decorator to time task execution'''\n",
    "    @wraps(func)\n",
    "    def wrapper(*args, **kwargs):\n",
    "        logger = get_run_logger()\n",
    "        start_time = time.time()\n",
    "\n",
    "        # Execute the original function\n",
    "        result = func(*args, **kwargs)\n",
    "\n",
    "        end_time = time.time()\n",
    "        execution_time = end_time - start_time\n",
    "\n",
    "        logger.info(f\"Task '{func.__name__}' completed in {execution_time:.2f} seconds\")\n",
    "        return result\n",
    "\n",
    "    return wrapper"
   ]
  },
  {
   "cell_type": "code",
   "execution_count": 3,
   "id": "7b68f622",
   "metadata": {},
   "outputs": [],
   "source": [
    "@task\n",
    "@timing_decorator\n",
    "def diabetes_dataset_retribution():\n",
    "        # Se define el nombre de las columnas en una lista \n",
    "    nombre_columnas = ['Embarazos', 'Glucosa', 'Presion Arterial', 'Grosor Piel', 'Insulina', 'Indice Masa Corporal', 'Función de Pedigree', 'Edad', 'Etiqueta']\n",
    "\n",
    "    # Se usa la biblioteca Pandas para cargar el dataset desde un archivo de texto \n",
    "    # \"separado por comas\" (CSV), usando los nombres de columna previamente definidos\n",
    "    try:\n",
    "        response = requests.get(\"https://raw.githubusercontent.com/plotly/datasets/master/diabetes.csv\")\n",
    "        response.raise_for_status()\n",
    "        csv_data = StringIO(response.text)\n",
    "        dataset = pd.read_csv(csv_data, header=1, names=nombre_columnas)\n",
    "        print(\"Dataset cargado exitosamente.\")\n",
    "        print(dataset.head())\n",
    "        return dataset\n",
    "    except requests.exceptions.RequestException as e:\n",
    "        print(f\"Error al descargar el dataset: {e}\")\n",
    "        raise e\n",
    "    except Exception as e:\n",
    "        print(f\"Error al cargar el dataset: {e}\")\n",
    "        raise e\n"
   ]
  },
  {
   "cell_type": "code",
   "execution_count": 4,
   "id": "d75e47f2",
   "metadata": {},
   "outputs": [],
   "source": [
    "@task\n",
    "@timing_decorator\n",
    "def iris_dataset_retribution():\n",
    "    #Lectura de los datos\n",
    "    df= pd.read_csv('iris.csv')\n",
    " \n",
    "    # También se puede cargar desde el paquete sklearn.datasets\n",
    "    #df = load_iris()\n",
    " \n",
    "    # previsualización del dataset\n",
    "    df.head(5)\n",
    " \n",
    "    return df\n"
   ]
  },
  {
   "cell_type": "code",
   "execution_count": 5,
   "id": "cb131ada",
   "metadata": {},
   "outputs": [],
   "source": [
    "@task\n",
    "@timing_decorator\n",
    "def cancer_dataset_retribution():\n",
    "    dataset = datasets.load_breast_cancer()\n",
    "    print(\"Características (X_i): \", dataset.feature_names)\n",
    " \n",
    "    return dataset\n"
   ]
  },
  {
   "cell_type": "code",
   "execution_count": 6,
   "id": "15ba88f7",
   "metadata": {},
   "outputs": [],
   "source": [
    "@task\n",
    "@timing_decorator\n",
    "def iris_preprocessing(df):\n",
    "    X_train, X_test, y_train, y_test = train_test_split(df[['SepalLengthCm', 'SepalWidthCm',\n",
    "                                                        'PetalLengthCm', 'PetalWidthCm']],\n",
    "                                                    df['Species'], random_state=0)\n",
    " \n",
    "    print(\"Tamaño de X_train: {}\\nTamaño de y_train: {}\".format(X_train.shape, y_train.shape))\n",
    "    print(\"Tamaño de X_test: {}\\nTamaño de y_test: {}\".format(X_test.shape, y_test.shape))\n",
    " \n",
    "    return X_train, X_test, y_train, y_test"
   ]
  },
  {
   "cell_type": "code",
   "execution_count": 7,
   "id": "fa8180fd",
   "metadata": {},
   "outputs": [],
   "source": [
    "@task\n",
    "@timing_decorator\n",
    "def diabetes_preprocessing(dataset):\n",
    "    feature_cols = ['Embarazos', 'Insulina', 'Indice Masa Corporal', 'Edad', 'Glucosa', 'Presion Arterial', 'Función de Pedigree']\n",
    "\n",
    "    X = dataset[feature_cols] # Características\n",
    "    y = dataset.Etiqueta # Variable objetivo\n",
    "\n",
    "    X_train, X_test, y_train, y_test = train_test_split(X, y, test_size=0.3, random_state=1) # 70% para entrenamiento\n",
    "    print(\"Tamaño de X_train: {}\\nTamaño de y_train: {}\".format(X_train.shape, y_train.shape)) #Salida con formato en Python\n",
    "    print(\"Tamaño de X_test: {}\\nTamaño de y_test: {}\".format(X_test.shape, y_test.shape))\n",
    "    return X_train, X_test, y_train, y_test"
   ]
  },
  {
   "cell_type": "code",
   "execution_count": 8,
   "id": "f1956722",
   "metadata": {},
   "outputs": [],
   "source": [
    "@task\n",
    "@timing_decorator\n",
    "def cancer_preprocessing(dataset):\n",
    "    X_train, X_test, y_train, y_test = train_test_split(dataset.data, dataset.target, test_size=0.3,random_state=109)\n",
    " \n",
    "    print(\"Tamaño de X_train: {}\\nTamaño de y_train: {}\".format(X_train.shape, y_train.shape))\n",
    "    print(\"Tamaño de X_test: {}\\nTamaño de y_test: {}\".format(X_test.shape, y_test.shape))\n",
    " \n",
    "    return X_train, X_test, y_train, y_test"
   ]
  },
  {
   "cell_type": "code",
   "execution_count": 9,
   "id": "041dbda1",
   "metadata": {},
   "outputs": [],
   "source": [
    "@task\n",
    "@timing_decorator\n",
    "def decision_tree(X_train, X_test, y_train, y_test):\n",
    "    dtree = DecisionTreeClassifier()\n",
    "\n",
    "    # Entrenamiento\n",
    "    dtree = dtree.fit(X_train, y_train)\n",
    "\n",
    "    # Predicción para evaluación\n",
    "    y_pred = dtree.predict(X_test)\n",
    "\n",
    "    # Verificar si X_test es un DataFrame o un array numpy\n",
    "    if hasattr(X_test, 'index'):\n",
    "        # Es un DataFrame de pandas\n",
    "        resultado_comparacion = pd.concat([X_test, y_test, pd.Series(y_pred, name='Predicción', index=X_test.index)], \n",
    "              ignore_index=False, axis=1)\n",
    "    else:\n",
    "        # Es un array de numpy - convertir a DataFrame\n",
    "        if hasattr(X_train, 'columns'):\n",
    "            # Si X_train tiene columnas, usar esos nombres\n",
    "            column_names = X_train.columns.tolist()\n",
    "        else:\n",
    "            # Generar nombres de columnas genéricos\n",
    "            column_names = [f'feature_{i}' for i in range(X_test.shape[1])]\n",
    "        \n",
    "        X_test_df = pd.DataFrame(X_test, columns=column_names)\n",
    "        y_test_series = pd.Series(y_test, name='Actual')\n",
    "        y_pred_series = pd.Series(y_pred, name='Predicción')\n",
    "        \n",
    "        resultado_comparacion = pd.concat([X_test_df, y_test_series, y_pred_series], axis=1)\n",
    "    \n",
    "    print(\"Comparación de predicciones (primeras 5 filas):\")\n",
    "    print(resultado_comparacion.head())\n",
    "\n",
    "    cv_scores = cross_val_score(dtree, X_train, y_train, cv=5)\n",
    "\n",
    "    # Escribe en pantalla los desempeños (\"accuracy\") para cada \"pliegue\" (fold)\n",
    "    print(\"Resultados de la validación cruzada en decision tree: \", cv_scores)\n",
    "\n",
    "    # Escribe en pantalla el promedio de la métrica \"accuracy\" en el entrenamiento \n",
    "    print(\"Resultado promedio de la validación cruzada en decision tree:\", np.average(cv_scores))\n",
    "\n",
    "    # Escribe en pantalla la métrica \"accuracy\" para prueba (datos no usados en el entrenamiento)\n",
    "    print(\"Exactitud (accuracy) en prueba (testing) del decision tree:\", metrics.accuracy_score(y_test, y_pred))\n",
    "\n",
    "    return dtree, y_pred"
   ]
  },
  {
   "cell_type": "code",
   "execution_count": 10,
   "id": "bec46ce2",
   "metadata": {},
   "outputs": [],
   "source": [
    "@task\n",
    "@timing_decorator\n",
    "def roc_curve_analysis(dtree, X_test, y_test, y_pred):\n",
    "    fpr,tpr,_r=metrics.roc_curve(y_test,y_pred)\n",
    "    roc_auc = metrics.auc(fpr, tpr)\n",
    "    print(roc_auc)\n",
    "    metrics.RocCurveDisplay.from_estimator(dtree, X_test, y_test)"
   ]
  },
  {
   "cell_type": "code",
   "execution_count": 11,
   "id": "a33a3203",
   "metadata": {},
   "outputs": [],
   "source": [
    "@task\n",
    "@timing_decorator\n",
    "def random_forest(X_train, X_test, y_train, y_test):\n",
    "    # Create a Random Forest Classifier instance \n",
    "    rf_model = RandomForestClassifier(n_estimators=100, random_state=42)\n",
    "\n",
    "    # Train the model\n",
    "    rf_model.fit(X_train, y_train)\n",
    "\n",
    "    # Make predictions\n",
    "    rf_predictions = rf_model.predict(X_test)\n",
    "\n",
    "    # Evaluate the model \n",
    "    rf_accuracy = accuracy_score(y_test, rf_predictions) \n",
    "    print(f\"Random Forest Accuracy: {rf_accuracy:.4f}\")\n",
    "\n",
    "    return rf_model"
   ]
  },
  {
   "cell_type": "code",
   "execution_count": 12,
   "id": "ad3d7f0a",
   "metadata": {},
   "outputs": [],
   "source": [
    "@task\n",
    "@timing_decorator\n",
    "def knn(X_train, X_test, y_train, y_test):\n",
    "    knn = KNeighborsClassifier(n_neighbors=1)\n",
    "    knn.fit(X_train, y_train)\n",
    " \n",
    "    y_pred = knn.predict(X_test)\n",
    "    \n",
    "    # Verificar si X_test es un DataFrame o un array numpy\n",
    "    if hasattr(X_test, 'index'):\n",
    "        # Es un DataFrame de pandas\n",
    "        resultado_comparacion = pd.concat([X_test, y_test, pd.Series(y_pred, name='Predicción', index=X_test.index)],\n",
    "                ignore_index=False, axis=1)\n",
    "    else:\n",
    "        # Es un array de numpy - convertir a DataFrame\n",
    "        if hasattr(X_train, 'columns'):\n",
    "            column_names = X_train.columns.tolist()\n",
    "        else:\n",
    "            column_names = [f'feature_{i}' for i in range(X_test.shape[1])]\n",
    "        \n",
    "        X_test_df = pd.DataFrame(X_test, columns=column_names)\n",
    "        y_test_series = pd.Series(y_test, name='Actual')\n",
    "        y_pred_series = pd.Series(y_pred, name='Predicción')\n",
    "        \n",
    "        resultado_comparacion = pd.concat([X_test_df, y_test_series, y_pred_series], axis=1)\n",
    "    \n",
    "    print(\"Comparación de predicciones (primeras 5 filas):\")\n",
    "    print(resultado_comparacion.head())\n",
    "    \n",
    "    print(\"Score sobre el conjunto de test: {:.3f}\".format(knn.score(X_test, y_test)))\n",
    " \n",
    "    np.set_printoptions(precision=2)\n",
    "    #Validación cruzada datos entrenamiento \n",
    "    cv_scores = cross_val_score(knn, X_train, y_train, cv=5)\n",
    "    print(cv_scores)\n",
    " \n",
    "    print(\"Desempeño promedio del kNN:\")\n",
    "    print(np.average(cv_scores))\n",
    " \n",
    "    print(\"Exactitud (accuracy) en prueba (testing) del kNN:\", metrics.accuracy_score(y_test, y_pred))\n",
    "  \n",
    "    return knn"
   ]
  },
  {
   "cell_type": "code",
   "execution_count": 13,
   "id": "f9ba4eb6",
   "metadata": {},
   "outputs": [],
   "source": [
    "@task\n",
    "def knn_scaler(X_train, X_test, y_train, y_test):\n",
    "    scaler = StandardScaler()\n",
    "    x_train_scaler = scaler.fit_transform(X_train)\n",
    "    x_test_scaler = scaler.transform(X_test)\n",
    " \n",
    "    knn_scaled = KNeighborsClassifier(n_neighbors=1)\n",
    "    knn_scaled.fit(x_train_scaler, y_train)\n",
    " \n",
    "    y_pred = knn_scaled.predict(x_test_scaler)\n",
    " \n",
    "    # Crear DataFrame para mostrar comparación\n",
    "    if hasattr(X_test, 'index'):\n",
    "        comparacion_df = pd.concat([X_test,\n",
    "                                   y_test,\n",
    "                                   pd.Series(y_pred, name='Predicción', index=X_test.index)],\n",
    "                                  ignore_index=False, axis=1)\n",
    "    else:\n",
    "        if hasattr(X_train, 'columns'):\n",
    "            column_names = X_train.columns.tolist()\n",
    "        else:\n",
    "            column_names = [f'feature_{i}' for i in range(X_test.shape[1])]\n",
    "        \n",
    "        X_test_df = pd.DataFrame(X_test, columns=column_names)\n",
    "        y_test_series = pd.Series(y_test, name='Actual')\n",
    "        y_pred_series = pd.Series(y_pred, name='Predicción')\n",
    "        \n",
    "        comparacion_df = pd.concat([X_test_df, y_test_series, y_pred_series], axis=1)\n",
    "    \n",
    "    print(\"Comparación de predicciones:\")\n",
    "    print(comparacion_df.head())\n",
    " \n",
    "    print(\"Score sobre el conjunto de test: {:.3f}\".format(knn_scaled.score(x_test_scaler, y_test)))\n",
    " \n",
    "    np.set_printoptions(precision=2)\n",
    "    cv_scores = cross_val_score(knn_scaled, x_train_scaler, y_train, cv=5)\n",
    "    print(cv_scores)\n",
    " \n",
    "    print(\"Desempeño promedio:\")\n",
    "    print(np.average(cv_scores))\n",
    " \n",
    "    print(\"Exactitud (accuracy) en prueba (testing):\", metrics.accuracy_score(y_test, y_pred))\n",
    " \n",
    "    return knn_scaled\n"
   ]
  },
  {
   "cell_type": "code",
   "execution_count": 14,
   "id": "2d729817",
   "metadata": {},
   "outputs": [],
   "source": [
    "@task\n",
    "@timing_decorator\n",
    "def svm(X_train, X_test, y_train, y_test):\n",
    "    svm_class = SVC(kernel='rbf', random_state=0)\n",
    "    svm_class.fit(X_train, y_train)\n",
    " \n",
    "    y_pred = svm_class.predict(X_test)\n",
    " \n",
    "    # Verificar si X_test es un DataFrame o un array numpy\n",
    "    if hasattr(X_test, 'index'):\n",
    "        resultado_comparacion = pd.concat([X_test, y_test, pd.Series(y_pred, name='Predicción', index=X_test.index)],\n",
    "                ignore_index=False, axis=1)\n",
    "    else:\n",
    "        if hasattr(X_train, 'columns'):\n",
    "            column_names = X_train.columns.tolist()\n",
    "        else:\n",
    "            column_names = [f'feature_{i}' for i in range(X_test.shape[1])]\n",
    "        \n",
    "        X_test_df = pd.DataFrame(X_test, columns=column_names)\n",
    "        y_test_series = pd.Series(y_test, name='Actual')\n",
    "        y_pred_series = pd.Series(y_pred, name='Predicción')\n",
    "        \n",
    "        resultado_comparacion = pd.concat([X_test_df, y_test_series, y_pred_series], axis=1)\n",
    "    \n",
    "    print(\"Comparación de predicciones (primeras 5 filas):\")\n",
    "    print(resultado_comparacion.head())\n",
    "   \n",
    "    print(\"Score de entrenamiento: {:.3f}\".format(svm_class.score(X_train, y_train)))\n",
    "    print(\"Score de test: {:.3f}\".format(svm_class.score(X_test, y_test)))\n",
    " \n",
    "    np.set_printoptions(precision=2)\n",
    "    cv_scores = cross_val_score(svm_class, X_train, y_train, cv=5)\n",
    "    print(\"Scores de validación cruzada:\")\n",
    "    print(cv_scores)\n",
    " \n",
    "    print(\"Desempeño promedio:\")\n",
    "    print(np.average(cv_scores))\n",
    " \n",
    "    print(\"Accuracy en el testing:\", metrics.accuracy_score(y_test, y_pred))\n",
    "\n",
    "    return svm_class\n"
   ]
  },
  {
   "cell_type": "code",
   "execution_count": 15,
   "id": "3f9c568c",
   "metadata": {},
   "outputs": [],
   "source": [
    "@task\n",
    "@timing_decorator\n",
    "def svm_scaler(X_train, X_test, y_train, y_test):\n",
    "    scaler = StandardScaler()\n",
    "    x_train_scaler = scaler.fit_transform(X_train)\n",
    "    x_test_scaler = scaler.transform(X_test)\n",
    " \n",
    "    svm_class_scaled = SVC(kernel='rbf', random_state=0)\n",
    "    svm_class_scaled.fit(x_train_scaler, y_train)\n",
    " \n",
    "    y_pred = svm_class_scaled.predict(x_test_scaler)\n",
    " \n",
    "    # Verificar si X_test es un DataFrame o un array numpy\n",
    "    if hasattr(X_test, 'index'):\n",
    "        resultado_comparacion = pd.concat([X_test, y_test, pd.Series(y_pred, name='Predicción', index=X_test.index)],\n",
    "                ignore_index=False, axis=1)\n",
    "    else:\n",
    "        if hasattr(X_train, 'columns'):\n",
    "            column_names = X_train.columns.tolist()\n",
    "        else:\n",
    "            column_names = [f'feature_{i}' for i in range(X_test.shape[1])]\n",
    "        \n",
    "        X_test_df = pd.DataFrame(X_test, columns=column_names)\n",
    "        y_test_series = pd.Series(y_test, name='Actual')\n",
    "        y_pred_series = pd.Series(y_pred, name='Predicción')\n",
    "        \n",
    "        resultado_comparacion = pd.concat([X_test_df, y_test_series, y_pred_series], axis=1)\n",
    "    \n",
    "    print(\"Comparación de predicciones (primeras 5 filas):\")\n",
    "    print(resultado_comparacion.head())\n",
    "   \n",
    "    print(\"Score de entrenamiento: {:.3f}\".format(svm_class_scaled.score(x_train_scaler, y_train)))\n",
    "    print(\"Score de test: {:.3f}\".format(svm_class_scaled.score(x_test_scaler, y_test)))\n",
    " \n",
    "    np.set_printoptions(precision=2)\n",
    "    cv_scores = cross_val_score(svm_class_scaled, x_train_scaler, y_train, cv=5)\n",
    "    print(\"Scores de validación cruzada:\")\n",
    "    print(cv_scores)\n",
    " \n",
    "    print(\"Desempeño promedio:\")\n",
    "    print(np.average(cv_scores))\n",
    " \n",
    "    print(\"Accuracy en el testing:\", metrics.accuracy_score(y_test, y_pred))\n",
    " \n",
    "    return svm_class_scaled"
   ]
  },
  {
   "cell_type": "code",
   "execution_count": 16,
   "id": "7b8d998b",
   "metadata": {},
   "outputs": [],
   "source": [
    "@task\n",
    "@timing_decorator\n",
    "def confusion_matrix(class_names, model, X_test, y_test):\n",
    " \n",
    "    print(\"Visualización de desempeño con Matriz de Confusión:\")\n",
    "  \n",
    "    disp = ConfusionMatrixDisplay.from_estimator(\n",
    "        model,\n",
    "        X_test,\n",
    "        y_test,\n",
    "        display_labels=class_names,\n",
    "        cmap=plt.cm.Blues,\n",
    "        normalize=None\n",
    "    )\n",
    " \n",
    "    disp.ax_.set_title(\"Confusion Matrix\")\n",
    "    print(\"Confusion Matrix\")\n",
    "    print(disp.confusion_matrix)\n",
    " \n",
    "    plt.show()"
   ]
  },
  {
   "cell_type": "code",
   "execution_count": 17,
   "id": "a58588f8",
   "metadata": {},
   "outputs": [],
   "source": [
    "@task\n",
    "@timing_decorator\n",
    "def classification_report(model, X_test, y_test, class_names):\n",
    "    \n",
    "    y_pred = model.predict(X_test)\n",
    "\n",
    "    print(\"Clasification Report\")\n",
    "    report = classification_report(y_test, y_pred, target_names=class_names)\n",
    "    print(report)\n",
    "    \n",
    "    return report"
   ]
  },
  {
   "cell_type": "code",
   "execution_count": 18,
   "id": "1877acc8",
   "metadata": {},
   "outputs": [
    {
     "data": {
      "text/html": [
       "<pre style=\"white-space:pre;overflow-x:auto;line-height:normal;font-family:Menlo,'DejaVu Sans Mono',consolas,'Courier New',monospace\">17:02:13.964 | <span style=\"color: #008080; text-decoration-color: #008080\">INFO</span>    | prefect - Starting temporary server on <span style=\"color: #0000ff; text-decoration-color: #0000ff\">http://127.0.0.1:8148</span>\n",
       "See <span style=\"color: #0000ff; text-decoration-color: #0000ff\">https://docs.prefect.io/v3/concepts/server#how-to-guides</span> for more information on running a dedicated Prefect server.\n",
       "</pre>\n"
      ],
      "text/plain": [
       "17:02:13.964 | \u001b[36mINFO\u001b[0m    | prefect - Starting temporary server on \u001b[94mhttp://127.0.0.1:8148\u001b[0m\n",
       "See \u001b[94mhttps://docs.prefect.io/v3/concepts/server#how-to-guides\u001b[0m for more information on running a dedicated Prefect server.\n"
      ]
     },
     "metadata": {},
     "output_type": "display_data"
    },
    {
     "data": {
      "text/html": [
       "<pre style=\"white-space:pre;overflow-x:auto;line-height:normal;font-family:Menlo,'DejaVu Sans Mono',consolas,'Courier New',monospace\">17:02:18.276 | <span style=\"color: #008080; text-decoration-color: #008080\">INFO</span>    | Flow run<span style=\"color: #800080; text-decoration-color: #800080\"> 'exuberant-squirrel'</span> - Beginning flow run<span style=\"color: #800080; text-decoration-color: #800080\"> 'exuberant-squirrel'</span> for flow<span style=\"color: #800080; text-decoration-color: #800080; font-weight: bold\"> 'iris-flow'</span>\n",
       "</pre>\n"
      ],
      "text/plain": [
       "17:02:18.276 | \u001b[36mINFO\u001b[0m    | Flow run\u001b[35m 'exuberant-squirrel'\u001b[0m - Beginning flow run\u001b[35m 'exuberant-squirrel'\u001b[0m for flow\u001b[1;35m 'iris-flow'\u001b[0m\n"
      ]
     },
     "metadata": {},
     "output_type": "display_data"
    },
    {
     "data": {
      "text/html": [
       "<pre style=\"white-space:pre;overflow-x:auto;line-height:normal;font-family:Menlo,'DejaVu Sans Mono',consolas,'Courier New',monospace\">17:02:18.330 | <span style=\"color: #008080; text-decoration-color: #008080\">INFO</span>    | Task run 'iris_dataset_retribution-fae' - Task 'iris_dataset_retribution' completed in 0.01 seconds\n",
       "</pre>\n"
      ],
      "text/plain": [
       "17:02:18.330 | \u001b[36mINFO\u001b[0m    | Task run 'iris_dataset_retribution-fae' - Task 'iris_dataset_retribution' completed in 0.01 seconds\n"
      ]
     },
     "metadata": {},
     "output_type": "display_data"
    },
    {
     "data": {
      "text/html": [
       "<pre style=\"white-space:pre;overflow-x:auto;line-height:normal;font-family:Menlo,'DejaVu Sans Mono',consolas,'Courier New',monospace\">17:02:18.339 | <span style=\"color: #008080; text-decoration-color: #008080\">INFO</span>    | Task run 'iris_dataset_retribution-fae' - Finished in state <span style=\"color: #008000; text-decoration-color: #008000\">Completed</span>()\n",
       "</pre>\n"
      ],
      "text/plain": [
       "17:02:18.339 | \u001b[36mINFO\u001b[0m    | Task run 'iris_dataset_retribution-fae' - Finished in state \u001b[32mCompleted\u001b[0m()\n"
      ]
     },
     "metadata": {},
     "output_type": "display_data"
    },
    {
     "name": "stdout",
     "output_type": "stream",
     "text": [
      "Tamaño de X_train: (112, 4)\n",
      "Tamaño de y_train: (112,)\n",
      "Tamaño de X_test: (38, 4)\n",
      "Tamaño de y_test: (38,)\n"
     ]
    },
    {
     "data": {
      "text/html": [
       "<pre style=\"white-space:pre;overflow-x:auto;line-height:normal;font-family:Menlo,'DejaVu Sans Mono',consolas,'Courier New',monospace\">17:02:18.371 | <span style=\"color: #008080; text-decoration-color: #008080\">INFO</span>    | Task run 'iris_preprocessing-d35' - Task 'iris_preprocessing' completed in 0.01 seconds\n",
       "</pre>\n"
      ],
      "text/plain": [
       "17:02:18.371 | \u001b[36mINFO\u001b[0m    | Task run 'iris_preprocessing-d35' - Task 'iris_preprocessing' completed in 0.01 seconds\n"
      ]
     },
     "metadata": {},
     "output_type": "display_data"
    },
    {
     "data": {
      "text/html": [
       "<pre style=\"white-space:pre;overflow-x:auto;line-height:normal;font-family:Menlo,'DejaVu Sans Mono',consolas,'Courier New',monospace\">17:02:18.375 | <span style=\"color: #008080; text-decoration-color: #008080\">INFO</span>    | Task run 'iris_preprocessing-d35' - Finished in state <span style=\"color: #008000; text-decoration-color: #008000\">Completed</span>()\n",
       "</pre>\n"
      ],
      "text/plain": [
       "17:02:18.375 | \u001b[36mINFO\u001b[0m    | Task run 'iris_preprocessing-d35' - Finished in state \u001b[32mCompleted\u001b[0m()\n"
      ]
     },
     "metadata": {},
     "output_type": "display_data"
    },
    {
     "name": "stdout",
     "output_type": "stream",
     "text": [
      "Comparación de predicciones (primeras 5 filas):\n",
      "     SepalLengthCm  SepalWidthCm  PetalLengthCm  PetalWidthCm  \\\n",
      "114            5.8           2.8            5.1           2.4   \n",
      "62             6.0           2.2            4.0           1.0   \n",
      "33             5.5           4.2            1.4           0.2   \n",
      "107            7.3           2.9            6.3           1.8   \n",
      "7              5.0           3.4            1.5           0.2   \n",
      "\n",
      "             Species       Predicción  \n",
      "114   Iris-virginica   Iris-virginica  \n",
      "62   Iris-versicolor  Iris-versicolor  \n",
      "33       Iris-setosa      Iris-setosa  \n",
      "107   Iris-virginica   Iris-virginica  \n",
      "7        Iris-setosa      Iris-setosa  \n",
      "Resultados de la validación cruzada en decision tree:  [1.         0.95652174 1.         0.90909091 0.95454545]\n",
      "Resultado promedio de la validación cruzada en decision tree: 0.9640316205533598\n",
      "Exactitud (accuracy) en prueba (testing) del decision tree: 0.9736842105263158\n"
     ]
    },
    {
     "data": {
      "text/html": [
       "<pre style=\"white-space:pre;overflow-x:auto;line-height:normal;font-family:Menlo,'DejaVu Sans Mono',consolas,'Courier New',monospace\">17:02:18.422 | <span style=\"color: #008080; text-decoration-color: #008080\">INFO</span>    | Task run 'decision_tree-3e2' - Task 'decision_tree' completed in 0.03 seconds\n",
       "</pre>\n"
      ],
      "text/plain": [
       "17:02:18.422 | \u001b[36mINFO\u001b[0m    | Task run 'decision_tree-3e2' - Task 'decision_tree' completed in 0.03 seconds\n"
      ]
     },
     "metadata": {},
     "output_type": "display_data"
    },
    {
     "data": {
      "text/html": [
       "<pre style=\"white-space:pre;overflow-x:auto;line-height:normal;font-family:Menlo,'DejaVu Sans Mono',consolas,'Courier New',monospace\">17:02:18.422 | <span style=\"color: #008080; text-decoration-color: #008080\">INFO</span>    | Task run 'decision_tree-3e2' - Finished in state <span style=\"color: #008000; text-decoration-color: #008000\">Completed</span>()\n",
       "</pre>\n"
      ],
      "text/plain": [
       "17:02:18.422 | \u001b[36mINFO\u001b[0m    | Task run 'decision_tree-3e2' - Finished in state \u001b[32mCompleted\u001b[0m()\n"
      ]
     },
     "metadata": {},
     "output_type": "display_data"
    },
    {
     "name": "stdout",
     "output_type": "stream",
     "text": [
      "Visualización de desempeño con Matriz de Confusión:\n",
      "Confusion Matrix\n",
      "[[13  0  0]\n",
      " [ 0 15  1]\n",
      " [ 0  0  9]]\n"
     ]
    },
    {
     "data": {
      "image/png": "[encoded data removed]",
      "text/plain": [
       "<Figure size 640x480 with 2 Axes>"
      ]
     },
     "metadata": {},
     "output_type": "display_data"
    },
    {
     "data": {
      "text/html": [
       "<pre style=\"white-space:pre;overflow-x:auto;line-height:normal;font-family:Menlo,'DejaVu Sans Mono',consolas,'Courier New',monospace\">17:02:18.603 | <span style=\"color: #008080; text-decoration-color: #008080\">INFO</span>    | Task run 'confusion_matrix-291' - Task 'confusion_matrix' completed in 0.15 seconds\n",
       "</pre>\n"
      ],
      "text/plain": [
       "17:02:18.603 | \u001b[36mINFO\u001b[0m    | Task run 'confusion_matrix-291' - Task 'confusion_matrix' completed in 0.15 seconds\n"
      ]
     },
     "metadata": {},
     "output_type": "display_data"
    },
    {
     "data": {
      "text/html": [
       "<pre style=\"white-space:pre;overflow-x:auto;line-height:normal;font-family:Menlo,'DejaVu Sans Mono',consolas,'Courier New',monospace\">17:02:18.612 | <span style=\"color: #008080; text-decoration-color: #008080\">INFO</span>    | Task run 'confusion_matrix-291' - Finished in state <span style=\"color: #008000; text-decoration-color: #008000\">Completed</span>()\n",
       "</pre>\n"
      ],
      "text/plain": [
       "17:02:18.612 | \u001b[36mINFO\u001b[0m    | Task run 'confusion_matrix-291' - Finished in state \u001b[32mCompleted\u001b[0m()\n"
      ]
     },
     "metadata": {},
     "output_type": "display_data"
    },
    {
     "name": "stdout",
     "output_type": "stream",
     "text": [
      "Clasification Report\n"
     ]
    },
    {
     "data": {
      "text/html": [
       "<pre style=\"white-space:pre;overflow-x:auto;line-height:normal;font-family:Menlo,'DejaVu Sans Mono',consolas,'Courier New',monospace\">17:02:18.635 | <span style=\"color: #d70000; text-decoration-color: #d70000\">ERROR</span>   | Task run 'classification_report-6ce' - Task run failed with exception: ParameterBindError(\"Error binding parameters for function 'classification_report': missing a required argument: 'y_test'.\\nFunction 'classification_report' has signature 'model, X_test, y_test, class_names' but received args: (114     Iris-virginica\\n62     Iris-versicolor\\n33         Iris-setosa\\n107     Iris-virginica\\n7          Iris-setosa\\n100     Iris-virginica\\n40         Iris-setosa\\n86     Iris-versicolor\\n76     Iris-versicolor\\n71     Iris-versicolor\\n134     Iris-virginica\\n51     Iris-versicolor\\n73     Iris-versicolor\\n54     Iris-versicolor\\n63     Iris-versicolor\\n37         Iris-setosa\\n78     Iris-versicolor\\n90     Iris-versicolor\\n45         Iris-setosa\\n16         Iris-setosa\\n121     Iris-virginica\\n66     Iris-versicolor\\n24         Iris-setosa\\n8          Iris-setosa\\n126     Iris-virginica\\n22         Iris-setosa\\n44         Iris-setosa\\n97     Iris-versicolor\\n93     Iris-versicolor\\n26         Iris-setosa\\n137     Iris-virginica\\n84     Iris-versicolor\\n27         Iris-setosa\\n127     Iris-virginica\\n132     Iris-virginica\\n59     Iris-versicolor\\n18         Iris-setosa\\n83     Iris-versicolor\\nName: Species, dtype: object, array(['Iris-virginica', 'Iris-versicolor', 'Iris-setosa',\\n       'Iris-virginica', 'Iris-setosa', 'Iris-virginica', 'Iris-setosa',\\n       'Iris-versicolor', 'Iris-versicolor', 'Iris-versicolor',\\n       'Iris-virginica', 'Iris-versicolor', 'Iris-versicolor',\\n       'Iris-versicolor', 'Iris-versicolor', 'Iris-setosa',\\n       'Iris-versicolor', 'Iris-versicolor', 'Iris-setosa', 'Iris-setosa',\\n       'Iris-virginica', 'Iris-versicolor', 'Iris-setosa', 'Iris-setosa',\\n       'Iris-virginica', 'Iris-setosa', 'Iris-setosa', 'Iris-versicolor',\\n       'Iris-versicolor', 'Iris-setosa', 'Iris-virginica',\\n       'Iris-versicolor', 'Iris-setosa', 'Iris-virginica',\\n       'Iris-virginica', 'Iris-versicolor', 'Iris-setosa',\\n       'Iris-virginica'], dtype=object)) and kwargs: ['target_names'].\") - No retries configured for this task.\n",
       "Traceback (most recent call last):\n",
       "  File \"c:\\Users\\Juan David\\anaconda3\\envs\\bigdata_sql\\Lib\\site-packages\\prefect\\utilities\\callables.py\", line 70, in get_call_parameters\n",
       "    bound_signature = inspect.signature(fn).bind(*call_args, **call_kwargs)\n",
       "                      ^^^^^^^^^^^^^^^^^^^^^^^^^^^^^^^^^^^^^^^^^^^^^^^^^^^^^\n",
       "  File \"c:\\Users\\Juan David\\anaconda3\\envs\\bigdata_sql\\Lib\\inspect.py\", line 3195, in bind\n",
       "    return self._bind(args, kwargs)\n",
       "           ^^^^^^^^^^^^^^^^^^^^^^^^\n",
       "  File \"c:\\Users\\Juan David\\anaconda3\\envs\\bigdata_sql\\Lib\\inspect.py\", line 3110, in _bind\n",
       "    raise TypeError(msg) from None\n",
       "TypeError: missing a required argument: 'y_test'\n",
       "\n",
       "During handling of the above exception, another exception occurred:\n",
       "\n",
       "Traceback (most recent call last):\n",
       "  File \"c:\\Users\\Juan David\\anaconda3\\envs\\bigdata_sql\\Lib\\site-packages\\prefect\\task_engine.py\", line 869, in run_context\n",
       "    yield self\n",
       "  File \"c:\\Users\\Juan David\\anaconda3\\envs\\bigdata_sql\\Lib\\site-packages\\prefect\\task_engine.py\", line 1505, in run_task_sync\n",
       "    engine.call_task_fn(txn)\n",
       "  File \"c:\\Users\\Juan David\\anaconda3\\envs\\bigdata_sql\\Lib\\site-packages\\prefect\\task_engine.py\", line 886, in call_task_fn\n",
       "    result = call_with_parameters(self.task.fn, parameters)\n",
       "             ^^^^^^^^^^^^^^^^^^^^^^^^^^^^^^^^^^^^^^^^^^^^^^\n",
       "  File \"c:\\Users\\Juan David\\anaconda3\\envs\\bigdata_sql\\Lib\\site-packages\\prefect\\utilities\\callables.py\", line 210, in call_with_parameters\n",
       "    return fn(*args, **kwargs)\n",
       "           ^^^^^^^^^^^^^^^^^^^\n",
       "  File \"C:\\Users\\Juan David\\AppData\\Local\\Temp\\ipykernel_5172\\3613525291.py\", line 9, in wrapper\n",
       "    result = func(*args, **kwargs)\n",
       "             ^^^^^^^^^^^^^^^^^^^^^\n",
       "  File \"C:\\Users\\Juan David\\AppData\\Local\\Temp\\ipykernel_5172\\957212467.py\", line 8, in classification_report\n",
       "    report = classification_report(y_test, y_pred, target_names=class_names)\n",
       "             ^^^^^^^^^^^^^^^^^^^^^^^^^^^^^^^^^^^^^^^^^^^^^^^^^^^^^^^^^^^^^^^\n",
       "  File \"c:\\Users\\Juan David\\anaconda3\\envs\\bigdata_sql\\Lib\\site-packages\\prefect\\tasks.py\", line 1127, in __call__\n",
       "    parameters = get_call_parameters(self.fn, args, kwargs)\n",
       "                 ^^^^^^^^^^^^^^^^^^^^^^^^^^^^^^^^^^^^^^^^^^\n",
       "  File \"c:\\Users\\Juan David\\anaconda3\\envs\\bigdata_sql\\Lib\\site-packages\\prefect\\utilities\\callables.py\", line 72, in get_call_parameters\n",
       "    raise ParameterBindError.from_bind_failure(fn, exc, call_args, call_kwargs)\n",
       "prefect.exceptions.ParameterBindError: Error binding parameters for function 'classification_report': missing a required argument: 'y_test'.\n",
       "Function 'classification_report' has signature 'model, X_test, y_test, class_names' but received args: (114     Iris-virginica\n",
       "62     Iris-versicolor\n",
       "33         Iris-setosa\n",
       "107     Iris-virginica\n",
       "7          Iris-setosa\n",
       "100     Iris-virginica\n",
       "40         Iris-setosa\n",
       "86     Iris-versicolor\n",
       "76     Iris-versicolor\n",
       "71     Iris-versicolor\n",
       "134     Iris-virginica\n",
       "51     Iris-versicolor\n",
       "73     Iris-versicolor\n",
       "54     Iris-versicolor\n",
       "63     Iris-versicolor\n",
       "37         Iris-setosa\n",
       "78     Iris-versicolor\n",
       "90     Iris-versicolor\n",
       "45         Iris-setosa\n",
       "16         Iris-setosa\n",
       "121     Iris-virginica\n",
       "66     Iris-versicolor\n",
       "24         Iris-setosa\n",
       "8          Iris-setosa\n",
       "126     Iris-virginica\n",
       "22         Iris-setosa\n",
       "44         Iris-setosa\n",
       "97     Iris-versicolor\n",
       "93     Iris-versicolor\n",
       "26         Iris-setosa\n",
       "137     Iris-virginica\n",
       "84     Iris-versicolor\n",
       "27         Iris-setosa\n",
       "127     Iris-virginica\n",
       "132     Iris-virginica\n",
       "59     Iris-versicolor\n",
       "18         Iris-setosa\n",
       "83     Iris-versicolor\n",
       "Name: Species, dtype: object, array(['Iris-virginica', 'Iris-versicolor', 'Iris-setosa',\n",
       "       'Iris-virginica', 'Iris-setosa', 'Iris-virginica', 'Iris-setosa',\n",
       "       'Iris-versicolor', 'Iris-versicolor', 'Iris-versicolor',\n",
       "       'Iris-virginica', 'Iris-versicolor', 'Iris-versicolor',\n",
       "       'Iris-versicolor', 'Iris-versicolor', 'Iris-setosa',\n",
       "       'Iris-versicolor', 'Iris-versicolor', 'Iris-setosa', 'Iris-setosa',\n",
       "       'Iris-virginica', 'Iris-versicolor', 'Iris-setosa', 'Iris-setosa',\n",
       "       'Iris-virginica', 'Iris-setosa', 'Iris-setosa', 'Iris-versicolor',\n",
       "       'Iris-versicolor', 'Iris-setosa', 'Iris-virginica',\n",
       "       'Iris-versicolor', 'Iris-setosa', 'Iris-virginica',\n",
       "       'Iris-virginica', 'Iris-versicolor', 'Iris-setosa',\n",
       "       'Iris-virginica'], dtype=object)) and kwargs: ['target_names'].\n",
       "</pre>\n"
      ],
      "text/plain": [
       "17:02:18.635 | \u001b[38;5;160mERROR\u001b[0m   | Task run 'classification_report-6ce' - Task run failed with exception: ParameterBindError(\"Error binding parameters for function 'classification_report': missing a required argument: 'y_test'.\\nFunction 'classification_report' has signature 'model, X_test, y_test, class_names' but received args: (114     Iris-virginica\\n62     Iris-versicolor\\n33         Iris-setosa\\n107     Iris-virginica\\n7          Iris-setosa\\n100     Iris-virginica\\n40         Iris-setosa\\n86     Iris-versicolor\\n76     Iris-versicolor\\n71     Iris-versicolor\\n134     Iris-virginica\\n51     Iris-versicolor\\n73     Iris-versicolor\\n54     Iris-versicolor\\n63     Iris-versicolor\\n37         Iris-setosa\\n78     Iris-versicolor\\n90     Iris-versicolor\\n45         Iris-setosa\\n16         Iris-setosa\\n121     Iris-virginica\\n66     Iris-versicolor\\n24         Iris-setosa\\n8          Iris-setosa\\n126     Iris-virginica\\n22         Iris-setosa\\n44         Iris-setosa\\n97     Iris-versicolor\\n93     Iris-versicolor\\n26         Iris-setosa\\n137     Iris-virginica\\n84     Iris-versicolor\\n27         Iris-setosa\\n127     Iris-virginica\\n132     Iris-virginica\\n59     Iris-versicolor\\n18         Iris-setosa\\n83     Iris-versicolor\\nName: Species, dtype: object, array(['Iris-virginica', 'Iris-versicolor', 'Iris-setosa',\\n       'Iris-virginica', 'Iris-setosa', 'Iris-virginica', 'Iris-setosa',\\n       'Iris-versicolor', 'Iris-versicolor', 'Iris-versicolor',\\n       'Iris-virginica', 'Iris-versicolor', 'Iris-versicolor',\\n       'Iris-versicolor', 'Iris-versicolor', 'Iris-setosa',\\n       'Iris-versicolor', 'Iris-versicolor', 'Iris-setosa', 'Iris-setosa',\\n       'Iris-virginica', 'Iris-versicolor', 'Iris-setosa', 'Iris-setosa',\\n       'Iris-virginica', 'Iris-setosa', 'Iris-setosa', 'Iris-versicolor',\\n       'Iris-versicolor', 'Iris-setosa', 'Iris-virginica',\\n       'Iris-versicolor', 'Iris-setosa', 'Iris-virginica',\\n       'Iris-virginica', 'Iris-versicolor', 'Iris-setosa',\\n       'Iris-virginica'], dtype=object)) and kwargs: ['target_names'].\") - No retries configured for this task.\n",
       "Traceback (most recent call last):\n",
       "  File \"c:\\Users\\Juan David\\anaconda3\\envs\\bigdata_sql\\Lib\\site-packages\\prefect\\utilities\\callables.py\", line 70, in get_call_parameters\n",
       "    bound_signature = inspect.signature(fn).bind(*call_args, **call_kwargs)\n",
       "                      ^^^^^^^^^^^^^^^^^^^^^^^^^^^^^^^^^^^^^^^^^^^^^^^^^^^^^\n",
       "  File \"c:\\Users\\Juan David\\anaconda3\\envs\\bigdata_sql\\Lib\\inspect.py\", line 3195, in bind\n",
       "    return self._bind(args, kwargs)\n",
       "           ^^^^^^^^^^^^^^^^^^^^^^^^\n",
       "  File \"c:\\Users\\Juan David\\anaconda3\\envs\\bigdata_sql\\Lib\\inspect.py\", line 3110, in _bind\n",
       "    raise TypeError(msg) from None\n",
       "TypeError: missing a required argument: 'y_test'\n",
       "\n",
       "During handling of the above exception, another exception occurred:\n",
       "\n",
       "Traceback (most recent call last):\n",
       "  File \"c:\\Users\\Juan David\\anaconda3\\envs\\bigdata_sql\\Lib\\site-packages\\prefect\\task_engine.py\", line 869, in run_context\n",
       "    yield self\n",
       "  File \"c:\\Users\\Juan David\\anaconda3\\envs\\bigdata_sql\\Lib\\site-packages\\prefect\\task_engine.py\", line 1505, in run_task_sync\n",
       "    engine.call_task_fn(txn)\n",
       "  File \"c:\\Users\\Juan David\\anaconda3\\envs\\bigdata_sql\\Lib\\site-packages\\prefect\\task_engine.py\", line 886, in call_task_fn\n",
       "    result = call_with_parameters(self.task.fn, parameters)\n",
       "             ^^^^^^^^^^^^^^^^^^^^^^^^^^^^^^^^^^^^^^^^^^^^^^\n",
       "  File \"c:\\Users\\Juan David\\anaconda3\\envs\\bigdata_sql\\Lib\\site-packages\\prefect\\utilities\\callables.py\", line 210, in call_with_parameters\n",
       "    return fn(*args, **kwargs)\n",
       "           ^^^^^^^^^^^^^^^^^^^\n",
       "  File \"C:\\Users\\Juan David\\AppData\\Local\\Temp\\ipykernel_5172\\3613525291.py\", line 9, in wrapper\n",
       "    result = func(*args, **kwargs)\n",
       "             ^^^^^^^^^^^^^^^^^^^^^\n",
       "  File \"C:\\Users\\Juan David\\AppData\\Local\\Temp\\ipykernel_5172\\957212467.py\", line 8, in classification_report\n",
       "    report = classification_report(y_test, y_pred, target_names=class_names)\n",
       "             ^^^^^^^^^^^^^^^^^^^^^^^^^^^^^^^^^^^^^^^^^^^^^^^^^^^^^^^^^^^^^^^\n",
       "  File \"c:\\Users\\Juan David\\anaconda3\\envs\\bigdata_sql\\Lib\\site-packages\\prefect\\tasks.py\", line 1127, in __call__\n",
       "    parameters = get_call_parameters(self.fn, args, kwargs)\n",
       "                 ^^^^^^^^^^^^^^^^^^^^^^^^^^^^^^^^^^^^^^^^^^\n",
       "  File \"c:\\Users\\Juan David\\anaconda3\\envs\\bigdata_sql\\Lib\\site-packages\\prefect\\utilities\\callables.py\", line 72, in get_call_parameters\n",
       "    raise ParameterBindError.from_bind_failure(fn, exc, call_args, call_kwargs)\n",
       "prefect.exceptions.ParameterBindError: Error binding parameters for function 'classification_report': missing a required argument: 'y_test'.\n",
       "Function 'classification_report' has signature 'model, X_test, y_test, class_names' but received args: (114     Iris-virginica\n",
       "62     Iris-versicolor\n",
       "33         Iris-setosa\n",
       "107     Iris-virginica\n",
       "7          Iris-setosa\n",
       "100     Iris-virginica\n",
       "40         Iris-setosa\n",
       "86     Iris-versicolor\n",
       "76     Iris-versicolor\n",
       "71     Iris-versicolor\n",
       "134     Iris-virginica\n",
       "51     Iris-versicolor\n",
       "73     Iris-versicolor\n",
       "54     Iris-versicolor\n",
       "63     Iris-versicolor\n",
       "37         Iris-setosa\n",
       "78     Iris-versicolor\n",
       "90     Iris-versicolor\n",
       "45         Iris-setosa\n",
       "16         Iris-setosa\n",
       "121     Iris-virginica\n",
       "66     Iris-versicolor\n",
       "24         Iris-setosa\n",
       "8          Iris-setosa\n",
       "126     Iris-virginica\n",
       "22         Iris-setosa\n",
       "44         Iris-setosa\n",
       "97     Iris-versicolor\n",
       "93     Iris-versicolor\n",
       "26         Iris-setosa\n",
       "137     Iris-virginica\n",
       "84     Iris-versicolor\n",
       "27         Iris-setosa\n",
       "127     Iris-virginica\n",
       "132     Iris-virginica\n",
       "59     Iris-versicolor\n",
       "18         Iris-setosa\n",
       "83     Iris-versicolor\n",
       "Name: Species, dtype: object, array(['Iris-virginica', 'Iris-versicolor', 'Iris-setosa',\n",
       "       'Iris-virginica', 'Iris-setosa', 'Iris-virginica', 'Iris-setosa',\n",
       "       'Iris-versicolor', 'Iris-versicolor', 'Iris-versicolor',\n",
       "       'Iris-virginica', 'Iris-versicolor', 'Iris-versicolor',\n",
       "       'Iris-versicolor', 'Iris-versicolor', 'Iris-setosa',\n",
       "       'Iris-versicolor', 'Iris-versicolor', 'Iris-setosa', 'Iris-setosa',\n",
       "       'Iris-virginica', 'Iris-versicolor', 'Iris-setosa', 'Iris-setosa',\n",
       "       'Iris-virginica', 'Iris-setosa', 'Iris-setosa', 'Iris-versicolor',\n",
       "       'Iris-versicolor', 'Iris-setosa', 'Iris-virginica',\n",
       "       'Iris-versicolor', 'Iris-setosa', 'Iris-virginica',\n",
       "       'Iris-virginica', 'Iris-versicolor', 'Iris-setosa',\n",
       "       'Iris-virginica'], dtype=object)) and kwargs: ['target_names'].\n"
      ]
     },
     "metadata": {},
     "output_type": "display_data"
    },
    {
     "data": {
      "text/html": [
       "<pre style=\"white-space:pre;overflow-x:auto;line-height:normal;font-family:Menlo,'DejaVu Sans Mono',consolas,'Courier New',monospace\">17:02:18.649 | <span style=\"color: #d70000; text-decoration-color: #d70000\">ERROR</span>   | Task run 'classification_report-6ce' - Finished in state <span style=\"color: #d70000; text-decoration-color: #d70000\">Failed</span>(\"Task run encountered an exception ParameterBindError: Error binding parameters for function 'classification_report': missing a required argument: 'y_test'.\\nFunction 'classification_report' has signature 'model, X_test, y_test, class_names' but received args: (114     Iris-virginica\\n62     Iris-versicolor\\n33         Iris-setosa\\n107     Iris-virginica\\n7          Iris-setosa\\n100     Iris-virginica\\n40         Iris-setosa\\n86     Iris-versicolor\\n76     Iris-versicolor\\n71     Iris-versicolor\\n134     Iris-virginica\\n51     Iris-versicolor\\n73     Iris-versicolor\\n54     Iris-versicolor\\n63     Iris-versicolor\\n37         Iris-setosa\\n78     Iris-versicolor\\n90     Iris-versicolor\\n45         Iris-setosa\\n16         Iris-setosa\\n121     Iris-virginica\\n66     Iris-versicolor\\n24         Iris-setosa\\n8          Iris-setosa\\n126     Iris-virginica\\n22         Iris-setosa\\n44         Iris-setosa\\n97     Iris-versicolor\\n93     Iris-versicolor\\n26         Iris-setosa\\n137     Iris-virginica\\n84     Iris-versicolor\\n27         Iris-setosa\\n127     Iris-virginica\\n132     Iris-virginica\\n59     Iris-versicolor\\n18         Iris-setosa\\n83     Iris-versicolor\\nName: Species, dtype: object, array(['Iris-virginica', 'Iris-versicolor', 'Iris-setosa',\\n       'Iris-virginica', 'Iris-setosa', 'Iris-virginica', 'Iris-setosa',\\n       'Iris-versicolor', 'Iris-versicolor', 'Iris-versicolor',\\n       'Iris-virginica', 'Iris-versicolor', 'Iris-versicolor',\\n       'Iris-versicolor', 'Iris-versicolor', 'Iris-setosa',\\n       'Iris-versicolor', 'Iris-versicolor', 'Iris-setosa', 'Iris-setosa',\\n       'Iris-virginica', 'Iris-versicolor', 'Iris-setosa', 'Iris-setosa',\\n       'Iris-virginica', 'Iris-setosa', 'Iris-setosa', 'Iris-versicolor',\\n       'Iris-versicolor', 'Iris-setosa', 'Iris-virginica',\\n       'Iris-versicolor', 'Iris-setosa', 'Iris-virginica',\\n       'Iris-virginica', 'Iris-versicolor', 'Iris-setosa',\\n       'Iris-virginica'], dtype=object)) and kwargs: ['target_names'].\")\n",
       "</pre>\n"
      ],
      "text/plain": [
       "17:02:18.649 | \u001b[38;5;160mERROR\u001b[0m   | Task run 'classification_report-6ce' - Finished in state \u001b[38;5;160mFailed\u001b[0m(\"Task run encountered an exception ParameterBindError: Error binding parameters for function 'classification_report': missing a required argument: 'y_test'.\\nFunction 'classification_report' has signature 'model, X_test, y_test, class_names' but received args: (114     Iris-virginica\\n62     Iris-versicolor\\n33         Iris-setosa\\n107     Iris-virginica\\n7          Iris-setosa\\n100     Iris-virginica\\n40         Iris-setosa\\n86     Iris-versicolor\\n76     Iris-versicolor\\n71     Iris-versicolor\\n134     Iris-virginica\\n51     Iris-versicolor\\n73     Iris-versicolor\\n54     Iris-versicolor\\n63     Iris-versicolor\\n37         Iris-setosa\\n78     Iris-versicolor\\n90     Iris-versicolor\\n45         Iris-setosa\\n16         Iris-setosa\\n121     Iris-virginica\\n66     Iris-versicolor\\n24         Iris-setosa\\n8          Iris-setosa\\n126     Iris-virginica\\n22         Iris-setosa\\n44         Iris-setosa\\n97     Iris-versicolor\\n93     Iris-versicolor\\n26         Iris-setosa\\n137     Iris-virginica\\n84     Iris-versicolor\\n27         Iris-setosa\\n127     Iris-virginica\\n132     Iris-virginica\\n59     Iris-versicolor\\n18         Iris-setosa\\n83     Iris-versicolor\\nName: Species, dtype: object, array(['Iris-virginica', 'Iris-versicolor', 'Iris-setosa',\\n       'Iris-virginica', 'Iris-setosa', 'Iris-virginica', 'Iris-setosa',\\n       'Iris-versicolor', 'Iris-versicolor', 'Iris-versicolor',\\n       'Iris-virginica', 'Iris-versicolor', 'Iris-versicolor',\\n       'Iris-versicolor', 'Iris-versicolor', 'Iris-setosa',\\n       'Iris-versicolor', 'Iris-versicolor', 'Iris-setosa', 'Iris-setosa',\\n       'Iris-virginica', 'Iris-versicolor', 'Iris-setosa', 'Iris-setosa',\\n       'Iris-virginica', 'Iris-setosa', 'Iris-setosa', 'Iris-versicolor',\\n       'Iris-versicolor', 'Iris-setosa', 'Iris-virginica',\\n       'Iris-versicolor', 'Iris-setosa', 'Iris-virginica',\\n       'Iris-virginica', 'Iris-versicolor', 'Iris-setosa',\\n       'Iris-virginica'], dtype=object)) and kwargs: ['target_names'].\")\n"
      ]
     },
     "metadata": {},
     "output_type": "display_data"
    },
    {
     "data": {
      "text/html": [
       "<pre style=\"white-space:pre;overflow-x:auto;line-height:normal;font-family:Menlo,'DejaVu Sans Mono',consolas,'Courier New',monospace\">17:02:18.652 | <span style=\"color: #d70000; text-decoration-color: #d70000\">ERROR</span>   | Flow run<span style=\"color: #800080; text-decoration-color: #800080\"> 'exuberant-squirrel'</span> - Encountered exception during execution: ParameterBindError(\"Error binding parameters for function 'classification_report': missing a required argument: 'y_test'.\\nFunction 'classification_report' has signature 'model, X_test, y_test, class_names' but received args: (114     Iris-virginica\\n62     Iris-versicolor\\n33         Iris-setosa\\n107     Iris-virginica\\n7          Iris-setosa\\n100     Iris-virginica\\n40         Iris-setosa\\n86     Iris-versicolor\\n76     Iris-versicolor\\n71     Iris-versicolor\\n134     Iris-virginica\\n51     Iris-versicolor\\n73     Iris-versicolor\\n54     Iris-versicolor\\n63     Iris-versicolor\\n37         Iris-setosa\\n78     Iris-versicolor\\n90     Iris-versicolor\\n45         Iris-setosa\\n16         Iris-setosa\\n121     Iris-virginica\\n66     Iris-versicolor\\n24         Iris-setosa\\n8          Iris-setosa\\n126     Iris-virginica\\n22         Iris-setosa\\n44         Iris-setosa\\n97     Iris-versicolor\\n93     Iris-versicolor\\n26         Iris-setosa\\n137     Iris-virginica\\n84     Iris-versicolor\\n27         Iris-setosa\\n127     Iris-virginica\\n132     Iris-virginica\\n59     Iris-versicolor\\n18         Iris-setosa\\n83     Iris-versicolor\\nName: Species, dtype: object, array(['Iris-virginica', 'Iris-versicolor', 'Iris-setosa',\\n       'Iris-virginica', 'Iris-setosa', 'Iris-virginica', 'Iris-setosa',\\n       'Iris-versicolor', 'Iris-versicolor', 'Iris-versicolor',\\n       'Iris-virginica', 'Iris-versicolor', 'Iris-versicolor',\\n       'Iris-versicolor', 'Iris-versicolor', 'Iris-setosa',\\n       'Iris-versicolor', 'Iris-versicolor', 'Iris-setosa', 'Iris-setosa',\\n       'Iris-virginica', 'Iris-versicolor', 'Iris-setosa', 'Iris-setosa',\\n       'Iris-virginica', 'Iris-setosa', 'Iris-setosa', 'Iris-versicolor',\\n       'Iris-versicolor', 'Iris-setosa', 'Iris-virginica',\\n       'Iris-versicolor', 'Iris-setosa', 'Iris-virginica',\\n       'Iris-virginica', 'Iris-versicolor', 'Iris-setosa',\\n       'Iris-virginica'], dtype=object)) and kwargs: ['target_names'].\")\n",
       "Traceback (most recent call last):\n",
       "  File \"c:\\Users\\Juan David\\anaconda3\\envs\\bigdata_sql\\Lib\\site-packages\\prefect\\utilities\\callables.py\", line 70, in get_call_parameters\n",
       "    bound_signature = inspect.signature(fn).bind(*call_args, **call_kwargs)\n",
       "                      ^^^^^^^^^^^^^^^^^^^^^^^^^^^^^^^^^^^^^^^^^^^^^^^^^^^^^\n",
       "  File \"c:\\Users\\Juan David\\anaconda3\\envs\\bigdata_sql\\Lib\\inspect.py\", line 3195, in bind\n",
       "    return self._bind(args, kwargs)\n",
       "           ^^^^^^^^^^^^^^^^^^^^^^^^\n",
       "  File \"c:\\Users\\Juan David\\anaconda3\\envs\\bigdata_sql\\Lib\\inspect.py\", line 3110, in _bind\n",
       "    raise TypeError(msg) from None\n",
       "TypeError: missing a required argument: 'y_test'\n",
       "\n",
       "During handling of the above exception, another exception occurred:\n",
       "\n",
       "Traceback (most recent call last):\n",
       "  File \"c:\\Users\\Juan David\\anaconda3\\envs\\bigdata_sql\\Lib\\site-packages\\prefect\\flow_engine.py\", line 781, in run_context\n",
       "    yield self\n",
       "  File \"c:\\Users\\Juan David\\anaconda3\\envs\\bigdata_sql\\Lib\\site-packages\\prefect\\flow_engine.py\", line 1395, in run_flow_sync\n",
       "    engine.call_flow_fn()\n",
       "  File \"c:\\Users\\Juan David\\anaconda3\\envs\\bigdata_sql\\Lib\\site-packages\\prefect\\flow_engine.py\", line 801, in call_flow_fn\n",
       "    result = call_with_parameters(self.flow.fn, self.parameters)\n",
       "             ^^^^^^^^^^^^^^^^^^^^^^^^^^^^^^^^^^^^^^^^^^^^^^^^^^^\n",
       "  File \"c:\\Users\\Juan David\\anaconda3\\envs\\bigdata_sql\\Lib\\site-packages\\prefect\\utilities\\callables.py\", line 210, in call_with_parameters\n",
       "    return fn(*args, **kwargs)\n",
       "           ^^^^^^^^^^^^^^^^^^^\n",
       "  File \"C:\\Users\\Juan David\\AppData\\Local\\Temp\\ipykernel_5172\\2436075433.py\", line 10, in iris_flow\n",
       "    classification_report(dtree_model, X_test, y_test, class_names)\n",
       "  File \"c:\\Users\\Juan David\\anaconda3\\envs\\bigdata_sql\\Lib\\site-packages\\prefect\\tasks.py\", line 1139, in __call__\n",
       "    return run_task(\n",
       "           ^^^^^^^^^\n",
       "  File \"c:\\Users\\Juan David\\anaconda3\\envs\\bigdata_sql\\Lib\\site-packages\\prefect\\task_engine.py\", line 1732, in run_task\n",
       "    return run_task_sync(**kwargs)\n",
       "           ^^^^^^^^^^^^^^^^^^^^^^^\n",
       "  File \"c:\\Users\\Juan David\\anaconda3\\envs\\bigdata_sql\\Lib\\site-packages\\prefect\\task_engine.py\", line 1507, in run_task_sync\n",
       "    return engine.state if return_type == \"state\" else engine.result()\n",
       "                                                       ^^^^^^^^^^^^^^^\n",
       "  File \"c:\\Users\\Juan David\\anaconda3\\envs\\bigdata_sql\\Lib\\site-packages\\prefect\\task_engine.py\", line 494, in result\n",
       "    raise self._raised\n",
       "  File \"c:\\Users\\Juan David\\anaconda3\\envs\\bigdata_sql\\Lib\\site-packages\\prefect\\task_engine.py\", line 869, in run_context\n",
       "    yield self\n",
       "  File \"c:\\Users\\Juan David\\anaconda3\\envs\\bigdata_sql\\Lib\\site-packages\\prefect\\task_engine.py\", line 1505, in run_task_sync\n",
       "    engine.call_task_fn(txn)\n",
       "  File \"c:\\Users\\Juan David\\anaconda3\\envs\\bigdata_sql\\Lib\\site-packages\\prefect\\task_engine.py\", line 886, in call_task_fn\n",
       "    result = call_with_parameters(self.task.fn, parameters)\n",
       "             ^^^^^^^^^^^^^^^^^^^^^^^^^^^^^^^^^^^^^^^^^^^^^^\n",
       "  File \"c:\\Users\\Juan David\\anaconda3\\envs\\bigdata_sql\\Lib\\site-packages\\prefect\\utilities\\callables.py\", line 210, in call_with_parameters\n",
       "    return fn(*args, **kwargs)\n",
       "           ^^^^^^^^^^^^^^^^^^^\n",
       "  File \"C:\\Users\\Juan David\\AppData\\Local\\Temp\\ipykernel_5172\\3613525291.py\", line 9, in wrapper\n",
       "    result = func(*args, **kwargs)\n",
       "             ^^^^^^^^^^^^^^^^^^^^^\n",
       "  File \"C:\\Users\\Juan David\\AppData\\Local\\Temp\\ipykernel_5172\\957212467.py\", line 8, in classification_report\n",
       "    report = classification_report(y_test, y_pred, target_names=class_names)\n",
       "             ^^^^^^^^^^^^^^^^^^^^^^^^^^^^^^^^^^^^^^^^^^^^^^^^^^^^^^^^^^^^^^^\n",
       "  File \"c:\\Users\\Juan David\\anaconda3\\envs\\bigdata_sql\\Lib\\site-packages\\prefect\\tasks.py\", line 1127, in __call__\n",
       "    parameters = get_call_parameters(self.fn, args, kwargs)\n",
       "                 ^^^^^^^^^^^^^^^^^^^^^^^^^^^^^^^^^^^^^^^^^^\n",
       "  File \"c:\\Users\\Juan David\\anaconda3\\envs\\bigdata_sql\\Lib\\site-packages\\prefect\\utilities\\callables.py\", line 72, in get_call_parameters\n",
       "    raise ParameterBindError.from_bind_failure(fn, exc, call_args, call_kwargs)\n",
       "prefect.exceptions.ParameterBindError: Error binding parameters for function 'classification_report': missing a required argument: 'y_test'.\n",
       "Function 'classification_report' has signature 'model, X_test, y_test, class_names' but received args: (114     Iris-virginica\n",
       "62     Iris-versicolor\n",
       "33         Iris-setosa\n",
       "107     Iris-virginica\n",
       "7          Iris-setosa\n",
       "100     Iris-virginica\n",
       "40         Iris-setosa\n",
       "86     Iris-versicolor\n",
       "76     Iris-versicolor\n",
       "71     Iris-versicolor\n",
       "134     Iris-virginica\n",
       "51     Iris-versicolor\n",
       "73     Iris-versicolor\n",
       "54     Iris-versicolor\n",
       "63     Iris-versicolor\n",
       "37         Iris-setosa\n",
       "78     Iris-versicolor\n",
       "90     Iris-versicolor\n",
       "45         Iris-setosa\n",
       "16         Iris-setosa\n",
       "121     Iris-virginica\n",
       "66     Iris-versicolor\n",
       "24         Iris-setosa\n",
       "8          Iris-setosa\n",
       "126     Iris-virginica\n",
       "22         Iris-setosa\n",
       "44         Iris-setosa\n",
       "97     Iris-versicolor\n",
       "93     Iris-versicolor\n",
       "26         Iris-setosa\n",
       "137     Iris-virginica\n",
       "84     Iris-versicolor\n",
       "27         Iris-setosa\n",
       "127     Iris-virginica\n",
       "132     Iris-virginica\n",
       "59     Iris-versicolor\n",
       "18         Iris-setosa\n",
       "83     Iris-versicolor\n",
       "Name: Species, dtype: object, array(['Iris-virginica', 'Iris-versicolor', 'Iris-setosa',\n",
       "       'Iris-virginica', 'Iris-setosa', 'Iris-virginica', 'Iris-setosa',\n",
       "       'Iris-versicolor', 'Iris-versicolor', 'Iris-versicolor',\n",
       "       'Iris-virginica', 'Iris-versicolor', 'Iris-versicolor',\n",
       "       'Iris-versicolor', 'Iris-versicolor', 'Iris-setosa',\n",
       "       'Iris-versicolor', 'Iris-versicolor', 'Iris-setosa', 'Iris-setosa',\n",
       "       'Iris-virginica', 'Iris-versicolor', 'Iris-setosa', 'Iris-setosa',\n",
       "       'Iris-virginica', 'Iris-setosa', 'Iris-setosa', 'Iris-versicolor',\n",
       "       'Iris-versicolor', 'Iris-setosa', 'Iris-virginica',\n",
       "       'Iris-versicolor', 'Iris-setosa', 'Iris-virginica',\n",
       "       'Iris-virginica', 'Iris-versicolor', 'Iris-setosa',\n",
       "       'Iris-virginica'], dtype=object)) and kwargs: ['target_names'].\n",
       "</pre>\n"
      ],
      "text/plain": [
       "17:02:18.652 | \u001b[38;5;160mERROR\u001b[0m   | Flow run\u001b[35m 'exuberant-squirrel'\u001b[0m - Encountered exception during execution: ParameterBindError(\"Error binding parameters for function 'classification_report': missing a required argument: 'y_test'.\\nFunction 'classification_report' has signature 'model, X_test, y_test, class_names' but received args: (114     Iris-virginica\\n62     Iris-versicolor\\n33         Iris-setosa\\n107     Iris-virginica\\n7          Iris-setosa\\n100     Iris-virginica\\n40         Iris-setosa\\n86     Iris-versicolor\\n76     Iris-versicolor\\n71     Iris-versicolor\\n134     Iris-virginica\\n51     Iris-versicolor\\n73     Iris-versicolor\\n54     Iris-versicolor\\n63     Iris-versicolor\\n37         Iris-setosa\\n78     Iris-versicolor\\n90     Iris-versicolor\\n45         Iris-setosa\\n16         Iris-setosa\\n121     Iris-virginica\\n66     Iris-versicolor\\n24         Iris-setosa\\n8          Iris-setosa\\n126     Iris-virginica\\n22         Iris-setosa\\n44         Iris-setosa\\n97     Iris-versicolor\\n93     Iris-versicolor\\n26         Iris-setosa\\n137     Iris-virginica\\n84     Iris-versicolor\\n27         Iris-setosa\\n127     Iris-virginica\\n132     Iris-virginica\\n59     Iris-versicolor\\n18         Iris-setosa\\n83     Iris-versicolor\\nName: Species, dtype: object, array(['Iris-virginica', 'Iris-versicolor', 'Iris-setosa',\\n       'Iris-virginica', 'Iris-setosa', 'Iris-virginica', 'Iris-setosa',\\n       'Iris-versicolor', 'Iris-versicolor', 'Iris-versicolor',\\n       'Iris-virginica', 'Iris-versicolor', 'Iris-versicolor',\\n       'Iris-versicolor', 'Iris-versicolor', 'Iris-setosa',\\n       'Iris-versicolor', 'Iris-versicolor', 'Iris-setosa', 'Iris-setosa',\\n       'Iris-virginica', 'Iris-versicolor', 'Iris-setosa', 'Iris-setosa',\\n       'Iris-virginica', 'Iris-setosa', 'Iris-setosa', 'Iris-versicolor',\\n       'Iris-versicolor', 'Iris-setosa', 'Iris-virginica',\\n       'Iris-versicolor', 'Iris-setosa', 'Iris-virginica',\\n       'Iris-virginica', 'Iris-versicolor', 'Iris-setosa',\\n       'Iris-virginica'], dtype=object)) and kwargs: ['target_names'].\")\n",
       "Traceback (most recent call last):\n",
       "  File \"c:\\Users\\Juan David\\anaconda3\\envs\\bigdata_sql\\Lib\\site-packages\\prefect\\utilities\\callables.py\", line 70, in get_call_parameters\n",
       "    bound_signature = inspect.signature(fn).bind(*call_args, **call_kwargs)\n",
       "                      ^^^^^^^^^^^^^^^^^^^^^^^^^^^^^^^^^^^^^^^^^^^^^^^^^^^^^\n",
       "  File \"c:\\Users\\Juan David\\anaconda3\\envs\\bigdata_sql\\Lib\\inspect.py\", line 3195, in bind\n",
       "    return self._bind(args, kwargs)\n",
       "           ^^^^^^^^^^^^^^^^^^^^^^^^\n",
       "  File \"c:\\Users\\Juan David\\anaconda3\\envs\\bigdata_sql\\Lib\\inspect.py\", line 3110, in _bind\n",
       "    raise TypeError(msg) from None\n",
       "TypeError: missing a required argument: 'y_test'\n",
       "\n",
       "During handling of the above exception, another exception occurred:\n",
       "\n",
       "Traceback (most recent call last):\n",
       "  File \"c:\\Users\\Juan David\\anaconda3\\envs\\bigdata_sql\\Lib\\site-packages\\prefect\\flow_engine.py\", line 781, in run_context\n",
       "    yield self\n",
       "  File \"c:\\Users\\Juan David\\anaconda3\\envs\\bigdata_sql\\Lib\\site-packages\\prefect\\flow_engine.py\", line 1395, in run_flow_sync\n",
       "    engine.call_flow_fn()\n",
       "  File \"c:\\Users\\Juan David\\anaconda3\\envs\\bigdata_sql\\Lib\\site-packages\\prefect\\flow_engine.py\", line 801, in call_flow_fn\n",
       "    result = call_with_parameters(self.flow.fn, self.parameters)\n",
       "             ^^^^^^^^^^^^^^^^^^^^^^^^^^^^^^^^^^^^^^^^^^^^^^^^^^^\n",
       "  File \"c:\\Users\\Juan David\\anaconda3\\envs\\bigdata_sql\\Lib\\site-packages\\prefect\\utilities\\callables.py\", line 210, in call_with_parameters\n",
       "    return fn(*args, **kwargs)\n",
       "           ^^^^^^^^^^^^^^^^^^^\n",
       "  File \"C:\\Users\\Juan David\\AppData\\Local\\Temp\\ipykernel_5172\\2436075433.py\", line 10, in iris_flow\n",
       "    classification_report(dtree_model, X_test, y_test, class_names)\n",
       "  File \"c:\\Users\\Juan David\\anaconda3\\envs\\bigdata_sql\\Lib\\site-packages\\prefect\\tasks.py\", line 1139, in __call__\n",
       "    return run_task(\n",
       "           ^^^^^^^^^\n",
       "  File \"c:\\Users\\Juan David\\anaconda3\\envs\\bigdata_sql\\Lib\\site-packages\\prefect\\task_engine.py\", line 1732, in run_task\n",
       "    return run_task_sync(**kwargs)\n",
       "           ^^^^^^^^^^^^^^^^^^^^^^^\n",
       "  File \"c:\\Users\\Juan David\\anaconda3\\envs\\bigdata_sql\\Lib\\site-packages\\prefect\\task_engine.py\", line 1507, in run_task_sync\n",
       "    return engine.state if return_type == \"state\" else engine.result()\n",
       "                                                       ^^^^^^^^^^^^^^^\n",
       "  File \"c:\\Users\\Juan David\\anaconda3\\envs\\bigdata_sql\\Lib\\site-packages\\prefect\\task_engine.py\", line 494, in result\n",
       "    raise self._raised\n",
       "  File \"c:\\Users\\Juan David\\anaconda3\\envs\\bigdata_sql\\Lib\\site-packages\\prefect\\task_engine.py\", line 869, in run_context\n",
       "    yield self\n",
       "  File \"c:\\Users\\Juan David\\anaconda3\\envs\\bigdata_sql\\Lib\\site-packages\\prefect\\task_engine.py\", line 1505, in run_task_sync\n",
       "    engine.call_task_fn(txn)\n",
       "  File \"c:\\Users\\Juan David\\anaconda3\\envs\\bigdata_sql\\Lib\\site-packages\\prefect\\task_engine.py\", line 886, in call_task_fn\n",
       "    result = call_with_parameters(self.task.fn, parameters)\n",
       "             ^^^^^^^^^^^^^^^^^^^^^^^^^^^^^^^^^^^^^^^^^^^^^^\n",
       "  File \"c:\\Users\\Juan David\\anaconda3\\envs\\bigdata_sql\\Lib\\site-packages\\prefect\\utilities\\callables.py\", line 210, in call_with_parameters\n",
       "    return fn(*args, **kwargs)\n",
       "           ^^^^^^^^^^^^^^^^^^^\n",
       "  File \"C:\\Users\\Juan David\\AppData\\Local\\Temp\\ipykernel_5172\\3613525291.py\", line 9, in wrapper\n",
       "    result = func(*args, **kwargs)\n",
       "             ^^^^^^^^^^^^^^^^^^^^^\n",
       "  File \"C:\\Users\\Juan David\\AppData\\Local\\Temp\\ipykernel_5172\\957212467.py\", line 8, in classification_report\n",
       "    report = classification_report(y_test, y_pred, target_names=class_names)\n",
       "             ^^^^^^^^^^^^^^^^^^^^^^^^^^^^^^^^^^^^^^^^^^^^^^^^^^^^^^^^^^^^^^^\n",
       "  File \"c:\\Users\\Juan David\\anaconda3\\envs\\bigdata_sql\\Lib\\site-packages\\prefect\\tasks.py\", line 1127, in __call__\n",
       "    parameters = get_call_parameters(self.fn, args, kwargs)\n",
       "                 ^^^^^^^^^^^^^^^^^^^^^^^^^^^^^^^^^^^^^^^^^^\n",
       "  File \"c:\\Users\\Juan David\\anaconda3\\envs\\bigdata_sql\\Lib\\site-packages\\prefect\\utilities\\callables.py\", line 72, in get_call_parameters\n",
       "    raise ParameterBindError.from_bind_failure(fn, exc, call_args, call_kwargs)\n",
       "prefect.exceptions.ParameterBindError: Error binding parameters for function 'classification_report': missing a required argument: 'y_test'.\n",
       "Function 'classification_report' has signature 'model, X_test, y_test, class_names' but received args: (114     Iris-virginica\n",
       "62     Iris-versicolor\n",
       "33         Iris-setosa\n",
       "107     Iris-virginica\n",
       "7          Iris-setosa\n",
       "100     Iris-virginica\n",
       "40         Iris-setosa\n",
       "86     Iris-versicolor\n",
       "76     Iris-versicolor\n",
       "71     Iris-versicolor\n",
       "134     Iris-virginica\n",
       "51     Iris-versicolor\n",
       "73     Iris-versicolor\n",
       "54     Iris-versicolor\n",
       "63     Iris-versicolor\n",
       "37         Iris-setosa\n",
       "78     Iris-versicolor\n",
       "90     Iris-versicolor\n",
       "45         Iris-setosa\n",
       "16         Iris-setosa\n",
       "121     Iris-virginica\n",
       "66     Iris-versicolor\n",
       "24         Iris-setosa\n",
       "8          Iris-setosa\n",
       "126     Iris-virginica\n",
       "22         Iris-setosa\n",
       "44         Iris-setosa\n",
       "97     Iris-versicolor\n",
       "93     Iris-versicolor\n",
       "26         Iris-setosa\n",
       "137     Iris-virginica\n",
       "84     Iris-versicolor\n",
       "27         Iris-setosa\n",
       "127     Iris-virginica\n",
       "132     Iris-virginica\n",
       "59     Iris-versicolor\n",
       "18         Iris-setosa\n",
       "83     Iris-versicolor\n",
       "Name: Species, dtype: object, array(['Iris-virginica', 'Iris-versicolor', 'Iris-setosa',\n",
       "       'Iris-virginica', 'Iris-setosa', 'Iris-virginica', 'Iris-setosa',\n",
       "       'Iris-versicolor', 'Iris-versicolor', 'Iris-versicolor',\n",
       "       'Iris-virginica', 'Iris-versicolor', 'Iris-versicolor',\n",
       "       'Iris-versicolor', 'Iris-versicolor', 'Iris-setosa',\n",
       "       'Iris-versicolor', 'Iris-versicolor', 'Iris-setosa', 'Iris-setosa',\n",
       "       'Iris-virginica', 'Iris-versicolor', 'Iris-setosa', 'Iris-setosa',\n",
       "       'Iris-virginica', 'Iris-setosa', 'Iris-setosa', 'Iris-versicolor',\n",
       "       'Iris-versicolor', 'Iris-setosa', 'Iris-virginica',\n",
       "       'Iris-versicolor', 'Iris-setosa', 'Iris-virginica',\n",
       "       'Iris-virginica', 'Iris-versicolor', 'Iris-setosa',\n",
       "       'Iris-virginica'], dtype=object)) and kwargs: ['target_names'].\n"
      ]
     },
     "metadata": {},
     "output_type": "display_data"
    },
    {
     "data": {
      "text/html": [
       "<pre style=\"white-space:pre;overflow-x:auto;line-height:normal;font-family:Menlo,'DejaVu Sans Mono',consolas,'Courier New',monospace\">17:02:18.690 | <span style=\"color: #008080; text-decoration-color: #008080\">INFO</span>    | Flow run<span style=\"color: #800080; text-decoration-color: #800080\"> 'exuberant-squirrel'</span> - Finished in state <span style=\"color: #d70000; text-decoration-color: #d70000\">Failed</span>(\"Flow run encountered an exception: ParameterBindError: Error binding parameters for function 'classification_report': missing a required argument: 'y_test'.\\nFunction 'classification_report' has signature 'model, X_test, y_test, class_names' but received args: (114     Iris-virginica\\n62     Iris-versicolor\\n33         Iris-setosa\\n107     Iris-virginica\\n7          Iris-setosa\\n100     Iris-virginica\\n40         Iris-setosa\\n86     Iris-versicolor\\n76     Iris-versicolor\\n71     Iris-versicolor\\n134     Iris-virginica\\n51     Iris-versicolor\\n73     Iris-versicolor\\n54     Iris-versicolor\\n63     Iris-versicolor\\n37         Iris-setosa\\n78     Iris-versicolor\\n90     Iris-versicolor\\n45         Iris-setosa\\n16         Iris-setosa\\n121     Iris-virginica\\n66     Iris-versicolor\\n24         Iris-setosa\\n8          Iris-setosa\\n126     Iris-virginica\\n22         Iris-setosa\\n44         Iris-setosa\\n97     Iris-versicolor\\n93     Iris-versicolor\\n26         Iris-setosa\\n137     Iris-virginica\\n84     Iris-versicolor\\n27         Iris-setosa\\n127     Iris-virginica\\n132     Iris-virginica\\n59     Iris-versicolor\\n18         Iris-setosa\\n83     Iris-versicolor\\nName: Species, dtype: object, array(['Iris-virginica', 'Iris-versicolor', 'Iris-setosa',\\n       'Iris-virginica', 'Iris-setosa', 'Iris-virginica', 'Iris-setosa',\\n       'Iris-versicolor', 'Iris-versicolor', 'Iris-versicolor',\\n       'Iris-virginica', 'Iris-versicolor', 'Iris-versicolor',\\n       'Iris-versicolor', 'Iris-versicolor', 'Iris-setosa',\\n       'Iris-versicolor', 'Iris-versicolor', 'Iris-setosa', 'Iris-setosa',\\n       'Iris-virginica', 'Iris-versicolor', 'Iris-setosa', 'Iris-setosa',\\n       'Iris-virginica', 'Iris-setosa', 'Iris-setosa', 'Iris-versicolor',\\n       'Iris-versicolor', 'Iris-setosa', 'Iris-virginica',\\n       'Iris-versicolor', 'Iris-setosa', 'Iris-virginica',\\n       'Iris-virginica', 'Iris-versicolor', 'Iris-setosa',\\n       'Iris-virginica'], dtype=object)) and kwargs: ['target_names'].\")\n",
       "</pre>\n"
      ],
      "text/plain": [
       "17:02:18.690 | \u001b[36mINFO\u001b[0m    | Flow run\u001b[35m 'exuberant-squirrel'\u001b[0m - Finished in state \u001b[38;5;160mFailed\u001b[0m(\"Flow run encountered an exception: ParameterBindError: Error binding parameters for function 'classification_report': missing a required argument: 'y_test'.\\nFunction 'classification_report' has signature 'model, X_test, y_test, class_names' but received args: (114     Iris-virginica\\n62     Iris-versicolor\\n33         Iris-setosa\\n107     Iris-virginica\\n7          Iris-setosa\\n100     Iris-virginica\\n40         Iris-setosa\\n86     Iris-versicolor\\n76     Iris-versicolor\\n71     Iris-versicolor\\n134     Iris-virginica\\n51     Iris-versicolor\\n73     Iris-versicolor\\n54     Iris-versicolor\\n63     Iris-versicolor\\n37         Iris-setosa\\n78     Iris-versicolor\\n90     Iris-versicolor\\n45         Iris-setosa\\n16         Iris-setosa\\n121     Iris-virginica\\n66     Iris-versicolor\\n24         Iris-setosa\\n8          Iris-setosa\\n126     Iris-virginica\\n22         Iris-setosa\\n44         Iris-setosa\\n97     Iris-versicolor\\n93     Iris-versicolor\\n26         Iris-setosa\\n137     Iris-virginica\\n84     Iris-versicolor\\n27         Iris-setosa\\n127     Iris-virginica\\n132     Iris-virginica\\n59     Iris-versicolor\\n18         Iris-setosa\\n83     Iris-versicolor\\nName: Species, dtype: object, array(['Iris-virginica', 'Iris-versicolor', 'Iris-setosa',\\n       'Iris-virginica', 'Iris-setosa', 'Iris-virginica', 'Iris-setosa',\\n       'Iris-versicolor', 'Iris-versicolor', 'Iris-versicolor',\\n       'Iris-virginica', 'Iris-versicolor', 'Iris-versicolor',\\n       'Iris-versicolor', 'Iris-versicolor', 'Iris-setosa',\\n       'Iris-versicolor', 'Iris-versicolor', 'Iris-setosa', 'Iris-setosa',\\n       'Iris-virginica', 'Iris-versicolor', 'Iris-setosa', 'Iris-setosa',\\n       'Iris-virginica', 'Iris-setosa', 'Iris-setosa', 'Iris-versicolor',\\n       'Iris-versicolor', 'Iris-setosa', 'Iris-virginica',\\n       'Iris-versicolor', 'Iris-setosa', 'Iris-virginica',\\n       'Iris-virginica', 'Iris-versicolor', 'Iris-setosa',\\n       'Iris-virginica'], dtype=object)) and kwargs: ['target_names'].\")\n"
      ]
     },
     "metadata": {},
     "output_type": "display_data"
    },
    {
     "ename": "ParameterBindError",
     "evalue": "Error binding parameters for function 'classification_report': missing a required argument: 'y_test'.\nFunction 'classification_report' has signature 'model, X_test, y_test, class_names' but received args: (114     Iris-virginica\n62     Iris-versicolor\n33         Iris-setosa\n107     Iris-virginica\n7          Iris-setosa\n100     Iris-virginica\n40         Iris-setosa\n86     Iris-versicolor\n76     Iris-versicolor\n71     Iris-versicolor\n134     Iris-virginica\n51     Iris-versicolor\n73     Iris-versicolor\n54     Iris-versicolor\n63     Iris-versicolor\n37         Iris-setosa\n78     Iris-versicolor\n90     Iris-versicolor\n45         Iris-setosa\n16         Iris-setosa\n121     Iris-virginica\n66     Iris-versicolor\n24         Iris-setosa\n8          Iris-setosa\n126     Iris-virginica\n22         Iris-setosa\n44         Iris-setosa\n97     Iris-versicolor\n93     Iris-versicolor\n26         Iris-setosa\n137     Iris-virginica\n84     Iris-versicolor\n27         Iris-setosa\n127     Iris-virginica\n132     Iris-virginica\n59     Iris-versicolor\n18         Iris-setosa\n83     Iris-versicolor\nName: Species, dtype: object, array(['Iris-virginica', 'Iris-versicolor', 'Iris-setosa',\n       'Iris-virginica', 'Iris-setosa', 'Iris-virginica', 'Iris-setosa',\n       'Iris-versicolor', 'Iris-versicolor', 'Iris-versicolor',\n       'Iris-virginica', 'Iris-versicolor', 'Iris-versicolor',\n       'Iris-versicolor', 'Iris-versicolor', 'Iris-setosa',\n       'Iris-versicolor', 'Iris-versicolor', 'Iris-setosa', 'Iris-setosa',\n       'Iris-virginica', 'Iris-versicolor', 'Iris-setosa', 'Iris-setosa',\n       'Iris-virginica', 'Iris-setosa', 'Iris-setosa', 'Iris-versicolor',\n       'Iris-versicolor', 'Iris-setosa', 'Iris-virginica',\n       'Iris-versicolor', 'Iris-setosa', 'Iris-virginica',\n       'Iris-virginica', 'Iris-versicolor', 'Iris-setosa',\n       'Iris-virginica'], dtype=object)) and kwargs: ['target_names'].",
     "output_type": "error",
     "traceback": [
      "\u001b[31m---------------------------------------------------------------------------\u001b[39m",
      "\u001b[31mTypeError\u001b[39m                                 Traceback (most recent call last)",
      "\u001b[36mFile \u001b[39m\u001b[32mc:\\Users\\Juan David\\anaconda3\\envs\\bigdata_sql\\Lib\\site-packages\\prefect\\utilities\\callables.py:70\u001b[39m, in \u001b[36mget_call_parameters\u001b[39m\u001b[34m(fn, call_args, call_kwargs, apply_defaults)\u001b[39m\n\u001b[32m     69\u001b[39m \u001b[38;5;28;01mtry\u001b[39;00m:\n\u001b[32m---> \u001b[39m\u001b[32m70\u001b[39m     bound_signature = \u001b[43minspect\u001b[49m\u001b[43m.\u001b[49m\u001b[43msignature\u001b[49m\u001b[43m(\u001b[49m\u001b[43mfn\u001b[49m\u001b[43m)\u001b[49m\u001b[43m.\u001b[49m\u001b[43mbind\u001b[49m\u001b[43m(\u001b[49m\u001b[43m*\u001b[49m\u001b[43mcall_args\u001b[49m\u001b[43m,\u001b[49m\u001b[43m \u001b[49m\u001b[43m*\u001b[49m\u001b[43m*\u001b[49m\u001b[43mcall_kwargs\u001b[49m\u001b[43m)\u001b[49m\n\u001b[32m     71\u001b[39m \u001b[38;5;28;01mexcept\u001b[39;00m \u001b[38;5;167;01mTypeError\u001b[39;00m \u001b[38;5;28;01mas\u001b[39;00m exc:\n",
      "\u001b[36mFile \u001b[39m\u001b[32mc:\\Users\\Juan David\\anaconda3\\envs\\bigdata_sql\\Lib\\inspect.py:3195\u001b[39m, in \u001b[36mSignature.bind\u001b[39m\u001b[34m(self, *args, **kwargs)\u001b[39m\n\u001b[32m   3191\u001b[39m \u001b[38;5;250m\u001b[39m\u001b[33;03m\"\"\"Get a BoundArguments object, that maps the passed `args`\u001b[39;00m\n\u001b[32m   3192\u001b[39m \u001b[33;03mand `kwargs` to the function's signature.  Raises `TypeError`\u001b[39;00m\n\u001b[32m   3193\u001b[39m \u001b[33;03mif the passed arguments can not be bound.\u001b[39;00m\n\u001b[32m   3194\u001b[39m \u001b[33;03m\"\"\"\u001b[39;00m\n\u001b[32m-> \u001b[39m\u001b[32m3195\u001b[39m \u001b[38;5;28;01mreturn\u001b[39;00m \u001b[38;5;28;43mself\u001b[39;49m\u001b[43m.\u001b[49m\u001b[43m_bind\u001b[49m\u001b[43m(\u001b[49m\u001b[43margs\u001b[49m\u001b[43m,\u001b[49m\u001b[43m \u001b[49m\u001b[43mkwargs\u001b[49m\u001b[43m)\u001b[49m\n",
      "\u001b[36mFile \u001b[39m\u001b[32mc:\\Users\\Juan David\\anaconda3\\envs\\bigdata_sql\\Lib\\inspect.py:3110\u001b[39m, in \u001b[36mSignature._bind\u001b[39m\u001b[34m(self, args, kwargs, partial)\u001b[39m\n\u001b[32m   3109\u001b[39m                 msg = msg.format(arg=param.name)\n\u001b[32m-> \u001b[39m\u001b[32m3110\u001b[39m                 \u001b[38;5;28;01mraise\u001b[39;00m \u001b[38;5;167;01mTypeError\u001b[39;00m(msg) \u001b[38;5;28;01mfrom\u001b[39;00m\u001b[38;5;250m \u001b[39m\u001b[38;5;28;01mNone\u001b[39;00m\n\u001b[32m   3111\u001b[39m \u001b[38;5;28;01melse\u001b[39;00m:\n\u001b[32m   3112\u001b[39m     \u001b[38;5;66;03m# We have a positional argument to process\u001b[39;00m\n",
      "\u001b[31mTypeError\u001b[39m: missing a required argument: 'y_test'",
      "\nDuring handling of the above exception, another exception occurred:\n",
      "\u001b[31mParameterBindError\u001b[39m                        Traceback (most recent call last)",
      "\u001b[36mCell\u001b[39m\u001b[36m \u001b[39m\u001b[32mIn[18]\u001b[39m\u001b[32m, line 31\u001b[39m\n\u001b[32m     29\u001b[39m     confusion_matrix(class_names, svm_class_scaled, X_test, y_test)\n\u001b[32m     30\u001b[39m     classification_report(dtree_model, X_test, y_test, class_names)\n\u001b[32m---> \u001b[39m\u001b[32m31\u001b[39m \u001b[43miris_flow\u001b[49m\u001b[43m(\u001b[49m\u001b[43m)\u001b[49m\n",
      "\u001b[36mFile \u001b[39m\u001b[32mc:\\Users\\Juan David\\anaconda3\\envs\\bigdata_sql\\Lib\\site-packages\\prefect\\flows.py:1702\u001b[39m, in \u001b[36mFlow.__call__\u001b[39m\u001b[34m(self, return_state, wait_for, *args, **kwargs)\u001b[39m\n\u001b[32m   1698\u001b[39m     \u001b[38;5;28;01mreturn\u001b[39;00m track_viz_task(\u001b[38;5;28mself\u001b[39m.isasync, \u001b[38;5;28mself\u001b[39m.name, parameters)\n\u001b[32m   1700\u001b[39m \u001b[38;5;28;01mfrom\u001b[39;00m\u001b[38;5;250m \u001b[39m\u001b[34;01mprefect\u001b[39;00m\u001b[34;01m.\u001b[39;00m\u001b[34;01mflow_engine\u001b[39;00m\u001b[38;5;250m \u001b[39m\u001b[38;5;28;01mimport\u001b[39;00m run_flow\n\u001b[32m-> \u001b[39m\u001b[32m1702\u001b[39m \u001b[38;5;28;01mreturn\u001b[39;00m \u001b[43mrun_flow\u001b[49m\u001b[43m(\u001b[49m\n\u001b[32m   1703\u001b[39m \u001b[43m    \u001b[49m\u001b[43mflow\u001b[49m\u001b[43m=\u001b[49m\u001b[38;5;28;43mself\u001b[39;49m\u001b[43m,\u001b[49m\n\u001b[32m   1704\u001b[39m \u001b[43m    \u001b[49m\u001b[43mparameters\u001b[49m\u001b[43m=\u001b[49m\u001b[43mparameters\u001b[49m\u001b[43m,\u001b[49m\n\u001b[32m   1705\u001b[39m \u001b[43m    \u001b[49m\u001b[43mwait_for\u001b[49m\u001b[43m=\u001b[49m\u001b[43mwait_for\u001b[49m\u001b[43m,\u001b[49m\n\u001b[32m   1706\u001b[39m \u001b[43m    \u001b[49m\u001b[43mreturn_type\u001b[49m\u001b[43m=\u001b[49m\u001b[43mreturn_type\u001b[49m\u001b[43m,\u001b[49m\n\u001b[32m   1707\u001b[39m \u001b[43m\u001b[49m\u001b[43m)\u001b[49m\n",
      "\u001b[36mFile \u001b[39m\u001b[32mc:\\Users\\Juan David\\anaconda3\\envs\\bigdata_sql\\Lib\\site-packages\\prefect\\flow_engine.py:1552\u001b[39m, in \u001b[36mrun_flow\u001b[39m\u001b[34m(flow, flow_run, parameters, wait_for, return_type, error_logger, context)\u001b[39m\n\u001b[32m   1550\u001b[39m         ret_val = run_flow_async(**kwargs)\n\u001b[32m   1551\u001b[39m     \u001b[38;5;28;01melse\u001b[39;00m:\n\u001b[32m-> \u001b[39m\u001b[32m1552\u001b[39m         ret_val = \u001b[43mrun_flow_sync\u001b[49m\u001b[43m(\u001b[49m\u001b[43m*\u001b[49m\u001b[43m*\u001b[49m\u001b[43mkwargs\u001b[49m\u001b[43m)\u001b[49m\n\u001b[32m   1553\u001b[39m \u001b[38;5;28;01mexcept\u001b[39;00m (Abort, Pause):\n\u001b[32m   1554\u001b[39m     \u001b[38;5;28;01mraise\u001b[39;00m\n",
      "\u001b[36mFile \u001b[39m\u001b[32mc:\\Users\\Juan David\\anaconda3\\envs\\bigdata_sql\\Lib\\site-packages\\prefect\\flow_engine.py:1397\u001b[39m, in \u001b[36mrun_flow_sync\u001b[39m\u001b[34m(flow, flow_run, parameters, wait_for, return_type, context)\u001b[39m\n\u001b[32m   1394\u001b[39m         \u001b[38;5;28;01mwith\u001b[39;00m engine.run_context():\n\u001b[32m   1395\u001b[39m             engine.call_flow_fn()\n\u001b[32m-> \u001b[39m\u001b[32m1397\u001b[39m \u001b[38;5;28;01mreturn\u001b[39;00m engine.state \u001b[38;5;28;01mif\u001b[39;00m return_type == \u001b[33m\"\u001b[39m\u001b[33mstate\u001b[39m\u001b[33m\"\u001b[39m \u001b[38;5;28;01melse\u001b[39;00m \u001b[43mengine\u001b[49m\u001b[43m.\u001b[49m\u001b[43mresult\u001b[49m\u001b[43m(\u001b[49m\u001b[43m)\u001b[49m\n",
      "\u001b[36mFile \u001b[39m\u001b[32mc:\\Users\\Juan David\\anaconda3\\envs\\bigdata_sql\\Lib\\site-packages\\prefect\\flow_engine.py:361\u001b[39m, in \u001b[36mFlowRunEngine.result\u001b[39m\u001b[34m(self, raise_on_failure)\u001b[39m\n\u001b[32m    359\u001b[39m \u001b[38;5;28;01mif\u001b[39;00m \u001b[38;5;28mself\u001b[39m._raised \u001b[38;5;129;01mis\u001b[39;00m \u001b[38;5;129;01mnot\u001b[39;00m NotSet:\n\u001b[32m    360\u001b[39m     \u001b[38;5;28;01mif\u001b[39;00m raise_on_failure:\n\u001b[32m--> \u001b[39m\u001b[32m361\u001b[39m         \u001b[38;5;28;01mraise\u001b[39;00m \u001b[38;5;28mself\u001b[39m._raised\n\u001b[32m    362\u001b[39m     \u001b[38;5;28;01mreturn\u001b[39;00m \u001b[38;5;28mself\u001b[39m._raised\n\u001b[32m    364\u001b[39m \u001b[38;5;66;03m# This is a fall through case which leans on the existing state result mechanics to get the\u001b[39;00m\n\u001b[32m    365\u001b[39m \u001b[38;5;66;03m# return value. This is necessary because we currently will return a State object if the\u001b[39;00m\n\u001b[32m    366\u001b[39m \u001b[38;5;66;03m# the State was Prefect-created.\u001b[39;00m\n\u001b[32m    367\u001b[39m \u001b[38;5;66;03m# TODO: Remove the need to get the result from a State except in cases where the return value\u001b[39;00m\n\u001b[32m    368\u001b[39m \u001b[38;5;66;03m# is a State object.\u001b[39;00m\n",
      "\u001b[36mFile \u001b[39m\u001b[32mc:\\Users\\Juan David\\anaconda3\\envs\\bigdata_sql\\Lib\\site-packages\\prefect\\flow_engine.py:781\u001b[39m, in \u001b[36mFlowRunEngine.run_context\u001b[39m\u001b[34m(self)\u001b[39m\n\u001b[32m    774\u001b[39m     \u001b[38;5;28;01mwith\u001b[39;00m timeout_context(\n\u001b[32m    775\u001b[39m         seconds=\u001b[38;5;28mself\u001b[39m.flow.timeout_seconds,\n\u001b[32m    776\u001b[39m         timeout_exc_type=FlowRunTimeoutError,\n\u001b[32m    777\u001b[39m     ):\n\u001b[32m    778\u001b[39m         \u001b[38;5;28mself\u001b[39m.logger.debug(\n\u001b[32m    779\u001b[39m             \u001b[33mf\u001b[39m\u001b[33m\"\u001b[39m\u001b[33mExecuting flow \u001b[39m\u001b[38;5;132;01m{\u001b[39;00m\u001b[38;5;28mself\u001b[39m.flow.name\u001b[38;5;132;01m!r}\u001b[39;00m\u001b[33m for flow run \u001b[39m\u001b[38;5;132;01m{\u001b[39;00m\u001b[38;5;28mself\u001b[39m.flow_run.name\u001b[38;5;132;01m!r}\u001b[39;00m\u001b[33m...\u001b[39m\u001b[33m\"\u001b[39m\n\u001b[32m    780\u001b[39m         )\n\u001b[32m--> \u001b[39m\u001b[32m781\u001b[39m         \u001b[38;5;28;01myield\u001b[39;00m \u001b[38;5;28mself\u001b[39m\n\u001b[32m    782\u001b[39m \u001b[38;5;28;01mexcept\u001b[39;00m \u001b[38;5;167;01mTimeoutError\u001b[39;00m \u001b[38;5;28;01mas\u001b[39;00m exc:\n\u001b[32m    783\u001b[39m     \u001b[38;5;28mself\u001b[39m.handle_timeout(exc)\n",
      "\u001b[36mFile \u001b[39m\u001b[32mc:\\Users\\Juan David\\anaconda3\\envs\\bigdata_sql\\Lib\\site-packages\\prefect\\flow_engine.py:1395\u001b[39m, in \u001b[36mrun_flow_sync\u001b[39m\u001b[34m(flow, flow_run, parameters, wait_for, return_type, context)\u001b[39m\n\u001b[32m   1393\u001b[39m     \u001b[38;5;28;01mwhile\u001b[39;00m engine.is_running():\n\u001b[32m   1394\u001b[39m         \u001b[38;5;28;01mwith\u001b[39;00m engine.run_context():\n\u001b[32m-> \u001b[39m\u001b[32m1395\u001b[39m             \u001b[43mengine\u001b[49m\u001b[43m.\u001b[49m\u001b[43mcall_flow_fn\u001b[49m\u001b[43m(\u001b[49m\u001b[43m)\u001b[49m\n\u001b[32m   1397\u001b[39m \u001b[38;5;28;01mreturn\u001b[39;00m engine.state \u001b[38;5;28;01mif\u001b[39;00m return_type == \u001b[33m\"\u001b[39m\u001b[33mstate\u001b[39m\u001b[33m\"\u001b[39m \u001b[38;5;28;01melse\u001b[39;00m engine.result()\n",
      "\u001b[36mFile \u001b[39m\u001b[32mc:\\Users\\Juan David\\anaconda3\\envs\\bigdata_sql\\Lib\\site-packages\\prefect\\flow_engine.py:801\u001b[39m, in \u001b[36mFlowRunEngine.call_flow_fn\u001b[39m\u001b[34m(self)\u001b[39m\n\u001b[32m    799\u001b[39m     \u001b[38;5;28;01mreturn\u001b[39;00m _call_flow_fn()\n\u001b[32m    800\u001b[39m \u001b[38;5;28;01melse\u001b[39;00m:\n\u001b[32m--> \u001b[39m\u001b[32m801\u001b[39m     result = \u001b[43mcall_with_parameters\u001b[49m\u001b[43m(\u001b[49m\u001b[38;5;28;43mself\u001b[39;49m\u001b[43m.\u001b[49m\u001b[43mflow\u001b[49m\u001b[43m.\u001b[49m\u001b[43mfn\u001b[49m\u001b[43m,\u001b[49m\u001b[43m \u001b[49m\u001b[38;5;28;43mself\u001b[39;49m\u001b[43m.\u001b[49m\u001b[43mparameters\u001b[49m\u001b[43m)\u001b[49m\n\u001b[32m    802\u001b[39m     \u001b[38;5;28mself\u001b[39m.handle_success(result)\n",
      "\u001b[36mFile \u001b[39m\u001b[32mc:\\Users\\Juan David\\anaconda3\\envs\\bigdata_sql\\Lib\\site-packages\\prefect\\utilities\\callables.py:210\u001b[39m, in \u001b[36mcall_with_parameters\u001b[39m\u001b[34m(fn, parameters)\u001b[39m\n\u001b[32m    202\u001b[39m \u001b[38;5;250m\u001b[39m\u001b[33;03m\"\"\"\u001b[39;00m\n\u001b[32m    203\u001b[39m \u001b[33;03mCall a function with parameters extracted with `get_call_parameters`\u001b[39;00m\n\u001b[32m    204\u001b[39m \n\u001b[32m   (...)\u001b[39m\u001b[32m    207\u001b[39m \u001b[33;03mthe args/kwargs using `parameters_to_positional_and_keyword` directly\u001b[39;00m\n\u001b[32m    208\u001b[39m \u001b[33;03m\"\"\"\u001b[39;00m\n\u001b[32m    209\u001b[39m args, kwargs = parameters_to_args_kwargs(fn, parameters)\n\u001b[32m--> \u001b[39m\u001b[32m210\u001b[39m \u001b[38;5;28;01mreturn\u001b[39;00m \u001b[43mfn\u001b[49m\u001b[43m(\u001b[49m\u001b[43m*\u001b[49m\u001b[43margs\u001b[49m\u001b[43m,\u001b[49m\u001b[43m \u001b[49m\u001b[43m*\u001b[49m\u001b[43m*\u001b[49m\u001b[43mkwargs\u001b[49m\u001b[43m)\u001b[49m\n",
      "\u001b[36mCell\u001b[39m\u001b[36m \u001b[39m\u001b[32mIn[18]\u001b[39m\u001b[32m, line 10\u001b[39m, in \u001b[36miris_flow\u001b[39m\u001b[34m()\u001b[39m\n\u001b[32m      8\u001b[39m dtree_model, y_pred = decision_tree(X_train, X_test, y_train, y_test)\n\u001b[32m      9\u001b[39m confusion_matrix(class_names, dtree_model, X_test, y_test)\n\u001b[32m---> \u001b[39m\u001b[32m10\u001b[39m \u001b[43mclassification_report\u001b[49m\u001b[43m(\u001b[49m\u001b[43mdtree_model\u001b[49m\u001b[43m,\u001b[49m\u001b[43m \u001b[49m\u001b[43mX_test\u001b[49m\u001b[43m,\u001b[49m\u001b[43m \u001b[49m\u001b[43my_test\u001b[49m\u001b[43m,\u001b[49m\u001b[43m \u001b[49m\u001b[43mclass_names\u001b[49m\u001b[43m)\u001b[49m\n\u001b[32m     12\u001b[39m rf_model =random_forest(X_train, X_test, y_train, y_test)\n\u001b[32m     13\u001b[39m confusion_matrix(class_names, rf_model, X_test, y_test)\n",
      "\u001b[36mFile \u001b[39m\u001b[32mc:\\Users\\Juan David\\anaconda3\\envs\\bigdata_sql\\Lib\\site-packages\\prefect\\tasks.py:1139\u001b[39m, in \u001b[36mTask.__call__\u001b[39m\u001b[34m(self, return_state, wait_for, *args, **kwargs)\u001b[39m\n\u001b[32m   1133\u001b[39m     \u001b[38;5;28;01mreturn\u001b[39;00m track_viz_task(\n\u001b[32m   1134\u001b[39m         \u001b[38;5;28mself\u001b[39m.isasync, \u001b[38;5;28mself\u001b[39m.name, parameters, \u001b[38;5;28mself\u001b[39m.viz_return_value\n\u001b[32m   1135\u001b[39m     )\n\u001b[32m   1137\u001b[39m \u001b[38;5;28;01mfrom\u001b[39;00m\u001b[38;5;250m \u001b[39m\u001b[34;01mprefect\u001b[39;00m\u001b[34;01m.\u001b[39;00m\u001b[34;01mtask_engine\u001b[39;00m\u001b[38;5;250m \u001b[39m\u001b[38;5;28;01mimport\u001b[39;00m run_task\n\u001b[32m-> \u001b[39m\u001b[32m1139\u001b[39m \u001b[38;5;28;01mreturn\u001b[39;00m \u001b[43mrun_task\u001b[49m\u001b[43m(\u001b[49m\n\u001b[32m   1140\u001b[39m \u001b[43m    \u001b[49m\u001b[43mtask\u001b[49m\u001b[43m=\u001b[49m\u001b[38;5;28;43mself\u001b[39;49m\u001b[43m,\u001b[49m\n\u001b[32m   1141\u001b[39m \u001b[43m    \u001b[49m\u001b[43mparameters\u001b[49m\u001b[43m=\u001b[49m\u001b[43mparameters\u001b[49m\u001b[43m,\u001b[49m\n\u001b[32m   1142\u001b[39m \u001b[43m    \u001b[49m\u001b[43mwait_for\u001b[49m\u001b[43m=\u001b[49m\u001b[43mwait_for\u001b[49m\u001b[43m,\u001b[49m\n\u001b[32m   1143\u001b[39m \u001b[43m    \u001b[49m\u001b[43mreturn_type\u001b[49m\u001b[43m=\u001b[49m\u001b[43mreturn_type\u001b[49m\u001b[43m,\u001b[49m\n\u001b[32m   1144\u001b[39m \u001b[43m\u001b[49m\u001b[43m)\u001b[49m\n",
      "\u001b[36mFile \u001b[39m\u001b[32mc:\\Users\\Juan David\\anaconda3\\envs\\bigdata_sql\\Lib\\site-packages\\prefect\\task_engine.py:1732\u001b[39m, in \u001b[36mrun_task\u001b[39m\u001b[34m(task, task_run_id, task_run, parameters, wait_for, return_type, dependencies, context)\u001b[39m\n\u001b[32m   1730\u001b[39m     \u001b[38;5;28;01mreturn\u001b[39;00m run_task_async(**kwargs)\n\u001b[32m   1731\u001b[39m \u001b[38;5;28;01melse\u001b[39;00m:\n\u001b[32m-> \u001b[39m\u001b[32m1732\u001b[39m     \u001b[38;5;28;01mreturn\u001b[39;00m \u001b[43mrun_task_sync\u001b[49m\u001b[43m(\u001b[49m\u001b[43m*\u001b[49m\u001b[43m*\u001b[49m\u001b[43mkwargs\u001b[49m\u001b[43m)\u001b[49m\n",
      "\u001b[36mFile \u001b[39m\u001b[32mc:\\Users\\Juan David\\anaconda3\\envs\\bigdata_sql\\Lib\\site-packages\\prefect\\task_engine.py:1507\u001b[39m, in \u001b[36mrun_task_sync\u001b[39m\u001b[34m(task, task_run_id, task_run, parameters, wait_for, return_type, dependencies, context)\u001b[39m\n\u001b[32m   1500\u001b[39m         \u001b[38;5;28;01mwith\u001b[39;00m (\n\u001b[32m   1501\u001b[39m             engine.asset_context(),\n\u001b[32m   1502\u001b[39m             engine.run_context(),\n\u001b[32m   1503\u001b[39m             engine.transaction_context() \u001b[38;5;28;01mas\u001b[39;00m txn,\n\u001b[32m   1504\u001b[39m         ):\n\u001b[32m   1505\u001b[39m             engine.call_task_fn(txn)\n\u001b[32m-> \u001b[39m\u001b[32m1507\u001b[39m \u001b[38;5;28;01mreturn\u001b[39;00m engine.state \u001b[38;5;28;01mif\u001b[39;00m return_type == \u001b[33m\"\u001b[39m\u001b[33mstate\u001b[39m\u001b[33m\"\u001b[39m \u001b[38;5;28;01melse\u001b[39;00m \u001b[43mengine\u001b[49m\u001b[43m.\u001b[49m\u001b[43mresult\u001b[49m\u001b[43m(\u001b[49m\u001b[43m)\u001b[49m\n",
      "\u001b[36mFile \u001b[39m\u001b[32mc:\\Users\\Juan David\\anaconda3\\envs\\bigdata_sql\\Lib\\site-packages\\prefect\\task_engine.py:494\u001b[39m, in \u001b[36mSyncTaskRunEngine.result\u001b[39m\u001b[34m(self, raise_on_failure)\u001b[39m\n\u001b[32m    491\u001b[39m \u001b[38;5;28;01mif\u001b[39;00m \u001b[38;5;28mself\u001b[39m._raised \u001b[38;5;129;01mis\u001b[39;00m \u001b[38;5;129;01mnot\u001b[39;00m NotSet:\n\u001b[32m    492\u001b[39m     \u001b[38;5;66;03m# if the task raised an exception, raise it\u001b[39;00m\n\u001b[32m    493\u001b[39m     \u001b[38;5;28;01mif\u001b[39;00m raise_on_failure:\n\u001b[32m--> \u001b[39m\u001b[32m494\u001b[39m         \u001b[38;5;28;01mraise\u001b[39;00m \u001b[38;5;28mself\u001b[39m._raised\n\u001b[32m    496\u001b[39m     \u001b[38;5;66;03m# otherwise, return the exception\u001b[39;00m\n\u001b[32m    497\u001b[39m     \u001b[38;5;28;01mreturn\u001b[39;00m \u001b[38;5;28mself\u001b[39m._raised\n",
      "\u001b[36mFile \u001b[39m\u001b[32mc:\\Users\\Juan David\\anaconda3\\envs\\bigdata_sql\\Lib\\site-packages\\prefect\\task_engine.py:869\u001b[39m, in \u001b[36mSyncTaskRunEngine.run_context\u001b[39m\u001b[34m(self)\u001b[39m\n\u001b[32m    866\u001b[39m         \u001b[38;5;28;01mif\u001b[39;00m \u001b[38;5;28mself\u001b[39m.is_cancelled():\n\u001b[32m    867\u001b[39m             \u001b[38;5;28;01mraise\u001b[39;00m CancelledError(\u001b[33m\"\u001b[39m\u001b[33mTask run cancelled by the task runner\u001b[39m\u001b[33m\"\u001b[39m)\n\u001b[32m--> \u001b[39m\u001b[32m869\u001b[39m         \u001b[38;5;28;01myield\u001b[39;00m \u001b[38;5;28mself\u001b[39m\n\u001b[32m    870\u001b[39m \u001b[38;5;28;01mexcept\u001b[39;00m \u001b[38;5;167;01mTimeoutError\u001b[39;00m \u001b[38;5;28;01mas\u001b[39;00m exc:\n\u001b[32m    871\u001b[39m     \u001b[38;5;28mself\u001b[39m.handle_timeout(exc)\n",
      "\u001b[36mFile \u001b[39m\u001b[32mc:\\Users\\Juan David\\anaconda3\\envs\\bigdata_sql\\Lib\\site-packages\\prefect\\task_engine.py:1505\u001b[39m, in \u001b[36mrun_task_sync\u001b[39m\u001b[34m(task, task_run_id, task_run, parameters, wait_for, return_type, dependencies, context)\u001b[39m\n\u001b[32m   1499\u001b[39m         run_coro_as_sync(engine.wait_until_ready())\n\u001b[32m   1500\u001b[39m         \u001b[38;5;28;01mwith\u001b[39;00m (\n\u001b[32m   1501\u001b[39m             engine.asset_context(),\n\u001b[32m   1502\u001b[39m             engine.run_context(),\n\u001b[32m   1503\u001b[39m             engine.transaction_context() \u001b[38;5;28;01mas\u001b[39;00m txn,\n\u001b[32m   1504\u001b[39m         ):\n\u001b[32m-> \u001b[39m\u001b[32m1505\u001b[39m             \u001b[43mengine\u001b[49m\u001b[43m.\u001b[49m\u001b[43mcall_task_fn\u001b[49m\u001b[43m(\u001b[49m\u001b[43mtxn\u001b[49m\u001b[43m)\u001b[49m\n\u001b[32m   1507\u001b[39m \u001b[38;5;28;01mreturn\u001b[39;00m engine.state \u001b[38;5;28;01mif\u001b[39;00m return_type == \u001b[33m\"\u001b[39m\u001b[33mstate\u001b[39m\u001b[33m\"\u001b[39m \u001b[38;5;28;01melse\u001b[39;00m engine.result()\n",
      "\u001b[36mFile \u001b[39m\u001b[32mc:\\Users\\Juan David\\anaconda3\\envs\\bigdata_sql\\Lib\\site-packages\\prefect\\task_engine.py:886\u001b[39m, in \u001b[36mSyncTaskRunEngine.call_task_fn\u001b[39m\u001b[34m(self, transaction)\u001b[39m\n\u001b[32m    884\u001b[39m     result = transaction.read()\n\u001b[32m    885\u001b[39m \u001b[38;5;28;01melse\u001b[39;00m:\n\u001b[32m--> \u001b[39m\u001b[32m886\u001b[39m     result = \u001b[43mcall_with_parameters\u001b[49m\u001b[43m(\u001b[49m\u001b[38;5;28;43mself\u001b[39;49m\u001b[43m.\u001b[49m\u001b[43mtask\u001b[49m\u001b[43m.\u001b[49m\u001b[43mfn\u001b[49m\u001b[43m,\u001b[49m\u001b[43m \u001b[49m\u001b[43mparameters\u001b[49m\u001b[43m)\u001b[49m\n\u001b[32m    887\u001b[39m \u001b[38;5;28mself\u001b[39m.handle_success(result, transaction=transaction)\n\u001b[32m    888\u001b[39m \u001b[38;5;28;01mreturn\u001b[39;00m result\n",
      "\u001b[36mFile \u001b[39m\u001b[32mc:\\Users\\Juan David\\anaconda3\\envs\\bigdata_sql\\Lib\\site-packages\\prefect\\utilities\\callables.py:210\u001b[39m, in \u001b[36mcall_with_parameters\u001b[39m\u001b[34m(fn, parameters)\u001b[39m\n\u001b[32m    202\u001b[39m \u001b[38;5;250m\u001b[39m\u001b[33;03m\"\"\"\u001b[39;00m\n\u001b[32m    203\u001b[39m \u001b[33;03mCall a function with parameters extracted with `get_call_parameters`\u001b[39;00m\n\u001b[32m    204\u001b[39m \n\u001b[32m   (...)\u001b[39m\u001b[32m    207\u001b[39m \u001b[33;03mthe args/kwargs using `parameters_to_positional_and_keyword` directly\u001b[39;00m\n\u001b[32m    208\u001b[39m \u001b[33;03m\"\"\"\u001b[39;00m\n\u001b[32m    209\u001b[39m args, kwargs = parameters_to_args_kwargs(fn, parameters)\n\u001b[32m--> \u001b[39m\u001b[32m210\u001b[39m \u001b[38;5;28;01mreturn\u001b[39;00m \u001b[43mfn\u001b[49m\u001b[43m(\u001b[49m\u001b[43m*\u001b[49m\u001b[43margs\u001b[49m\u001b[43m,\u001b[49m\u001b[43m \u001b[49m\u001b[43m*\u001b[49m\u001b[43m*\u001b[49m\u001b[43mkwargs\u001b[49m\u001b[43m)\u001b[49m\n",
      "\u001b[36mCell\u001b[39m\u001b[36m \u001b[39m\u001b[32mIn[2]\u001b[39m\u001b[32m, line 9\u001b[39m, in \u001b[36mtiming_decorator.<locals>.wrapper\u001b[39m\u001b[34m(*args, **kwargs)\u001b[39m\n\u001b[32m      6\u001b[39m start_time = time.time()\n\u001b[32m      8\u001b[39m \u001b[38;5;66;03m# Execute the original function\u001b[39;00m\n\u001b[32m----> \u001b[39m\u001b[32m9\u001b[39m result = \u001b[43mfunc\u001b[49m\u001b[43m(\u001b[49m\u001b[43m*\u001b[49m\u001b[43margs\u001b[49m\u001b[43m,\u001b[49m\u001b[43m \u001b[49m\u001b[43m*\u001b[49m\u001b[43m*\u001b[49m\u001b[43mkwargs\u001b[49m\u001b[43m)\u001b[49m\n\u001b[32m     11\u001b[39m end_time = time.time()\n\u001b[32m     12\u001b[39m execution_time = end_time - start_time\n",
      "\u001b[36mCell\u001b[39m\u001b[36m \u001b[39m\u001b[32mIn[17]\u001b[39m\u001b[32m, line 8\u001b[39m, in \u001b[36mclassification_report\u001b[39m\u001b[34m(model, X_test, y_test, class_names)\u001b[39m\n\u001b[32m      5\u001b[39m y_pred = model.predict(X_test)\n\u001b[32m      7\u001b[39m \u001b[38;5;28mprint\u001b[39m(\u001b[33m\"\u001b[39m\u001b[33mClasification Report\u001b[39m\u001b[33m\"\u001b[39m)\n\u001b[32m----> \u001b[39m\u001b[32m8\u001b[39m report = \u001b[43mclassification_report\u001b[49m\u001b[43m(\u001b[49m\u001b[43my_test\u001b[49m\u001b[43m,\u001b[49m\u001b[43m \u001b[49m\u001b[43my_pred\u001b[49m\u001b[43m,\u001b[49m\u001b[43m \u001b[49m\u001b[43mtarget_names\u001b[49m\u001b[43m=\u001b[49m\u001b[43mclass_names\u001b[49m\u001b[43m)\u001b[49m\n\u001b[32m      9\u001b[39m \u001b[38;5;28mprint\u001b[39m(report)\n\u001b[32m     11\u001b[39m \u001b[38;5;28;01mreturn\u001b[39;00m report\n",
      "\u001b[36mFile \u001b[39m\u001b[32mc:\\Users\\Juan David\\anaconda3\\envs\\bigdata_sql\\Lib\\site-packages\\prefect\\tasks.py:1127\u001b[39m, in \u001b[36mTask.__call__\u001b[39m\u001b[34m(self, return_state, wait_for, *args, **kwargs)\u001b[39m\n\u001b[32m   1121\u001b[39m \u001b[38;5;28;01mfrom\u001b[39;00m\u001b[38;5;250m \u001b[39m\u001b[34;01mprefect\u001b[39;00m\u001b[34;01m.\u001b[39;00m\u001b[34;01mutilities\u001b[39;00m\u001b[34;01m.\u001b[39;00m\u001b[34;01mvisualization\u001b[39;00m\u001b[38;5;250m \u001b[39m\u001b[38;5;28;01mimport\u001b[39;00m (\n\u001b[32m   1122\u001b[39m     get_task_viz_tracker,\n\u001b[32m   1123\u001b[39m     track_viz_task,\n\u001b[32m   1124\u001b[39m )\n\u001b[32m   1126\u001b[39m \u001b[38;5;66;03m# Convert the call args/kwargs to a parameter dict\u001b[39;00m\n\u001b[32m-> \u001b[39m\u001b[32m1127\u001b[39m parameters = \u001b[43mget_call_parameters\u001b[49m\u001b[43m(\u001b[49m\u001b[38;5;28;43mself\u001b[39;49m\u001b[43m.\u001b[49m\u001b[43mfn\u001b[49m\u001b[43m,\u001b[49m\u001b[43m \u001b[49m\u001b[43margs\u001b[49m\u001b[43m,\u001b[49m\u001b[43m \u001b[49m\u001b[43mkwargs\u001b[49m\u001b[43m)\u001b[49m\n\u001b[32m   1129\u001b[39m return_type = \u001b[33m\"\u001b[39m\u001b[33mstate\u001b[39m\u001b[33m\"\u001b[39m \u001b[38;5;28;01mif\u001b[39;00m return_state \u001b[38;5;28;01melse\u001b[39;00m \u001b[33m\"\u001b[39m\u001b[33mresult\u001b[39m\u001b[33m\"\u001b[39m\n\u001b[32m   1131\u001b[39m task_run_tracker = get_task_viz_tracker()\n",
      "\u001b[36mFile \u001b[39m\u001b[32mc:\\Users\\Juan David\\anaconda3\\envs\\bigdata_sql\\Lib\\site-packages\\prefect\\utilities\\callables.py:72\u001b[39m, in \u001b[36mget_call_parameters\u001b[39m\u001b[34m(fn, call_args, call_kwargs, apply_defaults)\u001b[39m\n\u001b[32m     70\u001b[39m     bound_signature = inspect.signature(fn).bind(*call_args, **call_kwargs)\n\u001b[32m     71\u001b[39m \u001b[38;5;28;01mexcept\u001b[39;00m \u001b[38;5;167;01mTypeError\u001b[39;00m \u001b[38;5;28;01mas\u001b[39;00m exc:\n\u001b[32m---> \u001b[39m\u001b[32m72\u001b[39m     \u001b[38;5;28;01mraise\u001b[39;00m ParameterBindError.from_bind_failure(fn, exc, call_args, call_kwargs)\n\u001b[32m     74\u001b[39m \u001b[38;5;28;01mif\u001b[39;00m apply_defaults:\n\u001b[32m     75\u001b[39m     bound_signature.apply_defaults()\n",
      "\u001b[31mParameterBindError\u001b[39m: Error binding parameters for function 'classification_report': missing a required argument: 'y_test'.\nFunction 'classification_report' has signature 'model, X_test, y_test, class_names' but received args: (114     Iris-virginica\n62     Iris-versicolor\n33         Iris-setosa\n107     Iris-virginica\n7          Iris-setosa\n100     Iris-virginica\n40         Iris-setosa\n86     Iris-versicolor\n76     Iris-versicolor\n71     Iris-versicolor\n134     Iris-virginica\n51     Iris-versicolor\n73     Iris-versicolor\n54     Iris-versicolor\n63     Iris-versicolor\n37         Iris-setosa\n78     Iris-versicolor\n90     Iris-versicolor\n45         Iris-setosa\n16         Iris-setosa\n121     Iris-virginica\n66     Iris-versicolor\n24         Iris-setosa\n8          Iris-setosa\n126     Iris-virginica\n22         Iris-setosa\n44         Iris-setosa\n97     Iris-versicolor\n93     Iris-versicolor\n26         Iris-setosa\n137     Iris-virginica\n84     Iris-versicolor\n27         Iris-setosa\n127     Iris-virginica\n132     Iris-virginica\n59     Iris-versicolor\n18         Iris-setosa\n83     Iris-versicolor\nName: Species, dtype: object, array(['Iris-virginica', 'Iris-versicolor', 'Iris-setosa',\n       'Iris-virginica', 'Iris-setosa', 'Iris-virginica', 'Iris-setosa',\n       'Iris-versicolor', 'Iris-versicolor', 'Iris-versicolor',\n       'Iris-virginica', 'Iris-versicolor', 'Iris-versicolor',\n       'Iris-versicolor', 'Iris-versicolor', 'Iris-setosa',\n       'Iris-versicolor', 'Iris-versicolor', 'Iris-setosa', 'Iris-setosa',\n       'Iris-virginica', 'Iris-versicolor', 'Iris-setosa', 'Iris-setosa',\n       'Iris-virginica', 'Iris-setosa', 'Iris-setosa', 'Iris-versicolor',\n       'Iris-versicolor', 'Iris-setosa', 'Iris-virginica',\n       'Iris-versicolor', 'Iris-setosa', 'Iris-virginica',\n       'Iris-virginica', 'Iris-versicolor', 'Iris-setosa',\n       'Iris-virginica'], dtype=object)) and kwargs: ['target_names']."
     ]
    }
   ],
   "source": [
    "@flow\n",
    "def iris_flow():\n",
    "    df = iris_dataset_retribution()\n",
    "    X_train, X_test, y_train, y_test = iris_preprocessing(df)\n",
    "    \n",
    "    class_names = ['Iris-setosa', 'Iris-versicolor', 'Iris-virginica']\n",
    "    \n",
    "    dtree_model, y_pred = decision_tree(X_train, X_test, y_train, y_test)\n",
    "    confusion_matrix(class_names, dtree_model, X_test, y_test)\n",
    "    classification_report(dtree_model, X_test, y_test, class_names)\n",
    "\n",
    "    rf_model =random_forest(X_train, X_test, y_train, y_test)\n",
    "    confusion_matrix(class_names, rf_model, X_test, y_test)\n",
    "    classification_report(dtree_model, X_test, y_test, class_names)\n",
    "\n",
    "    knn_model = knn(X_train, X_test, y_train, y_test)\n",
    "    confusion_matrix(class_names, knn_model, X_test, y_test)\n",
    "    classification_report(dtree_model, X_test, y_test, class_names)\n",
    "\n",
    "    knn_scaled = knn_scaler(X_train, X_test, y_train, y_test)\n",
    "    confusion_matrix(class_names, knn_scaled, X_test, y_test)\n",
    "    classification_report(dtree_model, X_test, y_test, class_names)\n",
    "\n",
    "    svm_class_model = svm(X_train, X_test, y_train, y_test)\n",
    "    confusion_matrix(class_names, svm_class_model, X_test, y_test)\n",
    "    classification_report(dtree_model, X_test, y_test, class_names)\n",
    "\n",
    "    svm_class_scaled = svm_scaler(X_train, X_test, y_train, y_test)\n",
    "    confusion_matrix(class_names, svm_class_scaled, X_test, y_test)\n",
    "    classification_report(dtree_model, X_test, y_test, class_names)\n",
    "iris_flow()"
   ]
  },
  {
   "cell_type": "code",
   "execution_count": null,
   "id": "a31ba221",
   "metadata": {},
   "outputs": [
    {
     "data": {
      "text/html": [
       "<pre style=\"white-space:pre;overflow-x:auto;line-height:normal;font-family:Menlo,'DejaVu Sans Mono',consolas,'Courier New',monospace\">12:57:21.451 | <span style=\"color: #008080; text-decoration-color: #008080\">INFO</span>    | Flow run<span style=\"color: #800080; text-decoration-color: #800080\"> 'naughty-dalmatian'</span> - Beginning flow run<span style=\"color: #800080; text-decoration-color: #800080\"> 'naughty-dalmatian'</span> for flow<span style=\"color: #800080; text-decoration-color: #800080; font-weight: bold\"> 'cancer-flow'</span>\n",
       "</pre>\n"
      ],
      "text/plain": [
       "12:57:21.451 | \u001b[36mINFO\u001b[0m    | Flow run\u001b[35m 'naughty-dalmatian'\u001b[0m - Beginning flow run\u001b[35m 'naughty-dalmatian'\u001b[0m for flow\u001b[1;35m 'cancer-flow'\u001b[0m\n"
      ]
     },
     "metadata": {},
     "output_type": "display_data"
    },
    {
     "name": "stdout",
     "output_type": "stream",
     "text": [
      "Características (X_i):  ['mean radius' 'mean texture' 'mean perimeter' 'mean area'\n",
      " 'mean smoothness' 'mean compactness' 'mean concavity'\n",
      " 'mean concave points' 'mean symmetry' 'mean fractal dimension'\n",
      " 'radius error' 'texture error' 'perimeter error' 'area error'\n",
      " 'smoothness error' 'compactness error' 'concavity error'\n",
      " 'concave points error' 'symmetry error' 'fractal dimension error'\n",
      " 'worst radius' 'worst texture' 'worst perimeter' 'worst area'\n",
      " 'worst smoothness' 'worst compactness' 'worst concavity'\n",
      " 'worst concave points' 'worst symmetry' 'worst fractal dimension']\n"
     ]
    },
    {
     "data": {
      "text/html": [
       "<pre style=\"white-space:pre;overflow-x:auto;line-height:normal;font-family:Menlo,'DejaVu Sans Mono',consolas,'Courier New',monospace\">12:57:21.479 | <span style=\"color: #008080; text-decoration-color: #008080\">INFO</span>    | Task run 'cancer_dataset_retribution-387' - Task 'cancer_dataset_retribution' completed in 0.00 seconds\n",
       "</pre>\n"
      ],
      "text/plain": [
       "12:57:21.479 | \u001b[36mINFO\u001b[0m    | Task run 'cancer_dataset_retribution-387' - Task 'cancer_dataset_retribution' completed in 0.00 seconds\n"
      ]
     },
     "metadata": {},
     "output_type": "display_data"
    },
    {
     "data": {
      "text/html": [
       "<pre style=\"white-space:pre;overflow-x:auto;line-height:normal;font-family:Menlo,'DejaVu Sans Mono',consolas,'Courier New',monospace\">12:57:21.486 | <span style=\"color: #008080; text-decoration-color: #008080\">INFO</span>    | Task run 'cancer_dataset_retribution-387' - Finished in state <span style=\"color: #008000; text-decoration-color: #008000\">Completed</span>()\n",
       "</pre>\n"
      ],
      "text/plain": [
       "12:57:21.486 | \u001b[36mINFO\u001b[0m    | Task run 'cancer_dataset_retribution-387' - Finished in state \u001b[32mCompleted\u001b[0m()\n"
      ]
     },
     "metadata": {},
     "output_type": "display_data"
    },
    {
     "name": "stdout",
     "output_type": "stream",
     "text": [
      "Tamaño de X_train: (398, 30)\n",
      "Tamaño de y_train: (398,)\n",
      "Tamaño de X_test: (171, 30)\n",
      "Tamaño de y_test: (171,)\n"
     ]
    },
    {
     "data": {
      "text/html": [
       "<pre style=\"white-space:pre;overflow-x:auto;line-height:normal;font-family:Menlo,'DejaVu Sans Mono',consolas,'Courier New',monospace\">12:57:21.506 | <span style=\"color: #008080; text-decoration-color: #008080\">INFO</span>    | Task run 'cancer_preprocessing-91e' - Task 'cancer_preprocessing' completed in 0.00 seconds\n",
       "</pre>\n"
      ],
      "text/plain": [
       "12:57:21.506 | \u001b[36mINFO\u001b[0m    | Task run 'cancer_preprocessing-91e' - Task 'cancer_preprocessing' completed in 0.00 seconds\n"
      ]
     },
     "metadata": {},
     "output_type": "display_data"
    },
    {
     "data": {
      "text/html": [
       "<pre style=\"white-space:pre;overflow-x:auto;line-height:normal;font-family:Menlo,'DejaVu Sans Mono',consolas,'Courier New',monospace\">12:57:21.513 | <span style=\"color: #008080; text-decoration-color: #008080\">INFO</span>    | Task run 'cancer_preprocessing-91e' - Finished in state <span style=\"color: #008000; text-decoration-color: #008000\">Completed</span>()\n",
       "</pre>\n"
      ],
      "text/plain": [
       "12:57:21.513 | \u001b[36mINFO\u001b[0m    | Task run 'cancer_preprocessing-91e' - Finished in state \u001b[32mCompleted\u001b[0m()\n"
      ]
     },
     "metadata": {},
     "output_type": "display_data"
    },
    {
     "name": "stdout",
     "output_type": "stream",
     "text": [
      "Comparación de predicciones (primeras 5 filas):\n",
      "   feature_0  feature_1  feature_2  feature_3  feature_4  feature_5  \\\n",
      "0      11.67      20.02      75.21      416.2    0.10160    0.09453   \n",
      "1      11.94      18.24      75.71      437.6    0.08261    0.04751   \n",
      "2      19.16      26.60     126.20     1138.0    0.10200    0.14530   \n",
      "3      19.55      28.77     133.60     1207.0    0.09260    0.20630   \n",
      "4      12.47      18.60      81.09      481.9    0.09965    0.10580   \n",
      "\n",
      "   feature_6  feature_7  feature_8  feature_9  ...  feature_22  feature_23  \\\n",
      "0    0.04200    0.02157     0.1859    0.06461  ...       87.00       550.6   \n",
      "1    0.01972    0.01349     0.1868    0.06110  ...       83.67       527.2   \n",
      "2    0.19210    0.09664     0.1902    0.06220  ...      159.80      1724.0   \n",
      "3    0.17840    0.11440     0.1893    0.06232  ...      178.60      1926.0   \n",
      "4    0.08005    0.03821     0.1925    0.06373  ...       96.05       677.9   \n",
      "\n",
      "   feature_24  feature_25  feature_26  feature_27  feature_28  feature_29  \\\n",
      "0      0.1550     0.29640     0.27580     0.08120      0.3206     0.08950   \n",
      "1      0.1144     0.08906     0.09203     0.06296      0.2785     0.07408   \n",
      "2      0.1782     0.38410     0.57540     0.18720      0.3258     0.09720   \n",
      "3      0.1281     0.53290     0.42510     0.19410      0.2818     0.10050   \n",
      "4      0.1426     0.23780     0.26710     0.10150      0.3014     0.08750   \n",
      "\n",
      "   Actual  Predicción  \n",
      "0       1           1  \n",
      "1       1           1  \n",
      "2       0           0  \n",
      "3       0           0  \n",
      "4       1           1  \n",
      "\n",
      "[5 rows x 32 columns]\n",
      "Resultados de la validación cruzada en decision tree:  [0.95 0.95 0.91 0.94 0.91]\n",
      "Resultado promedio de la validación cruzada en decision tree: 0.9321202531645569\n",
      "Exactitud (accuracy) en prueba (testing) del decision tree: 0.9590643274853801\n"
     ]
    },
    {
     "data": {
      "text/html": [
       "<pre style=\"white-space:pre;overflow-x:auto;line-height:normal;font-family:Menlo,'DejaVu Sans Mono',consolas,'Courier New',monospace\">12:57:21.555 | <span style=\"color: #008080; text-decoration-color: #008080\">INFO</span>    | Task run 'decision_tree-7a2' - Task 'decision_tree' completed in 0.03 seconds\n",
       "</pre>\n"
      ],
      "text/plain": [
       "12:57:21.555 | \u001b[36mINFO\u001b[0m    | Task run 'decision_tree-7a2' - Task 'decision_tree' completed in 0.03 seconds\n"
      ]
     },
     "metadata": {},
     "output_type": "display_data"
    },
    {
     "data": {
      "text/html": [
       "<pre style=\"white-space:pre;overflow-x:auto;line-height:normal;font-family:Menlo,'DejaVu Sans Mono',consolas,'Courier New',monospace\">12:57:21.570 | <span style=\"color: #008080; text-decoration-color: #008080\">INFO</span>    | Task run 'decision_tree-7a2' - Finished in state <span style=\"color: #008000; text-decoration-color: #008000\">Completed</span>()\n",
       "</pre>\n"
      ],
      "text/plain": [
       "12:57:21.570 | \u001b[36mINFO\u001b[0m    | Task run 'decision_tree-7a2' - Finished in state \u001b[32mCompleted\u001b[0m()\n"
      ]
     },
     "metadata": {},
     "output_type": "display_data"
    },
    {
     "name": "stdout",
     "output_type": "stream",
     "text": [
      "Visualización de desempeño con Matriz de Confusión:\n",
      "Confusion Matrix\n",
      "[[ 59   4]\n",
      " [  3 105]]\n"
     ]
    },
    {
     "data": {
      "image/png": "[encoded data removed]",
      "text/plain": [
       "<Figure size 640x480 with 2 Axes>"
      ]
     },
     "metadata": {},
     "output_type": "display_data"
    },
    {
     "data": {
      "text/html": [
       "<pre style=\"white-space:pre;overflow-x:auto;line-height:normal;font-family:Menlo,'DejaVu Sans Mono',consolas,'Courier New',monospace\">12:57:21.674 | <span style=\"color: #008080; text-decoration-color: #008080\">INFO</span>    | Task run 'confusion_matrix-b53' - Task 'confusion_matrix' completed in 0.09 seconds\n",
       "</pre>\n"
      ],
      "text/plain": [
       "12:57:21.674 | \u001b[36mINFO\u001b[0m    | Task run 'confusion_matrix-b53' - Task 'confusion_matrix' completed in 0.09 seconds\n"
      ]
     },
     "metadata": {},
     "output_type": "display_data"
    },
    {
     "data": {
      "text/html": [
       "<pre style=\"white-space:pre;overflow-x:auto;line-height:normal;font-family:Menlo,'DejaVu Sans Mono',consolas,'Courier New',monospace\">12:57:21.674 | <span style=\"color: #008080; text-decoration-color: #008080\">INFO</span>    | Task run 'confusion_matrix-b53' - Finished in state <span style=\"color: #008000; text-decoration-color: #008000\">Completed</span>()\n",
       "</pre>\n"
      ],
      "text/plain": [
       "12:57:21.674 | \u001b[36mINFO\u001b[0m    | Task run 'confusion_matrix-b53' - Finished in state \u001b[32mCompleted\u001b[0m()\n"
      ]
     },
     "metadata": {},
     "output_type": "display_data"
    },
    {
     "name": "stdout",
     "output_type": "stream",
     "text": [
      "Random Forest Accuracy: 0.9766\n"
     ]
    },
    {
     "data": {
      "text/html": [
       "<pre style=\"white-space:pre;overflow-x:auto;line-height:normal;font-family:Menlo,'DejaVu Sans Mono',consolas,'Courier New',monospace\">12:57:21.853 | <span style=\"color: #008080; text-decoration-color: #008080\">INFO</span>    | Task run 'random_forest-300' - Task 'random_forest' completed in 0.16 seconds\n",
       "</pre>\n"
      ],
      "text/plain": [
       "12:57:21.853 | \u001b[36mINFO\u001b[0m    | Task run 'random_forest-300' - Task 'random_forest' completed in 0.16 seconds\n"
      ]
     },
     "metadata": {},
     "output_type": "display_data"
    },
    {
     "data": {
      "text/html": [
       "<pre style=\"white-space:pre;overflow-x:auto;line-height:normal;font-family:Menlo,'DejaVu Sans Mono',consolas,'Courier New',monospace\">12:57:21.861 | <span style=\"color: #008080; text-decoration-color: #008080\">INFO</span>    | Task run 'random_forest-300' - Finished in state <span style=\"color: #008000; text-decoration-color: #008000\">Completed</span>()\n",
       "</pre>\n"
      ],
      "text/plain": [
       "12:57:21.861 | \u001b[36mINFO\u001b[0m    | Task run 'random_forest-300' - Finished in state \u001b[32mCompleted\u001b[0m()\n"
      ]
     },
     "metadata": {},
     "output_type": "display_data"
    },
    {
     "name": "stdout",
     "output_type": "stream",
     "text": [
      "Visualización de desempeño con Matriz de Confusión:\n",
      "Confusion Matrix\n",
      "[[ 59   4]\n",
      " [  0 108]]\n"
     ]
    },
    {
     "data": {
      "image/png": "[encoded data removed]",
      "text/plain": [
       "<Figure size 640x480 with 2 Axes>"
      ]
     },
     "metadata": {},
     "output_type": "display_data"
    },
    {
     "data": {
      "text/html": [
       "<pre style=\"white-space:pre;overflow-x:auto;line-height:normal;font-family:Menlo,'DejaVu Sans Mono',consolas,'Courier New',monospace\">12:57:21.973 | <span style=\"color: #008080; text-decoration-color: #008080\">INFO</span>    | Task run 'confusion_matrix-976' - Task 'confusion_matrix' completed in 0.09 seconds\n",
       "</pre>\n"
      ],
      "text/plain": [
       "12:57:21.973 | \u001b[36mINFO\u001b[0m    | Task run 'confusion_matrix-976' - Task 'confusion_matrix' completed in 0.09 seconds\n"
      ]
     },
     "metadata": {},
     "output_type": "display_data"
    },
    {
     "data": {
      "text/html": [
       "<pre style=\"white-space:pre;overflow-x:auto;line-height:normal;font-family:Menlo,'DejaVu Sans Mono',consolas,'Courier New',monospace\">12:57:21.973 | <span style=\"color: #008080; text-decoration-color: #008080\">INFO</span>    | Task run 'confusion_matrix-976' - Finished in state <span style=\"color: #008000; text-decoration-color: #008000\">Completed</span>()\n",
       "</pre>\n"
      ],
      "text/plain": [
       "12:57:21.973 | \u001b[36mINFO\u001b[0m    | Task run 'confusion_matrix-976' - Finished in state \u001b[32mCompleted\u001b[0m()\n"
      ]
     },
     "metadata": {},
     "output_type": "display_data"
    },
    {
     "name": "stdout",
     "output_type": "stream",
     "text": [
      "Comparación de predicciones (primeras 5 filas):\n",
      "   feature_0  feature_1  feature_2  feature_3  feature_4  feature_5  \\\n",
      "0      11.67      20.02      75.21      416.2    0.10160    0.09453   \n",
      "1      11.94      18.24      75.71      437.6    0.08261    0.04751   \n",
      "2      19.16      26.60     126.20     1138.0    0.10200    0.14530   \n",
      "3      19.55      28.77     133.60     1207.0    0.09260    0.20630   \n",
      "4      12.47      18.60      81.09      481.9    0.09965    0.10580   \n",
      "\n",
      "   feature_6  feature_7  feature_8  feature_9  ...  feature_22  feature_23  \\\n",
      "0    0.04200    0.02157     0.1859    0.06461  ...       87.00       550.6   \n",
      "1    0.01972    0.01349     0.1868    0.06110  ...       83.67       527.2   \n",
      "2    0.19210    0.09664     0.1902    0.06220  ...      159.80      1724.0   \n",
      "3    0.17840    0.11440     0.1893    0.06232  ...      178.60      1926.0   \n",
      "4    0.08005    0.03821     0.1925    0.06373  ...       96.05       677.9   \n",
      "\n",
      "   feature_24  feature_25  feature_26  feature_27  feature_28  feature_29  \\\n",
      "0      0.1550     0.29640     0.27580     0.08120      0.3206     0.08950   \n",
      "1      0.1144     0.08906     0.09203     0.06296      0.2785     0.07408   \n",
      "2      0.1782     0.38410     0.57540     0.18720      0.3258     0.09720   \n",
      "3      0.1281     0.53290     0.42510     0.19410      0.2818     0.10050   \n",
      "4      0.1426     0.23780     0.26710     0.10150      0.3014     0.08750   \n",
      "\n",
      "   Actual  Predicción  \n",
      "0       1           1  \n",
      "1       1           1  \n",
      "2       0           0  \n",
      "3       0           0  \n",
      "4       1           1  \n",
      "\n",
      "[5 rows x 32 columns]\n",
      "Score sobre el conjunto de test: 1.000\n",
      "[0.97 1.   0.94 0.97 0.91]\n",
      "Desempeño promedio del kNN:\n",
      "0.9589915966386556\n",
      "Exactitud (accuracy) en prueba (testing) del kNN: 0.9415204678362573\n"
     ]
    },
    {
     "data": {
      "text/html": [
       "<pre style=\"white-space:pre;overflow-x:auto;line-height:normal;font-family:Menlo,'DejaVu Sans Mono',consolas,'Courier New',monospace\">12:57:22.024 | <span style=\"color: #008080; text-decoration-color: #008080\">INFO</span>    | Task run 'knn-78e' - Task 'knn' completed in 0.03 seconds\n",
       "</pre>\n"
      ],
      "text/plain": [
       "12:57:22.024 | \u001b[36mINFO\u001b[0m    | Task run 'knn-78e' - Task 'knn' completed in 0.03 seconds\n"
      ]
     },
     "metadata": {},
     "output_type": "display_data"
    },
    {
     "data": {
      "text/html": [
       "<pre style=\"white-space:pre;overflow-x:auto;line-height:normal;font-family:Menlo,'DejaVu Sans Mono',consolas,'Courier New',monospace\">12:57:22.039 | <span style=\"color: #008080; text-decoration-color: #008080\">INFO</span>    | Task run 'knn-78e' - Finished in state <span style=\"color: #008000; text-decoration-color: #008000\">Completed</span>()\n",
       "</pre>\n"
      ],
      "text/plain": [
       "12:57:22.039 | \u001b[36mINFO\u001b[0m    | Task run 'knn-78e' - Finished in state \u001b[32mCompleted\u001b[0m()\n"
      ]
     },
     "metadata": {},
     "output_type": "display_data"
    },
    {
     "name": "stdout",
     "output_type": "stream",
     "text": [
      "Visualización de desempeño con Matriz de Confusión:\n",
      "Confusion Matrix\n",
      "[[ 57   6]\n",
      " [  4 104]]\n"
     ]
    },
    {
     "data": {
      "image/png": "[encoded data removed]",
      "text/plain": [
       "<Figure size 640x480 with 2 Axes>"
      ]
     },
     "metadata": {},
     "output_type": "display_data"
    },
    {
     "data": {
      "text/html": [
       "<pre style=\"white-space:pre;overflow-x:auto;line-height:normal;font-family:Menlo,'DejaVu Sans Mono',consolas,'Courier New',monospace\">12:57:22.158 | <span style=\"color: #008080; text-decoration-color: #008080\">INFO</span>    | Task run 'confusion_matrix-509' - Task 'confusion_matrix' completed in 0.10 seconds\n",
       "</pre>\n"
      ],
      "text/plain": [
       "12:57:22.158 | \u001b[36mINFO\u001b[0m    | Task run 'confusion_matrix-509' - Task 'confusion_matrix' completed in 0.10 seconds\n"
      ]
     },
     "metadata": {},
     "output_type": "display_data"
    },
    {
     "data": {
      "text/html": [
       "<pre style=\"white-space:pre;overflow-x:auto;line-height:normal;font-family:Menlo,'DejaVu Sans Mono',consolas,'Courier New',monospace\">12:57:22.158 | <span style=\"color: #008080; text-decoration-color: #008080\">INFO</span>    | Task run 'confusion_matrix-509' - Finished in state <span style=\"color: #008000; text-decoration-color: #008000\">Completed</span>()\n",
       "</pre>\n"
      ],
      "text/plain": [
       "12:57:22.158 | \u001b[36mINFO\u001b[0m    | Task run 'confusion_matrix-509' - Finished in state \u001b[32mCompleted\u001b[0m()\n"
      ]
     },
     "metadata": {},
     "output_type": "display_data"
    },
    {
     "name": "stdout",
     "output_type": "stream",
     "text": [
      "Comparación de predicciones:\n",
      "   feature_0  feature_1  feature_2  feature_3  feature_4  feature_5  \\\n",
      "0      11.67      20.02      75.21      416.2    0.10160    0.09453   \n",
      "1      11.94      18.24      75.71      437.6    0.08261    0.04751   \n",
      "2      19.16      26.60     126.20     1138.0    0.10200    0.14530   \n",
      "3      19.55      28.77     133.60     1207.0    0.09260    0.20630   \n",
      "4      12.47      18.60      81.09      481.9    0.09965    0.10580   \n",
      "\n",
      "   feature_6  feature_7  feature_8  feature_9  ...  feature_22  feature_23  \\\n",
      "0    0.04200    0.02157     0.1859    0.06461  ...       87.00       550.6   \n",
      "1    0.01972    0.01349     0.1868    0.06110  ...       83.67       527.2   \n",
      "2    0.19210    0.09664     0.1902    0.06220  ...      159.80      1724.0   \n",
      "3    0.17840    0.11440     0.1893    0.06232  ...      178.60      1926.0   \n",
      "4    0.08005    0.03821     0.1925    0.06373  ...       96.05       677.9   \n",
      "\n",
      "   feature_24  feature_25  feature_26  feature_27  feature_28  feature_29  \\\n",
      "0      0.1550     0.29640     0.27580     0.08120      0.3206     0.08950   \n",
      "1      0.1144     0.08906     0.09203     0.06296      0.2785     0.07408   \n",
      "2      0.1782     0.38410     0.57540     0.18720      0.3258     0.09720   \n",
      "3      0.1281     0.53290     0.42510     0.19410      0.2818     0.10050   \n",
      "4      0.1426     0.23780     0.26710     0.10150      0.3014     0.08750   \n",
      "\n",
      "   Actual  Predicción  \n",
      "0       1           1  \n",
      "1       1           1  \n",
      "2       0           0  \n",
      "3       0           0  \n",
      "4       1           1  \n",
      "\n",
      "[5 rows x 32 columns]\n",
      "Score sobre el conjunto de test: 0.947\n",
      "[0.95 0.96 0.93 0.95 0.91]\n",
      "Desempeño promedio:\n",
      "0.9396518987341771\n",
      "Exactitud (accuracy) en prueba (testing): 0.9473684210526315\n"
     ]
    },
    {
     "data": {
      "text/html": [
       "<pre style=\"white-space:pre;overflow-x:auto;line-height:normal;font-family:Menlo,'DejaVu Sans Mono',consolas,'Courier New',monospace\">12:57:22.211 | <span style=\"color: #008080; text-decoration-color: #008080\">INFO</span>    | Task run 'knn_scaler-c3c' - Finished in state <span style=\"color: #008000; text-decoration-color: #008000\">Completed</span>()\n",
       "</pre>\n"
      ],
      "text/plain": [
       "12:57:22.211 | \u001b[36mINFO\u001b[0m    | Task run 'knn_scaler-c3c' - Finished in state \u001b[32mCompleted\u001b[0m()\n"
      ]
     },
     "metadata": {},
     "output_type": "display_data"
    },
    {
     "name": "stdout",
     "output_type": "stream",
     "text": [
      "Visualización de desempeño con Matriz de Confusión:\n",
      "Confusion Matrix\n",
      "[[ 63   0]\n",
      " [108   0]]\n"
     ]
    },
    {
     "data": {
      "image/png": "[encoded data removed]",
      "text/plain": [
       "<Figure size 640x480 with 2 Axes>"
      ]
     },
     "metadata": {},
     "output_type": "display_data"
    },
    {
     "data": {
      "text/html": [
       "<pre style=\"white-space:pre;overflow-x:auto;line-height:normal;font-family:Menlo,'DejaVu Sans Mono',consolas,'Courier New',monospace\">12:57:22.336 | <span style=\"color: #008080; text-decoration-color: #008080\">INFO</span>    | Task run 'confusion_matrix-5ab' - Task 'confusion_matrix' completed in 0.09 seconds\n",
       "</pre>\n"
      ],
      "text/plain": [
       "12:57:22.336 | \u001b[36mINFO\u001b[0m    | Task run 'confusion_matrix-5ab' - Task 'confusion_matrix' completed in 0.09 seconds\n"
      ]
     },
     "metadata": {},
     "output_type": "display_data"
    },
    {
     "data": {
      "text/html": [
       "<pre style=\"white-space:pre;overflow-x:auto;line-height:normal;font-family:Menlo,'DejaVu Sans Mono',consolas,'Courier New',monospace\">12:57:22.339 | <span style=\"color: #008080; text-decoration-color: #008080\">INFO</span>    | Task run 'confusion_matrix-5ab' - Finished in state <span style=\"color: #008000; text-decoration-color: #008000\">Completed</span>()\n",
       "</pre>\n"
      ],
      "text/plain": [
       "12:57:22.339 | \u001b[36mINFO\u001b[0m    | Task run 'confusion_matrix-5ab' - Finished in state \u001b[32mCompleted\u001b[0m()\n"
      ]
     },
     "metadata": {},
     "output_type": "display_data"
    },
    {
     "name": "stdout",
     "output_type": "stream",
     "text": [
      "Comparación de predicciones (primeras 5 filas):\n",
      "   feature_0  feature_1  feature_2  feature_3  feature_4  feature_5  \\\n",
      "0      11.67      20.02      75.21      416.2    0.10160    0.09453   \n",
      "1      11.94      18.24      75.71      437.6    0.08261    0.04751   \n",
      "2      19.16      26.60     126.20     1138.0    0.10200    0.14530   \n",
      "3      19.55      28.77     133.60     1207.0    0.09260    0.20630   \n",
      "4      12.47      18.60      81.09      481.9    0.09965    0.10580   \n",
      "\n",
      "   feature_6  feature_7  feature_8  feature_9  ...  feature_22  feature_23  \\\n",
      "0    0.04200    0.02157     0.1859    0.06461  ...       87.00       550.6   \n",
      "1    0.01972    0.01349     0.1868    0.06110  ...       83.67       527.2   \n",
      "2    0.19210    0.09664     0.1902    0.06220  ...      159.80      1724.0   \n",
      "3    0.17840    0.11440     0.1893    0.06232  ...      178.60      1926.0   \n",
      "4    0.08005    0.03821     0.1925    0.06373  ...       96.05       677.9   \n",
      "\n",
      "   feature_24  feature_25  feature_26  feature_27  feature_28  feature_29  \\\n",
      "0      0.1550     0.29640     0.27580     0.08120      0.3206     0.08950   \n",
      "1      0.1144     0.08906     0.09203     0.06296      0.2785     0.07408   \n",
      "2      0.1782     0.38410     0.57540     0.18720      0.3258     0.09720   \n",
      "3      0.1281     0.53290     0.42510     0.19410      0.2818     0.10050   \n",
      "4      0.1426     0.23780     0.26710     0.10150      0.3014     0.08750   \n",
      "\n",
      "   Actual  Predicción  \n",
      "0       1           1  \n",
      "1       1           1  \n",
      "2       0           0  \n",
      "3       0           0  \n",
      "4       1           1  \n",
      "\n",
      "[5 rows x 32 columns]\n",
      "Score de entrenamiento: 0.905\n",
      "Score de test: 0.924\n",
      "Scores de validación cruzada:\n",
      "[0.88 0.94 0.88 0.91 0.89]\n",
      "Desempeño promedio:\n",
      "0.896993670886076\n",
      "Accuracy en el testing: 0.9239766081871345\n"
     ]
    },
    {
     "data": {
      "text/html": [
       "<pre style=\"white-space:pre;overflow-x:auto;line-height:normal;font-family:Menlo,'DejaVu Sans Mono',consolas,'Courier New',monospace\">12:57:22.395 | <span style=\"color: #008080; text-decoration-color: #008080\">INFO</span>    | Task run 'svm-ae6' - Task 'svm' completed in 0.03 seconds\n",
       "</pre>\n"
      ],
      "text/plain": [
       "12:57:22.395 | \u001b[36mINFO\u001b[0m    | Task run 'svm-ae6' - Task 'svm' completed in 0.03 seconds\n"
      ]
     },
     "metadata": {},
     "output_type": "display_data"
    },
    {
     "data": {
      "text/html": [
       "<pre style=\"white-space:pre;overflow-x:auto;line-height:normal;font-family:Menlo,'DejaVu Sans Mono',consolas,'Courier New',monospace\">12:57:22.402 | <span style=\"color: #008080; text-decoration-color: #008080\">INFO</span>    | Task run 'svm-ae6' - Finished in state <span style=\"color: #008000; text-decoration-color: #008000\">Completed</span>()\n",
       "</pre>\n"
      ],
      "text/plain": [
       "12:57:22.402 | \u001b[36mINFO\u001b[0m    | Task run 'svm-ae6' - Finished in state \u001b[32mCompleted\u001b[0m()\n"
      ]
     },
     "metadata": {},
     "output_type": "display_data"
    },
    {
     "name": "stdout",
     "output_type": "stream",
     "text": [
      "Visualización de desempeño con Matriz de Confusión:\n",
      "Confusion Matrix\n",
      "[[ 50  13]\n",
      " [  0 108]]\n"
     ]
    },
    {
     "data": {
      "image/png": "[encoded data removed]",
      "text/plain": [
       "<Figure size 640x480 with 2 Axes>"
      ]
     },
     "metadata": {},
     "output_type": "display_data"
    },
    {
     "data": {
      "text/html": [
       "<pre style=\"white-space:pre;overflow-x:auto;line-height:normal;font-family:Menlo,'DejaVu Sans Mono',consolas,'Courier New',monospace\">12:57:22.511 | <span style=\"color: #008080; text-decoration-color: #008080\">INFO</span>    | Task run 'confusion_matrix-71d' - Task 'confusion_matrix' completed in 0.09 seconds\n",
       "</pre>\n"
      ],
      "text/plain": [
       "12:57:22.511 | \u001b[36mINFO\u001b[0m    | Task run 'confusion_matrix-71d' - Task 'confusion_matrix' completed in 0.09 seconds\n"
      ]
     },
     "metadata": {},
     "output_type": "display_data"
    },
    {
     "data": {
      "text/html": [
       "<pre style=\"white-space:pre;overflow-x:auto;line-height:normal;font-family:Menlo,'DejaVu Sans Mono',consolas,'Courier New',monospace\">12:57:22.514 | <span style=\"color: #008080; text-decoration-color: #008080\">INFO</span>    | Task run 'confusion_matrix-71d' - Finished in state <span style=\"color: #008000; text-decoration-color: #008000\">Completed</span>()\n",
       "</pre>\n"
      ],
      "text/plain": [
       "12:57:22.514 | \u001b[36mINFO\u001b[0m    | Task run 'confusion_matrix-71d' - Finished in state \u001b[32mCompleted\u001b[0m()\n"
      ]
     },
     "metadata": {},
     "output_type": "display_data"
    },
    {
     "name": "stdout",
     "output_type": "stream",
     "text": [
      "Comparación de predicciones (primeras 5 filas):\n",
      "   feature_0  feature_1  feature_2  feature_3  feature_4  feature_5  \\\n",
      "0      11.67      20.02      75.21      416.2    0.10160    0.09453   \n",
      "1      11.94      18.24      75.71      437.6    0.08261    0.04751   \n",
      "2      19.16      26.60     126.20     1138.0    0.10200    0.14530   \n",
      "3      19.55      28.77     133.60     1207.0    0.09260    0.20630   \n",
      "4      12.47      18.60      81.09      481.9    0.09965    0.10580   \n",
      "\n",
      "   feature_6  feature_7  feature_8  feature_9  ...  feature_22  feature_23  \\\n",
      "0    0.04200    0.02157     0.1859    0.06461  ...       87.00       550.6   \n",
      "1    0.01972    0.01349     0.1868    0.06110  ...       83.67       527.2   \n",
      "2    0.19210    0.09664     0.1902    0.06220  ...      159.80      1724.0   \n",
      "3    0.17840    0.11440     0.1893    0.06232  ...      178.60      1926.0   \n",
      "4    0.08005    0.03821     0.1925    0.06373  ...       96.05       677.9   \n",
      "\n",
      "   feature_24  feature_25  feature_26  feature_27  feature_28  feature_29  \\\n",
      "0      0.1550     0.29640     0.27580     0.08120      0.3206     0.08950   \n",
      "1      0.1144     0.08906     0.09203     0.06296      0.2785     0.07408   \n",
      "2      0.1782     0.38410     0.57540     0.18720      0.3258     0.09720   \n",
      "3      0.1281     0.53290     0.42510     0.19410      0.2818     0.10050   \n",
      "4      0.1426     0.23780     0.26710     0.10150      0.3014     0.08750   \n",
      "\n",
      "   Actual  Predicción  \n",
      "0       1           1  \n",
      "1       1           1  \n",
      "2       0           0  \n",
      "3       0           0  \n",
      "4       1           1  \n",
      "\n",
      "[5 rows x 32 columns]\n",
      "Score de entrenamiento: 0.987\n",
      "Score de test: 0.982\n",
      "Scores de validación cruzada:\n",
      "[0.96 0.97 0.97 0.97 0.94]\n",
      "Desempeño promedio:\n",
      "0.9647784810126583\n",
      "Accuracy en el testing: 0.9824561403508771\n"
     ]
    },
    {
     "data": {
      "text/html": [
       "<pre style=\"white-space:pre;overflow-x:auto;line-height:normal;font-family:Menlo,'DejaVu Sans Mono',consolas,'Courier New',monospace\">12:57:22.568 | <span style=\"color: #008080; text-decoration-color: #008080\">INFO</span>    | Task run 'svm_scaler-0a5' - Task 'svm_scaler' completed in 0.03 seconds\n",
       "</pre>\n"
      ],
      "text/plain": [
       "12:57:22.568 | \u001b[36mINFO\u001b[0m    | Task run 'svm_scaler-0a5' - Task 'svm_scaler' completed in 0.03 seconds\n"
      ]
     },
     "metadata": {},
     "output_type": "display_data"
    },
    {
     "data": {
      "text/html": [
       "<pre style=\"white-space:pre;overflow-x:auto;line-height:normal;font-family:Menlo,'DejaVu Sans Mono',consolas,'Courier New',monospace\">12:57:22.568 | <span style=\"color: #008080; text-decoration-color: #008080\">INFO</span>    | Task run 'svm_scaler-0a5' - Finished in state <span style=\"color: #008000; text-decoration-color: #008000\">Completed</span>()\n",
       "</pre>\n"
      ],
      "text/plain": [
       "12:57:22.568 | \u001b[36mINFO\u001b[0m    | Task run 'svm_scaler-0a5' - Finished in state \u001b[32mCompleted\u001b[0m()\n"
      ]
     },
     "metadata": {},
     "output_type": "display_data"
    },
    {
     "name": "stdout",
     "output_type": "stream",
     "text": [
      "Visualización de desempeño con Matriz de Confusión:\n",
      "Confusion Matrix\n",
      "[[ 63   0]\n",
      " [108   0]]\n"
     ]
    },
    {
     "data": {
      "image/png": "[encoded data removed]",
      "text/plain": [
       "<Figure size 640x480 with 2 Axes>"
      ]
     },
     "metadata": {},
     "output_type": "display_data"
    },
    {
     "data": {
      "text/html": [
       "<pre style=\"white-space:pre;overflow-x:auto;line-height:normal;font-family:Menlo,'DejaVu Sans Mono',consolas,'Courier New',monospace\">12:57:22.676 | <span style=\"color: #008080; text-decoration-color: #008080\">INFO</span>    | Task run 'confusion_matrix-54f' - Task 'confusion_matrix' completed in 0.08 seconds\n",
       "</pre>\n"
      ],
      "text/plain": [
       "12:57:22.676 | \u001b[36mINFO\u001b[0m    | Task run 'confusion_matrix-54f' - Task 'confusion_matrix' completed in 0.08 seconds\n"
      ]
     },
     "metadata": {},
     "output_type": "display_data"
    },
    {
     "data": {
      "text/html": [
       "<pre style=\"white-space:pre;overflow-x:auto;line-height:normal;font-family:Menlo,'DejaVu Sans Mono',consolas,'Courier New',monospace\">12:57:22.676 | <span style=\"color: #008080; text-decoration-color: #008080\">INFO</span>    | Task run 'confusion_matrix-54f' - Finished in state <span style=\"color: #008000; text-decoration-color: #008000\">Completed</span>()\n",
       "</pre>\n"
      ],
      "text/plain": [
       "12:57:22.676 | \u001b[36mINFO\u001b[0m    | Task run 'confusion_matrix-54f' - Finished in state \u001b[32mCompleted\u001b[0m()\n"
      ]
     },
     "metadata": {},
     "output_type": "display_data"
    },
    {
     "data": {
      "text/html": [
       "<pre style=\"white-space:pre;overflow-x:auto;line-height:normal;font-family:Menlo,'DejaVu Sans Mono',consolas,'Courier New',monospace\">12:57:22.711 | <span style=\"color: #008080; text-decoration-color: #008080\">INFO</span>    | Flow run<span style=\"color: #800080; text-decoration-color: #800080\"> 'naughty-dalmatian'</span> - Finished in state <span style=\"color: #008000; text-decoration-color: #008000\">Completed</span>()\n",
       "</pre>\n"
      ],
      "text/plain": [
       "12:57:22.711 | \u001b[36mINFO\u001b[0m    | Flow run\u001b[35m 'naughty-dalmatian'\u001b[0m - Finished in state \u001b[32mCompleted\u001b[0m()\n"
      ]
     },
     "metadata": {},
     "output_type": "display_data"
    }
   ],
   "source": [
    "@flow\n",
    "def cancer_flow():\n",
    "    dataset = cancer_dataset_retribution()\n",
    "    X_train, X_test, y_train, y_test = cancer_preprocessing(dataset)\n",
    "\n",
    "    class_names = ['0','1']\n",
    "\n",
    "    dtree_model, y_pred = decision_tree(X_train, X_test, y_train, y_test)\n",
    "    confusion_matrix(class_names, dtree_model, X_test, y_test)\n",
    "    classification_report(dtree_model, X_test, y_test, class_names)\n",
    "\n",
    "    rf_model =random_forest(X_train, X_test, y_train, y_test)\n",
    "    confusion_matrix(class_names, rf_model, X_test, y_test)\n",
    "    classification_report(dtree_model, X_test, y_test, class_names)\n",
    "\n",
    "    knn_model = knn(X_train, X_test, y_train, y_test)\n",
    "    confusion_matrix(class_names, knn_model, X_test, y_test)\n",
    "    classification_report(dtree_model, X_test, y_test, class_names)\n",
    "\n",
    "    knn_scaled = knn_scaler(X_train, X_test, y_train, y_test)\n",
    "    confusion_matrix(class_names, knn_scaled, X_test, y_test)\n",
    "    classification_report(dtree_model, X_test, y_test, class_names)\n",
    "\n",
    "    svm_class_model = svm(X_train, X_test, y_train, y_test)\n",
    "    confusion_matrix(class_names, svm_class_model, X_test, y_test)\n",
    "    classification_report(dtree_model, X_test, y_test, class_names)\n",
    "\n",
    "    svm_class_scaled = svm_scaler(X_train, X_test, y_train, y_test)\n",
    "    confusion_matrix(class_names, svm_class_scaled, X_test, y_test)\n",
    "    classification_report(dtree_model, X_test, y_test, class_names)\n",
    "cancer_flow()"
   ]
  },
  {
   "cell_type": "code",
   "execution_count": null,
   "id": "f1368fe9",
   "metadata": {},
   "outputs": [
    {
     "data": {
      "text/html": [
       "<pre style=\"white-space:pre;overflow-x:auto;line-height:normal;font-family:Menlo,'DejaVu Sans Mono',consolas,'Courier New',monospace\">12:57:22.806 | <span style=\"color: #008080; text-decoration-color: #008080\">INFO</span>    | Flow run<span style=\"color: #800080; text-decoration-color: #800080\"> 'strict-muskox'</span> - Beginning flow run<span style=\"color: #800080; text-decoration-color: #800080\"> 'strict-muskox'</span> for flow<span style=\"color: #800080; text-decoration-color: #800080; font-weight: bold\"> 'diabetes-flow'</span>\n",
       "</pre>\n"
      ],
      "text/plain": [
       "12:57:22.806 | \u001b[36mINFO\u001b[0m    | Flow run\u001b[35m 'strict-muskox'\u001b[0m - Beginning flow run\u001b[35m 'strict-muskox'\u001b[0m for flow\u001b[1;35m 'diabetes-flow'\u001b[0m\n"
      ]
     },
     "metadata": {},
     "output_type": "display_data"
    },
    {
     "name": "stdout",
     "output_type": "stream",
     "text": [
      "Dataset cargado exitosamente.\n",
      "   Embarazos  Glucosa  Presion Arterial  Grosor Piel  Insulina  \\\n",
      "0          1       85                66           29         0   \n",
      "1          8      183                64            0         0   \n",
      "2          1       89                66           23        94   \n",
      "3          0      137                40           35       168   \n",
      "4          5      116                74            0         0   \n",
      "\n",
      "   Indice Masa Corporal  Función de Pedigree  Edad  Etiqueta  \n",
      "0                  26.6                0.351    31         0  \n",
      "1                  23.3                0.672    32         1  \n",
      "2                  28.1                0.167    21         0  \n",
      "3                  43.1                2.288    33         1  \n",
      "4                  25.6                0.201    30         0  \n"
     ]
    },
    {
     "data": {
      "text/html": [
       "<pre style=\"white-space:pre;overflow-x:auto;line-height:normal;font-family:Menlo,'DejaVu Sans Mono',consolas,'Courier New',monospace\">12:58:05.030 | <span style=\"color: #008080; text-decoration-color: #008080\">INFO</span>    | Task run 'diabetes_dataset_retribution-1a6' - Task 'diabetes_dataset_retribution' completed in 42.20 seconds\n",
       "</pre>\n"
      ],
      "text/plain": [
       "12:58:05.030 | \u001b[36mINFO\u001b[0m    | Task run 'diabetes_dataset_retribution-1a6' - Task 'diabetes_dataset_retribution' completed in 42.20 seconds\n"
      ]
     },
     "metadata": {},
     "output_type": "display_data"
    },
    {
     "data": {
      "text/html": [
       "<pre style=\"white-space:pre;overflow-x:auto;line-height:normal;font-family:Menlo,'DejaVu Sans Mono',consolas,'Courier New',monospace\">12:58:05.035 | <span style=\"color: #008080; text-decoration-color: #008080\">INFO</span>    | Task run 'diabetes_dataset_retribution-1a6' - Finished in state <span style=\"color: #008000; text-decoration-color: #008000\">Completed</span>()\n",
       "</pre>\n"
      ],
      "text/plain": [
       "12:58:05.035 | \u001b[36mINFO\u001b[0m    | Task run 'diabetes_dataset_retribution-1a6' - Finished in state \u001b[32mCompleted\u001b[0m()\n"
      ]
     },
     "metadata": {},
     "output_type": "display_data"
    },
    {
     "name": "stdout",
     "output_type": "stream",
     "text": [
      "Tamaño de X_train: (536, 7)\n",
      "Tamaño de y_train: (536,)\n",
      "Tamaño de X_test: (231, 7)\n",
      "Tamaño de y_test: (231,)\n"
     ]
    },
    {
     "data": {
      "text/html": [
       "<pre style=\"white-space:pre;overflow-x:auto;line-height:normal;font-family:Menlo,'DejaVu Sans Mono',consolas,'Courier New',monospace\">12:58:05.057 | <span style=\"color: #008080; text-decoration-color: #008080\">INFO</span>    | Task run 'diabetes_preprocessing-859' - Task 'diabetes_preprocessing' completed in 0.00 seconds\n",
       "</pre>\n"
      ],
      "text/plain": [
       "12:58:05.057 | \u001b[36mINFO\u001b[0m    | Task run 'diabetes_preprocessing-859' - Task 'diabetes_preprocessing' completed in 0.00 seconds\n"
      ]
     },
     "metadata": {},
     "output_type": "display_data"
    },
    {
     "data": {
      "text/html": [
       "<pre style=\"white-space:pre;overflow-x:auto;line-height:normal;font-family:Menlo,'DejaVu Sans Mono',consolas,'Courier New',monospace\">12:58:05.063 | <span style=\"color: #008080; text-decoration-color: #008080\">INFO</span>    | Task run 'diabetes_preprocessing-859' - Finished in state <span style=\"color: #008000; text-decoration-color: #008000\">Completed</span>()\n",
       "</pre>\n"
      ],
      "text/plain": [
       "12:58:05.063 | \u001b[36mINFO\u001b[0m    | Task run 'diabetes_preprocessing-859' - Finished in state \u001b[32mCompleted\u001b[0m()\n"
      ]
     },
     "metadata": {},
     "output_type": "display_data"
    },
    {
     "name": "stdout",
     "output_type": "stream",
     "text": [
      "Comparación de predicciones (primeras 5 filas):\n",
      "     Embarazos  Insulina  Indice Masa Corporal  Edad  Glucosa  \\\n",
      "285          5       545                  38.7    34      155   \n",
      "101          0         0                  22.5    21      125   \n",
      "581         12         0                  26.5    62      121   \n",
      "352          1        43                  27.2    24       90   \n",
      "632          1       183                  27.5    22      128   \n",
      "\n",
      "     Presion Arterial  Función de Pedigree  Etiqueta  Predicción  \n",
      "285                84                0.619         0           1  \n",
      "101                96                0.262         0           0  \n",
      "581                78                0.259         0           1  \n",
      "352                62                0.580         0           0  \n",
      "632                82                0.115         0           0  \n",
      "Resultados de la validación cruzada en decision tree:  [0.71 0.72 0.66 0.78 0.7 ]\n",
      "Resultado promedio de la validación cruzada en decision tree: 0.7145552094150225\n",
      "Exactitud (accuracy) en prueba (testing) del decision tree: 0.7229437229437229\n"
     ]
    },
    {
     "data": {
      "text/html": [
       "<pre style=\"white-space:pre;overflow-x:auto;line-height:normal;font-family:Menlo,'DejaVu Sans Mono',consolas,'Courier New',monospace\">12:58:05.120 | <span style=\"color: #008080; text-decoration-color: #008080\">INFO</span>    | Task run 'decision_tree-755' - Task 'decision_tree' completed in 0.03 seconds\n",
       "</pre>\n"
      ],
      "text/plain": [
       "12:58:05.120 | \u001b[36mINFO\u001b[0m    | Task run 'decision_tree-755' - Task 'decision_tree' completed in 0.03 seconds\n"
      ]
     },
     "metadata": {},
     "output_type": "display_data"
    },
    {
     "data": {
      "text/html": [
       "<pre style=\"white-space:pre;overflow-x:auto;line-height:normal;font-family:Menlo,'DejaVu Sans Mono',consolas,'Courier New',monospace\">12:58:05.125 | <span style=\"color: #008080; text-decoration-color: #008080\">INFO</span>    | Task run 'decision_tree-755' - Finished in state <span style=\"color: #008000; text-decoration-color: #008000\">Completed</span>()\n",
       "</pre>\n"
      ],
      "text/plain": [
       "12:58:05.125 | \u001b[36mINFO\u001b[0m    | Task run 'decision_tree-755' - Finished in state \u001b[32mCompleted\u001b[0m()\n"
      ]
     },
     "metadata": {},
     "output_type": "display_data"
    },
    {
     "name": "stdout",
     "output_type": "stream",
     "text": [
      "0.6979798855557481\n"
     ]
    },
    {
     "data": {
      "text/html": [
       "<pre style=\"white-space:pre;overflow-x:auto;line-height:normal;font-family:Menlo,'DejaVu Sans Mono',consolas,'Courier New',monospace\">12:58:05.159 | <span style=\"color: #008080; text-decoration-color: #008080\">INFO</span>    | Task run 'roc_curve_analysis-8e3' - Task 'roc_curve_analysis' completed in 0.01 seconds\n",
       "</pre>\n"
      ],
      "text/plain": [
       "12:58:05.159 | \u001b[36mINFO\u001b[0m    | Task run 'roc_curve_analysis-8e3' - Task 'roc_curve_analysis' completed in 0.01 seconds\n"
      ]
     },
     "metadata": {},
     "output_type": "display_data"
    },
    {
     "data": {
      "text/html": [
       "<pre style=\"white-space:pre;overflow-x:auto;line-height:normal;font-family:Menlo,'DejaVu Sans Mono',consolas,'Courier New',monospace\">12:58:05.164 | <span style=\"color: #008080; text-decoration-color: #008080\">INFO</span>    | Task run 'roc_curve_analysis-8e3' - Finished in state <span style=\"color: #008000; text-decoration-color: #008000\">Completed</span>()\n",
       "</pre>\n"
      ],
      "text/plain": [
       "12:58:05.164 | \u001b[36mINFO\u001b[0m    | Task run 'roc_curve_analysis-8e3' - Finished in state \u001b[32mCompleted\u001b[0m()\n"
      ]
     },
     "metadata": {},
     "output_type": "display_data"
    },
    {
     "name": "stdout",
     "output_type": "stream",
     "text": [
      "Visualización de desempeño con Matriz de Confusión:\n",
      "Confusion Matrix\n",
      "[[121  37]\n",
      " [ 27  46]]\n"
     ]
    },
    {
     "data": {
      "image/png": "[encoded data removed]",
      "text/plain": [
       "<Figure size 640x480 with 1 Axes>"
      ]
     },
     "metadata": {},
     "output_type": "display_data"
    },
    {
     "data": {
      "image/png": "[encoded data removed]",
      "text/plain": [
       "<Figure size 640x480 with 2 Axes>"
      ]
     },
     "metadata": {},
     "output_type": "display_data"
    },
    {
     "data": {
      "text/html": [
       "<pre style=\"white-space:pre;overflow-x:auto;line-height:normal;font-family:Menlo,'DejaVu Sans Mono',consolas,'Courier New',monospace\">12:58:05.364 | <span style=\"color: #008080; text-decoration-color: #008080\">INFO</span>    | Task run 'confusion_matrix-b64' - Task 'confusion_matrix' completed in 0.18 seconds\n",
       "</pre>\n"
      ],
      "text/plain": [
       "12:58:05.364 | \u001b[36mINFO\u001b[0m    | Task run 'confusion_matrix-b64' - Task 'confusion_matrix' completed in 0.18 seconds\n"
      ]
     },
     "metadata": {},
     "output_type": "display_data"
    },
    {
     "data": {
      "text/html": [
       "<pre style=\"white-space:pre;overflow-x:auto;line-height:normal;font-family:Menlo,'DejaVu Sans Mono',consolas,'Courier New',monospace\">12:58:05.368 | <span style=\"color: #008080; text-decoration-color: #008080\">INFO</span>    | Task run 'confusion_matrix-b64' - Finished in state <span style=\"color: #008000; text-decoration-color: #008000\">Completed</span>()\n",
       "</pre>\n"
      ],
      "text/plain": [
       "12:58:05.368 | \u001b[36mINFO\u001b[0m    | Task run 'confusion_matrix-b64' - Finished in state \u001b[32mCompleted\u001b[0m()\n"
      ]
     },
     "metadata": {},
     "output_type": "display_data"
    },
    {
     "name": "stdout",
     "output_type": "stream",
     "text": [
      "Random Forest Accuracy: 0.7706\n"
     ]
    },
    {
     "data": {
      "text/html": [
       "<pre style=\"white-space:pre;overflow-x:auto;line-height:normal;font-family:Menlo,'DejaVu Sans Mono',consolas,'Courier New',monospace\">12:58:05.549 | <span style=\"color: #008080; text-decoration-color: #008080\">INFO</span>    | Task run 'random_forest-4c1' - Task 'random_forest' completed in 0.16 seconds\n",
       "</pre>\n"
      ],
      "text/plain": [
       "12:58:05.549 | \u001b[36mINFO\u001b[0m    | Task run 'random_forest-4c1' - Task 'random_forest' completed in 0.16 seconds\n"
      ]
     },
     "metadata": {},
     "output_type": "display_data"
    },
    {
     "data": {
      "text/html": [
       "<pre style=\"white-space:pre;overflow-x:auto;line-height:normal;font-family:Menlo,'DejaVu Sans Mono',consolas,'Courier New',monospace\">12:58:05.555 | <span style=\"color: #008080; text-decoration-color: #008080\">INFO</span>    | Task run 'random_forest-4c1' - Finished in state <span style=\"color: #008000; text-decoration-color: #008000\">Completed</span>()\n",
       "</pre>\n"
      ],
      "text/plain": [
       "12:58:05.555 | \u001b[36mINFO\u001b[0m    | Task run 'random_forest-4c1' - Finished in state \u001b[32mCompleted\u001b[0m()\n"
      ]
     },
     "metadata": {},
     "output_type": "display_data"
    },
    {
     "name": "stdout",
     "output_type": "stream",
     "text": [
      "Visualización de desempeño con Matriz de Confusión:\n",
      "Confusion Matrix\n",
      "[[134  24]\n",
      " [ 29  44]]\n"
     ]
    },
    {
     "data": {
      "image/png": "[encoded data removed]",
      "text/plain": [
       "<Figure size 640x480 with 2 Axes>"
      ]
     },
     "metadata": {},
     "output_type": "display_data"
    },
    {
     "data": {
      "text/html": [
       "<pre style=\"white-space:pre;overflow-x:auto;line-height:normal;font-family:Menlo,'DejaVu Sans Mono',consolas,'Courier New',monospace\">12:58:05.694 | <span style=\"color: #008080; text-decoration-color: #008080\">INFO</span>    | Task run 'confusion_matrix-f2a' - Task 'confusion_matrix' completed in 0.10 seconds\n",
       "</pre>\n"
      ],
      "text/plain": [
       "12:58:05.694 | \u001b[36mINFO\u001b[0m    | Task run 'confusion_matrix-f2a' - Task 'confusion_matrix' completed in 0.10 seconds\n"
      ]
     },
     "metadata": {},
     "output_type": "display_data"
    },
    {
     "data": {
      "text/html": [
       "<pre style=\"white-space:pre;overflow-x:auto;line-height:normal;font-family:Menlo,'DejaVu Sans Mono',consolas,'Courier New',monospace\">12:58:05.695 | <span style=\"color: #008080; text-decoration-color: #008080\">INFO</span>    | Task run 'confusion_matrix-f2a' - Finished in state <span style=\"color: #008000; text-decoration-color: #008000\">Completed</span>()\n",
       "</pre>\n"
      ],
      "text/plain": [
       "12:58:05.695 | \u001b[36mINFO\u001b[0m    | Task run 'confusion_matrix-f2a' - Finished in state \u001b[32mCompleted\u001b[0m()\n"
      ]
     },
     "metadata": {},
     "output_type": "display_data"
    },
    {
     "name": "stdout",
     "output_type": "stream",
     "text": [
      "Comparación de predicciones (primeras 5 filas):\n",
      "     Embarazos  Insulina  Indice Masa Corporal  Edad  Glucosa  \\\n",
      "285          5       545                  38.7    34      155   \n",
      "101          0         0                  22.5    21      125   \n",
      "581         12         0                  26.5    62      121   \n",
      "352          1        43                  27.2    24       90   \n",
      "632          1       183                  27.5    22      128   \n",
      "\n",
      "     Presion Arterial  Función de Pedigree  Etiqueta  Predicción  \n",
      "285                84                0.619         0           1  \n",
      "101                96                0.262         0           0  \n",
      "581                78                0.259         0           0  \n",
      "352                62                0.580         0           0  \n",
      "632                82                0.115         0           0  \n",
      "Score sobre el conjunto de test: 1.000\n",
      "[0.72 0.63 0.65 0.59 0.67]\n",
      "Desempeño promedio del kNN:\n",
      "0.6533765032377429\n",
      "Exactitud (accuracy) en prueba (testing) del kNN: 0.6883116883116883\n"
     ]
    },
    {
     "data": {
      "text/html": [
       "<pre style=\"white-space:pre;overflow-x:auto;line-height:normal;font-family:Menlo,'DejaVu Sans Mono',consolas,'Courier New',monospace\">12:58:05.757 | <span style=\"color: #008080; text-decoration-color: #008080\">INFO</span>    | Task run 'knn-6b2' - Task 'knn' completed in 0.03 seconds\n",
       "</pre>\n"
      ],
      "text/plain": [
       "12:58:05.757 | \u001b[36mINFO\u001b[0m    | Task run 'knn-6b2' - Task 'knn' completed in 0.03 seconds\n"
      ]
     },
     "metadata": {},
     "output_type": "display_data"
    },
    {
     "data": {
      "text/html": [
       "<pre style=\"white-space:pre;overflow-x:auto;line-height:normal;font-family:Menlo,'DejaVu Sans Mono',consolas,'Courier New',monospace\">12:58:05.762 | <span style=\"color: #008080; text-decoration-color: #008080\">INFO</span>    | Task run 'knn-6b2' - Finished in state <span style=\"color: #008000; text-decoration-color: #008000\">Completed</span>()\n",
       "</pre>\n"
      ],
      "text/plain": [
       "12:58:05.762 | \u001b[36mINFO\u001b[0m    | Task run 'knn-6b2' - Finished in state \u001b[32mCompleted\u001b[0m()\n"
      ]
     },
     "metadata": {},
     "output_type": "display_data"
    },
    {
     "name": "stdout",
     "output_type": "stream",
     "text": [
      "Visualización de desempeño con Matriz de Confusión:\n",
      "Confusion Matrix\n",
      "[[117  41]\n",
      " [ 31  42]]\n"
     ]
    },
    {
     "data": {
      "image/png": "[encoded data removed]",
      "text/plain": [
       "<Figure size 640x480 with 2 Axes>"
      ]
     },
     "metadata": {},
     "output_type": "display_data"
    },
    {
     "data": {
      "text/html": [
       "<pre style=\"white-space:pre;overflow-x:auto;line-height:normal;font-family:Menlo,'DejaVu Sans Mono',consolas,'Courier New',monospace\">12:58:05.888 | <span style=\"color: #008080; text-decoration-color: #008080\">INFO</span>    | Task run 'confusion_matrix-8b3' - Task 'confusion_matrix' completed in 0.10 seconds\n",
       "</pre>\n"
      ],
      "text/plain": [
       "12:58:05.888 | \u001b[36mINFO\u001b[0m    | Task run 'confusion_matrix-8b3' - Task 'confusion_matrix' completed in 0.10 seconds\n"
      ]
     },
     "metadata": {},
     "output_type": "display_data"
    },
    {
     "data": {
      "text/html": [
       "<pre style=\"white-space:pre;overflow-x:auto;line-height:normal;font-family:Menlo,'DejaVu Sans Mono',consolas,'Courier New',monospace\">12:58:05.896 | <span style=\"color: #008080; text-decoration-color: #008080\">INFO</span>    | Task run 'confusion_matrix-8b3' - Finished in state <span style=\"color: #008000; text-decoration-color: #008000\">Completed</span>()\n",
       "</pre>\n"
      ],
      "text/plain": [
       "12:58:05.896 | \u001b[36mINFO\u001b[0m    | Task run 'confusion_matrix-8b3' - Finished in state \u001b[32mCompleted\u001b[0m()\n"
      ]
     },
     "metadata": {},
     "output_type": "display_data"
    },
    {
     "name": "stdout",
     "output_type": "stream",
     "text": [
      "Comparación de predicciones:\n",
      "     Embarazos  Insulina  Indice Masa Corporal  Edad  Glucosa  \\\n",
      "285          5       545                  38.7    34      155   \n",
      "101          0         0                  22.5    21      125   \n",
      "581         12         0                  26.5    62      121   \n",
      "352          1        43                  27.2    24       90   \n",
      "632          1       183                  27.5    22      128   \n",
      "\n",
      "     Presion Arterial  Función de Pedigree  Etiqueta  Predicción  \n",
      "285                84                0.619         0           0  \n",
      "101                96                0.262         0           0  \n",
      "581                78                0.259         0           0  \n",
      "352                62                0.580         0           0  \n",
      "632                82                0.115         0           0  \n",
      "Score sobre el conjunto de test: 0.710\n",
      "[0.76 0.71 0.74 0.7  0.69]\n",
      "Desempeño promedio:\n",
      "0.7200761509172724\n",
      "Exactitud (accuracy) en prueba (testing): 0.70995670995671\n"
     ]
    },
    {
     "data": {
      "text/html": [
       "<pre style=\"white-space:pre;overflow-x:auto;line-height:normal;font-family:Menlo,'DejaVu Sans Mono',consolas,'Courier New',monospace\">12:58:05.975 | <span style=\"color: #008080; text-decoration-color: #008080\">INFO</span>    | Task run 'knn_scaler-407' - Finished in state <span style=\"color: #008000; text-decoration-color: #008000\">Completed</span>()\n",
       "</pre>\n"
      ],
      "text/plain": [
       "12:58:05.975 | \u001b[36mINFO\u001b[0m    | Task run 'knn_scaler-407' - Finished in state \u001b[32mCompleted\u001b[0m()\n"
      ]
     },
     "metadata": {},
     "output_type": "display_data"
    },
    {
     "name": "stdout",
     "output_type": "stream",
     "text": [
      "Comparación de predicciones (primeras 5 filas):\n",
      "     Embarazos  Insulina  Indice Masa Corporal  Edad  Glucosa  \\\n",
      "285          5       545                  38.7    34      155   \n",
      "101          0         0                  22.5    21      125   \n",
      "581         12         0                  26.5    62      121   \n",
      "352          1        43                  27.2    24       90   \n",
      "632          1       183                  27.5    22      128   \n",
      "\n",
      "     Presion Arterial  Función de Pedigree  Etiqueta  Predicción  \n",
      "285                84                0.619         0           1  \n",
      "101                96                0.262         0           0  \n",
      "581                78                0.259         0           0  \n",
      "352                62                0.580         0           0  \n",
      "632                82                0.115         0           0  \n",
      "Score de entrenamiento: 0.757\n",
      "Score de test: 0.784\n",
      "Scores de validación cruzada:\n",
      "[0.75 0.76 0.76 0.72 0.72]\n",
      "Desempeño promedio:\n",
      "0.7406542056074766\n",
      "Accuracy en el testing: 0.7835497835497836\n"
     ]
    },
    {
     "data": {
      "text/html": [
       "<pre style=\"white-space:pre;overflow-x:auto;line-height:normal;font-family:Menlo,'DejaVu Sans Mono',consolas,'Courier New',monospace\">12:58:06.081 | <span style=\"color: #008080; text-decoration-color: #008080\">INFO</span>    | Task run 'svm-953' - Task 'svm' completed in 0.08 seconds\n",
       "</pre>\n"
      ],
      "text/plain": [
       "12:58:06.081 | \u001b[36mINFO\u001b[0m    | Task run 'svm-953' - Task 'svm' completed in 0.08 seconds\n"
      ]
     },
     "metadata": {},
     "output_type": "display_data"
    },
    {
     "data": {
      "text/html": [
       "<pre style=\"white-space:pre;overflow-x:auto;line-height:normal;font-family:Menlo,'DejaVu Sans Mono',consolas,'Courier New',monospace\">12:58:06.087 | <span style=\"color: #008080; text-decoration-color: #008080\">INFO</span>    | Task run 'svm-953' - Finished in state <span style=\"color: #008000; text-decoration-color: #008000\">Completed</span>()\n",
       "</pre>\n"
      ],
      "text/plain": [
       "12:58:06.087 | \u001b[36mINFO\u001b[0m    | Task run 'svm-953' - Finished in state \u001b[32mCompleted\u001b[0m()\n"
      ]
     },
     "metadata": {},
     "output_type": "display_data"
    },
    {
     "name": "stdout",
     "output_type": "stream",
     "text": [
      "Visualización de desempeño con Matriz de Confusión:\n",
      "Confusion Matrix\n",
      "[[148  10]\n",
      " [ 40  33]]\n"
     ]
    },
    {
     "data": {
      "image/png": "[encoded data removed]",
      "text/plain": [
       "<Figure size 640x480 with 2 Axes>"
      ]
     },
     "metadata": {},
     "output_type": "display_data"
    },
    {
     "data": {
      "text/html": [
       "<pre style=\"white-space:pre;overflow-x:auto;line-height:normal;font-family:Menlo,'DejaVu Sans Mono',consolas,'Courier New',monospace\">12:58:06.225 | <span style=\"color: #008080; text-decoration-color: #008080\">INFO</span>    | Task run 'confusion_matrix-c5a' - Task 'confusion_matrix' completed in 0.11 seconds\n",
       "</pre>\n"
      ],
      "text/plain": [
       "12:58:06.225 | \u001b[36mINFO\u001b[0m    | Task run 'confusion_matrix-c5a' - Task 'confusion_matrix' completed in 0.11 seconds\n"
      ]
     },
     "metadata": {},
     "output_type": "display_data"
    },
    {
     "data": {
      "text/html": [
       "<pre style=\"white-space:pre;overflow-x:auto;line-height:normal;font-family:Menlo,'DejaVu Sans Mono',consolas,'Courier New',monospace\">12:58:06.230 | <span style=\"color: #008080; text-decoration-color: #008080\">INFO</span>    | Task run 'confusion_matrix-c5a' - Finished in state <span style=\"color: #008000; text-decoration-color: #008000\">Completed</span>()\n",
       "</pre>\n"
      ],
      "text/plain": [
       "12:58:06.230 | \u001b[36mINFO\u001b[0m    | Task run 'confusion_matrix-c5a' - Finished in state \u001b[32mCompleted\u001b[0m()\n"
      ]
     },
     "metadata": {},
     "output_type": "display_data"
    },
    {
     "name": "stdout",
     "output_type": "stream",
     "text": [
      "Comparación de predicciones (primeras 5 filas):\n",
      "     Embarazos  Insulina  Indice Masa Corporal  Edad  Glucosa  \\\n",
      "285          5       545                  38.7    34      155   \n",
      "101          0         0                  22.5    21      125   \n",
      "581         12         0                  26.5    62      121   \n",
      "352          1        43                  27.2    24       90   \n",
      "632          1       183                  27.5    22      128   \n",
      "\n",
      "     Presion Arterial  Función de Pedigree  Etiqueta  Predicción  \n",
      "285                84                0.619         0           1  \n",
      "101                96                0.262         0           0  \n",
      "581                78                0.259         0           0  \n",
      "352                62                0.580         0           0  \n",
      "632                82                0.115         0           0  \n",
      "Score de entrenamiento: 0.821\n",
      "Score de test: 0.736\n",
      "Scores de validación cruzada:\n",
      "[0.82 0.77 0.79 0.76 0.78]\n",
      "Desempeño promedio:\n",
      "0.7816372447213569\n",
      "Accuracy en el testing: 0.7359307359307359\n"
     ]
    },
    {
     "data": {
      "text/html": [
       "<pre style=\"white-space:pre;overflow-x:auto;line-height:normal;font-family:Menlo,'DejaVu Sans Mono',consolas,'Courier New',monospace\">12:58:06.321 | <span style=\"color: #008080; text-decoration-color: #008080\">INFO</span>    | Task run 'svm_scaler-552' - Task 'svm_scaler' completed in 0.07 seconds\n",
       "</pre>\n"
      ],
      "text/plain": [
       "12:58:06.321 | \u001b[36mINFO\u001b[0m    | Task run 'svm_scaler-552' - Task 'svm_scaler' completed in 0.07 seconds\n"
      ]
     },
     "metadata": {},
     "output_type": "display_data"
    },
    {
     "data": {
      "text/html": [
       "<pre style=\"white-space:pre;overflow-x:auto;line-height:normal;font-family:Menlo,'DejaVu Sans Mono',consolas,'Courier New',monospace\">12:58:06.327 | <span style=\"color: #008080; text-decoration-color: #008080\">INFO</span>    | Task run 'svm_scaler-552' - Finished in state <span style=\"color: #008000; text-decoration-color: #008000\">Completed</span>()\n",
       "</pre>\n"
      ],
      "text/plain": [
       "12:58:06.327 | \u001b[36mINFO\u001b[0m    | Task run 'svm_scaler-552' - Finished in state \u001b[32mCompleted\u001b[0m()\n"
      ]
     },
     "metadata": {},
     "output_type": "display_data"
    },
    {
     "data": {
      "text/html": [
       "<pre style=\"white-space:pre;overflow-x:auto;line-height:normal;font-family:Menlo,'DejaVu Sans Mono',consolas,'Courier New',monospace\">12:58:06.347 | <span style=\"color: #008080; text-decoration-color: #008080\">INFO</span>    | Flow run<span style=\"color: #800080; text-decoration-color: #800080\"> 'strict-muskox'</span> - Finished in state <span style=\"color: #008000; text-decoration-color: #008000\">Completed</span>()\n",
       "</pre>\n"
      ],
      "text/plain": [
       "12:58:06.347 | \u001b[36mINFO\u001b[0m    | Flow run\u001b[35m 'strict-muskox'\u001b[0m - Finished in state \u001b[32mCompleted\u001b[0m()\n"
      ]
     },
     "metadata": {},
     "output_type": "display_data"
    }
   ],
   "source": [
    "@flow\n",
    "def diabetes_flow():\n",
    "    dataset = diabetes_dataset_retribution()\n",
    "    X_train, X_test, y_train, y_test = diabetes_preprocessing(dataset)\n",
    "\n",
    "    class_names = ['0','1']\n",
    "\n",
    "    dtree_model, y_pred = decision_tree(X_train, X_test, y_train, y_test)\n",
    "    roc_curve_analysis(dtree_model, X_test, y_test, y_pred)\n",
    "    confusion_matrix(class_names, dtree_model, X_test, y_test)\n",
    "    classification_report(dtree_model, X_test, y_test, class_names)\n",
    "\n",
    "    rf_model =random_forest(X_train, X_test, y_train, y_test)\n",
    "    confusion_matrix(class_names, rf_model, X_test, y_test)\n",
    "    classification_report(dtree_model, X_test, y_test, class_names)\n",
    "\n",
    "    knn_model = knn(X_train, X_test, y_train, y_test)\n",
    "    confusion_matrix(class_names, knn_model, X_test, y_test)\n",
    "    classification_report(dtree_model, X_test, y_test, class_names)\n",
    "\n",
    "    knn_scaler(X_train, X_test, y_train, y_test)\n",
    "\n",
    "    svm_class_model = svm(X_train, X_test, y_train, y_test)\n",
    "    confusion_matrix(class_names, svm_class_model, X_test, y_test)\n",
    "    classification_report(dtree_model, X_test, y_test, class_names)\n",
    "\n",
    "    svm_scaler(X_train, X_test, y_train, y_test)\n",
    "    \n",
    "diabetes_flow()"
   ]
  }
 ],
 "metadata": {
  "kernelspec": {
   "display_name": "bigdata_sql",
   "language": "python",
   "name": "python3"
  },
  "language_info": {
   "codemirror_mode": {
    "name": "ipython",
    "version": 3
   },
   "file_extension": ".py",
   "mimetype": "text/x-python",
   "name": "python",
   "nbconvert_exporter": "python",
   "pygments_lexer": "ipython3",
   "version": "3.11.13"
  }
 },
 "nbformat": 4,
 "nbformat_minor": 5
}

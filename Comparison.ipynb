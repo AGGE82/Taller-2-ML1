{
 "cells": [
  {
   "cell_type": "markdown",
   "id": "f52aaab6",
   "metadata": {},
   "source": [
    "## DIABETES.csv\n"
   ]
  },
  {
   "cell_type": "code",
   "execution_count": 71,
   "id": "d03a4536",
   "metadata": {},
   "outputs": [],
   "source": [
    "import pandas as pd\n",
    "import numpy as np\n",
    "import requests\n",
    "import time\n",
    "import matplotlib.pyplot as plt\n",
    "\n",
    "from sklearn.ensemble import RandomForestClassifier \n",
    "from sklearn.metrics import accuracy_score, ConfusionMatrixDisplay\n",
    "from prefect import flow, task, get_run_logger\n",
    "from typing import Callable\n",
    "from functools import wraps\n",
    "from io import StringIO\n",
    "from sklearn.tree import DecisionTreeClassifier \n",
    "from sklearn.model_selection import train_test_split \n",
    "from sklearn.model_selection import cross_val_score\n",
    "from sklearn.neighbors import KNeighborsClassifier\n",
    "from sklearn import metrics \n",
    "from sklearn.preprocessing import StandardScaler\n",
    "from sklearn.svm import SVC\n",
    "from sklearn import datasets\n",
    "\n",
    "# Para representar el árbol de decisión\n",
    "from six import StringIO  # Capa de compatibilidad entre Python 2 y Python 3\n",
    "from sklearn.tree import export_graphviz # Visualización de árboles de decisión\n",
    "from IPython.display import Image # Módulo de gestión de imágenes digitales \n",
    "import pydotplus # Envoltorio mejorado del lenguaje \"dot\" de graphviz "
   ]
  },
  {
   "cell_type": "code",
   "execution_count": 72,
   "id": "6bbf9bb7",
   "metadata": {},
   "outputs": [],
   "source": [
    "def timing_decorator(func: Callable) -> Callable:\n",
    "    '''Custom decorator to time task execution'''\n",
    "    @wraps(func)\n",
    "    def wrapper(*args, **kwargs):\n",
    "        logger = get_run_logger()\n",
    "        start_time = time.time()\n",
    "\n",
    "        # Execute the original function\n",
    "        result = func(*args, **kwargs)\n",
    "\n",
    "        end_time = time.time()\n",
    "        execution_time = end_time - start_time\n",
    "\n",
    "        logger.info(f\"Task '{func.__name__}' completed in {execution_time:.2f} seconds\")\n",
    "        return result\n",
    "\n",
    "    return wrapper"
   ]
  },
  {
   "cell_type": "code",
   "execution_count": 73,
   "id": "7b68f622",
   "metadata": {},
   "outputs": [],
   "source": [
    "@task\n",
    "@timing_decorator\n",
    "def diabetes_dataset_retribution():\n",
    "        # Se define el nombre de las columnas en una lista \n",
    "    nombre_columnas = ['Embarazos', 'Glucosa', 'Presion Arterial', 'Grosor Piel', 'Insulina', 'Indice Masa Corporal', 'Función de Pedigree', 'Edad', 'Etiqueta']\n",
    "\n",
    "    # Se usa la biblioteca Pandas para cargar el dataset desde un archivo de texto \n",
    "    # \"separado por comas\" (CSV), usando los nombres de columna previamente definidos\n",
    "    try:\n",
    "        response = requests.get(\"https://raw.githubusercontent.com/plotly/datasets/master/diabetes.csv\")\n",
    "        response.raise_for_status()\n",
    "        csv_data = StringIO(response.text)\n",
    "        dataset = pd.read_csv(csv_data, header=1, names=nombre_columnas)\n",
    "        print(\"Dataset cargado exitosamente.\")\n",
    "        print(dataset.head())\n",
    "        return dataset\n",
    "    except requests.exceptions.RequestException as e:\n",
    "        print(f\"Error al descargar el dataset: {e}\")\n",
    "        raise e\n",
    "    except Exception as e:\n",
    "        print(f\"Error al cargar el dataset: {e}\")\n",
    "        raise e\n"
   ]
  },
  {
   "cell_type": "code",
   "execution_count": 74,
   "id": "d75e47f2",
   "metadata": {},
   "outputs": [],
   "source": [
    "@task\n",
    "@timing_decorator\n",
    "def iris_dataset_retribution():\n",
    "    #Lectura de los datos\n",
    "    df= pd.read_csv('iris.csv')\n",
    " \n",
    "    # También se puede cargar desde el paquete sklearn.datasets\n",
    "    #df = load_iris()\n",
    " \n",
    "    # previsualización del dataset\n",
    "    df.head(5)\n",
    " \n",
    "    return df\n"
   ]
  },
  {
   "cell_type": "code",
   "execution_count": 75,
   "id": "cb131ada",
   "metadata": {},
   "outputs": [],
   "source": [
    "@task\n",
    "@timing_decorator\n",
    "def cancer_dataset_retribution():\n",
    "    dataset = datasets.load_breast_cancer()\n",
    "    print(\"Características (X_i): \", dataset.feature_names)\n",
    " \n",
    "    return dataset\n"
   ]
  },
  {
   "cell_type": "code",
   "execution_count": 76,
   "id": "15ba88f7",
   "metadata": {},
   "outputs": [],
   "source": [
    "@task\n",
    "@timing_decorator\n",
    "def iris_preprocessing(df):\n",
    "    X_train, X_test, y_train, y_test = train_test_split(df[['SepalLengthCm', 'SepalWidthCm',\n",
    "                                                        'PetalLengthCm', 'PetalWidthCm']],\n",
    "                                                    df['Species'], random_state=0)\n",
    " \n",
    "    print(\"Tamaño de X_train: {}\\nTamaño de y_train: {}\".format(X_train.shape, y_train.shape))\n",
    "    print(\"Tamaño de X_test: {}\\nTamaño de y_test: {}\".format(X_test.shape, y_test.shape))\n",
    " \n",
    "    return X_train, X_test, y_train, y_test"
   ]
  },
  {
   "cell_type": "code",
   "execution_count": 77,
   "id": "fa8180fd",
   "metadata": {},
   "outputs": [],
   "source": [
    "@task\n",
    "@timing_decorator\n",
    "def diabetes_preprocessing(dataset):\n",
    "    feature_cols = ['Embarazos', 'Insulina', 'Indice Masa Corporal', 'Edad', 'Glucosa', 'Presion Arterial', 'Función de Pedigree']\n",
    "\n",
    "    X = dataset[feature_cols] # Características\n",
    "    y = dataset.Etiqueta # Variable objetivo\n",
    "\n",
    "    X_train, X_test, y_train, y_test = train_test_split(X, y, test_size=0.3, random_state=1) # 70% para entrenamiento\n",
    "    print(\"Tamaño de X_train: {}\\nTamaño de y_train: {}\".format(X_train.shape, y_train.shape)) #Salida con formato en Python\n",
    "    print(\"Tamaño de X_test: {}\\nTamaño de y_test: {}\".format(X_test.shape, y_test.shape))\n",
    "    return X_train, X_test, y_train, y_test"
   ]
  },
  {
   "cell_type": "code",
   "execution_count": 78,
   "id": "f1956722",
   "metadata": {},
   "outputs": [],
   "source": [
    "@task\n",
    "@timing_decorator\n",
    "def cancer_preprocessing(dataset):\n",
    "    X_train, X_test, y_train, y_test = train_test_split(dataset.data, dataset.target, test_size=0.3,random_state=109)\n",
    " \n",
    "    print(\"Tamaño de X_train: {}\\nTamaño de y_train: {}\".format(X_train.shape, y_train.shape))\n",
    "    print(\"Tamaño de X_test: {}\\nTamaño de y_test: {}\".format(X_test.shape, y_test.shape))\n",
    " \n",
    "    return X_train, X_test, y_train, y_test"
   ]
  },
  {
   "cell_type": "code",
   "execution_count": 79,
   "id": "041dbda1",
   "metadata": {},
   "outputs": [],
   "source": [
    "@task\n",
    "@timing_decorator\n",
    "def decision_tree(X_train, X_test, y_train, y_test):\n",
    "    dtree = DecisionTreeClassifier()\n",
    "\n",
    "    # Entrenamiento\n",
    "    dtree = dtree.fit(X_train,y_train)\n",
    "\n",
    "    #Predicción para evaluación\n",
    "    y_pred = dtree.predict(X_test)\n",
    "\n",
    "    pd.concat([X_test, y_test, pd.Series(y_pred, name='Predicción', index=X_test.index)], \n",
    "          ignore_index=False, axis=1)\n",
    "\n",
    "    cv_scores = cross_val_score(dtree, X_train, y_train, cv=5)\n",
    "\n",
    "    # Escribe en pantalla los desempeños (\"accuracy\") para cada \"pliegue\" (fold)\n",
    "    print(\"Resultados de la validación cruzada en decision tree: \", cv_scores)\n",
    "\n",
    "    # Escribe en pantalla el promedio de la métrica \"accuracy\" en el entrenamiento \n",
    "    print(\"Resultado promedio de la validación cruzada en decision tree\", np.average(cv_scores))\n",
    "\n",
    "    # Escribe en pantalla la métrica \"accuracy\" para prueba (datos no usados en el entrenamiento)\n",
    "    print(\"Exactitud (accuracy) en prueba (testing) del decision tree:\",metrics.accuracy_score(y_test, y_pred))\n",
    "\n",
    "    return dtree, y_pred"
   ]
  },
  {
   "cell_type": "code",
   "execution_count": 80,
   "id": "bec46ce2",
   "metadata": {},
   "outputs": [],
   "source": [
    "@task\n",
    "@timing_decorator\n",
    "def roc_curve_analysis(dtree, X_test, y_test, y_pred):\n",
    "    fpr,tpr,_r=metrics.roc_curve(y_test,y_pred)\n",
    "    roc_auc = metrics.auc(fpr, tpr)\n",
    "    print(roc_auc)\n",
    "    metrics.RocCurveDisplay.from_estimator(dtree, X_test, y_test)"
   ]
  },
  {
   "cell_type": "code",
   "execution_count": 81,
   "id": "a33a3203",
   "metadata": {},
   "outputs": [],
   "source": [
    "@task\n",
    "@timing_decorator\n",
    "def random_forest(X_train, X_test, y_train, y_test):\n",
    "    # Create a Random Forest Classifier instance \n",
    "    rf_model = RandomForestClassifier(n_estimators=100, random_state=42)\n",
    "\n",
    "    # Train the model\n",
    "    rf_model.fit(X_train, y_train)\n",
    "\n",
    "    # Make predictions\n",
    "    rf_predictions = rf_model.predict(X_test)\n",
    "\n",
    "    # Evaluate the model \n",
    "    rf_accuracy = accuracy_score(y_test, rf_predictions) \n",
    "    print(f\"Random Forest Accuracy: {rf_accuracy:.4f}\")\n",
    "\n",
    "    return rf_model"
   ]
  },
  {
   "cell_type": "code",
   "execution_count": 82,
   "id": "ad3d7f0a",
   "metadata": {},
   "outputs": [],
   "source": [
    "@task\n",
    "@timing_decorator\n",
    "def knn(X_train, X_test, y_train, y_test):\n",
    "    knn = KNeighborsClassifier(n_neighbors=1)\n",
    "    knn.fit(X_train, y_train)\n",
    " \n",
    "    y_pred = knn.predict(X_test)\n",
    "    # comparación de las predicciones con las etiquetas originales\n",
    "    pd.concat([X_test, y_test, pd.Series(y_pred, name='Predicción', index=X_test.index)],\n",
    "            ignore_index=False, axis=1)\n",
    "    print(\"Score sobre el conjunto de test: {:.3f}\".format(knn.score(X_train, y_train)))\n",
    " \n",
    "    np.set_printoptions(precision=2)\n",
    "    cv_scores = cross_val_score(knn, X_test, y_test, cv=5)\n",
    "    print (cv_scores)\n",
    " \n",
    "    print(\"Desempeño promedio del kNN:\")\n",
    "    print(np.average(cv_scores))\n",
    " \n",
    "    print(\"Exactitud (accuracy) en prueba (testing) del kNN:\",metrics.accuracy_score(y_test, y_pred))\n",
    "  \n",
    "    return knn\n"
   ]
  },
  {
   "cell_type": "code",
   "execution_count": 83,
   "id": "f9ba4eb6",
   "metadata": {},
   "outputs": [],
   "source": [
    "@task\n",
    "def knn_scaler(X_train, X_test, y_train, y_test):\n",
    "    scaler = StandardScaler()\n",
    "    x_train_scaler = scaler.fit_transform(X_train)\n",
    "    x_test_scaler = scaler.transform(X_test)\n",
    " \n",
    " \n",
    "    knn_scaled = KNeighborsClassifier(n_neighbors=1)\n",
    "    knn_scaled.fit(x_train_scaler, y_train)\n",
    " \n",
    "    y_pred = knn_scaled.predict(x_test_scaler)\n",
    " \n",
    "    comparacion_df = pd.concat([X_test,\n",
    "                               y_test,\n",
    "                               pd.Series(y_pred, name='Predicción' , index=X_test.index)],\n",
    "                              ignore_index=False, axis=1)\n",
    "    print(\"Comparación de predicciones:\")\n",
    "    print(comparacion_df.head())\n",
    " \n",
    "    print(\"Score sobre el conjunto de test: {:.3f}\".format(knn_scaled.score(x_test_scaler, y_test)))\n",
    " \n",
    " \n",
    "    np.set_printoptions(precision=2)\n",
    "    cv_scores = cross_val_score(knn_scaled, x_train_scaler, y_train, cv=5)\n",
    "    print (cv_scores)\n",
    " \n",
    "    print(\"Desempeno promedio:\")\n",
    "    print(np.average(cv_scores))\n",
    " \n",
    "    print(\"Exactitud (accuracy) en prueba (testing):\",metrics.accuracy_score(y_test, y_pred))\n",
    " \n",
    "    return knn_scaled"
   ]
  },
  {
   "cell_type": "code",
   "execution_count": 84,
   "id": "2d729817",
   "metadata": {},
   "outputs": [],
   "source": [
    "@task\n",
    "@timing_decorator\n",
    "def svm(X_train, X_test, y_train, y_test):\n",
    "    svm_class = SVC(kernel='rbf', random_state=0)\n",
    "    svm_class.fit(X_train, y_train)\n",
    " \n",
    "    y_pred = svm_class.predict(X_test)\n",
    " \n",
    "    resultado_comparacion = pd.concat([X_test, y_test, pd.Series(y_pred, name='Predicción', index=X_test.index)],\n",
    "            ignore_index=False, axis=1)\n",
    "    print(\"Comparación de predicciones:\")\n",
    "    print(resultado_comparacion)\n",
    "   \n",
    "    print(\"Score de entrenamiento: {:.3f}\".format(svm_class.score(X_train, y_train)))\n",
    "    print(\"Score de test: {:.3f}\".format(svm_class.score(X_test, y_test)))\n",
    " \n",
    "    np.set_printoptions(precision=2)\n",
    "    cv_scores = cross_val_score(svm_class, X_train, y_train, cv=5)\n",
    "    print(\"Scores de validación cruzada:\")\n",
    "    print(cv_scores)\n",
    " \n",
    "    print(\"Desempeño promedio:\")\n",
    "    print(np.average(cv_scores))\n",
    " \n",
    "    print(\"Accuracy en el testing:\", metrics.accuracy_score(y_test, y_pred))\n",
    "\n",
    "    return svm_class\n",
    "\n"
   ]
  },
  {
   "cell_type": "code",
   "execution_count": 85,
   "id": "3f9c568c",
   "metadata": {},
   "outputs": [],
   "source": [
    "@task\n",
    "@timing_decorator\n",
    "def svm_scaler(X_train, X_test, y_train, y_test):\n",
    " \n",
    "    scaler = StandardScaler()\n",
    "    x_train_scaler = scaler.fit_transform(X_train)\n",
    "    x_test_scaler = scaler.transform(X_test)\n",
    " \n",
    "    svm_class_scaled = SVC(kernel='rbf', random_state=0)\n",
    "    svm_class_scaled.fit(x_train_scaler, y_train)\n",
    " \n",
    "    y_pred = svm_class_scaled.predict(x_test_scaler)\n",
    " \n",
    "    resultado_comparacion = pd.concat([X_test, y_test, pd.Series(y_pred, name='Predicción', index=X_test.index)],\n",
    "            ignore_index=False, axis=1)\n",
    "    print(\"Comparación de predicciones:\")\n",
    "    print(resultado_comparacion)\n",
    "   \n",
    "    print(\"Score de entrenamiento: {:.3f}\".format(svm_class_scaled.score(x_train_scaler, y_train)))\n",
    "    print(\"Score de test: {:.3f}\".format(svm_class_scaled.score(x_test_scaler, y_test)))\n",
    " \n",
    "    np.set_printoptions(precision=2)\n",
    "    cv_scores = cross_val_score(svm_class_scaled, x_train_scaler, y_train, cv=5)\n",
    "    print(\"Scores de validación cruzada:\")\n",
    "    print(cv_scores)\n",
    " \n",
    "    print(\"Desempeño promedio:\")\n",
    "    print(np.average(cv_scores))\n",
    " \n",
    "    print(\"Accuracy en el testing:\", metrics.accuracy_score(y_test, y_pred))\n",
    " \n",
    "    return svm_class_scaled"
   ]
  },
  {
   "cell_type": "code",
   "execution_count": 86,
   "id": "7b8d998b",
   "metadata": {},
   "outputs": [],
   "source": [
    "@task\n",
    "@timing_decorator\n",
    "def confusion_matrix(class_names, model, X_test, y_test):\n",
    " \n",
    "    print(\"Visualización de desempeño con Matriz de Confusión:\")\n",
    "  \n",
    "    disp = ConfusionMatrixDisplay.from_estimator(\n",
    "        model,\n",
    "        X_test,\n",
    "        y_test,\n",
    "        display_labels=class_names,\n",
    "        cmap=plt.cm.Blues,\n",
    "        normalize=None\n",
    "    )\n",
    " \n",
    "    disp.ax_.set_title(\"Confusion Matrix\")\n",
    "    print(\"Confusion Matrix\")\n",
    "    print(disp.confusion_matrix)\n",
    " \n",
    "    plt.show()"
   ]
  },
  {
   "cell_type": "code",
   "execution_count": 87,
   "id": "1877acc8",
   "metadata": {},
   "outputs": [
    {
     "data": {
      "text/html": [
       "<pre style=\"white-space:pre;overflow-x:auto;line-height:normal;font-family:Menlo,'DejaVu Sans Mono',consolas,'Courier New',monospace\">12:43:28.132 | <span style=\"color: #008080; text-decoration-color: #008080\">INFO</span>    | Flow run<span style=\"color: #800080; text-decoration-color: #800080\"> 'monumental-silkworm'</span> - Beginning flow run<span style=\"color: #800080; text-decoration-color: #800080\"> 'monumental-silkworm'</span> for flow<span style=\"color: #800080; text-decoration-color: #800080; font-weight: bold\"> 'iris-flow'</span>\n",
       "</pre>\n"
      ],
      "text/plain": [
       "12:43:28.132 | \u001b[36mINFO\u001b[0m    | Flow run\u001b[35m 'monumental-silkworm'\u001b[0m - Beginning flow run\u001b[35m 'monumental-silkworm'\u001b[0m for flow\u001b[1;35m 'iris-flow'\u001b[0m\n"
      ]
     },
     "metadata": {},
     "output_type": "display_data"
    },
    {
     "data": {
      "text/html": [
       "<pre style=\"white-space:pre;overflow-x:auto;line-height:normal;font-family:Menlo,'DejaVu Sans Mono',consolas,'Courier New',monospace\">12:43:28.184 | <span style=\"color: #008080; text-decoration-color: #008080\">INFO</span>    | Task run 'iris_dataset_retribution-342' - Task 'iris_dataset_retribution' completed in 0.00 seconds\n",
       "</pre>\n"
      ],
      "text/plain": [
       "12:43:28.184 | \u001b[36mINFO\u001b[0m    | Task run 'iris_dataset_retribution-342' - Task 'iris_dataset_retribution' completed in 0.00 seconds\n"
      ]
     },
     "metadata": {},
     "output_type": "display_data"
    },
    {
     "data": {
      "text/html": [
       "<pre style=\"white-space:pre;overflow-x:auto;line-height:normal;font-family:Menlo,'DejaVu Sans Mono',consolas,'Courier New',monospace\">12:43:28.197 | <span style=\"color: #008080; text-decoration-color: #008080\">INFO</span>    | Task run 'iris_dataset_retribution-342' - Finished in state <span style=\"color: #008000; text-decoration-color: #008000\">Completed</span>()\n",
       "</pre>\n"
      ],
      "text/plain": [
       "12:43:28.197 | \u001b[36mINFO\u001b[0m    | Task run 'iris_dataset_retribution-342' - Finished in state \u001b[32mCompleted\u001b[0m()\n"
      ]
     },
     "metadata": {},
     "output_type": "display_data"
    },
    {
     "name": "stdout",
     "output_type": "stream",
     "text": [
      "Tamaño de X_train: (112, 4)\n",
      "Tamaño de y_train: (112,)\n",
      "Tamaño de X_test: (38, 4)\n",
      "Tamaño de y_test: (38,)\n"
     ]
    },
    {
     "data": {
      "text/html": [
       "<pre style=\"white-space:pre;overflow-x:auto;line-height:normal;font-family:Menlo,'DejaVu Sans Mono',consolas,'Courier New',monospace\">12:43:28.259 | <span style=\"color: #008080; text-decoration-color: #008080\">INFO</span>    | Task run 'iris_preprocessing-113' - Task 'iris_preprocessing' completed in 0.00 seconds\n",
       "</pre>\n"
      ],
      "text/plain": [
       "12:43:28.259 | \u001b[36mINFO\u001b[0m    | Task run 'iris_preprocessing-113' - Task 'iris_preprocessing' completed in 0.00 seconds\n"
      ]
     },
     "metadata": {},
     "output_type": "display_data"
    },
    {
     "data": {
      "text/html": [
       "<pre style=\"white-space:pre;overflow-x:auto;line-height:normal;font-family:Menlo,'DejaVu Sans Mono',consolas,'Courier New',monospace\">12:43:28.271 | <span style=\"color: #008080; text-decoration-color: #008080\">INFO</span>    | Task run 'iris_preprocessing-113' - Finished in state <span style=\"color: #008000; text-decoration-color: #008000\">Completed</span>()\n",
       "</pre>\n"
      ],
      "text/plain": [
       "12:43:28.271 | \u001b[36mINFO\u001b[0m    | Task run 'iris_preprocessing-113' - Finished in state \u001b[32mCompleted\u001b[0m()\n"
      ]
     },
     "metadata": {},
     "output_type": "display_data"
    },
    {
     "name": "stdout",
     "output_type": "stream",
     "text": [
      "Resultados de la validación cruzada en decision tree:  [0.96 0.96 1.   0.91 0.95]\n",
      "Resultado promedio de la validación cruzada en decision tree 0.9553359683794467\n",
      "Exactitud (accuracy) en prueba (testing) del decision tree: 0.9736842105263158\n"
     ]
    },
    {
     "data": {
      "text/html": [
       "<pre style=\"white-space:pre;overflow-x:auto;line-height:normal;font-family:Menlo,'DejaVu Sans Mono',consolas,'Courier New',monospace\">12:43:28.377 | <span style=\"color: #008080; text-decoration-color: #008080\">INFO</span>    | Task run 'decision_tree-13b' - Task 'decision_tree' completed in 0.05 seconds\n",
       "</pre>\n"
      ],
      "text/plain": [
       "12:43:28.377 | \u001b[36mINFO\u001b[0m    | Task run 'decision_tree-13b' - Task 'decision_tree' completed in 0.05 seconds\n"
      ]
     },
     "metadata": {},
     "output_type": "display_data"
    },
    {
     "data": {
      "text/html": [
       "<pre style=\"white-space:pre;overflow-x:auto;line-height:normal;font-family:Menlo,'DejaVu Sans Mono',consolas,'Courier New',monospace\">12:43:28.388 | <span style=\"color: #008080; text-decoration-color: #008080\">INFO</span>    | Task run 'decision_tree-13b' - Finished in state <span style=\"color: #008000; text-decoration-color: #008000\">Completed</span>()\n",
       "</pre>\n"
      ],
      "text/plain": [
       "12:43:28.388 | \u001b[36mINFO\u001b[0m    | Task run 'decision_tree-13b' - Finished in state \u001b[32mCompleted\u001b[0m()\n"
      ]
     },
     "metadata": {},
     "output_type": "display_data"
    },
    {
     "name": "stdout",
     "output_type": "stream",
     "text": [
      "Visualización de desempeño con Matriz de Confusión:\n",
      "Confusion Matrix\n",
      "[[13  0  0]\n",
      " [ 0 15  1]\n",
      " [ 0  0  9]]\n"
     ]
    },
    {
     "data": {
      "image/png": "[encoded data removed]",
      "text/plain": [
       "<Figure size 640x480 with 2 Axes>"
      ]
     },
     "metadata": {},
     "output_type": "display_data"
    },
    {
     "data": {
      "text/html": [
       "<pre style=\"white-space:pre;overflow-x:auto;line-height:normal;font-family:Menlo,'DejaVu Sans Mono',consolas,'Courier New',monospace\">12:43:28.748 | <span style=\"color: #008080; text-decoration-color: #008080\">INFO</span>    | Task run 'confusion_matrix-874' - Task 'confusion_matrix' completed in 0.26 seconds\n",
       "</pre>\n"
      ],
      "text/plain": [
       "12:43:28.748 | \u001b[36mINFO\u001b[0m    | Task run 'confusion_matrix-874' - Task 'confusion_matrix' completed in 0.26 seconds\n"
      ]
     },
     "metadata": {},
     "output_type": "display_data"
    },
    {
     "data": {
      "text/html": [
       "<pre style=\"white-space:pre;overflow-x:auto;line-height:normal;font-family:Menlo,'DejaVu Sans Mono',consolas,'Courier New',monospace\">12:43:28.759 | <span style=\"color: #008080; text-decoration-color: #008080\">INFO</span>    | Task run 'confusion_matrix-874' - Finished in state <span style=\"color: #008000; text-decoration-color: #008000\">Completed</span>()\n",
       "</pre>\n"
      ],
      "text/plain": [
       "12:43:28.759 | \u001b[36mINFO\u001b[0m    | Task run 'confusion_matrix-874' - Finished in state \u001b[32mCompleted\u001b[0m()\n"
      ]
     },
     "metadata": {},
     "output_type": "display_data"
    },
    {
     "name": "stdout",
     "output_type": "stream",
     "text": [
      "Random Forest Accuracy: 0.9737\n"
     ]
    },
    {
     "data": {
      "text/html": [
       "<pre style=\"white-space:pre;overflow-x:auto;line-height:normal;font-family:Menlo,'DejaVu Sans Mono',consolas,'Courier New',monospace\">12:43:29.052 | <span style=\"color: #008080; text-decoration-color: #008080\">INFO</span>    | Task run 'random_forest-e28' - Task 'random_forest' completed in 0.22 seconds\n",
       "</pre>\n"
      ],
      "text/plain": [
       "12:43:29.052 | \u001b[36mINFO\u001b[0m    | Task run 'random_forest-e28' - Task 'random_forest' completed in 0.22 seconds\n"
      ]
     },
     "metadata": {},
     "output_type": "display_data"
    },
    {
     "data": {
      "text/html": [
       "<pre style=\"white-space:pre;overflow-x:auto;line-height:normal;font-family:Menlo,'DejaVu Sans Mono',consolas,'Courier New',monospace\">12:43:29.065 | <span style=\"color: #008080; text-decoration-color: #008080\">INFO</span>    | Task run 'random_forest-e28' - Finished in state <span style=\"color: #008000; text-decoration-color: #008000\">Completed</span>()\n",
       "</pre>\n"
      ],
      "text/plain": [
       "12:43:29.065 | \u001b[36mINFO\u001b[0m    | Task run 'random_forest-e28' - Finished in state \u001b[32mCompleted\u001b[0m()\n"
      ]
     },
     "metadata": {},
     "output_type": "display_data"
    },
    {
     "name": "stdout",
     "output_type": "stream",
     "text": [
      "Visualización de desempeño con Matriz de Confusión:\n",
      "Confusion Matrix\n",
      "[[13  0  0]\n",
      " [ 0 15  1]\n",
      " [ 0  0  9]]\n"
     ]
    },
    {
     "data": {
      "image/png": "[encoded data removed]",
      "text/plain": [
       "<Figure size 640x480 with 2 Axes>"
      ]
     },
     "metadata": {},
     "output_type": "display_data"
    },
    {
     "data": {
      "text/html": [
       "<pre style=\"white-space:pre;overflow-x:auto;line-height:normal;font-family:Menlo,'DejaVu Sans Mono',consolas,'Courier New',monospace\">12:43:29.395 | <span style=\"color: #008080; text-decoration-color: #008080\">INFO</span>    | Task run 'confusion_matrix-594' - Task 'confusion_matrix' completed in 0.26 seconds\n",
       "</pre>\n"
      ],
      "text/plain": [
       "12:43:29.395 | \u001b[36mINFO\u001b[0m    | Task run 'confusion_matrix-594' - Task 'confusion_matrix' completed in 0.26 seconds\n"
      ]
     },
     "metadata": {},
     "output_type": "display_data"
    },
    {
     "data": {
      "text/html": [
       "<pre style=\"white-space:pre;overflow-x:auto;line-height:normal;font-family:Menlo,'DejaVu Sans Mono',consolas,'Courier New',monospace\">12:43:29.405 | <span style=\"color: #008080; text-decoration-color: #008080\">INFO</span>    | Task run 'confusion_matrix-594' - Finished in state <span style=\"color: #008000; text-decoration-color: #008000\">Completed</span>()\n",
       "</pre>\n"
      ],
      "text/plain": [
       "12:43:29.405 | \u001b[36mINFO\u001b[0m    | Task run 'confusion_matrix-594' - Finished in state \u001b[32mCompleted\u001b[0m()\n"
      ]
     },
     "metadata": {},
     "output_type": "display_data"
    },
    {
     "name": "stdout",
     "output_type": "stream",
     "text": [
      "Score sobre el conjunto de test: 1.000\n",
      "[1.   0.88 1.   1.   0.86]\n",
      "Desempeño promedio del kNN:\n",
      "0.9464285714285714\n",
      "Exactitud (accuracy) en prueba (testing) del kNN: 0.9736842105263158\n"
     ]
    },
    {
     "data": {
      "text/html": [
       "<pre style=\"white-space:pre;overflow-x:auto;line-height:normal;font-family:Menlo,'DejaVu Sans Mono',consolas,'Courier New',monospace\">12:43:29.523 | <span style=\"color: #008080; text-decoration-color: #008080\">INFO</span>    | Task run 'knn-70b' - Task 'knn' completed in 0.06 seconds\n",
       "</pre>\n"
      ],
      "text/plain": [
       "12:43:29.523 | \u001b[36mINFO\u001b[0m    | Task run 'knn-70b' - Task 'knn' completed in 0.06 seconds\n"
      ]
     },
     "metadata": {},
     "output_type": "display_data"
    },
    {
     "data": {
      "text/html": [
       "<pre style=\"white-space:pre;overflow-x:auto;line-height:normal;font-family:Menlo,'DejaVu Sans Mono',consolas,'Courier New',monospace\">12:43:29.534 | <span style=\"color: #008080; text-decoration-color: #008080\">INFO</span>    | Task run 'knn-70b' - Finished in state <span style=\"color: #008000; text-decoration-color: #008000\">Completed</span>()\n",
       "</pre>\n"
      ],
      "text/plain": [
       "12:43:29.534 | \u001b[36mINFO\u001b[0m    | Task run 'knn-70b' - Finished in state \u001b[32mCompleted\u001b[0m()\n"
      ]
     },
     "metadata": {},
     "output_type": "display_data"
    },
    {
     "name": "stdout",
     "output_type": "stream",
     "text": [
      "Visualización de desempeño con Matriz de Confusión:\n",
      "Confusion Matrix\n",
      "[[13  0  0]\n",
      " [ 0 15  1]\n",
      " [ 0  0  9]]\n"
     ]
    },
    {
     "data": {
      "image/png": "[encoded data removed]",
      "text/plain": [
       "<Figure size 640x480 with 2 Axes>"
      ]
     },
     "metadata": {},
     "output_type": "display_data"
    },
    {
     "data": {
      "text/html": [
       "<pre style=\"white-space:pre;overflow-x:auto;line-height:normal;font-family:Menlo,'DejaVu Sans Mono',consolas,'Courier New',monospace\">12:43:29.852 | <span style=\"color: #008080; text-decoration-color: #008080\">INFO</span>    | Task run 'confusion_matrix-f3e' - Task 'confusion_matrix' completed in 0.26 seconds\n",
       "</pre>\n"
      ],
      "text/plain": [
       "12:43:29.852 | \u001b[36mINFO\u001b[0m    | Task run 'confusion_matrix-f3e' - Task 'confusion_matrix' completed in 0.26 seconds\n"
      ]
     },
     "metadata": {},
     "output_type": "display_data"
    },
    {
     "data": {
      "text/html": [
       "<pre style=\"white-space:pre;overflow-x:auto;line-height:normal;font-family:Menlo,'DejaVu Sans Mono',consolas,'Courier New',monospace\">12:43:29.862 | <span style=\"color: #008080; text-decoration-color: #008080\">INFO</span>    | Task run 'confusion_matrix-f3e' - Finished in state <span style=\"color: #008000; text-decoration-color: #008000\">Completed</span>()\n",
       "</pre>\n"
      ],
      "text/plain": [
       "12:43:29.862 | \u001b[36mINFO\u001b[0m    | Task run 'confusion_matrix-f3e' - Finished in state \u001b[32mCompleted\u001b[0m()\n"
      ]
     },
     "metadata": {},
     "output_type": "display_data"
    },
    {
     "name": "stdout",
     "output_type": "stream",
     "text": [
      "Comparación de predicciones:\n",
      "     SepalLengthCm  SepalWidthCm  PetalLengthCm  PetalWidthCm  \\\n",
      "114            5.8           2.8            5.1           2.4   \n",
      "62             6.0           2.2            4.0           1.0   \n",
      "33             5.5           4.2            1.4           0.2   \n",
      "107            7.3           2.9            6.3           1.8   \n",
      "7              5.0           3.4            1.5           0.2   \n",
      "\n",
      "             Species       Predicción  \n",
      "114   Iris-virginica   Iris-virginica  \n",
      "62   Iris-versicolor  Iris-versicolor  \n",
      "33       Iris-setosa      Iris-setosa  \n",
      "107   Iris-virginica   Iris-virginica  \n",
      "7        Iris-setosa      Iris-setosa  \n",
      "Score sobre el conjunto de test: 0.921\n",
      "[0.96 0.91 0.95 0.91 0.95]\n",
      "Desempeno promedio:\n",
      "0.9375494071146246\n",
      "Exactitud (accuracy) en prueba (testing): 0.9210526315789473\n"
     ]
    },
    {
     "data": {
      "text/html": [
       "<pre style=\"white-space:pre;overflow-x:auto;line-height:normal;font-family:Menlo,'DejaVu Sans Mono',consolas,'Courier New',monospace\">12:43:29.980 | <span style=\"color: #008080; text-decoration-color: #008080\">INFO</span>    | Task run 'knn_scaler-d5c' - Finished in state <span style=\"color: #008000; text-decoration-color: #008000\">Completed</span>()\n",
       "</pre>\n"
      ],
      "text/plain": [
       "12:43:29.980 | \u001b[36mINFO\u001b[0m    | Task run 'knn_scaler-d5c' - Finished in state \u001b[32mCompleted\u001b[0m()\n"
      ]
     },
     "metadata": {},
     "output_type": "display_data"
    },
    {
     "name": "stdout",
     "output_type": "stream",
     "text": [
      "Visualización de desempeño con Matriz de Confusión:\n",
      "Confusion Matrix\n",
      "[[ 0  0 13]\n",
      " [ 0  0 16]\n",
      " [ 0  0  9]]\n"
     ]
    },
    {
     "name": "stderr",
     "output_type": "stream",
     "text": [
      "c:\\Users\\aleja\\miniconda3\\envs\\ml1\\Lib\\site-packages\\sklearn\\utils\\validation.py:2742: UserWarning: X has feature names, but KNeighborsClassifier was fitted without feature names\n",
      "  warnings.warn(\n"
     ]
    },
    {
     "data": {
      "image/png": "[encoded data removed]",
      "text/plain": [
       "<Figure size 640x480 with 2 Axes>"
      ]
     },
     "metadata": {},
     "output_type": "display_data"
    },
    {
     "data": {
      "text/html": [
       "<pre style=\"white-space:pre;overflow-x:auto;line-height:normal;font-family:Menlo,'DejaVu Sans Mono',consolas,'Courier New',monospace\">12:43:30.309 | <span style=\"color: #008080; text-decoration-color: #008080\">INFO</span>    | Task run 'confusion_matrix-7b1' - Task 'confusion_matrix' completed in 0.28 seconds\n",
       "</pre>\n"
      ],
      "text/plain": [
       "12:43:30.309 | \u001b[36mINFO\u001b[0m    | Task run 'confusion_matrix-7b1' - Task 'confusion_matrix' completed in 0.28 seconds\n"
      ]
     },
     "metadata": {},
     "output_type": "display_data"
    },
    {
     "data": {
      "text/html": [
       "<pre style=\"white-space:pre;overflow-x:auto;line-height:normal;font-family:Menlo,'DejaVu Sans Mono',consolas,'Courier New',monospace\">12:43:30.318 | <span style=\"color: #008080; text-decoration-color: #008080\">INFO</span>    | Task run 'confusion_matrix-7b1' - Finished in state <span style=\"color: #008000; text-decoration-color: #008000\">Completed</span>()\n",
       "</pre>\n"
      ],
      "text/plain": [
       "12:43:30.318 | \u001b[36mINFO\u001b[0m    | Task run 'confusion_matrix-7b1' - Finished in state \u001b[32mCompleted\u001b[0m()\n"
      ]
     },
     "metadata": {},
     "output_type": "display_data"
    },
    {
     "name": "stdout",
     "output_type": "stream",
     "text": [
      "Comparación de predicciones:\n",
      "     SepalLengthCm  SepalWidthCm  PetalLengthCm  PetalWidthCm  \\\n",
      "114            5.8           2.8            5.1           2.4   \n",
      "62             6.0           2.2            4.0           1.0   \n",
      "33             5.5           4.2            1.4           0.2   \n",
      "107            7.3           2.9            6.3           1.8   \n",
      "7              5.0           3.4            1.5           0.2   \n",
      "100            6.3           3.3            6.0           2.5   \n",
      "40             5.0           3.5            1.3           0.3   \n",
      "86             6.7           3.1            4.7           1.5   \n",
      "76             6.8           2.8            4.8           1.4   \n",
      "71             6.1           2.8            4.0           1.3   \n",
      "134            6.1           2.6            5.6           1.4   \n",
      "51             6.4           3.2            4.5           1.5   \n",
      "73             6.1           2.8            4.7           1.2   \n",
      "54             6.5           2.8            4.6           1.5   \n",
      "63             6.1           2.9            4.7           1.4   \n",
      "37             4.9           3.1            1.5           0.1   \n",
      "78             6.0           2.9            4.5           1.5   \n",
      "90             5.5           2.6            4.4           1.2   \n",
      "45             4.8           3.0            1.4           0.3   \n",
      "16             5.4           3.9            1.3           0.4   \n",
      "121            5.6           2.8            4.9           2.0   \n",
      "66             5.6           3.0            4.5           1.5   \n",
      "24             4.8           3.4            1.9           0.2   \n",
      "8              4.4           2.9            1.4           0.2   \n",
      "126            6.2           2.8            4.8           1.8   \n",
      "22             4.6           3.6            1.0           0.2   \n",
      "44             5.1           3.8            1.9           0.4   \n",
      "97             6.2           2.9            4.3           1.3   \n",
      "93             5.0           2.3            3.3           1.0   \n",
      "26             5.0           3.4            1.6           0.4   \n",
      "137            6.4           3.1            5.5           1.8   \n",
      "84             5.4           3.0            4.5           1.5   \n",
      "27             5.2           3.5            1.5           0.2   \n",
      "127            6.1           3.0            4.9           1.8   \n",
      "132            6.4           2.8            5.6           2.2   \n",
      "59             5.2           2.7            3.9           1.4   \n",
      "18             5.7           3.8            1.7           0.3   \n",
      "83             6.0           2.7            5.1           1.6   \n",
      "\n",
      "             Species       Predicción  \n",
      "114   Iris-virginica   Iris-virginica  \n",
      "62   Iris-versicolor  Iris-versicolor  \n",
      "33       Iris-setosa      Iris-setosa  \n",
      "107   Iris-virginica   Iris-virginica  \n",
      "7        Iris-setosa      Iris-setosa  \n",
      "100   Iris-virginica   Iris-virginica  \n",
      "40       Iris-setosa      Iris-setosa  \n",
      "86   Iris-versicolor  Iris-versicolor  \n",
      "76   Iris-versicolor  Iris-versicolor  \n",
      "71   Iris-versicolor  Iris-versicolor  \n",
      "134   Iris-virginica   Iris-virginica  \n",
      "51   Iris-versicolor  Iris-versicolor  \n",
      "73   Iris-versicolor  Iris-versicolor  \n",
      "54   Iris-versicolor  Iris-versicolor  \n",
      "63   Iris-versicolor  Iris-versicolor  \n",
      "37       Iris-setosa      Iris-setosa  \n",
      "78   Iris-versicolor  Iris-versicolor  \n",
      "90   Iris-versicolor  Iris-versicolor  \n",
      "45       Iris-setosa      Iris-setosa  \n",
      "16       Iris-setosa      Iris-setosa  \n",
      "121   Iris-virginica   Iris-virginica  \n",
      "66   Iris-versicolor  Iris-versicolor  \n",
      "24       Iris-setosa      Iris-setosa  \n",
      "8        Iris-setosa      Iris-setosa  \n",
      "126   Iris-virginica   Iris-virginica  \n",
      "22       Iris-setosa      Iris-setosa  \n",
      "44       Iris-setosa      Iris-setosa  \n",
      "97   Iris-versicolor  Iris-versicolor  \n",
      "93   Iris-versicolor  Iris-versicolor  \n",
      "26       Iris-setosa      Iris-setosa  \n",
      "137   Iris-virginica   Iris-virginica  \n",
      "84   Iris-versicolor  Iris-versicolor  \n",
      "27       Iris-setosa      Iris-setosa  \n",
      "127   Iris-virginica   Iris-virginica  \n",
      "132   Iris-virginica   Iris-virginica  \n",
      "59   Iris-versicolor  Iris-versicolor  \n",
      "18       Iris-setosa      Iris-setosa  \n",
      "83   Iris-versicolor   Iris-virginica  \n",
      "Score de entrenamiento: 0.964\n",
      "Score de test: 0.974\n",
      "Scores de validación cruzada:\n",
      "[1.   0.96 1.   0.91 0.95]\n",
      "Desempeño promedio:\n",
      "0.9640316205533598\n",
      "Accuracy en el testing: 0.9736842105263158\n"
     ]
    },
    {
     "data": {
      "text/html": [
       "<pre style=\"white-space:pre;overflow-x:auto;line-height:normal;font-family:Menlo,'DejaVu Sans Mono',consolas,'Courier New',monospace\">12:43:30.446 | <span style=\"color: #008080; text-decoration-color: #008080\">INFO</span>    | Task run 'svm-c17' - Task 'svm' completed in 0.07 seconds\n",
       "</pre>\n"
      ],
      "text/plain": [
       "12:43:30.446 | \u001b[36mINFO\u001b[0m    | Task run 'svm-c17' - Task 'svm' completed in 0.07 seconds\n"
      ]
     },
     "metadata": {},
     "output_type": "display_data"
    },
    {
     "data": {
      "text/html": [
       "<pre style=\"white-space:pre;overflow-x:auto;line-height:normal;font-family:Menlo,'DejaVu Sans Mono',consolas,'Courier New',monospace\">12:43:30.458 | <span style=\"color: #008080; text-decoration-color: #008080\">INFO</span>    | Task run 'svm-c17' - Finished in state <span style=\"color: #008000; text-decoration-color: #008000\">Completed</span>()\n",
       "</pre>\n"
      ],
      "text/plain": [
       "12:43:30.458 | \u001b[36mINFO\u001b[0m    | Task run 'svm-c17' - Finished in state \u001b[32mCompleted\u001b[0m()\n"
      ]
     },
     "metadata": {},
     "output_type": "display_data"
    },
    {
     "name": "stdout",
     "output_type": "stream",
     "text": [
      "Visualización de desempeño con Matriz de Confusión:\n",
      "Confusion Matrix\n",
      "[[13  0  0]\n",
      " [ 0 15  1]\n",
      " [ 0  0  9]]\n"
     ]
    },
    {
     "data": {
      "image/png": "[encoded data removed]",
      "text/plain": [
       "<Figure size 640x480 with 2 Axes>"
      ]
     },
     "metadata": {},
     "output_type": "display_data"
    },
    {
     "data": {
      "text/html": [
       "<pre style=\"white-space:pre;overflow-x:auto;line-height:normal;font-family:Menlo,'DejaVu Sans Mono',consolas,'Courier New',monospace\">12:43:30.756 | <span style=\"color: #008080; text-decoration-color: #008080\">INFO</span>    | Task run 'confusion_matrix-f13' - Task 'confusion_matrix' completed in 0.24 seconds\n",
       "</pre>\n"
      ],
      "text/plain": [
       "12:43:30.756 | \u001b[36mINFO\u001b[0m    | Task run 'confusion_matrix-f13' - Task 'confusion_matrix' completed in 0.24 seconds\n"
      ]
     },
     "metadata": {},
     "output_type": "display_data"
    },
    {
     "data": {
      "text/html": [
       "<pre style=\"white-space:pre;overflow-x:auto;line-height:normal;font-family:Menlo,'DejaVu Sans Mono',consolas,'Courier New',monospace\">12:43:30.768 | <span style=\"color: #008080; text-decoration-color: #008080\">INFO</span>    | Task run 'confusion_matrix-f13' - Finished in state <span style=\"color: #008000; text-decoration-color: #008000\">Completed</span>()\n",
       "</pre>\n"
      ],
      "text/plain": [
       "12:43:30.768 | \u001b[36mINFO\u001b[0m    | Task run 'confusion_matrix-f13' - Finished in state \u001b[32mCompleted\u001b[0m()\n"
      ]
     },
     "metadata": {},
     "output_type": "display_data"
    },
    {
     "name": "stdout",
     "output_type": "stream",
     "text": [
      "Comparación de predicciones:\n",
      "     SepalLengthCm  SepalWidthCm  PetalLengthCm  PetalWidthCm  \\\n",
      "114            5.8           2.8            5.1           2.4   \n",
      "62             6.0           2.2            4.0           1.0   \n",
      "33             5.5           4.2            1.4           0.2   \n",
      "107            7.3           2.9            6.3           1.8   \n",
      "7              5.0           3.4            1.5           0.2   \n",
      "100            6.3           3.3            6.0           2.5   \n",
      "40             5.0           3.5            1.3           0.3   \n",
      "86             6.7           3.1            4.7           1.5   \n",
      "76             6.8           2.8            4.8           1.4   \n",
      "71             6.1           2.8            4.0           1.3   \n",
      "134            6.1           2.6            5.6           1.4   \n",
      "51             6.4           3.2            4.5           1.5   \n",
      "73             6.1           2.8            4.7           1.2   \n",
      "54             6.5           2.8            4.6           1.5   \n",
      "63             6.1           2.9            4.7           1.4   \n",
      "37             4.9           3.1            1.5           0.1   \n",
      "78             6.0           2.9            4.5           1.5   \n",
      "90             5.5           2.6            4.4           1.2   \n",
      "45             4.8           3.0            1.4           0.3   \n",
      "16             5.4           3.9            1.3           0.4   \n",
      "121            5.6           2.8            4.9           2.0   \n",
      "66             5.6           3.0            4.5           1.5   \n",
      "24             4.8           3.4            1.9           0.2   \n",
      "8              4.4           2.9            1.4           0.2   \n",
      "126            6.2           2.8            4.8           1.8   \n",
      "22             4.6           3.6            1.0           0.2   \n",
      "44             5.1           3.8            1.9           0.4   \n",
      "97             6.2           2.9            4.3           1.3   \n",
      "93             5.0           2.3            3.3           1.0   \n",
      "26             5.0           3.4            1.6           0.4   \n",
      "137            6.4           3.1            5.5           1.8   \n",
      "84             5.4           3.0            4.5           1.5   \n",
      "27             5.2           3.5            1.5           0.2   \n",
      "127            6.1           3.0            4.9           1.8   \n",
      "132            6.4           2.8            5.6           2.2   \n",
      "59             5.2           2.7            3.9           1.4   \n",
      "18             5.7           3.8            1.7           0.3   \n",
      "83             6.0           2.7            5.1           1.6   \n",
      "\n",
      "             Species       Predicción  \n",
      "114   Iris-virginica   Iris-virginica  \n",
      "62   Iris-versicolor  Iris-versicolor  \n",
      "33       Iris-setosa      Iris-setosa  \n",
      "107   Iris-virginica   Iris-virginica  \n",
      "7        Iris-setosa      Iris-setosa  \n",
      "100   Iris-virginica   Iris-virginica  \n",
      "40       Iris-setosa      Iris-setosa  \n",
      "86   Iris-versicolor  Iris-versicolor  \n",
      "76   Iris-versicolor  Iris-versicolor  \n",
      "71   Iris-versicolor  Iris-versicolor  \n",
      "134   Iris-virginica   Iris-virginica  \n",
      "51   Iris-versicolor  Iris-versicolor  \n",
      "73   Iris-versicolor  Iris-versicolor  \n",
      "54   Iris-versicolor  Iris-versicolor  \n",
      "63   Iris-versicolor  Iris-versicolor  \n",
      "37       Iris-setosa      Iris-setosa  \n",
      "78   Iris-versicolor  Iris-versicolor  \n",
      "90   Iris-versicolor  Iris-versicolor  \n",
      "45       Iris-setosa      Iris-setosa  \n",
      "16       Iris-setosa      Iris-setosa  \n",
      "121   Iris-virginica   Iris-virginica  \n",
      "66   Iris-versicolor  Iris-versicolor  \n",
      "24       Iris-setosa      Iris-setosa  \n",
      "8        Iris-setosa      Iris-setosa  \n",
      "126   Iris-virginica   Iris-virginica  \n",
      "22       Iris-setosa      Iris-setosa  \n",
      "44       Iris-setosa      Iris-setosa  \n",
      "97   Iris-versicolor  Iris-versicolor  \n",
      "93   Iris-versicolor  Iris-versicolor  \n",
      "26       Iris-setosa      Iris-setosa  \n",
      "137   Iris-virginica   Iris-virginica  \n",
      "84   Iris-versicolor  Iris-versicolor  \n",
      "27       Iris-setosa      Iris-setosa  \n",
      "127   Iris-virginica   Iris-virginica  \n",
      "132   Iris-virginica   Iris-virginica  \n",
      "59   Iris-versicolor  Iris-versicolor  \n",
      "18       Iris-setosa      Iris-setosa  \n",
      "83   Iris-versicolor   Iris-virginica  \n",
      "Score de entrenamiento: 0.973\n",
      "Score de test: 0.974\n",
      "Scores de validación cruzada:\n",
      "[0.96 0.87 1.   0.95 1.  ]\n",
      "Desempeño promedio:\n",
      "0.9561264822134387\n",
      "Accuracy en el testing: 0.9736842105263158\n"
     ]
    },
    {
     "data": {
      "text/html": [
       "<pre style=\"white-space:pre;overflow-x:auto;line-height:normal;font-family:Menlo,'DejaVu Sans Mono',consolas,'Courier New',monospace\">12:43:30.873 | <span style=\"color: #008080; text-decoration-color: #008080\">INFO</span>    | Task run 'svm_scaler-e53' - Task 'svm_scaler' completed in 0.05 seconds\n",
       "</pre>\n"
      ],
      "text/plain": [
       "12:43:30.873 | \u001b[36mINFO\u001b[0m    | Task run 'svm_scaler-e53' - Task 'svm_scaler' completed in 0.05 seconds\n"
      ]
     },
     "metadata": {},
     "output_type": "display_data"
    },
    {
     "data": {
      "text/html": [
       "<pre style=\"white-space:pre;overflow-x:auto;line-height:normal;font-family:Menlo,'DejaVu Sans Mono',consolas,'Courier New',monospace\">12:43:30.888 | <span style=\"color: #008080; text-decoration-color: #008080\">INFO</span>    | Task run 'svm_scaler-e53' - Finished in state <span style=\"color: #008000; text-decoration-color: #008000\">Completed</span>()\n",
       "</pre>\n"
      ],
      "text/plain": [
       "12:43:30.888 | \u001b[36mINFO\u001b[0m    | Task run 'svm_scaler-e53' - Finished in state \u001b[32mCompleted\u001b[0m()\n"
      ]
     },
     "metadata": {},
     "output_type": "display_data"
    },
    {
     "name": "stdout",
     "output_type": "stream",
     "text": [
      "Visualización de desempeño con Matriz de Confusión:\n",
      "Confusion Matrix\n",
      "[[ 0  0 13]\n",
      " [ 0  0 16]\n",
      " [ 0  0  9]]\n"
     ]
    },
    {
     "name": "stderr",
     "output_type": "stream",
     "text": [
      "c:\\Users\\aleja\\miniconda3\\envs\\ml1\\Lib\\site-packages\\sklearn\\utils\\validation.py:2742: UserWarning: X has feature names, but SVC was fitted without feature names\n",
      "  warnings.warn(\n"
     ]
    },
    {
     "data": {
      "image/png": "[encoded data removed]",
      "text/plain": [
       "<Figure size 640x480 with 2 Axes>"
      ]
     },
     "metadata": {},
     "output_type": "display_data"
    },
    {
     "data": {
      "text/html": [
       "<pre style=\"white-space:pre;overflow-x:auto;line-height:normal;font-family:Menlo,'DejaVu Sans Mono',consolas,'Courier New',monospace\">12:43:31.214 | <span style=\"color: #008080; text-decoration-color: #008080\">INFO</span>    | Task run 'confusion_matrix-752' - Task 'confusion_matrix' completed in 0.28 seconds\n",
       "</pre>\n"
      ],
      "text/plain": [
       "12:43:31.214 | \u001b[36mINFO\u001b[0m    | Task run 'confusion_matrix-752' - Task 'confusion_matrix' completed in 0.28 seconds\n"
      ]
     },
     "metadata": {},
     "output_type": "display_data"
    },
    {
     "data": {
      "text/html": [
       "<pre style=\"white-space:pre;overflow-x:auto;line-height:normal;font-family:Menlo,'DejaVu Sans Mono',consolas,'Courier New',monospace\">12:43:31.224 | <span style=\"color: #008080; text-decoration-color: #008080\">INFO</span>    | Task run 'confusion_matrix-752' - Finished in state <span style=\"color: #008000; text-decoration-color: #008000\">Completed</span>()\n",
       "</pre>\n"
      ],
      "text/plain": [
       "12:43:31.224 | \u001b[36mINFO\u001b[0m    | Task run 'confusion_matrix-752' - Finished in state \u001b[32mCompleted\u001b[0m()\n"
      ]
     },
     "metadata": {},
     "output_type": "display_data"
    },
    {
     "data": {
      "text/html": [
       "<pre style=\"white-space:pre;overflow-x:auto;line-height:normal;font-family:Menlo,'DejaVu Sans Mono',consolas,'Courier New',monospace\">12:43:31.289 | <span style=\"color: #008080; text-decoration-color: #008080\">INFO</span>    | Flow run<span style=\"color: #800080; text-decoration-color: #800080\"> 'monumental-silkworm'</span> - Finished in state <span style=\"color: #008000; text-decoration-color: #008000\">Completed</span>()\n",
       "</pre>\n"
      ],
      "text/plain": [
       "12:43:31.289 | \u001b[36mINFO\u001b[0m    | Flow run\u001b[35m 'monumental-silkworm'\u001b[0m - Finished in state \u001b[32mCompleted\u001b[0m()\n"
      ]
     },
     "metadata": {},
     "output_type": "display_data"
    }
   ],
   "source": [
    "@flow\n",
    "def iris_flow():\n",
    "    df = iris_dataset_retribution()\n",
    "    X_train, X_test, y_train, y_test = iris_preprocessing(df)\n",
    "    \n",
    "    class_names = ['Iris-setosa', 'Iris-versicolor', 'Iris-virginica']\n",
    "    \n",
    "    dtree_model, y_pred = decision_tree(X_train, X_test, y_train, y_test)\n",
    "    confusion_matrix(class_names, dtree_model, X_test, y_test)\n",
    "\n",
    "    rf_model =random_forest(X_train, X_test, y_train, y_test)\n",
    "    confusion_matrix(class_names, rf_model, X_test, y_test)\n",
    "\n",
    "    knn_model = knn(X_train, X_test, y_train, y_test)\n",
    "    confusion_matrix(class_names, knn_model, X_test, y_test)\n",
    "    knn_scaled = knn_scaler(X_train, X_test, y_train, y_test)\n",
    "    confusion_matrix(class_names, knn_scaled, X_test, y_test)\n",
    "\n",
    "    svm_class_model = svm(X_train, X_test, y_train, y_test)\n",
    "    confusion_matrix(class_names, svm_class_model, X_test, y_test)\n",
    "    svm_class_scaled = svm_scaler(X_train, X_test, y_train, y_test)\n",
    "    confusion_matrix(class_names, svm_class_scaled, X_test, y_test)\n",
    "iris_flow()"
   ]
  },
  {
   "cell_type": "code",
   "execution_count": 88,
   "id": "a31ba221",
   "metadata": {},
   "outputs": [
    {
     "data": {
      "text/html": [
       "<pre style=\"white-space:pre;overflow-x:auto;line-height:normal;font-family:Menlo,'DejaVu Sans Mono',consolas,'Courier New',monospace\">12:43:31.458 | <span style=\"color: #008080; text-decoration-color: #008080\">INFO</span>    | Flow run<span style=\"color: #800080; text-decoration-color: #800080\"> 'astute-pug'</span> - Beginning flow run<span style=\"color: #800080; text-decoration-color: #800080\"> 'astute-pug'</span> for flow<span style=\"color: #800080; text-decoration-color: #800080; font-weight: bold\"> 'cancer-flow'</span>\n",
       "</pre>\n"
      ],
      "text/plain": [
       "12:43:31.458 | \u001b[36mINFO\u001b[0m    | Flow run\u001b[35m 'astute-pug'\u001b[0m - Beginning flow run\u001b[35m 'astute-pug'\u001b[0m for flow\u001b[1;35m 'cancer-flow'\u001b[0m\n"
      ]
     },
     "metadata": {},
     "output_type": "display_data"
    },
    {
     "name": "stdout",
     "output_type": "stream",
     "text": [
      "Características (X_i):  ['mean radius' 'mean texture' 'mean perimeter' 'mean area'\n",
      " 'mean smoothness' 'mean compactness' 'mean concavity'\n",
      " 'mean concave points' 'mean symmetry' 'mean fractal dimension'\n",
      " 'radius error' 'texture error' 'perimeter error' 'area error'\n",
      " 'smoothness error' 'compactness error' 'concavity error'\n",
      " 'concave points error' 'symmetry error' 'fractal dimension error'\n",
      " 'worst radius' 'worst texture' 'worst perimeter' 'worst area'\n",
      " 'worst smoothness' 'worst compactness' 'worst concavity'\n",
      " 'worst concave points' 'worst symmetry' 'worst fractal dimension']\n"
     ]
    },
    {
     "data": {
      "text/html": [
       "<pre style=\"white-space:pre;overflow-x:auto;line-height:normal;font-family:Menlo,'DejaVu Sans Mono',consolas,'Courier New',monospace\">12:43:31.525 | <span style=\"color: #008080; text-decoration-color: #008080\">INFO</span>    | Task run 'cancer_dataset_retribution-cdb' - Task 'cancer_dataset_retribution' completed in 0.02 seconds\n",
       "</pre>\n"
      ],
      "text/plain": [
       "12:43:31.525 | \u001b[36mINFO\u001b[0m    | Task run 'cancer_dataset_retribution-cdb' - Task 'cancer_dataset_retribution' completed in 0.02 seconds\n"
      ]
     },
     "metadata": {},
     "output_type": "display_data"
    },
    {
     "data": {
      "text/html": [
       "<pre style=\"white-space:pre;overflow-x:auto;line-height:normal;font-family:Menlo,'DejaVu Sans Mono',consolas,'Courier New',monospace\">12:43:31.535 | <span style=\"color: #008080; text-decoration-color: #008080\">INFO</span>    | Task run 'cancer_dataset_retribution-cdb' - Finished in state <span style=\"color: #008000; text-decoration-color: #008000\">Completed</span>()\n",
       "</pre>\n"
      ],
      "text/plain": [
       "12:43:31.535 | \u001b[36mINFO\u001b[0m    | Task run 'cancer_dataset_retribution-cdb' - Finished in state \u001b[32mCompleted\u001b[0m()\n"
      ]
     },
     "metadata": {},
     "output_type": "display_data"
    },
    {
     "name": "stdout",
     "output_type": "stream",
     "text": [
      "Tamaño de X_train: (398, 30)\n",
      "Tamaño de y_train: (398,)\n",
      "Tamaño de X_test: (171, 30)\n",
      "Tamaño de y_test: (171,)\n"
     ]
    },
    {
     "data": {
      "text/html": [
       "<pre style=\"white-space:pre;overflow-x:auto;line-height:normal;font-family:Menlo,'DejaVu Sans Mono',consolas,'Courier New',monospace\">12:43:31.589 | <span style=\"color: #008080; text-decoration-color: #008080\">INFO</span>    | Task run 'cancer_preprocessing-f4d' - Task 'cancer_preprocessing' completed in 0.00 seconds\n",
       "</pre>\n"
      ],
      "text/plain": [
       "12:43:31.589 | \u001b[36mINFO\u001b[0m    | Task run 'cancer_preprocessing-f4d' - Task 'cancer_preprocessing' completed in 0.00 seconds\n"
      ]
     },
     "metadata": {},
     "output_type": "display_data"
    },
    {
     "data": {
      "text/html": [
       "<pre style=\"white-space:pre;overflow-x:auto;line-height:normal;font-family:Menlo,'DejaVu Sans Mono',consolas,'Courier New',monospace\">12:43:31.600 | <span style=\"color: #008080; text-decoration-color: #008080\">INFO</span>    | Task run 'cancer_preprocessing-f4d' - Finished in state <span style=\"color: #008000; text-decoration-color: #008000\">Completed</span>()\n",
       "</pre>\n"
      ],
      "text/plain": [
       "12:43:31.600 | \u001b[36mINFO\u001b[0m    | Task run 'cancer_preprocessing-f4d' - Finished in state \u001b[32mCompleted\u001b[0m()\n"
      ]
     },
     "metadata": {},
     "output_type": "display_data"
    },
    {
     "data": {
      "text/html": [
       "<pre style=\"white-space:pre;overflow-x:auto;line-height:normal;font-family:Menlo,'DejaVu Sans Mono',consolas,'Courier New',monospace\">12:43:31.669 | <span style=\"color: #d70000; text-decoration-color: #d70000\">ERROR</span>   | Task run 'decision_tree-821' - Task run failed with exception: AttributeError(\"'numpy.ndarray' object has no attribute 'index'\")\n",
       "Traceback (most recent call last):\n",
       "  File \"c:\\Users\\aleja\\miniconda3\\envs\\ml1\\Lib\\site-packages\\prefect\\task_engine.py\", line 870, in run_context\n",
       "    yield self\n",
       "  File \"c:\\Users\\aleja\\miniconda3\\envs\\ml1\\Lib\\site-packages\\prefect\\task_engine.py\", line 1510, in run_task_sync\n",
       "    engine.call_task_fn(txn)\n",
       "  File \"c:\\Users\\aleja\\miniconda3\\envs\\ml1\\Lib\\site-packages\\prefect\\task_engine.py\", line 887, in call_task_fn\n",
       "    result = call_with_parameters(self.task.fn, parameters)\n",
       "             ^^^^^^^^^^^^^^^^^^^^^^^^^^^^^^^^^^^^^^^^^^^^^^\n",
       "  File \"c:\\Users\\aleja\\miniconda3\\envs\\ml1\\Lib\\site-packages\\prefect\\utilities\\callables.py\", line 210, in call_with_parameters\n",
       "    return fn(*args, **kwargs)\n",
       "           ^^^^^^^^^^^^^^^^^^^\n",
       "  File \"C:\\Users\\aleja\\AppData\\Local\\Temp\\ipykernel_40508\\3613525291.py\", line 9, in wrapper\n",
       "    result = func(*args, **kwargs)\n",
       "             ^^^^^^^^^^^^^^^^^^^^^\n",
       "  File \"C:\\Users\\aleja\\AppData\\Local\\Temp\\ipykernel_40508\\2352096413.py\", line 12, in decision_tree\n",
       "    pd.concat([X_test, y_test, pd.Series(y_pred, name='Predicción', index=X_test.index)],\n",
       "                                                                         ^^^^^^^^^^^^\n",
       "AttributeError: 'numpy.ndarray' object has no attribute 'index'\n",
       "</pre>\n"
      ],
      "text/plain": [
       "12:43:31.669 | \u001b[38;5;160mERROR\u001b[0m   | Task run 'decision_tree-821' - Task run failed with exception: AttributeError(\"'numpy.ndarray' object has no attribute 'index'\")\n",
       "Traceback (most recent call last):\n",
       "  File \"c:\\Users\\aleja\\miniconda3\\envs\\ml1\\Lib\\site-packages\\prefect\\task_engine.py\", line 870, in run_context\n",
       "    yield self\n",
       "  File \"c:\\Users\\aleja\\miniconda3\\envs\\ml1\\Lib\\site-packages\\prefect\\task_engine.py\", line 1510, in run_task_sync\n",
       "    engine.call_task_fn(txn)\n",
       "  File \"c:\\Users\\aleja\\miniconda3\\envs\\ml1\\Lib\\site-packages\\prefect\\task_engine.py\", line 887, in call_task_fn\n",
       "    result = call_with_parameters(self.task.fn, parameters)\n",
       "             ^^^^^^^^^^^^^^^^^^^^^^^^^^^^^^^^^^^^^^^^^^^^^^\n",
       "  File \"c:\\Users\\aleja\\miniconda3\\envs\\ml1\\Lib\\site-packages\\prefect\\utilities\\callables.py\", line 210, in call_with_parameters\n",
       "    return fn(*args, **kwargs)\n",
       "           ^^^^^^^^^^^^^^^^^^^\n",
       "  File \"C:\\Users\\aleja\\AppData\\Local\\Temp\\ipykernel_40508\\3613525291.py\", line 9, in wrapper\n",
       "    result = func(*args, **kwargs)\n",
       "             ^^^^^^^^^^^^^^^^^^^^^\n",
       "  File \"C:\\Users\\aleja\\AppData\\Local\\Temp\\ipykernel_40508\\2352096413.py\", line 12, in decision_tree\n",
       "    pd.concat([X_test, y_test, pd.Series(y_pred, name='Predicción', index=X_test.index)],\n",
       "                                                                         ^^^^^^^^^^^^\n",
       "AttributeError: 'numpy.ndarray' object has no attribute 'index'\n"
      ]
     },
     "metadata": {},
     "output_type": "display_data"
    },
    {
     "data": {
      "text/html": [
       "<pre style=\"white-space:pre;overflow-x:auto;line-height:normal;font-family:Menlo,'DejaVu Sans Mono',consolas,'Courier New',monospace\">12:43:31.695 | <span style=\"color: #d70000; text-decoration-color: #d70000\">ERROR</span>   | Task run 'decision_tree-821' - Finished in state <span style=\"color: #d70000; text-decoration-color: #d70000\">Failed</span>(\"Task run encountered an exception AttributeError: 'numpy.ndarray' object has no attribute 'index'\")\n",
       "</pre>\n"
      ],
      "text/plain": [
       "12:43:31.695 | \u001b[38;5;160mERROR\u001b[0m   | Task run 'decision_tree-821' - Finished in state \u001b[38;5;160mFailed\u001b[0m(\"Task run encountered an exception AttributeError: 'numpy.ndarray' object has no attribute 'index'\")\n"
      ]
     },
     "metadata": {},
     "output_type": "display_data"
    },
    {
     "data": {
      "text/html": [
       "<pre style=\"white-space:pre;overflow-x:auto;line-height:normal;font-family:Menlo,'DejaVu Sans Mono',consolas,'Courier New',monospace\">12:43:31.699 | <span style=\"color: #d70000; text-decoration-color: #d70000\">ERROR</span>   | Flow run<span style=\"color: #800080; text-decoration-color: #800080\"> 'astute-pug'</span> - Encountered exception during execution: AttributeError(\"'numpy.ndarray' object has no attribute 'index'\")\n",
       "Traceback (most recent call last):\n",
       "  File \"c:\\Users\\aleja\\miniconda3\\envs\\ml1\\Lib\\site-packages\\prefect\\flow_engine.py\", line 781, in run_context\n",
       "    yield self\n",
       "  File \"c:\\Users\\aleja\\miniconda3\\envs\\ml1\\Lib\\site-packages\\prefect\\flow_engine.py\", line 1395, in run_flow_sync\n",
       "    engine.call_flow_fn()\n",
       "  File \"c:\\Users\\aleja\\miniconda3\\envs\\ml1\\Lib\\site-packages\\prefect\\flow_engine.py\", line 801, in call_flow_fn\n",
       "    result = call_with_parameters(self.flow.fn, self.parameters)\n",
       "             ^^^^^^^^^^^^^^^^^^^^^^^^^^^^^^^^^^^^^^^^^^^^^^^^^^^\n",
       "  File \"c:\\Users\\aleja\\miniconda3\\envs\\ml1\\Lib\\site-packages\\prefect\\utilities\\callables.py\", line 210, in call_with_parameters\n",
       "    return fn(*args, **kwargs)\n",
       "           ^^^^^^^^^^^^^^^^^^^\n",
       "  File \"C:\\Users\\aleja\\AppData\\Local\\Temp\\ipykernel_40508\\3394886318.py\", line 8, in cancer_flow\n",
       "    dtree_model, y_pred = decision_tree(X_train, X_test, y_train, y_test)\n",
       "                          ^^^^^^^^^^^^^^^^^^^^^^^^^^^^^^^^^^^^^^^^^^^^^^^\n",
       "  File \"c:\\Users\\aleja\\miniconda3\\envs\\ml1\\Lib\\site-packages\\prefect\\tasks.py\", line 1139, in __call__\n",
       "    return run_task(\n",
       "           ^^^^^^^^^\n",
       "  File \"c:\\Users\\aleja\\miniconda3\\envs\\ml1\\Lib\\site-packages\\prefect\\task_engine.py\", line 1737, in run_task\n",
       "    return run_task_sync(**kwargs)\n",
       "           ^^^^^^^^^^^^^^^^^^^^^^^\n",
       "  File \"c:\\Users\\aleja\\miniconda3\\envs\\ml1\\Lib\\site-packages\\prefect\\task_engine.py\", line 1512, in run_task_sync\n",
       "    return engine.state if return_type == \"state\" else engine.result()\n",
       "                                                       ^^^^^^^^^^^^^^^\n",
       "  File \"c:\\Users\\aleja\\miniconda3\\envs\\ml1\\Lib\\site-packages\\prefect\\task_engine.py\", line 493, in result\n",
       "    raise self._raised\n",
       "  File \"c:\\Users\\aleja\\miniconda3\\envs\\ml1\\Lib\\site-packages\\prefect\\task_engine.py\", line 870, in run_context\n",
       "    yield self\n",
       "  File \"c:\\Users\\aleja\\miniconda3\\envs\\ml1\\Lib\\site-packages\\prefect\\task_engine.py\", line 1510, in run_task_sync\n",
       "    engine.call_task_fn(txn)\n",
       "  File \"c:\\Users\\aleja\\miniconda3\\envs\\ml1\\Lib\\site-packages\\prefect\\task_engine.py\", line 887, in call_task_fn\n",
       "    result = call_with_parameters(self.task.fn, parameters)\n",
       "             ^^^^^^^^^^^^^^^^^^^^^^^^^^^^^^^^^^^^^^^^^^^^^^\n",
       "  File \"c:\\Users\\aleja\\miniconda3\\envs\\ml1\\Lib\\site-packages\\prefect\\utilities\\callables.py\", line 210, in call_with_parameters\n",
       "    return fn(*args, **kwargs)\n",
       "           ^^^^^^^^^^^^^^^^^^^\n",
       "  File \"C:\\Users\\aleja\\AppData\\Local\\Temp\\ipykernel_40508\\3613525291.py\", line 9, in wrapper\n",
       "    result = func(*args, **kwargs)\n",
       "             ^^^^^^^^^^^^^^^^^^^^^\n",
       "  File \"C:\\Users\\aleja\\AppData\\Local\\Temp\\ipykernel_40508\\2352096413.py\", line 12, in decision_tree\n",
       "    pd.concat([X_test, y_test, pd.Series(y_pred, name='Predicción', index=X_test.index)],\n",
       "                                                                         ^^^^^^^^^^^^\n",
       "AttributeError: 'numpy.ndarray' object has no attribute 'index'\n",
       "</pre>\n"
      ],
      "text/plain": [
       "12:43:31.699 | \u001b[38;5;160mERROR\u001b[0m   | Flow run\u001b[35m 'astute-pug'\u001b[0m - Encountered exception during execution: AttributeError(\"'numpy.ndarray' object has no attribute 'index'\")\n",
       "Traceback (most recent call last):\n",
       "  File \"c:\\Users\\aleja\\miniconda3\\envs\\ml1\\Lib\\site-packages\\prefect\\flow_engine.py\", line 781, in run_context\n",
       "    yield self\n",
       "  File \"c:\\Users\\aleja\\miniconda3\\envs\\ml1\\Lib\\site-packages\\prefect\\flow_engine.py\", line 1395, in run_flow_sync\n",
       "    engine.call_flow_fn()\n",
       "  File \"c:\\Users\\aleja\\miniconda3\\envs\\ml1\\Lib\\site-packages\\prefect\\flow_engine.py\", line 801, in call_flow_fn\n",
       "    result = call_with_parameters(self.flow.fn, self.parameters)\n",
       "             ^^^^^^^^^^^^^^^^^^^^^^^^^^^^^^^^^^^^^^^^^^^^^^^^^^^\n",
       "  File \"c:\\Users\\aleja\\miniconda3\\envs\\ml1\\Lib\\site-packages\\prefect\\utilities\\callables.py\", line 210, in call_with_parameters\n",
       "    return fn(*args, **kwargs)\n",
       "           ^^^^^^^^^^^^^^^^^^^\n",
       "  File \"C:\\Users\\aleja\\AppData\\Local\\Temp\\ipykernel_40508\\3394886318.py\", line 8, in cancer_flow\n",
       "    dtree_model, y_pred = decision_tree(X_train, X_test, y_train, y_test)\n",
       "                          ^^^^^^^^^^^^^^^^^^^^^^^^^^^^^^^^^^^^^^^^^^^^^^^\n",
       "  File \"c:\\Users\\aleja\\miniconda3\\envs\\ml1\\Lib\\site-packages\\prefect\\tasks.py\", line 1139, in __call__\n",
       "    return run_task(\n",
       "           ^^^^^^^^^\n",
       "  File \"c:\\Users\\aleja\\miniconda3\\envs\\ml1\\Lib\\site-packages\\prefect\\task_engine.py\", line 1737, in run_task\n",
       "    return run_task_sync(**kwargs)\n",
       "           ^^^^^^^^^^^^^^^^^^^^^^^\n",
       "  File \"c:\\Users\\aleja\\miniconda3\\envs\\ml1\\Lib\\site-packages\\prefect\\task_engine.py\", line 1512, in run_task_sync\n",
       "    return engine.state if return_type == \"state\" else engine.result()\n",
       "                                                       ^^^^^^^^^^^^^^^\n",
       "  File \"c:\\Users\\aleja\\miniconda3\\envs\\ml1\\Lib\\site-packages\\prefect\\task_engine.py\", line 493, in result\n",
       "    raise self._raised\n",
       "  File \"c:\\Users\\aleja\\miniconda3\\envs\\ml1\\Lib\\site-packages\\prefect\\task_engine.py\", line 870, in run_context\n",
       "    yield self\n",
       "  File \"c:\\Users\\aleja\\miniconda3\\envs\\ml1\\Lib\\site-packages\\prefect\\task_engine.py\", line 1510, in run_task_sync\n",
       "    engine.call_task_fn(txn)\n",
       "  File \"c:\\Users\\aleja\\miniconda3\\envs\\ml1\\Lib\\site-packages\\prefect\\task_engine.py\", line 887, in call_task_fn\n",
       "    result = call_with_parameters(self.task.fn, parameters)\n",
       "             ^^^^^^^^^^^^^^^^^^^^^^^^^^^^^^^^^^^^^^^^^^^^^^\n",
       "  File \"c:\\Users\\aleja\\miniconda3\\envs\\ml1\\Lib\\site-packages\\prefect\\utilities\\callables.py\", line 210, in call_with_parameters\n",
       "    return fn(*args, **kwargs)\n",
       "           ^^^^^^^^^^^^^^^^^^^\n",
       "  File \"C:\\Users\\aleja\\AppData\\Local\\Temp\\ipykernel_40508\\3613525291.py\", line 9, in wrapper\n",
       "    result = func(*args, **kwargs)\n",
       "             ^^^^^^^^^^^^^^^^^^^^^\n",
       "  File \"C:\\Users\\aleja\\AppData\\Local\\Temp\\ipykernel_40508\\2352096413.py\", line 12, in decision_tree\n",
       "    pd.concat([X_test, y_test, pd.Series(y_pred, name='Predicción', index=X_test.index)],\n",
       "                                                                         ^^^^^^^^^^^^\n",
       "AttributeError: 'numpy.ndarray' object has no attribute 'index'\n"
      ]
     },
     "metadata": {},
     "output_type": "display_data"
    },
    {
     "data": {
      "text/html": [
       "<pre style=\"white-space:pre;overflow-x:auto;line-height:normal;font-family:Menlo,'DejaVu Sans Mono',consolas,'Courier New',monospace\">12:43:31.812 | <span style=\"color: #008080; text-decoration-color: #008080\">INFO</span>    | Flow run<span style=\"color: #800080; text-decoration-color: #800080\"> 'astute-pug'</span> - Finished in state <span style=\"color: #d70000; text-decoration-color: #d70000\">Failed</span>(\"Flow run encountered an exception: AttributeError: 'numpy.ndarray' object has no attribute 'index'\")\n",
       "</pre>\n"
      ],
      "text/plain": [
       "12:43:31.812 | \u001b[36mINFO\u001b[0m    | Flow run\u001b[35m 'astute-pug'\u001b[0m - Finished in state \u001b[38;5;160mFailed\u001b[0m(\"Flow run encountered an exception: AttributeError: 'numpy.ndarray' object has no attribute 'index'\")\n"
      ]
     },
     "metadata": {},
     "output_type": "display_data"
    },
    {
     "ename": "AttributeError",
     "evalue": "'numpy.ndarray' object has no attribute 'index'",
     "output_type": "error",
     "traceback": [
      "\u001b[31m---------------------------------------------------------------------------\u001b[39m",
      "\u001b[31mAttributeError\u001b[39m                            Traceback (most recent call last)",
      "\u001b[36mCell\u001b[39m\u001b[36m \u001b[39m\u001b[32mIn[88]\u001b[39m\u001b[32m, line 23\u001b[39m\n\u001b[32m     21\u001b[39m     svm_class_scaled = svm_scaler(X_train, X_test, y_train, y_test)\n\u001b[32m     22\u001b[39m     confusion_matrix(class_names, svm_class_scaled, X_test, y_test)\n\u001b[32m---> \u001b[39m\u001b[32m23\u001b[39m \u001b[43mcancer_flow\u001b[49m\u001b[43m(\u001b[49m\u001b[43m)\u001b[49m\n",
      "\u001b[36mFile \u001b[39m\u001b[32mc:\\Users\\aleja\\miniconda3\\envs\\ml1\\Lib\\site-packages\\prefect\\flows.py:1702\u001b[39m, in \u001b[36mFlow.__call__\u001b[39m\u001b[34m(self, return_state, wait_for, *args, **kwargs)\u001b[39m\n\u001b[32m   1698\u001b[39m     \u001b[38;5;28;01mreturn\u001b[39;00m track_viz_task(\u001b[38;5;28mself\u001b[39m.isasync, \u001b[38;5;28mself\u001b[39m.name, parameters)\n\u001b[32m   1700\u001b[39m \u001b[38;5;28;01mfrom\u001b[39;00m\u001b[38;5;250m \u001b[39m\u001b[34;01mprefect\u001b[39;00m\u001b[34;01m.\u001b[39;00m\u001b[34;01mflow_engine\u001b[39;00m\u001b[38;5;250m \u001b[39m\u001b[38;5;28;01mimport\u001b[39;00m run_flow\n\u001b[32m-> \u001b[39m\u001b[32m1702\u001b[39m \u001b[38;5;28;01mreturn\u001b[39;00m \u001b[43mrun_flow\u001b[49m\u001b[43m(\u001b[49m\n\u001b[32m   1703\u001b[39m \u001b[43m    \u001b[49m\u001b[43mflow\u001b[49m\u001b[43m=\u001b[49m\u001b[38;5;28;43mself\u001b[39;49m\u001b[43m,\u001b[49m\n\u001b[32m   1704\u001b[39m \u001b[43m    \u001b[49m\u001b[43mparameters\u001b[49m\u001b[43m=\u001b[49m\u001b[43mparameters\u001b[49m\u001b[43m,\u001b[49m\n\u001b[32m   1705\u001b[39m \u001b[43m    \u001b[49m\u001b[43mwait_for\u001b[49m\u001b[43m=\u001b[49m\u001b[43mwait_for\u001b[49m\u001b[43m,\u001b[49m\n\u001b[32m   1706\u001b[39m \u001b[43m    \u001b[49m\u001b[43mreturn_type\u001b[49m\u001b[43m=\u001b[49m\u001b[43mreturn_type\u001b[49m\u001b[43m,\u001b[49m\n\u001b[32m   1707\u001b[39m \u001b[43m\u001b[49m\u001b[43m)\u001b[49m\n",
      "\u001b[36mFile \u001b[39m\u001b[32mc:\\Users\\aleja\\miniconda3\\envs\\ml1\\Lib\\site-packages\\prefect\\flow_engine.py:1552\u001b[39m, in \u001b[36mrun_flow\u001b[39m\u001b[34m(flow, flow_run, parameters, wait_for, return_type, error_logger, context)\u001b[39m\n\u001b[32m   1550\u001b[39m         ret_val = run_flow_async(**kwargs)\n\u001b[32m   1551\u001b[39m     \u001b[38;5;28;01melse\u001b[39;00m:\n\u001b[32m-> \u001b[39m\u001b[32m1552\u001b[39m         ret_val = \u001b[43mrun_flow_sync\u001b[49m\u001b[43m(\u001b[49m\u001b[43m*\u001b[49m\u001b[43m*\u001b[49m\u001b[43mkwargs\u001b[49m\u001b[43m)\u001b[49m\n\u001b[32m   1553\u001b[39m \u001b[38;5;28;01mexcept\u001b[39;00m (Abort, Pause):\n\u001b[32m   1554\u001b[39m     \u001b[38;5;28;01mraise\u001b[39;00m\n",
      "\u001b[36mFile \u001b[39m\u001b[32mc:\\Users\\aleja\\miniconda3\\envs\\ml1\\Lib\\site-packages\\prefect\\flow_engine.py:1397\u001b[39m, in \u001b[36mrun_flow_sync\u001b[39m\u001b[34m(flow, flow_run, parameters, wait_for, return_type, context)\u001b[39m\n\u001b[32m   1394\u001b[39m         \u001b[38;5;28;01mwith\u001b[39;00m engine.run_context():\n\u001b[32m   1395\u001b[39m             engine.call_flow_fn()\n\u001b[32m-> \u001b[39m\u001b[32m1397\u001b[39m \u001b[38;5;28;01mreturn\u001b[39;00m engine.state \u001b[38;5;28;01mif\u001b[39;00m return_type == \u001b[33m\"\u001b[39m\u001b[33mstate\u001b[39m\u001b[33m\"\u001b[39m \u001b[38;5;28;01melse\u001b[39;00m \u001b[43mengine\u001b[49m\u001b[43m.\u001b[49m\u001b[43mresult\u001b[49m\u001b[43m(\u001b[49m\u001b[43m)\u001b[49m\n",
      "\u001b[36mFile \u001b[39m\u001b[32mc:\\Users\\aleja\\miniconda3\\envs\\ml1\\Lib\\site-packages\\prefect\\flow_engine.py:361\u001b[39m, in \u001b[36mFlowRunEngine.result\u001b[39m\u001b[34m(self, raise_on_failure)\u001b[39m\n\u001b[32m    359\u001b[39m \u001b[38;5;28;01mif\u001b[39;00m \u001b[38;5;28mself\u001b[39m._raised \u001b[38;5;129;01mis\u001b[39;00m \u001b[38;5;129;01mnot\u001b[39;00m NotSet:\n\u001b[32m    360\u001b[39m     \u001b[38;5;28;01mif\u001b[39;00m raise_on_failure:\n\u001b[32m--> \u001b[39m\u001b[32m361\u001b[39m         \u001b[38;5;28;01mraise\u001b[39;00m \u001b[38;5;28mself\u001b[39m._raised\n\u001b[32m    362\u001b[39m     \u001b[38;5;28;01mreturn\u001b[39;00m \u001b[38;5;28mself\u001b[39m._raised\n\u001b[32m    364\u001b[39m \u001b[38;5;66;03m# This is a fall through case which leans on the existing state result mechanics to get the\u001b[39;00m\n\u001b[32m    365\u001b[39m \u001b[38;5;66;03m# return value. This is necessary because we currently will return a State object if the\u001b[39;00m\n\u001b[32m    366\u001b[39m \u001b[38;5;66;03m# the State was Prefect-created.\u001b[39;00m\n\u001b[32m    367\u001b[39m \u001b[38;5;66;03m# TODO: Remove the need to get the result from a State except in cases where the return value\u001b[39;00m\n\u001b[32m    368\u001b[39m \u001b[38;5;66;03m# is a State object.\u001b[39;00m\n",
      "\u001b[36mFile \u001b[39m\u001b[32mc:\\Users\\aleja\\miniconda3\\envs\\ml1\\Lib\\site-packages\\prefect\\flow_engine.py:781\u001b[39m, in \u001b[36mFlowRunEngine.run_context\u001b[39m\u001b[34m(self)\u001b[39m\n\u001b[32m    774\u001b[39m     \u001b[38;5;28;01mwith\u001b[39;00m timeout_context(\n\u001b[32m    775\u001b[39m         seconds=\u001b[38;5;28mself\u001b[39m.flow.timeout_seconds,\n\u001b[32m    776\u001b[39m         timeout_exc_type=FlowRunTimeoutError,\n\u001b[32m    777\u001b[39m     ):\n\u001b[32m    778\u001b[39m         \u001b[38;5;28mself\u001b[39m.logger.debug(\n\u001b[32m    779\u001b[39m             \u001b[33mf\u001b[39m\u001b[33m\"\u001b[39m\u001b[33mExecuting flow \u001b[39m\u001b[38;5;132;01m{\u001b[39;00m\u001b[38;5;28mself\u001b[39m.flow.name\u001b[38;5;132;01m!r}\u001b[39;00m\u001b[33m for flow run \u001b[39m\u001b[38;5;132;01m{\u001b[39;00m\u001b[38;5;28mself\u001b[39m.flow_run.name\u001b[38;5;132;01m!r}\u001b[39;00m\u001b[33m...\u001b[39m\u001b[33m\"\u001b[39m\n\u001b[32m    780\u001b[39m         )\n\u001b[32m--> \u001b[39m\u001b[32m781\u001b[39m         \u001b[38;5;28;01myield\u001b[39;00m \u001b[38;5;28mself\u001b[39m\n\u001b[32m    782\u001b[39m \u001b[38;5;28;01mexcept\u001b[39;00m \u001b[38;5;167;01mTimeoutError\u001b[39;00m \u001b[38;5;28;01mas\u001b[39;00m exc:\n\u001b[32m    783\u001b[39m     \u001b[38;5;28mself\u001b[39m.handle_timeout(exc)\n",
      "\u001b[36mFile \u001b[39m\u001b[32mc:\\Users\\aleja\\miniconda3\\envs\\ml1\\Lib\\site-packages\\prefect\\flow_engine.py:1395\u001b[39m, in \u001b[36mrun_flow_sync\u001b[39m\u001b[34m(flow, flow_run, parameters, wait_for, return_type, context)\u001b[39m\n\u001b[32m   1393\u001b[39m     \u001b[38;5;28;01mwhile\u001b[39;00m engine.is_running():\n\u001b[32m   1394\u001b[39m         \u001b[38;5;28;01mwith\u001b[39;00m engine.run_context():\n\u001b[32m-> \u001b[39m\u001b[32m1395\u001b[39m             \u001b[43mengine\u001b[49m\u001b[43m.\u001b[49m\u001b[43mcall_flow_fn\u001b[49m\u001b[43m(\u001b[49m\u001b[43m)\u001b[49m\n\u001b[32m   1397\u001b[39m \u001b[38;5;28;01mreturn\u001b[39;00m engine.state \u001b[38;5;28;01mif\u001b[39;00m return_type == \u001b[33m\"\u001b[39m\u001b[33mstate\u001b[39m\u001b[33m\"\u001b[39m \u001b[38;5;28;01melse\u001b[39;00m engine.result()\n",
      "\u001b[36mFile \u001b[39m\u001b[32mc:\\Users\\aleja\\miniconda3\\envs\\ml1\\Lib\\site-packages\\prefect\\flow_engine.py:801\u001b[39m, in \u001b[36mFlowRunEngine.call_flow_fn\u001b[39m\u001b[34m(self)\u001b[39m\n\u001b[32m    799\u001b[39m     \u001b[38;5;28;01mreturn\u001b[39;00m _call_flow_fn()\n\u001b[32m    800\u001b[39m \u001b[38;5;28;01melse\u001b[39;00m:\n\u001b[32m--> \u001b[39m\u001b[32m801\u001b[39m     result = \u001b[43mcall_with_parameters\u001b[49m\u001b[43m(\u001b[49m\u001b[38;5;28;43mself\u001b[39;49m\u001b[43m.\u001b[49m\u001b[43mflow\u001b[49m\u001b[43m.\u001b[49m\u001b[43mfn\u001b[49m\u001b[43m,\u001b[49m\u001b[43m \u001b[49m\u001b[38;5;28;43mself\u001b[39;49m\u001b[43m.\u001b[49m\u001b[43mparameters\u001b[49m\u001b[43m)\u001b[49m\n\u001b[32m    802\u001b[39m     \u001b[38;5;28mself\u001b[39m.handle_success(result)\n",
      "\u001b[36mFile \u001b[39m\u001b[32mc:\\Users\\aleja\\miniconda3\\envs\\ml1\\Lib\\site-packages\\prefect\\utilities\\callables.py:210\u001b[39m, in \u001b[36mcall_with_parameters\u001b[39m\u001b[34m(fn, parameters)\u001b[39m\n\u001b[32m    202\u001b[39m \u001b[38;5;250m\u001b[39m\u001b[33;03m\"\"\"\u001b[39;00m\n\u001b[32m    203\u001b[39m \u001b[33;03mCall a function with parameters extracted with `get_call_parameters`\u001b[39;00m\n\u001b[32m    204\u001b[39m \n\u001b[32m   (...)\u001b[39m\u001b[32m    207\u001b[39m \u001b[33;03mthe args/kwargs using `parameters_to_positional_and_keyword` directly\u001b[39;00m\n\u001b[32m    208\u001b[39m \u001b[33;03m\"\"\"\u001b[39;00m\n\u001b[32m    209\u001b[39m args, kwargs = parameters_to_args_kwargs(fn, parameters)\n\u001b[32m--> \u001b[39m\u001b[32m210\u001b[39m \u001b[38;5;28;01mreturn\u001b[39;00m \u001b[43mfn\u001b[49m\u001b[43m(\u001b[49m\u001b[43m*\u001b[49m\u001b[43margs\u001b[49m\u001b[43m,\u001b[49m\u001b[43m \u001b[49m\u001b[43m*\u001b[49m\u001b[43m*\u001b[49m\u001b[43mkwargs\u001b[49m\u001b[43m)\u001b[49m\n",
      "\u001b[36mCell\u001b[39m\u001b[36m \u001b[39m\u001b[32mIn[88]\u001b[39m\u001b[32m, line 8\u001b[39m, in \u001b[36mcancer_flow\u001b[39m\u001b[34m()\u001b[39m\n\u001b[32m      4\u001b[39m X_train, X_test, y_train, y_test = cancer_preprocessing(dataset)\n\u001b[32m      6\u001b[39m class_names = [\u001b[33m'\u001b[39m\u001b[33m0\u001b[39m\u001b[33m'\u001b[39m,\u001b[33m'\u001b[39m\u001b[33m1\u001b[39m\u001b[33m'\u001b[39m]\n\u001b[32m----> \u001b[39m\u001b[32m8\u001b[39m dtree_model, y_pred = \u001b[43mdecision_tree\u001b[49m\u001b[43m(\u001b[49m\u001b[43mX_train\u001b[49m\u001b[43m,\u001b[49m\u001b[43m \u001b[49m\u001b[43mX_test\u001b[49m\u001b[43m,\u001b[49m\u001b[43m \u001b[49m\u001b[43my_train\u001b[49m\u001b[43m,\u001b[49m\u001b[43m \u001b[49m\u001b[43my_test\u001b[49m\u001b[43m)\u001b[49m\n\u001b[32m      9\u001b[39m confusion_matrix(class_names, dtree_model, X_test, y_test)\n\u001b[32m     11\u001b[39m rf_model =random_forest(X_train, X_test, y_train, y_test)\n",
      "\u001b[36mFile \u001b[39m\u001b[32mc:\\Users\\aleja\\miniconda3\\envs\\ml1\\Lib\\site-packages\\prefect\\tasks.py:1139\u001b[39m, in \u001b[36mTask.__call__\u001b[39m\u001b[34m(self, return_state, wait_for, *args, **kwargs)\u001b[39m\n\u001b[32m   1133\u001b[39m     \u001b[38;5;28;01mreturn\u001b[39;00m track_viz_task(\n\u001b[32m   1134\u001b[39m         \u001b[38;5;28mself\u001b[39m.isasync, \u001b[38;5;28mself\u001b[39m.name, parameters, \u001b[38;5;28mself\u001b[39m.viz_return_value\n\u001b[32m   1135\u001b[39m     )\n\u001b[32m   1137\u001b[39m \u001b[38;5;28;01mfrom\u001b[39;00m\u001b[38;5;250m \u001b[39m\u001b[34;01mprefect\u001b[39;00m\u001b[34;01m.\u001b[39;00m\u001b[34;01mtask_engine\u001b[39;00m\u001b[38;5;250m \u001b[39m\u001b[38;5;28;01mimport\u001b[39;00m run_task\n\u001b[32m-> \u001b[39m\u001b[32m1139\u001b[39m \u001b[38;5;28;01mreturn\u001b[39;00m \u001b[43mrun_task\u001b[49m\u001b[43m(\u001b[49m\n\u001b[32m   1140\u001b[39m \u001b[43m    \u001b[49m\u001b[43mtask\u001b[49m\u001b[43m=\u001b[49m\u001b[38;5;28;43mself\u001b[39;49m\u001b[43m,\u001b[49m\n\u001b[32m   1141\u001b[39m \u001b[43m    \u001b[49m\u001b[43mparameters\u001b[49m\u001b[43m=\u001b[49m\u001b[43mparameters\u001b[49m\u001b[43m,\u001b[49m\n\u001b[32m   1142\u001b[39m \u001b[43m    \u001b[49m\u001b[43mwait_for\u001b[49m\u001b[43m=\u001b[49m\u001b[43mwait_for\u001b[49m\u001b[43m,\u001b[49m\n\u001b[32m   1143\u001b[39m \u001b[43m    \u001b[49m\u001b[43mreturn_type\u001b[49m\u001b[43m=\u001b[49m\u001b[43mreturn_type\u001b[49m\u001b[43m,\u001b[49m\n\u001b[32m   1144\u001b[39m \u001b[43m\u001b[49m\u001b[43m)\u001b[49m\n",
      "\u001b[36mFile \u001b[39m\u001b[32mc:\\Users\\aleja\\miniconda3\\envs\\ml1\\Lib\\site-packages\\prefect\\task_engine.py:1737\u001b[39m, in \u001b[36mrun_task\u001b[39m\u001b[34m(task, task_run_id, task_run, parameters, wait_for, return_type, dependencies, context)\u001b[39m\n\u001b[32m   1735\u001b[39m     \u001b[38;5;28;01mreturn\u001b[39;00m run_task_async(**kwargs)\n\u001b[32m   1736\u001b[39m \u001b[38;5;28;01melse\u001b[39;00m:\n\u001b[32m-> \u001b[39m\u001b[32m1737\u001b[39m     \u001b[38;5;28;01mreturn\u001b[39;00m \u001b[43mrun_task_sync\u001b[49m\u001b[43m(\u001b[49m\u001b[43m*\u001b[49m\u001b[43m*\u001b[49m\u001b[43mkwargs\u001b[49m\u001b[43m)\u001b[49m\n",
      "\u001b[36mFile \u001b[39m\u001b[32mc:\\Users\\aleja\\miniconda3\\envs\\ml1\\Lib\\site-packages\\prefect\\task_engine.py:1512\u001b[39m, in \u001b[36mrun_task_sync\u001b[39m\u001b[34m(task, task_run_id, task_run, parameters, wait_for, return_type, dependencies, context)\u001b[39m\n\u001b[32m   1505\u001b[39m         \u001b[38;5;28;01mwith\u001b[39;00m (\n\u001b[32m   1506\u001b[39m             engine.asset_context(),\n\u001b[32m   1507\u001b[39m             engine.run_context(),\n\u001b[32m   1508\u001b[39m             engine.transaction_context() \u001b[38;5;28;01mas\u001b[39;00m txn,\n\u001b[32m   1509\u001b[39m         ):\n\u001b[32m   1510\u001b[39m             engine.call_task_fn(txn)\n\u001b[32m-> \u001b[39m\u001b[32m1512\u001b[39m \u001b[38;5;28;01mreturn\u001b[39;00m engine.state \u001b[38;5;28;01mif\u001b[39;00m return_type == \u001b[33m\"\u001b[39m\u001b[33mstate\u001b[39m\u001b[33m\"\u001b[39m \u001b[38;5;28;01melse\u001b[39;00m \u001b[43mengine\u001b[49m\u001b[43m.\u001b[49m\u001b[43mresult\u001b[49m\u001b[43m(\u001b[49m\u001b[43m)\u001b[49m\n",
      "\u001b[36mFile \u001b[39m\u001b[32mc:\\Users\\aleja\\miniconda3\\envs\\ml1\\Lib\\site-packages\\prefect\\task_engine.py:493\u001b[39m, in \u001b[36mSyncTaskRunEngine.result\u001b[39m\u001b[34m(self, raise_on_failure)\u001b[39m\n\u001b[32m    490\u001b[39m \u001b[38;5;28;01mif\u001b[39;00m \u001b[38;5;28mself\u001b[39m._raised \u001b[38;5;129;01mis\u001b[39;00m \u001b[38;5;129;01mnot\u001b[39;00m NotSet:\n\u001b[32m    491\u001b[39m     \u001b[38;5;66;03m# if the task raised an exception, raise it\u001b[39;00m\n\u001b[32m    492\u001b[39m     \u001b[38;5;28;01mif\u001b[39;00m raise_on_failure:\n\u001b[32m--> \u001b[39m\u001b[32m493\u001b[39m         \u001b[38;5;28;01mraise\u001b[39;00m \u001b[38;5;28mself\u001b[39m._raised\n\u001b[32m    495\u001b[39m     \u001b[38;5;66;03m# otherwise, return the exception\u001b[39;00m\n\u001b[32m    496\u001b[39m     \u001b[38;5;28;01mreturn\u001b[39;00m \u001b[38;5;28mself\u001b[39m._raised\n",
      "\u001b[36mFile \u001b[39m\u001b[32mc:\\Users\\aleja\\miniconda3\\envs\\ml1\\Lib\\site-packages\\prefect\\task_engine.py:870\u001b[39m, in \u001b[36mSyncTaskRunEngine.run_context\u001b[39m\u001b[34m(self)\u001b[39m\n\u001b[32m    867\u001b[39m         \u001b[38;5;28;01mif\u001b[39;00m \u001b[38;5;28mself\u001b[39m.is_cancelled():\n\u001b[32m    868\u001b[39m             \u001b[38;5;28;01mraise\u001b[39;00m CancelledError(\u001b[33m\"\u001b[39m\u001b[33mTask run cancelled by the task runner\u001b[39m\u001b[33m\"\u001b[39m)\n\u001b[32m--> \u001b[39m\u001b[32m870\u001b[39m         \u001b[38;5;28;01myield\u001b[39;00m \u001b[38;5;28mself\u001b[39m\n\u001b[32m    871\u001b[39m \u001b[38;5;28;01mexcept\u001b[39;00m \u001b[38;5;167;01mTimeoutError\u001b[39;00m \u001b[38;5;28;01mas\u001b[39;00m exc:\n\u001b[32m    872\u001b[39m     \u001b[38;5;28mself\u001b[39m.handle_timeout(exc)\n",
      "\u001b[36mFile \u001b[39m\u001b[32mc:\\Users\\aleja\\miniconda3\\envs\\ml1\\Lib\\site-packages\\prefect\\task_engine.py:1510\u001b[39m, in \u001b[36mrun_task_sync\u001b[39m\u001b[34m(task, task_run_id, task_run, parameters, wait_for, return_type, dependencies, context)\u001b[39m\n\u001b[32m   1504\u001b[39m         run_coro_as_sync(engine.wait_until_ready())\n\u001b[32m   1505\u001b[39m         \u001b[38;5;28;01mwith\u001b[39;00m (\n\u001b[32m   1506\u001b[39m             engine.asset_context(),\n\u001b[32m   1507\u001b[39m             engine.run_context(),\n\u001b[32m   1508\u001b[39m             engine.transaction_context() \u001b[38;5;28;01mas\u001b[39;00m txn,\n\u001b[32m   1509\u001b[39m         ):\n\u001b[32m-> \u001b[39m\u001b[32m1510\u001b[39m             \u001b[43mengine\u001b[49m\u001b[43m.\u001b[49m\u001b[43mcall_task_fn\u001b[49m\u001b[43m(\u001b[49m\u001b[43mtxn\u001b[49m\u001b[43m)\u001b[49m\n\u001b[32m   1512\u001b[39m \u001b[38;5;28;01mreturn\u001b[39;00m engine.state \u001b[38;5;28;01mif\u001b[39;00m return_type == \u001b[33m\"\u001b[39m\u001b[33mstate\u001b[39m\u001b[33m\"\u001b[39m \u001b[38;5;28;01melse\u001b[39;00m engine.result()\n",
      "\u001b[36mFile \u001b[39m\u001b[32mc:\\Users\\aleja\\miniconda3\\envs\\ml1\\Lib\\site-packages\\prefect\\task_engine.py:887\u001b[39m, in \u001b[36mSyncTaskRunEngine.call_task_fn\u001b[39m\u001b[34m(self, transaction)\u001b[39m\n\u001b[32m    885\u001b[39m     result = transaction.read()\n\u001b[32m    886\u001b[39m \u001b[38;5;28;01melse\u001b[39;00m:\n\u001b[32m--> \u001b[39m\u001b[32m887\u001b[39m     result = \u001b[43mcall_with_parameters\u001b[49m\u001b[43m(\u001b[49m\u001b[38;5;28;43mself\u001b[39;49m\u001b[43m.\u001b[49m\u001b[43mtask\u001b[49m\u001b[43m.\u001b[49m\u001b[43mfn\u001b[49m\u001b[43m,\u001b[49m\u001b[43m \u001b[49m\u001b[43mparameters\u001b[49m\u001b[43m)\u001b[49m\n\u001b[32m    888\u001b[39m \u001b[38;5;28mself\u001b[39m.handle_success(result, transaction=transaction)\n\u001b[32m    889\u001b[39m \u001b[38;5;28;01mreturn\u001b[39;00m result\n",
      "\u001b[36mFile \u001b[39m\u001b[32mc:\\Users\\aleja\\miniconda3\\envs\\ml1\\Lib\\site-packages\\prefect\\utilities\\callables.py:210\u001b[39m, in \u001b[36mcall_with_parameters\u001b[39m\u001b[34m(fn, parameters)\u001b[39m\n\u001b[32m    202\u001b[39m \u001b[38;5;250m\u001b[39m\u001b[33;03m\"\"\"\u001b[39;00m\n\u001b[32m    203\u001b[39m \u001b[33;03mCall a function with parameters extracted with `get_call_parameters`\u001b[39;00m\n\u001b[32m    204\u001b[39m \n\u001b[32m   (...)\u001b[39m\u001b[32m    207\u001b[39m \u001b[33;03mthe args/kwargs using `parameters_to_positional_and_keyword` directly\u001b[39;00m\n\u001b[32m    208\u001b[39m \u001b[33;03m\"\"\"\u001b[39;00m\n\u001b[32m    209\u001b[39m args, kwargs = parameters_to_args_kwargs(fn, parameters)\n\u001b[32m--> \u001b[39m\u001b[32m210\u001b[39m \u001b[38;5;28;01mreturn\u001b[39;00m \u001b[43mfn\u001b[49m\u001b[43m(\u001b[49m\u001b[43m*\u001b[49m\u001b[43margs\u001b[49m\u001b[43m,\u001b[49m\u001b[43m \u001b[49m\u001b[43m*\u001b[49m\u001b[43m*\u001b[49m\u001b[43mkwargs\u001b[49m\u001b[43m)\u001b[49m\n",
      "\u001b[36mCell\u001b[39m\u001b[36m \u001b[39m\u001b[32mIn[72]\u001b[39m\u001b[32m, line 9\u001b[39m, in \u001b[36mtiming_decorator.<locals>.wrapper\u001b[39m\u001b[34m(*args, **kwargs)\u001b[39m\n\u001b[32m      6\u001b[39m start_time = time.time()\n\u001b[32m      8\u001b[39m \u001b[38;5;66;03m# Execute the original function\u001b[39;00m\n\u001b[32m----> \u001b[39m\u001b[32m9\u001b[39m result = \u001b[43mfunc\u001b[49m\u001b[43m(\u001b[49m\u001b[43m*\u001b[49m\u001b[43margs\u001b[49m\u001b[43m,\u001b[49m\u001b[43m \u001b[49m\u001b[43m*\u001b[49m\u001b[43m*\u001b[49m\u001b[43mkwargs\u001b[49m\u001b[43m)\u001b[49m\n\u001b[32m     11\u001b[39m end_time = time.time()\n\u001b[32m     12\u001b[39m execution_time = end_time - start_time\n",
      "\u001b[36mCell\u001b[39m\u001b[36m \u001b[39m\u001b[32mIn[79]\u001b[39m\u001b[32m, line 12\u001b[39m, in \u001b[36mdecision_tree\u001b[39m\u001b[34m(X_train, X_test, y_train, y_test)\u001b[39m\n\u001b[32m      9\u001b[39m \u001b[38;5;66;03m#Predicción para evaluación\u001b[39;00m\n\u001b[32m     10\u001b[39m y_pred = dtree.predict(X_test)\n\u001b[32m---> \u001b[39m\u001b[32m12\u001b[39m pd.concat([X_test, y_test, pd.Series(y_pred, name=\u001b[33m'\u001b[39m\u001b[33mPredicción\u001b[39m\u001b[33m'\u001b[39m, index=\u001b[43mX_test\u001b[49m\u001b[43m.\u001b[49m\u001b[43mindex\u001b[49m)], \n\u001b[32m     13\u001b[39m       ignore_index=\u001b[38;5;28;01mFalse\u001b[39;00m, axis=\u001b[32m1\u001b[39m)\n\u001b[32m     15\u001b[39m cv_scores = cross_val_score(dtree, X_train, y_train, cv=\u001b[32m5\u001b[39m)\n\u001b[32m     17\u001b[39m \u001b[38;5;66;03m# Escribe en pantalla los desempeños (\"accuracy\") para cada \"pliegue\" (fold)\u001b[39;00m\n",
      "\u001b[31mAttributeError\u001b[39m: 'numpy.ndarray' object has no attribute 'index'"
     ]
    }
   ],
   "source": [
    "@flow\n",
    "def cancer_flow():\n",
    "    dataset = cancer_dataset_retribution()\n",
    "    X_train, X_test, y_train, y_test = cancer_preprocessing(dataset)\n",
    "\n",
    "    class_names = ['0','1']\n",
    "\n",
    "    dtree_model, y_pred = decision_tree(X_train, X_test, y_train, y_test)\n",
    "    confusion_matrix(class_names, dtree_model, X_test, y_test)\n",
    "\n",
    "    rf_model =random_forest(X_train, X_test, y_train, y_test)\n",
    "    confusion_matrix(class_names, rf_model, X_test, y_test)\n",
    "\n",
    "    knn_model = knn(X_train, X_test, y_train, y_test)\n",
    "    confusion_matrix(class_names, knn_model, X_test, y_test)\n",
    "    knn_scaled = knn_scaler(X_train, X_test, y_train, y_test)\n",
    "    confusion_matrix(class_names, knn_scaled, X_test, y_test)\n",
    "\n",
    "    svm_class_model = svm(X_train, X_test, y_train, y_test)\n",
    "    confusion_matrix(class_names, svm_class_model, X_test, y_test)\n",
    "    svm_class_scaled = svm_scaler(X_train, X_test, y_train, y_test)\n",
    "    confusion_matrix(class_names, svm_class_scaled, X_test, y_test)\n",
    "cancer_flow()"
   ]
  },
  {
   "cell_type": "code",
   "execution_count": null,
   "id": "f1368fe9",
   "metadata": {},
   "outputs": [
    {
     "data": {
      "text/html": [
       "<pre style=\"white-space:pre;overflow-x:auto;line-height:normal;font-family:Menlo,'DejaVu Sans Mono',consolas,'Courier New',monospace\">12:44:35.593 | <span style=\"color: #008080; text-decoration-color: #008080\">INFO</span>    | Flow run<span style=\"color: #800080; text-decoration-color: #800080\"> 'quantum-kagu'</span> - Beginning flow run<span style=\"color: #800080; text-decoration-color: #800080\"> 'quantum-kagu'</span> for flow<span style=\"color: #800080; text-decoration-color: #800080; font-weight: bold\"> 'diabetes-flow'</span>\n",
       "</pre>\n"
      ],
      "text/plain": [
       "12:44:35.593 | \u001b[36mINFO\u001b[0m    | Flow run\u001b[35m 'quantum-kagu'\u001b[0m - Beginning flow run\u001b[35m 'quantum-kagu'\u001b[0m for flow\u001b[1;35m 'diabetes-flow'\u001b[0m\n"
      ]
     },
     "metadata": {},
     "output_type": "display_data"
    }
   ],
   "source": [
    "@flow\n",
    "def diabetes_flow():\n",
    "    dataset = diabetes_dataset_retribution()\n",
    "    X_train, X_test, y_train, y_test = diabetes_preprocessing(dataset)\n",
    "\n",
    "    class_names = ['0','1']\n",
    "\n",
    "    dtree_model, y_pred = decision_tree(X_train, X_test, y_train, y_test)\n",
    "    roc_curve_analysis(dtree_model, X_test, y_test, y_pred)\n",
    "    confusion_matrix(class_names, dtree_model, X_test, y_test)\n",
    "\n",
    "    rf_model =random_forest(X_train, X_test, y_train, y_test)\n",
    "    confusion_matrix(class_names, rf_model, X_test, y_test)\n",
    "\n",
    "    knn_model = knn(X_train, X_test, y_train, y_test)\n",
    "    confusion_matrix(class_names, knn_model, X_test, y_test)\n",
    "    knn_scaler(X_train, X_test, y_train, y_test)\n",
    "\n",
    "    svm_class_model = svm(X_train, X_test, y_train, y_test)\n",
    "    confusion_matrix(class_names, svm_class_model, X_test, y_test)\n",
    "    svm_scaler(X_train, X_test, y_train, y_test)\n",
    "diabetes_flow()"
   ]
  }
 ],
 "metadata": {
  "kernelspec": {
   "display_name": "ml1",
   "language": "python",
   "name": "python3"
  },
  "language_info": {
   "codemirror_mode": {
    "name": "ipython",
    "version": 3
   },
   "file_extension": ".py",
   "mimetype": "text/x-python",
   "name": "python",
   "nbconvert_exporter": "python",
   "pygments_lexer": "ipython3",
   "version": "3.11.13"
  }
 },
 "nbformat": 4,
 "nbformat_minor": 5
}

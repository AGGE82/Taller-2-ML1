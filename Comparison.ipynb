{
 "cells": [
  {
   "cell_type": "markdown",
   "id": "f52aaab6",
   "metadata": {},
   "source": [
    "## DIABETES.csv\n"
   ]
  },
  {
   "cell_type": "code",
   "execution_count": 21,
   "id": "d03a4536",
   "metadata": {},
   "outputs": [],
   "source": [
    "import pandas as pd\n",
    "import numpy as np\n",
    "import requests\n",
    "import time\n",
    "import matplotlib.pyplot as plt\n",
    "\n",
    "from sklearn.ensemble import RandomForestClassifier \n",
    "from sklearn.metrics import accuracy_score, ConfusionMatrixDisplay\n",
    "from prefect import flow, task, get_run_logger\n",
    "from typing import Callable\n",
    "from functools import wraps\n",
    "from io import StringIO\n",
    "from sklearn.tree import DecisionTreeClassifier \n",
    "from sklearn.model_selection import train_test_split \n",
    "from sklearn.model_selection import cross_val_score\n",
    "from sklearn.neighbors import KNeighborsClassifier\n",
    "from sklearn import metrics \n",
    "from sklearn.preprocessing import StandardScaler\n",
    "from sklearn.svm import SVC\n",
    "from sklearn import datasets\n",
    "\n",
    "# Para representar el árbol de decisión\n",
    "from six import StringIO  # Capa de compatibilidad entre Python 2 y Python 3\n",
    "from sklearn.tree import export_graphviz # Visualización de árboles de decisión\n",
    "from IPython.display import Image # Módulo de gestión de imágenes digitales \n",
    "import pydotplus # Envoltorio mejorado del lenguaje \"dot\" de graphviz \n",
    "from sklearn.metrics import classification_report"
   ]
  },
  {
   "cell_type": "code",
   "execution_count": 22,
   "id": "6bbf9bb7",
   "metadata": {},
   "outputs": [],
   "source": [
    "def timing_decorator(func: Callable) -> Callable:\n",
    "    '''Custom decorator to time task execution'''\n",
    "    @wraps(func)\n",
    "    def wrapper(*args, **kwargs):\n",
    "        logger = get_run_logger()\n",
    "        start_time = time.time()\n",
    "\n",
    "        # Execute the original function\n",
    "        result = func(*args, **kwargs)\n",
    "\n",
    "        end_time = time.time()\n",
    "        execution_time = end_time - start_time\n",
    "\n",
    "        logger.info(f\"Task '{func.__name__}' completed in {execution_time:.2f} seconds\")\n",
    "        return result\n",
    "\n",
    "    return wrapper"
   ]
  },
  {
   "cell_type": "code",
   "execution_count": 23,
   "id": "7b68f622",
   "metadata": {},
   "outputs": [],
   "source": [
    "@task\n",
    "@timing_decorator\n",
    "def diabetes_dataset_retribution():\n",
    "        # Se define el nombre de las columnas en una lista \n",
    "    nombre_columnas = ['Embarazos', 'Glucosa', 'Presion Arterial', 'Grosor Piel', 'Insulina', 'Indice Masa Corporal', 'Función de Pedigree', 'Edad', 'Etiqueta']\n",
    "\n",
    "    # Se usa la biblioteca Pandas para cargar el dataset desde un archivo de texto \n",
    "    # \"separado por comas\" (CSV), usando los nombres de columna previamente definidos\n",
    "    try:\n",
    "        response = requests.get(\"https://raw.githubusercontent.com/plotly/datasets/master/diabetes.csv\")\n",
    "        response.raise_for_status()\n",
    "        csv_data = StringIO(response.text)\n",
    "        dataset = pd.read_csv(csv_data, header=1, names=nombre_columnas)\n",
    "        print(\"Dataset cargado exitosamente.\")\n",
    "        print(dataset.head())\n",
    "        return dataset\n",
    "    except requests.exceptions.RequestException as e:\n",
    "        print(f\"Error al descargar el dataset: {e}\")\n",
    "        raise e\n",
    "    except Exception as e:\n",
    "        print(f\"Error al cargar el dataset: {e}\")\n",
    "        raise e\n"
   ]
  },
  {
   "cell_type": "code",
   "execution_count": 24,
   "id": "d75e47f2",
   "metadata": {},
   "outputs": [],
   "source": [
    "@task\n",
    "@timing_decorator\n",
    "def iris_dataset_retribution():\n",
    "    #Lectura de los datos\n",
    "    df= pd.read_csv('iris.csv')\n",
    " \n",
    "    # También se puede cargar desde el paquete sklearn.datasets\n",
    "    #df = load_iris()\n",
    " \n",
    "    # previsualización del dataset\n",
    "    df.head(5)\n",
    " \n",
    "    return df\n"
   ]
  },
  {
   "cell_type": "code",
   "execution_count": 25,
   "id": "cb131ada",
   "metadata": {},
   "outputs": [],
   "source": [
    "@task\n",
    "@timing_decorator\n",
    "def cancer_dataset_retribution():\n",
    "    dataset = datasets.load_breast_cancer()\n",
    "    print(\"Características (X_i): \", dataset.feature_names)\n",
    " \n",
    "    return dataset\n"
   ]
  },
  {
   "cell_type": "code",
   "execution_count": 26,
   "id": "15ba88f7",
   "metadata": {},
   "outputs": [],
   "source": [
    "@task\n",
    "@timing_decorator\n",
    "def iris_preprocessing(df):\n",
    "    X_train, X_test, y_train, y_test = train_test_split(df[['SepalLengthCm', 'SepalWidthCm',\n",
    "                                                        'PetalLengthCm', 'PetalWidthCm']],\n",
    "                                                    df['Species'], random_state=0)\n",
    " \n",
    "    print(\"Tamaño de X_train: {}\\nTamaño de y_train: {}\".format(X_train.shape, y_train.shape))\n",
    "    print(\"Tamaño de X_test: {}\\nTamaño de y_test: {}\".format(X_test.shape, y_test.shape))\n",
    " \n",
    "    return X_train, X_test, y_train, y_test"
   ]
  },
  {
   "cell_type": "code",
   "execution_count": 27,
   "id": "fa8180fd",
   "metadata": {},
   "outputs": [],
   "source": [
    "@task\n",
    "@timing_decorator\n",
    "def diabetes_preprocessing(dataset):\n",
    "    feature_cols = ['Embarazos', 'Insulina', 'Indice Masa Corporal', 'Edad', 'Glucosa', 'Presion Arterial', 'Función de Pedigree']\n",
    "\n",
    "    X = dataset[feature_cols] # Características\n",
    "    y = dataset.Etiqueta # Variable objetivo\n",
    "\n",
    "    X_train, X_test, y_train, y_test = train_test_split(X, y, test_size=0.3, random_state=1) # 70% para entrenamiento\n",
    "    print(\"Tamaño de X_train: {}\\nTamaño de y_train: {}\".format(X_train.shape, y_train.shape)) #Salida con formato en Python\n",
    "    print(\"Tamaño de X_test: {}\\nTamaño de y_test: {}\".format(X_test.shape, y_test.shape))\n",
    "    return X_train, X_test, y_train, y_test"
   ]
  },
  {
   "cell_type": "code",
   "execution_count": 28,
   "id": "f1956722",
   "metadata": {},
   "outputs": [],
   "source": [
    "@task\n",
    "@timing_decorator\n",
    "def cancer_preprocessing(dataset):\n",
    "    X_train, X_test, y_train, y_test = train_test_split(dataset.data, dataset.target, test_size=0.3,random_state=109)\n",
    " \n",
    "    print(\"Tamaño de X_train: {}\\nTamaño de y_train: {}\".format(X_train.shape, y_train.shape))\n",
    "    print(\"Tamaño de X_test: {}\\nTamaño de y_test: {}\".format(X_test.shape, y_test.shape))\n",
    " \n",
    "    return X_train, X_test, y_train, y_test"
   ]
  },
  {
   "cell_type": "code",
   "execution_count": 29,
   "id": "041dbda1",
   "metadata": {},
   "outputs": [],
   "source": [
    "@task\n",
    "@timing_decorator\n",
    "def decision_tree(X_train, X_test, y_train, y_test):\n",
    "    dtree = DecisionTreeClassifier()\n",
    "\n",
    "    # Entrenamiento\n",
    "    dtree = dtree.fit(X_train, y_train)\n",
    "\n",
    "    # Predicción para evaluación\n",
    "    y_pred = dtree.predict(X_test)\n",
    "\n",
    "    # Verificar si X_test es un DataFrame o un array numpy\n",
    "    if hasattr(X_test, 'index'):\n",
    "        # Es un DataFrame de pandas\n",
    "        resultado_comparacion = pd.concat([X_test, y_test, pd.Series(y_pred, name='Predicción', index=X_test.index)], \n",
    "              ignore_index=False, axis=1)\n",
    "    else:\n",
    "        # Es un array de numpy - convertir a DataFrame\n",
    "        if hasattr(X_train, 'columns'):\n",
    "            # Si X_train tiene columnas, usar esos nombres\n",
    "            column_names = X_train.columns.tolist()\n",
    "        else:\n",
    "            # Generar nombres de columnas genéricos\n",
    "            column_names = [f'feature_{i}' for i in range(X_test.shape[1])]\n",
    "        \n",
    "        X_test_df = pd.DataFrame(X_test, columns=column_names)\n",
    "        y_test_series = pd.Series(y_test, name='Actual')\n",
    "        y_pred_series = pd.Series(y_pred, name='Predicción')\n",
    "        \n",
    "        resultado_comparacion = pd.concat([X_test_df, y_test_series, y_pred_series], axis=1)\n",
    "    \n",
    "    print(\"Comparación de predicciones (primeras 5 filas):\")\n",
    "    print(resultado_comparacion.head())\n",
    "\n",
    "    cv_scores = cross_val_score(dtree, X_train, y_train, cv=5)\n",
    "\n",
    "    # Escribe en pantalla los desempeños (\"accuracy\") para cada \"pliegue\" (fold)\n",
    "    print(\"Resultados de la validación cruzada en decision tree: \", cv_scores)\n",
    "\n",
    "    # Escribe en pantalla el promedio de la métrica \"accuracy\" en el entrenamiento \n",
    "    print(\"Resultado promedio de la validación cruzada en decision tree:\", np.average(cv_scores))\n",
    "\n",
    "    # Escribe en pantalla la métrica \"accuracy\" para prueba (datos no usados en el entrenamiento)\n",
    "    print(\"Exactitud (accuracy) en prueba (testing) del decision tree:\", metrics.accuracy_score(y_test, y_pred))\n",
    "\n",
    "    return dtree, y_pred"
   ]
  },
  {
   "cell_type": "code",
   "execution_count": 30,
   "id": "bec46ce2",
   "metadata": {},
   "outputs": [],
   "source": [
    "@task\n",
    "@timing_decorator\n",
    "def roc_curve_analysis(dtree, X_test, y_test, y_pred):\n",
    "    fpr,tpr,_r=metrics.roc_curve(y_test,y_pred)\n",
    "    roc_auc = metrics.auc(fpr, tpr)\n",
    "    print(roc_auc)\n",
    "    metrics.RocCurveDisplay.from_estimator(dtree, X_test, y_test)"
   ]
  },
  {
   "cell_type": "code",
   "execution_count": 31,
   "id": "a33a3203",
   "metadata": {},
   "outputs": [],
   "source": [
    "@task\n",
    "@timing_decorator\n",
    "def random_forest(X_train, X_test, y_train, y_test):\n",
    "    # Create a Random Forest Classifier instance \n",
    "    rf_model = RandomForestClassifier(n_estimators=100, random_state=42)\n",
    "\n",
    "    # Train the model\n",
    "    rf_model.fit(X_train, y_train)\n",
    "\n",
    "    # Make predictions\n",
    "    rf_predictions = rf_model.predict(X_test)\n",
    "\n",
    "    # Evaluate the model \n",
    "    rf_accuracy = accuracy_score(y_test, rf_predictions) \n",
    "    print(f\"Random Forest Accuracy: {rf_accuracy:.4f}\")\n",
    "\n",
    "    return rf_model"
   ]
  },
  {
   "cell_type": "code",
   "execution_count": 32,
   "id": "ad3d7f0a",
   "metadata": {},
   "outputs": [],
   "source": [
    "@task\n",
    "@timing_decorator\n",
    "def knn(X_train, X_test, y_train, y_test):\n",
    "    knn = KNeighborsClassifier(n_neighbors=1)\n",
    "    knn.fit(X_train, y_train)\n",
    " \n",
    "    y_pred = knn.predict(X_test)\n",
    "    \n",
    "    # Verificar si X_test es un DataFrame o un array numpy\n",
    "    if hasattr(X_test, 'index'):\n",
    "        # Es un DataFrame de pandas\n",
    "        resultado_comparacion = pd.concat([X_test, y_test, pd.Series(y_pred, name='Predicción', index=X_test.index)],\n",
    "                ignore_index=False, axis=1)\n",
    "    else:\n",
    "        # Es un array de numpy - convertir a DataFrame\n",
    "        if hasattr(X_train, 'columns'):\n",
    "            column_names = X_train.columns.tolist()\n",
    "        else:\n",
    "            column_names = [f'feature_{i}' for i in range(X_test.shape[1])]\n",
    "        \n",
    "        X_test_df = pd.DataFrame(X_test, columns=column_names)\n",
    "        y_test_series = pd.Series(y_test, name='Actual')\n",
    "        y_pred_series = pd.Series(y_pred, name='Predicción')\n",
    "        \n",
    "        resultado_comparacion = pd.concat([X_test_df, y_test_series, y_pred_series], axis=1)\n",
    "    \n",
    "    print(\"Comparación de hiperparámetros:\")\n",
    "    for k in [1, 3, 5, 7]:\n",
    "        knn = KNeighborsClassifier(n_neighbors=k)\n",
    "        knn.fit(X_train, y_train)\n",
    "        acc = knn.score(X_test, y_test)\n",
    "        print(f\"KNN (n_neighbors={k}) - Prueba de accuracy: {acc:.4f}\")\n",
    "    \n",
    "    print(\"Comparación de predicciones (primeras 5 filas):\")\n",
    "    print(resultado_comparacion.head())\n",
    "    \n",
    "    print(\"Score sobre el conjunto de test: {:.3f}\".format(knn.score(X_test, y_test)))\n",
    " \n",
    "    np.set_printoptions(precision=2)\n",
    "    #Validación cruzada datos entrenamiento \n",
    "    cv_scores = cross_val_score(knn, X_train, y_train, cv=5)\n",
    "    print(cv_scores)\n",
    " \n",
    "    print(\"Desempeño promedio del kNN:\")\n",
    "    print(np.average(cv_scores))\n",
    " \n",
    "    print(\"Exactitud (accuracy) en prueba (testing) del kNN:\", metrics.accuracy_score(y_test, y_pred))\n",
    "  \n",
    "    return knn"
   ]
  },
  {
   "cell_type": "code",
   "execution_count": 33,
   "id": "f9ba4eb6",
   "metadata": {},
   "outputs": [],
   "source": [
    "@task\n",
    "def knn_scaler(X_train, X_test, y_train, y_test):\n",
    "    scaler = StandardScaler()\n",
    "    x_train_scaler = scaler.fit_transform(X_train)\n",
    "    x_test_scaler = scaler.transform(X_test)\n",
    " \n",
    "    knn_scaled = KNeighborsClassifier(n_neighbors=1)\n",
    "    knn_scaled.fit(x_train_scaler, y_train)\n",
    " \n",
    "    y_pred = knn_scaled.predict(x_test_scaler)\n",
    " \n",
    "    # Crear DataFrame para mostrar comparación\n",
    "    if hasattr(X_test, 'index'):\n",
    "        comparacion_df = pd.concat([X_test,\n",
    "                                   y_test,\n",
    "                                   pd.Series(y_pred, name='Predicción', index=X_test.index)],\n",
    "                                  ignore_index=False, axis=1)\n",
    "    else:\n",
    "        if hasattr(X_train, 'columns'):\n",
    "            column_names = X_train.columns.tolist()\n",
    "        else:\n",
    "            column_names = [f'feature_{i}' for i in range(X_test.shape[1])]\n",
    "        \n",
    "        X_test_df = pd.DataFrame(X_test, columns=column_names)\n",
    "        y_test_series = pd.Series(y_test, name='Actual')\n",
    "        y_pred_series = pd.Series(y_pred, name='Predicción')\n",
    "        \n",
    "        comparacion_df = pd.concat([X_test_df, y_test_series, y_pred_series], axis=1)\n",
    "    \n",
    "    print(\"Comparación de hiperparámetros:\")\n",
    "    for kernel in ['linear', 'rbf']:\n",
    "        for C in [0.1, 1, 10]:\n",
    "            svm = SVC(kernel=kernel, C=C, random_state=0)\n",
    "            svm.fit(X_train, y_train)\n",
    "            acc = svm.score(X_test, y_test)\n",
    "            print(f\"SVM (kernel={kernel}, C={C}) - Prueba de accuracy: {acc:.4f}\")\n",
    "    \n",
    "    print(\"Comparación de predicciones:\")\n",
    "    print(comparacion_df.head())\n",
    " \n",
    "    print(\"Score sobre el conjunto de test: {:.3f}\".format(knn_scaled.score(x_test_scaler, y_test)))\n",
    " \n",
    "    np.set_printoptions(precision=2)\n",
    "    cv_scores = cross_val_score(knn_scaled, x_train_scaler, y_train, cv=5)\n",
    "    print(cv_scores)\n",
    " \n",
    "    print(\"Desempeño promedio:\")\n",
    "    print(np.average(cv_scores))\n",
    " \n",
    "    print(\"Exactitud (accuracy) en prueba (testing):\", metrics.accuracy_score(y_test, y_pred))\n",
    " \n",
    "    return knn_scaled\n"
   ]
  },
  {
   "cell_type": "code",
   "execution_count": 34,
   "id": "2d729817",
   "metadata": {},
   "outputs": [],
   "source": [
    "@task\n",
    "@timing_decorator\n",
    "def svm(X_train, X_test, y_train, y_test):\n",
    "    svm_class = SVC(kernel='rbf', random_state=0)\n",
    "    svm_class.fit(X_train, y_train)\n",
    " \n",
    "    y_pred = svm_class.predict(X_test)\n",
    " \n",
    "    # Verificar si X_test es un DataFrame o un array numpy\n",
    "    if hasattr(X_test, 'index'):\n",
    "        resultado_comparacion = pd.concat([X_test, y_test, pd.Series(y_pred, name='Predicción', index=X_test.index)],\n",
    "                ignore_index=False, axis=1)\n",
    "    else:\n",
    "        if hasattr(X_train, 'columns'):\n",
    "            column_names = X_train.columns.tolist()\n",
    "        else:\n",
    "            column_names = [f'feature_{i}' for i in range(X_test.shape[1])]\n",
    "        \n",
    "        X_test_df = pd.DataFrame(X_test, columns=column_names)\n",
    "        y_test_series = pd.Series(y_test, name='Actual')\n",
    "        y_pred_series = pd.Series(y_pred, name='Predicción')\n",
    "        \n",
    "        resultado_comparacion = pd.concat([X_test_df, y_test_series, y_pred_series], axis=1)\n",
    "    \n",
    "    print(\"Comparación de predicciones (primeras 5 filas):\")\n",
    "    print(resultado_comparacion.head())\n",
    "   \n",
    "    print(\"Score de entrenamiento: {:.3f}\".format(svm_class.score(X_train, y_train)))\n",
    "    print(\"Score de test: {:.3f}\".format(svm_class.score(X_test, y_test)))\n",
    " \n",
    "    np.set_printoptions(precision=2)\n",
    "    cv_scores = cross_val_score(svm_class, X_train, y_train, cv=5)\n",
    "    print(\"Scores de validación cruzada:\")\n",
    "    print(cv_scores)\n",
    " \n",
    "    print(\"Desempeño promedio:\")\n",
    "    print(np.average(cv_scores))\n",
    " \n",
    "    print(\"Accuracy en el testing:\", metrics.accuracy_score(y_test, y_pred))\n",
    "\n",
    "    return svm_class\n"
   ]
  },
  {
   "cell_type": "code",
   "execution_count": 35,
   "id": "3f9c568c",
   "metadata": {},
   "outputs": [],
   "source": [
    "@task\n",
    "@timing_decorator\n",
    "def svm_scaler(X_train, X_test, y_train, y_test):\n",
    "    scaler = StandardScaler()\n",
    "    x_train_scaler = scaler.fit_transform(X_train)\n",
    "    x_test_scaler = scaler.transform(X_test)\n",
    " \n",
    "    svm_class_scaled = SVC(kernel='rbf', random_state=0)\n",
    "    svm_class_scaled.fit(x_train_scaler, y_train)\n",
    " \n",
    "    y_pred = svm_class_scaled.predict(x_test_scaler)\n",
    " \n",
    "    # Verificar si X_test es un DataFrame o un array numpy\n",
    "    if hasattr(X_test, 'index'):\n",
    "        resultado_comparacion = pd.concat([X_test, y_test, pd.Series(y_pred, name='Predicción', index=X_test.index)],\n",
    "                ignore_index=False, axis=1)\n",
    "    else:\n",
    "        if hasattr(X_train, 'columns'):\n",
    "            column_names = X_train.columns.tolist()\n",
    "        else:\n",
    "            column_names = [f'feature_{i}' for i in range(X_test.shape[1])]\n",
    "        \n",
    "        X_test_df = pd.DataFrame(X_test, columns=column_names)\n",
    "        y_test_series = pd.Series(y_test, name='Actual')\n",
    "        y_pred_series = pd.Series(y_pred, name='Predicción')\n",
    "        \n",
    "        resultado_comparacion = pd.concat([X_test_df, y_test_series, y_pred_series], axis=1)\n",
    "    \n",
    "    print(\"Comparación de predicciones (primeras 5 filas):\")\n",
    "    print(resultado_comparacion.head())\n",
    "   \n",
    "    print(\"Score de entrenamiento: {:.3f}\".format(svm_class_scaled.score(x_train_scaler, y_train)))\n",
    "    print(\"Score de test: {:.3f}\".format(svm_class_scaled.score(x_test_scaler, y_test)))\n",
    " \n",
    "    np.set_printoptions(precision=2)\n",
    "    cv_scores = cross_val_score(svm_class_scaled, x_train_scaler, y_train, cv=5)\n",
    "    print(\"Scores de validación cruzada:\")\n",
    "    print(cv_scores)\n",
    " \n",
    "    print(\"Desempeño promedio:\")\n",
    "    print(np.average(cv_scores))\n",
    " \n",
    "    print(\"Accuracy en el testing:\", metrics.accuracy_score(y_test, y_pred))\n",
    " \n",
    "    return svm_class_scaled"
   ]
  },
  {
   "cell_type": "code",
   "execution_count": 36,
   "id": "7b8d998b",
   "metadata": {},
   "outputs": [],
   "source": [
    "@task\n",
    "@timing_decorator\n",
    "def confusion_matrix(class_names, model, X_test, y_test):\n",
    " \n",
    "    print(\"Visualización de desempeño con Matriz de Confusión:\")\n",
    "  \n",
    "    disp = ConfusionMatrixDisplay.from_estimator(\n",
    "        model,\n",
    "        X_test,\n",
    "        y_test,\n",
    "        display_labels=class_names,\n",
    "        cmap=plt.cm.Blues,\n",
    "        normalize=None\n",
    "    )\n",
    " \n",
    "    disp.ax_.set_title(\"Confusion Matrix\")\n",
    "    print(\"Confusion Matrix\")\n",
    "    print(disp.confusion_matrix)\n",
    " \n",
    "    plt.show()"
   ]
  },
  {
   "cell_type": "code",
   "execution_count": 37,
   "id": "a58588f8",
   "metadata": {},
   "outputs": [],
   "source": [
    "@task\n",
    "@timing_decorator\n",
    "def show_classificationreport(model, X_test, y_test, class_names):\n",
    "    \n",
    "    y_pred = model.predict(X_test)\n",
    "\n",
    "    print(\"Clasification Report\")\n",
    "    report = classification_report(y_test, y_pred, target_names=class_names)\n",
    "    print(report)\n",
    "    \n",
    "    return report"
   ]
  },
  {
   "cell_type": "code",
   "execution_count": 38,
   "id": "1877acc8",
   "metadata": {},
   "outputs": [
    {
     "data": {
      "text/html": [
       "<pre style=\"white-space:pre;overflow-x:auto;line-height:normal;font-family:Menlo,'DejaVu Sans Mono',consolas,'Courier New',monospace\">23:42:37.854 | <span style=\"color: #008080; text-decoration-color: #008080\">INFO</span>    | Flow run<span style=\"color: #800080; text-decoration-color: #800080\"> 'grinning-turkey'</span> - Beginning flow run<span style=\"color: #800080; text-decoration-color: #800080\"> 'grinning-turkey'</span> for flow<span style=\"color: #800080; text-decoration-color: #800080; font-weight: bold\"> 'iris-flow'</span>\n",
       "</pre>\n"
      ],
      "text/plain": [
       "23:42:37.854 | \u001b[36mINFO\u001b[0m    | Flow run\u001b[35m 'grinning-turkey'\u001b[0m - Beginning flow run\u001b[35m 'grinning-turkey'\u001b[0m for flow\u001b[1;35m 'iris-flow'\u001b[0m\n"
      ]
     },
     "metadata": {},
     "output_type": "display_data"
    },
    {
     "data": {
      "text/html": [
       "<pre style=\"white-space:pre;overflow-x:auto;line-height:normal;font-family:Menlo,'DejaVu Sans Mono',consolas,'Courier New',monospace\">23:42:37.874 | <span style=\"color: #008080; text-decoration-color: #008080\">INFO</span>    | Task run 'iris_dataset_retribution-f3b' - Task 'iris_dataset_retribution' completed in 0.00 seconds\n",
       "</pre>\n"
      ],
      "text/plain": [
       "23:42:37.874 | \u001b[36mINFO\u001b[0m    | Task run 'iris_dataset_retribution-f3b' - Task 'iris_dataset_retribution' completed in 0.00 seconds\n"
      ]
     },
     "metadata": {},
     "output_type": "display_data"
    },
    {
     "data": {
      "text/html": [
       "<pre style=\"white-space:pre;overflow-x:auto;line-height:normal;font-family:Menlo,'DejaVu Sans Mono',consolas,'Courier New',monospace\">23:42:37.883 | <span style=\"color: #008080; text-decoration-color: #008080\">INFO</span>    | Task run 'iris_dataset_retribution-f3b' - Finished in state <span style=\"color: #008000; text-decoration-color: #008000\">Completed</span>()\n",
       "</pre>\n"
      ],
      "text/plain": [
       "23:42:37.883 | \u001b[36mINFO\u001b[0m    | Task run 'iris_dataset_retribution-f3b' - Finished in state \u001b[32mCompleted\u001b[0m()\n"
      ]
     },
     "metadata": {},
     "output_type": "display_data"
    },
    {
     "name": "stdout",
     "output_type": "stream",
     "text": [
      "Tamaño de X_train: (112, 4)\n",
      "Tamaño de y_train: (112,)\n",
      "Tamaño de X_test: (38, 4)\n",
      "Tamaño de y_test: (38,)\n"
     ]
    },
    {
     "data": {
      "text/html": [
       "<pre style=\"white-space:pre;overflow-x:auto;line-height:normal;font-family:Menlo,'DejaVu Sans Mono',consolas,'Courier New',monospace\">23:42:37.909 | <span style=\"color: #008080; text-decoration-color: #008080\">INFO</span>    | Task run 'iris_preprocessing-fa3' - Task 'iris_preprocessing' completed in 0.00 seconds\n",
       "</pre>\n"
      ],
      "text/plain": [
       "23:42:37.909 | \u001b[36mINFO\u001b[0m    | Task run 'iris_preprocessing-fa3' - Task 'iris_preprocessing' completed in 0.00 seconds\n"
      ]
     },
     "metadata": {},
     "output_type": "display_data"
    },
    {
     "data": {
      "text/html": [
       "<pre style=\"white-space:pre;overflow-x:auto;line-height:normal;font-family:Menlo,'DejaVu Sans Mono',consolas,'Courier New',monospace\">23:42:37.914 | <span style=\"color: #008080; text-decoration-color: #008080\">INFO</span>    | Task run 'iris_preprocessing-fa3' - Finished in state <span style=\"color: #008000; text-decoration-color: #008000\">Completed</span>()\n",
       "</pre>\n"
      ],
      "text/plain": [
       "23:42:37.914 | \u001b[36mINFO\u001b[0m    | Task run 'iris_preprocessing-fa3' - Finished in state \u001b[32mCompleted\u001b[0m()\n"
      ]
     },
     "metadata": {},
     "output_type": "display_data"
    },
    {
     "name": "stdout",
     "output_type": "stream",
     "text": [
      "Comparación de predicciones (primeras 5 filas):\n",
      "     SepalLengthCm  SepalWidthCm  PetalLengthCm  PetalWidthCm  \\\n",
      "114            5.8           2.8            5.1           2.4   \n",
      "62             6.0           2.2            4.0           1.0   \n",
      "33             5.5           4.2            1.4           0.2   \n",
      "107            7.3           2.9            6.3           1.8   \n",
      "7              5.0           3.4            1.5           0.2   \n",
      "\n",
      "             Species       Predicción  \n",
      "114   Iris-virginica   Iris-virginica  \n",
      "62   Iris-versicolor  Iris-versicolor  \n",
      "33       Iris-setosa      Iris-setosa  \n",
      "107   Iris-virginica   Iris-virginica  \n",
      "7        Iris-setosa      Iris-setosa  \n",
      "Resultados de la validación cruzada en decision tree:  [1.   0.96 1.   0.91 0.95]\n",
      "Resultado promedio de la validación cruzada en decision tree: 0.9640316205533598\n",
      "Exactitud (accuracy) en prueba (testing) del decision tree: 0.9736842105263158\n"
     ]
    },
    {
     "data": {
      "text/html": [
       "<pre style=\"white-space:pre;overflow-x:auto;line-height:normal;font-family:Menlo,'DejaVu Sans Mono',consolas,'Courier New',monospace\">23:42:37.964 | <span style=\"color: #008080; text-decoration-color: #008080\">INFO</span>    | Task run 'decision_tree-5fb' - Task 'decision_tree' completed in 0.03 seconds\n",
       "</pre>\n"
      ],
      "text/plain": [
       "23:42:37.964 | \u001b[36mINFO\u001b[0m    | Task run 'decision_tree-5fb' - Task 'decision_tree' completed in 0.03 seconds\n"
      ]
     },
     "metadata": {},
     "output_type": "display_data"
    },
    {
     "data": {
      "text/html": [
       "<pre style=\"white-space:pre;overflow-x:auto;line-height:normal;font-family:Menlo,'DejaVu Sans Mono',consolas,'Courier New',monospace\">23:42:37.968 | <span style=\"color: #008080; text-decoration-color: #008080\">INFO</span>    | Task run 'decision_tree-5fb' - Finished in state <span style=\"color: #008000; text-decoration-color: #008000\">Completed</span>()\n",
       "</pre>\n"
      ],
      "text/plain": [
       "23:42:37.968 | \u001b[36mINFO\u001b[0m    | Task run 'decision_tree-5fb' - Finished in state \u001b[32mCompleted\u001b[0m()\n"
      ]
     },
     "metadata": {},
     "output_type": "display_data"
    },
    {
     "name": "stdout",
     "output_type": "stream",
     "text": [
      "Visualización de desempeño con Matriz de Confusión:\n",
      "Confusion Matrix\n",
      "[[13  0  0]\n",
      " [ 0 15  1]\n",
      " [ 0  0  9]]\n"
     ]
    },
    {
     "data": {
      "image/png": "[encoded data removed]",
      "text/plain": [
       "<Figure size 640x480 with 2 Axes>"
      ]
     },
     "metadata": {},
     "output_type": "display_data"
    },
    {
     "data": {
      "text/html": [
       "<pre style=\"white-space:pre;overflow-x:auto;line-height:normal;font-family:Menlo,'DejaVu Sans Mono',consolas,'Courier New',monospace\">23:42:38.135 | <span style=\"color: #008080; text-decoration-color: #008080\">INFO</span>    | Task run 'confusion_matrix-fae' - Task 'confusion_matrix' completed in 0.14 seconds\n",
       "</pre>\n"
      ],
      "text/plain": [
       "23:42:38.135 | \u001b[36mINFO\u001b[0m    | Task run 'confusion_matrix-fae' - Task 'confusion_matrix' completed in 0.14 seconds\n"
      ]
     },
     "metadata": {},
     "output_type": "display_data"
    },
    {
     "data": {
      "text/html": [
       "<pre style=\"white-space:pre;overflow-x:auto;line-height:normal;font-family:Menlo,'DejaVu Sans Mono',consolas,'Courier New',monospace\">23:42:38.140 | <span style=\"color: #008080; text-decoration-color: #008080\">INFO</span>    | Task run 'confusion_matrix-fae' - Finished in state <span style=\"color: #008000; text-decoration-color: #008000\">Completed</span>()\n",
       "</pre>\n"
      ],
      "text/plain": [
       "23:42:38.140 | \u001b[36mINFO\u001b[0m    | Task run 'confusion_matrix-fae' - Finished in state \u001b[32mCompleted\u001b[0m()\n"
      ]
     },
     "metadata": {},
     "output_type": "display_data"
    },
    {
     "name": "stdout",
     "output_type": "stream",
     "text": [
      "Clasification Report\n",
      "                 precision    recall  f1-score   support\n",
      "\n",
      "    Iris-setosa       1.00      1.00      1.00        13\n",
      "Iris-versicolor       1.00      0.94      0.97        16\n",
      " Iris-virginica       0.90      1.00      0.95         9\n",
      "\n",
      "       accuracy                           0.97        38\n",
      "      macro avg       0.97      0.98      0.97        38\n",
      "   weighted avg       0.98      0.97      0.97        38\n",
      "\n"
     ]
    },
    {
     "data": {
      "text/html": [
       "<pre style=\"white-space:pre;overflow-x:auto;line-height:normal;font-family:Menlo,'DejaVu Sans Mono',consolas,'Courier New',monospace\">23:42:38.174 | <span style=\"color: #008080; text-decoration-color: #008080\">INFO</span>    | Task run 'show_classificationreport-76a' - Task 'show_classificationreport' completed in 0.01 seconds\n",
       "</pre>\n"
      ],
      "text/plain": [
       "23:42:38.174 | \u001b[36mINFO\u001b[0m    | Task run 'show_classificationreport-76a' - Task 'show_classificationreport' completed in 0.01 seconds\n"
      ]
     },
     "metadata": {},
     "output_type": "display_data"
    },
    {
     "data": {
      "text/html": [
       "<pre style=\"white-space:pre;overflow-x:auto;line-height:normal;font-family:Menlo,'DejaVu Sans Mono',consolas,'Courier New',monospace\">23:42:38.179 | <span style=\"color: #008080; text-decoration-color: #008080\">INFO</span>    | Task run 'show_classificationreport-76a' - Finished in state <span style=\"color: #008000; text-decoration-color: #008000\">Completed</span>()\n",
       "</pre>\n"
      ],
      "text/plain": [
       "23:42:38.179 | \u001b[36mINFO\u001b[0m    | Task run 'show_classificationreport-76a' - Finished in state \u001b[32mCompleted\u001b[0m()\n"
      ]
     },
     "metadata": {},
     "output_type": "display_data"
    },
    {
     "name": "stdout",
     "output_type": "stream",
     "text": [
      "Random Forest Accuracy: 0.9737\n"
     ]
    },
    {
     "data": {
      "text/html": [
       "<pre style=\"white-space:pre;overflow-x:auto;line-height:normal;font-family:Menlo,'DejaVu Sans Mono',consolas,'Courier New',monospace\">23:42:38.331 | <span style=\"color: #008080; text-decoration-color: #008080\">INFO</span>    | Task run 'random_forest-263' - Task 'random_forest' completed in 0.13 seconds\n",
       "</pre>\n"
      ],
      "text/plain": [
       "23:42:38.331 | \u001b[36mINFO\u001b[0m    | Task run 'random_forest-263' - Task 'random_forest' completed in 0.13 seconds\n"
      ]
     },
     "metadata": {},
     "output_type": "display_data"
    },
    {
     "data": {
      "text/html": [
       "<pre style=\"white-space:pre;overflow-x:auto;line-height:normal;font-family:Menlo,'DejaVu Sans Mono',consolas,'Courier New',monospace\">23:42:38.334 | <span style=\"color: #008080; text-decoration-color: #008080\">INFO</span>    | Task run 'random_forest-263' - Finished in state <span style=\"color: #008000; text-decoration-color: #008000\">Completed</span>()\n",
       "</pre>\n"
      ],
      "text/plain": [
       "23:42:38.334 | \u001b[36mINFO\u001b[0m    | Task run 'random_forest-263' - Finished in state \u001b[32mCompleted\u001b[0m()\n"
      ]
     },
     "metadata": {},
     "output_type": "display_data"
    },
    {
     "name": "stdout",
     "output_type": "stream",
     "text": [
      "Visualización de desempeño con Matriz de Confusión:\n",
      "Confusion Matrix\n",
      "[[13  0  0]\n",
      " [ 0 15  1]\n",
      " [ 0  0  9]]\n"
     ]
    },
    {
     "data": {
      "image/png": "[encoded data removed]",
      "text/plain": [
       "<Figure size 640x480 with 2 Axes>"
      ]
     },
     "metadata": {},
     "output_type": "display_data"
    },
    {
     "data": {
      "text/html": [
       "<pre style=\"white-space:pre;overflow-x:auto;line-height:normal;font-family:Menlo,'DejaVu Sans Mono',consolas,'Courier New',monospace\">23:42:38.535 | <span style=\"color: #008080; text-decoration-color: #008080\">INFO</span>    | Task run 'confusion_matrix-0b4' - Task 'confusion_matrix' completed in 0.17 seconds\n",
       "</pre>\n"
      ],
      "text/plain": [
       "23:42:38.535 | \u001b[36mINFO\u001b[0m    | Task run 'confusion_matrix-0b4' - Task 'confusion_matrix' completed in 0.17 seconds\n"
      ]
     },
     "metadata": {},
     "output_type": "display_data"
    },
    {
     "data": {
      "text/html": [
       "<pre style=\"white-space:pre;overflow-x:auto;line-height:normal;font-family:Menlo,'DejaVu Sans Mono',consolas,'Courier New',monospace\">23:42:38.541 | <span style=\"color: #008080; text-decoration-color: #008080\">INFO</span>    | Task run 'confusion_matrix-0b4' - Finished in state <span style=\"color: #008000; text-decoration-color: #008000\">Completed</span>()\n",
       "</pre>\n"
      ],
      "text/plain": [
       "23:42:38.541 | \u001b[36mINFO\u001b[0m    | Task run 'confusion_matrix-0b4' - Finished in state \u001b[32mCompleted\u001b[0m()\n"
      ]
     },
     "metadata": {},
     "output_type": "display_data"
    },
    {
     "name": "stdout",
     "output_type": "stream",
     "text": [
      "Clasification Report\n",
      "                 precision    recall  f1-score   support\n",
      "\n",
      "    Iris-setosa       1.00      1.00      1.00        13\n",
      "Iris-versicolor       1.00      0.94      0.97        16\n",
      " Iris-virginica       0.90      1.00      0.95         9\n",
      "\n",
      "       accuracy                           0.97        38\n",
      "      macro avg       0.97      0.98      0.97        38\n",
      "   weighted avg       0.98      0.97      0.97        38\n",
      "\n"
     ]
    },
    {
     "data": {
      "text/html": [
       "<pre style=\"white-space:pre;overflow-x:auto;line-height:normal;font-family:Menlo,'DejaVu Sans Mono',consolas,'Courier New',monospace\">23:42:38.584 | <span style=\"color: #008080; text-decoration-color: #008080\">INFO</span>    | Task run 'show_classificationreport-def' - Task 'show_classificationreport' completed in 0.01 seconds\n",
       "</pre>\n"
      ],
      "text/plain": [
       "23:42:38.584 | \u001b[36mINFO\u001b[0m    | Task run 'show_classificationreport-def' - Task 'show_classificationreport' completed in 0.01 seconds\n"
      ]
     },
     "metadata": {},
     "output_type": "display_data"
    },
    {
     "data": {
      "text/html": [
       "<pre style=\"white-space:pre;overflow-x:auto;line-height:normal;font-family:Menlo,'DejaVu Sans Mono',consolas,'Courier New',monospace\">23:42:38.586 | <span style=\"color: #008080; text-decoration-color: #008080\">INFO</span>    | Task run 'show_classificationreport-def' - Finished in state <span style=\"color: #008000; text-decoration-color: #008000\">Completed</span>()\n",
       "</pre>\n"
      ],
      "text/plain": [
       "23:42:38.586 | \u001b[36mINFO\u001b[0m    | Task run 'show_classificationreport-def' - Finished in state \u001b[32mCompleted\u001b[0m()\n"
      ]
     },
     "metadata": {},
     "output_type": "display_data"
    },
    {
     "name": "stdout",
     "output_type": "stream",
     "text": [
      "Comparación de hiperparámetros:\n",
      "KNN (n_neighbors=1) - Prueba de accuracy: 0.9737\n",
      "KNN (n_neighbors=3) - Prueba de accuracy: 0.9737\n",
      "KNN (n_neighbors=5) - Prueba de accuracy: 0.9737\n",
      "KNN (n_neighbors=7) - Prueba de accuracy: 0.9737\n",
      "Comparación de predicciones (primeras 5 filas):\n",
      "     SepalLengthCm  SepalWidthCm  PetalLengthCm  PetalWidthCm  \\\n",
      "114            5.8           2.8            5.1           2.4   \n",
      "62             6.0           2.2            4.0           1.0   \n",
      "33             5.5           4.2            1.4           0.2   \n",
      "107            7.3           2.9            6.3           1.8   \n",
      "7              5.0           3.4            1.5           0.2   \n",
      "\n",
      "             Species       Predicción  \n",
      "114   Iris-virginica   Iris-virginica  \n",
      "62   Iris-versicolor  Iris-versicolor  \n",
      "33       Iris-setosa      Iris-setosa  \n",
      "107   Iris-virginica   Iris-virginica  \n",
      "7        Iris-setosa      Iris-setosa  \n",
      "Score sobre el conjunto de test: 0.974\n",
      "[1.   0.96 1.   0.91 0.95]\n",
      "Desempeño promedio del kNN:\n",
      "0.9640316205533598\n",
      "Exactitud (accuracy) en prueba (testing) del kNN: 0.9736842105263158\n"
     ]
    },
    {
     "data": {
      "text/html": [
       "<pre style=\"white-space:pre;overflow-x:auto;line-height:normal;font-family:Menlo,'DejaVu Sans Mono',consolas,'Courier New',monospace\">23:42:38.657 | <span style=\"color: #008080; text-decoration-color: #008080\">INFO</span>    | Task run 'knn-792' - Task 'knn' completed in 0.05 seconds\n",
       "</pre>\n"
      ],
      "text/plain": [
       "23:42:38.657 | \u001b[36mINFO\u001b[0m    | Task run 'knn-792' - Task 'knn' completed in 0.05 seconds\n"
      ]
     },
     "metadata": {},
     "output_type": "display_data"
    },
    {
     "data": {
      "text/html": [
       "<pre style=\"white-space:pre;overflow-x:auto;line-height:normal;font-family:Menlo,'DejaVu Sans Mono',consolas,'Courier New',monospace\">23:42:38.667 | <span style=\"color: #008080; text-decoration-color: #008080\">INFO</span>    | Task run 'knn-792' - Finished in state <span style=\"color: #008000; text-decoration-color: #008000\">Completed</span>()\n",
       "</pre>\n"
      ],
      "text/plain": [
       "23:42:38.667 | \u001b[36mINFO\u001b[0m    | Task run 'knn-792' - Finished in state \u001b[32mCompleted\u001b[0m()\n"
      ]
     },
     "metadata": {},
     "output_type": "display_data"
    },
    {
     "name": "stdout",
     "output_type": "stream",
     "text": [
      "Visualización de desempeño con Matriz de Confusión:\n",
      "Confusion Matrix\n",
      "[[13  0  0]\n",
      " [ 0 15  1]\n",
      " [ 0  0  9]]\n"
     ]
    },
    {
     "data": {
      "image/png": "[encoded data removed]",
      "text/plain": [
       "<Figure size 640x480 with 2 Axes>"
      ]
     },
     "metadata": {},
     "output_type": "display_data"
    },
    {
     "data": {
      "text/html": [
       "<pre style=\"white-space:pre;overflow-x:auto;line-height:normal;font-family:Menlo,'DejaVu Sans Mono',consolas,'Courier New',monospace\">23:42:38.841 | <span style=\"color: #008080; text-decoration-color: #008080\">INFO</span>    | Task run 'confusion_matrix-dbb' - Task 'confusion_matrix' completed in 0.15 seconds\n",
       "</pre>\n"
      ],
      "text/plain": [
       "23:42:38.841 | \u001b[36mINFO\u001b[0m    | Task run 'confusion_matrix-dbb' - Task 'confusion_matrix' completed in 0.15 seconds\n"
      ]
     },
     "metadata": {},
     "output_type": "display_data"
    },
    {
     "data": {
      "text/html": [
       "<pre style=\"white-space:pre;overflow-x:auto;line-height:normal;font-family:Menlo,'DejaVu Sans Mono',consolas,'Courier New',monospace\">23:42:38.845 | <span style=\"color: #008080; text-decoration-color: #008080\">INFO</span>    | Task run 'confusion_matrix-dbb' - Finished in state <span style=\"color: #008000; text-decoration-color: #008000\">Completed</span>()\n",
       "</pre>\n"
      ],
      "text/plain": [
       "23:42:38.845 | \u001b[36mINFO\u001b[0m    | Task run 'confusion_matrix-dbb' - Finished in state \u001b[32mCompleted\u001b[0m()\n"
      ]
     },
     "metadata": {},
     "output_type": "display_data"
    },
    {
     "name": "stdout",
     "output_type": "stream",
     "text": [
      "Clasification Report\n",
      "                 precision    recall  f1-score   support\n",
      "\n",
      "    Iris-setosa       1.00      1.00      1.00        13\n",
      "Iris-versicolor       1.00      0.94      0.97        16\n",
      " Iris-virginica       0.90      1.00      0.95         9\n",
      "\n",
      "       accuracy                           0.97        38\n",
      "      macro avg       0.97      0.98      0.97        38\n",
      "   weighted avg       0.98      0.97      0.97        38\n",
      "\n"
     ]
    },
    {
     "data": {
      "text/html": [
       "<pre style=\"white-space:pre;overflow-x:auto;line-height:normal;font-family:Menlo,'DejaVu Sans Mono',consolas,'Courier New',monospace\">23:42:38.880 | <span style=\"color: #008080; text-decoration-color: #008080\">INFO</span>    | Task run 'show_classificationreport-e39' - Task 'show_classificationreport' completed in 0.01 seconds\n",
       "</pre>\n"
      ],
      "text/plain": [
       "23:42:38.880 | \u001b[36mINFO\u001b[0m    | Task run 'show_classificationreport-e39' - Task 'show_classificationreport' completed in 0.01 seconds\n"
      ]
     },
     "metadata": {},
     "output_type": "display_data"
    },
    {
     "data": {
      "text/html": [
       "<pre style=\"white-space:pre;overflow-x:auto;line-height:normal;font-family:Menlo,'DejaVu Sans Mono',consolas,'Courier New',monospace\">23:42:38.886 | <span style=\"color: #008080; text-decoration-color: #008080\">INFO</span>    | Task run 'show_classificationreport-e39' - Finished in state <span style=\"color: #008000; text-decoration-color: #008000\">Completed</span>()\n",
       "</pre>\n"
      ],
      "text/plain": [
       "23:42:38.886 | \u001b[36mINFO\u001b[0m    | Task run 'show_classificationreport-e39' - Finished in state \u001b[32mCompleted\u001b[0m()\n"
      ]
     },
     "metadata": {},
     "output_type": "display_data"
    },
    {
     "name": "stdout",
     "output_type": "stream",
     "text": [
      "Comparación de hiperparámetros:\n",
      "SVM (kernel=linear, C=0.1) - Prueba de accuracy: 0.9737\n",
      "SVM (kernel=linear, C=1) - Prueba de accuracy: 0.9737\n",
      "SVM (kernel=linear, C=10) - Prueba de accuracy: 0.9737\n",
      "SVM (kernel=rbf, C=0.1) - Prueba de accuracy: 0.7895\n",
      "SVM (kernel=rbf, C=1) - Prueba de accuracy: 0.9737\n",
      "SVM (kernel=rbf, C=10) - Prueba de accuracy: 0.9737\n",
      "Comparación de predicciones:\n",
      "     SepalLengthCm  SepalWidthCm  PetalLengthCm  PetalWidthCm  \\\n",
      "114            5.8           2.8            5.1           2.4   \n",
      "62             6.0           2.2            4.0           1.0   \n",
      "33             5.5           4.2            1.4           0.2   \n",
      "107            7.3           2.9            6.3           1.8   \n",
      "7              5.0           3.4            1.5           0.2   \n",
      "\n",
      "             Species       Predicción  \n",
      "114   Iris-virginica   Iris-virginica  \n",
      "62   Iris-versicolor  Iris-versicolor  \n",
      "33       Iris-setosa      Iris-setosa  \n",
      "107   Iris-virginica   Iris-virginica  \n",
      "7        Iris-setosa      Iris-setosa  \n",
      "Score sobre el conjunto de test: 0.921\n",
      "[0.96 0.91 0.95 0.91 0.95]\n",
      "Desempeño promedio:\n",
      "0.9375494071146246\n",
      "Exactitud (accuracy) en prueba (testing): 0.9210526315789473\n"
     ]
    },
    {
     "data": {
      "text/html": [
       "<pre style=\"white-space:pre;overflow-x:auto;line-height:normal;font-family:Menlo,'DejaVu Sans Mono',consolas,'Courier New',monospace\">23:42:38.958 | <span style=\"color: #008080; text-decoration-color: #008080\">INFO</span>    | Task run 'knn_scaler-305' - Finished in state <span style=\"color: #008000; text-decoration-color: #008000\">Completed</span>()\n",
       "</pre>\n"
      ],
      "text/plain": [
       "23:42:38.958 | \u001b[36mINFO\u001b[0m    | Task run 'knn_scaler-305' - Finished in state \u001b[32mCompleted\u001b[0m()\n"
      ]
     },
     "metadata": {},
     "output_type": "display_data"
    },
    {
     "name": "stdout",
     "output_type": "stream",
     "text": [
      "Visualización de desempeño con Matriz de Confusión:\n",
      "Confusion Matrix\n",
      "[[ 0  0 13]\n",
      " [ 0  0 16]\n",
      " [ 0  0  9]]\n"
     ]
    },
    {
     "name": "stderr",
     "output_type": "stream",
     "text": [
      "c:\\Users\\aleja\\miniconda3\\envs\\ml1\\Lib\\site-packages\\sklearn\\utils\\validation.py:2742: UserWarning: X has feature names, but KNeighborsClassifier was fitted without feature names\n",
      "  warnings.warn(\n"
     ]
    },
    {
     "data": {
      "image/png": "[encoded data removed]",
      "text/plain": [
       "<Figure size 640x480 with 2 Axes>"
      ]
     },
     "metadata": {},
     "output_type": "display_data"
    },
    {
     "data": {
      "text/html": [
       "<pre style=\"white-space:pre;overflow-x:auto;line-height:normal;font-family:Menlo,'DejaVu Sans Mono',consolas,'Courier New',monospace\">23:42:39.116 | <span style=\"color: #008080; text-decoration-color: #008080\">INFO</span>    | Task run 'confusion_matrix-ed9' - Task 'confusion_matrix' completed in 0.13 seconds\n",
       "</pre>\n"
      ],
      "text/plain": [
       "23:42:39.116 | \u001b[36mINFO\u001b[0m    | Task run 'confusion_matrix-ed9' - Task 'confusion_matrix' completed in 0.13 seconds\n"
      ]
     },
     "metadata": {},
     "output_type": "display_data"
    },
    {
     "data": {
      "text/html": [
       "<pre style=\"white-space:pre;overflow-x:auto;line-height:normal;font-family:Menlo,'DejaVu Sans Mono',consolas,'Courier New',monospace\">23:42:39.124 | <span style=\"color: #008080; text-decoration-color: #008080\">INFO</span>    | Task run 'confusion_matrix-ed9' - Finished in state <span style=\"color: #008000; text-decoration-color: #008000\">Completed</span>()\n",
       "</pre>\n"
      ],
      "text/plain": [
       "23:42:39.124 | \u001b[36mINFO\u001b[0m    | Task run 'confusion_matrix-ed9' - Finished in state \u001b[32mCompleted\u001b[0m()\n"
      ]
     },
     "metadata": {},
     "output_type": "display_data"
    },
    {
     "name": "stdout",
     "output_type": "stream",
     "text": [
      "Clasification Report\n",
      "                 precision    recall  f1-score   support\n",
      "\n",
      "    Iris-setosa       0.00      0.00      0.00        13\n",
      "Iris-versicolor       0.00      0.00      0.00        16\n",
      " Iris-virginica       0.24      1.00      0.38         9\n",
      "\n",
      "       accuracy                           0.24        38\n",
      "      macro avg       0.08      0.33      0.13        38\n",
      "   weighted avg       0.06      0.24      0.09        38\n",
      "\n"
     ]
    },
    {
     "name": "stderr",
     "output_type": "stream",
     "text": [
      "c:\\Users\\aleja\\miniconda3\\envs\\ml1\\Lib\\site-packages\\sklearn\\utils\\validation.py:2742: UserWarning: X has feature names, but KNeighborsClassifier was fitted without feature names\n",
      "  warnings.warn(\n",
      "c:\\Users\\aleja\\miniconda3\\envs\\ml1\\Lib\\site-packages\\sklearn\\metrics\\_classification.py:1731: UndefinedMetricWarning: Precision is ill-defined and being set to 0.0 in labels with no predicted samples. Use `zero_division` parameter to control this behavior.\n",
      "  _warn_prf(average, modifier, f\"{metric.capitalize()} is\", result.shape[0])\n",
      "c:\\Users\\aleja\\miniconda3\\envs\\ml1\\Lib\\site-packages\\sklearn\\metrics\\_classification.py:1731: UndefinedMetricWarning: Precision is ill-defined and being set to 0.0 in labels with no predicted samples. Use `zero_division` parameter to control this behavior.\n",
      "  _warn_prf(average, modifier, f\"{metric.capitalize()} is\", result.shape[0])\n",
      "c:\\Users\\aleja\\miniconda3\\envs\\ml1\\Lib\\site-packages\\sklearn\\metrics\\_classification.py:1731: UndefinedMetricWarning: Precision is ill-defined and being set to 0.0 in labels with no predicted samples. Use `zero_division` parameter to control this behavior.\n",
      "  _warn_prf(average, modifier, f\"{metric.capitalize()} is\", result.shape[0])\n"
     ]
    },
    {
     "data": {
      "text/html": [
       "<pre style=\"white-space:pre;overflow-x:auto;line-height:normal;font-family:Menlo,'DejaVu Sans Mono',consolas,'Courier New',monospace\">23:42:39.157 | <span style=\"color: #008080; text-decoration-color: #008080\">INFO</span>    | Task run 'show_classificationreport-c31' - Task 'show_classificationreport' completed in 0.01 seconds\n",
       "</pre>\n"
      ],
      "text/plain": [
       "23:42:39.157 | \u001b[36mINFO\u001b[0m    | Task run 'show_classificationreport-c31' - Task 'show_classificationreport' completed in 0.01 seconds\n"
      ]
     },
     "metadata": {},
     "output_type": "display_data"
    },
    {
     "data": {
      "text/html": [
       "<pre style=\"white-space:pre;overflow-x:auto;line-height:normal;font-family:Menlo,'DejaVu Sans Mono',consolas,'Courier New',monospace\">23:42:39.166 | <span style=\"color: #008080; text-decoration-color: #008080\">INFO</span>    | Task run 'show_classificationreport-c31' - Finished in state <span style=\"color: #008000; text-decoration-color: #008000\">Completed</span>()\n",
       "</pre>\n"
      ],
      "text/plain": [
       "23:42:39.166 | \u001b[36mINFO\u001b[0m    | Task run 'show_classificationreport-c31' - Finished in state \u001b[32mCompleted\u001b[0m()\n"
      ]
     },
     "metadata": {},
     "output_type": "display_data"
    },
    {
     "name": "stdout",
     "output_type": "stream",
     "text": [
      "Comparación de predicciones (primeras 5 filas):\n",
      "     SepalLengthCm  SepalWidthCm  PetalLengthCm  PetalWidthCm  \\\n",
      "114            5.8           2.8            5.1           2.4   \n",
      "62             6.0           2.2            4.0           1.0   \n",
      "33             5.5           4.2            1.4           0.2   \n",
      "107            7.3           2.9            6.3           1.8   \n",
      "7              5.0           3.4            1.5           0.2   \n",
      "\n",
      "             Species       Predicción  \n",
      "114   Iris-virginica   Iris-virginica  \n",
      "62   Iris-versicolor  Iris-versicolor  \n",
      "33       Iris-setosa      Iris-setosa  \n",
      "107   Iris-virginica   Iris-virginica  \n",
      "7        Iris-setosa      Iris-setosa  \n",
      "Score de entrenamiento: 0.964\n",
      "Score de test: 0.974\n",
      "Scores de validación cruzada:\n",
      "[1.   0.96 1.   0.91 0.95]\n",
      "Desempeño promedio:\n",
      "0.9640316205533598\n",
      "Accuracy en el testing: 0.9736842105263158\n"
     ]
    },
    {
     "data": {
      "text/html": [
       "<pre style=\"white-space:pre;overflow-x:auto;line-height:normal;font-family:Menlo,'DejaVu Sans Mono',consolas,'Courier New',monospace\">23:42:39.216 | <span style=\"color: #008080; text-decoration-color: #008080\">INFO</span>    | Task run 'svm-acd' - Task 'svm' completed in 0.03 seconds\n",
       "</pre>\n"
      ],
      "text/plain": [
       "23:42:39.216 | \u001b[36mINFO\u001b[0m    | Task run 'svm-acd' - Task 'svm' completed in 0.03 seconds\n"
      ]
     },
     "metadata": {},
     "output_type": "display_data"
    },
    {
     "data": {
      "text/html": [
       "<pre style=\"white-space:pre;overflow-x:auto;line-height:normal;font-family:Menlo,'DejaVu Sans Mono',consolas,'Courier New',monospace\">23:42:39.228 | <span style=\"color: #008080; text-decoration-color: #008080\">INFO</span>    | Task run 'svm-acd' - Finished in state <span style=\"color: #008000; text-decoration-color: #008000\">Completed</span>()\n",
       "</pre>\n"
      ],
      "text/plain": [
       "23:42:39.228 | \u001b[36mINFO\u001b[0m    | Task run 'svm-acd' - Finished in state \u001b[32mCompleted\u001b[0m()\n"
      ]
     },
     "metadata": {},
     "output_type": "display_data"
    },
    {
     "name": "stdout",
     "output_type": "stream",
     "text": [
      "Visualización de desempeño con Matriz de Confusión:\n",
      "Confusion Matrix\n",
      "[[13  0  0]\n",
      " [ 0 15  1]\n",
      " [ 0  0  9]]\n"
     ]
    },
    {
     "data": {
      "image/png": "[encoded data removed]",
      "text/plain": [
       "<Figure size 640x480 with 2 Axes>"
      ]
     },
     "metadata": {},
     "output_type": "display_data"
    },
    {
     "data": {
      "text/html": [
       "<pre style=\"white-space:pre;overflow-x:auto;line-height:normal;font-family:Menlo,'DejaVu Sans Mono',consolas,'Courier New',monospace\">23:42:39.378 | <span style=\"color: #008080; text-decoration-color: #008080\">INFO</span>    | Task run 'confusion_matrix-2ed' - Task 'confusion_matrix' completed in 0.13 seconds\n",
       "</pre>\n"
      ],
      "text/plain": [
       "23:42:39.378 | \u001b[36mINFO\u001b[0m    | Task run 'confusion_matrix-2ed' - Task 'confusion_matrix' completed in 0.13 seconds\n"
      ]
     },
     "metadata": {},
     "output_type": "display_data"
    },
    {
     "data": {
      "text/html": [
       "<pre style=\"white-space:pre;overflow-x:auto;line-height:normal;font-family:Menlo,'DejaVu Sans Mono',consolas,'Courier New',monospace\">23:42:39.384 | <span style=\"color: #008080; text-decoration-color: #008080\">INFO</span>    | Task run 'confusion_matrix-2ed' - Finished in state <span style=\"color: #008000; text-decoration-color: #008000\">Completed</span>()\n",
       "</pre>\n"
      ],
      "text/plain": [
       "23:42:39.384 | \u001b[36mINFO\u001b[0m    | Task run 'confusion_matrix-2ed' - Finished in state \u001b[32mCompleted\u001b[0m()\n"
      ]
     },
     "metadata": {},
     "output_type": "display_data"
    },
    {
     "name": "stdout",
     "output_type": "stream",
     "text": [
      "Clasification Report\n",
      "                 precision    recall  f1-score   support\n",
      "\n",
      "    Iris-setosa       1.00      1.00      1.00        13\n",
      "Iris-versicolor       1.00      0.94      0.97        16\n",
      " Iris-virginica       0.90      1.00      0.95         9\n",
      "\n",
      "       accuracy                           0.97        38\n",
      "      macro avg       0.97      0.98      0.97        38\n",
      "   weighted avg       0.98      0.97      0.97        38\n",
      "\n"
     ]
    },
    {
     "data": {
      "text/html": [
       "<pre style=\"white-space:pre;overflow-x:auto;line-height:normal;font-family:Menlo,'DejaVu Sans Mono',consolas,'Courier New',monospace\">23:42:39.417 | <span style=\"color: #008080; text-decoration-color: #008080\">INFO</span>    | Task run 'show_classificationreport-bec' - Task 'show_classificationreport' completed in 0.01 seconds\n",
       "</pre>\n"
      ],
      "text/plain": [
       "23:42:39.417 | \u001b[36mINFO\u001b[0m    | Task run 'show_classificationreport-bec' - Task 'show_classificationreport' completed in 0.01 seconds\n"
      ]
     },
     "metadata": {},
     "output_type": "display_data"
    },
    {
     "data": {
      "text/html": [
       "<pre style=\"white-space:pre;overflow-x:auto;line-height:normal;font-family:Menlo,'DejaVu Sans Mono',consolas,'Courier New',monospace\">23:42:39.419 | <span style=\"color: #008080; text-decoration-color: #008080\">INFO</span>    | Task run 'show_classificationreport-bec' - Finished in state <span style=\"color: #008000; text-decoration-color: #008000\">Completed</span>()\n",
       "</pre>\n"
      ],
      "text/plain": [
       "23:42:39.419 | \u001b[36mINFO\u001b[0m    | Task run 'show_classificationreport-bec' - Finished in state \u001b[32mCompleted\u001b[0m()\n"
      ]
     },
     "metadata": {},
     "output_type": "display_data"
    },
    {
     "name": "stdout",
     "output_type": "stream",
     "text": [
      "Comparación de predicciones (primeras 5 filas):\n",
      "     SepalLengthCm  SepalWidthCm  PetalLengthCm  PetalWidthCm  \\\n",
      "114            5.8           2.8            5.1           2.4   \n",
      "62             6.0           2.2            4.0           1.0   \n",
      "33             5.5           4.2            1.4           0.2   \n",
      "107            7.3           2.9            6.3           1.8   \n",
      "7              5.0           3.4            1.5           0.2   \n",
      "\n",
      "             Species       Predicción  \n",
      "114   Iris-virginica   Iris-virginica  \n",
      "62   Iris-versicolor  Iris-versicolor  \n",
      "33       Iris-setosa      Iris-setosa  \n",
      "107   Iris-virginica   Iris-virginica  \n",
      "7        Iris-setosa      Iris-setosa  \n",
      "Score de entrenamiento: 0.973\n",
      "Score de test: 0.974\n",
      "Scores de validación cruzada:\n",
      "[0.96 0.87 1.   0.95 1.  ]\n",
      "Desempeño promedio:\n",
      "0.9561264822134387\n",
      "Accuracy en el testing: 0.9736842105263158\n"
     ]
    },
    {
     "data": {
      "text/html": [
       "<pre style=\"white-space:pre;overflow-x:auto;line-height:normal;font-family:Menlo,'DejaVu Sans Mono',consolas,'Courier New',monospace\">23:42:39.469 | <span style=\"color: #008080; text-decoration-color: #008080\">INFO</span>    | Task run 'svm_scaler-eab' - Task 'svm_scaler' completed in 0.02 seconds\n",
       "</pre>\n"
      ],
      "text/plain": [
       "23:42:39.469 | \u001b[36mINFO\u001b[0m    | Task run 'svm_scaler-eab' - Task 'svm_scaler' completed in 0.02 seconds\n"
      ]
     },
     "metadata": {},
     "output_type": "display_data"
    },
    {
     "data": {
      "text/html": [
       "<pre style=\"white-space:pre;overflow-x:auto;line-height:normal;font-family:Menlo,'DejaVu Sans Mono',consolas,'Courier New',monospace\">23:42:39.474 | <span style=\"color: #008080; text-decoration-color: #008080\">INFO</span>    | Task run 'svm_scaler-eab' - Finished in state <span style=\"color: #008000; text-decoration-color: #008000\">Completed</span>()\n",
       "</pre>\n"
      ],
      "text/plain": [
       "23:42:39.474 | \u001b[36mINFO\u001b[0m    | Task run 'svm_scaler-eab' - Finished in state \u001b[32mCompleted\u001b[0m()\n"
      ]
     },
     "metadata": {},
     "output_type": "display_data"
    },
    {
     "name": "stdout",
     "output_type": "stream",
     "text": [
      "Visualización de desempeño con Matriz de Confusión:\n",
      "Confusion Matrix\n",
      "[[ 0  0 13]\n",
      " [ 0  0 16]\n",
      " [ 0  0  9]]\n"
     ]
    },
    {
     "name": "stderr",
     "output_type": "stream",
     "text": [
      "c:\\Users\\aleja\\miniconda3\\envs\\ml1\\Lib\\site-packages\\sklearn\\utils\\validation.py:2742: UserWarning: X has feature names, but SVC was fitted without feature names\n",
      "  warnings.warn(\n"
     ]
    },
    {
     "data": {
      "image/png": "[encoded data removed]",
      "text/plain": [
       "<Figure size 640x480 with 2 Axes>"
      ]
     },
     "metadata": {},
     "output_type": "display_data"
    },
    {
     "data": {
      "text/html": [
       "<pre style=\"white-space:pre;overflow-x:auto;line-height:normal;font-family:Menlo,'DejaVu Sans Mono',consolas,'Courier New',monospace\">23:42:39.614 | <span style=\"color: #008080; text-decoration-color: #008080\">INFO</span>    | Task run 'confusion_matrix-c2c' - Task 'confusion_matrix' completed in 0.12 seconds\n",
       "</pre>\n"
      ],
      "text/plain": [
       "23:42:39.614 | \u001b[36mINFO\u001b[0m    | Task run 'confusion_matrix-c2c' - Task 'confusion_matrix' completed in 0.12 seconds\n"
      ]
     },
     "metadata": {},
     "output_type": "display_data"
    },
    {
     "data": {
      "text/html": [
       "<pre style=\"white-space:pre;overflow-x:auto;line-height:normal;font-family:Menlo,'DejaVu Sans Mono',consolas,'Courier New',monospace\">23:42:39.621 | <span style=\"color: #008080; text-decoration-color: #008080\">INFO</span>    | Task run 'confusion_matrix-c2c' - Finished in state <span style=\"color: #008000; text-decoration-color: #008000\">Completed</span>()\n",
       "</pre>\n"
      ],
      "text/plain": [
       "23:42:39.621 | \u001b[36mINFO\u001b[0m    | Task run 'confusion_matrix-c2c' - Finished in state \u001b[32mCompleted\u001b[0m()\n"
      ]
     },
     "metadata": {},
     "output_type": "display_data"
    },
    {
     "name": "stdout",
     "output_type": "stream",
     "text": [
      "Clasification Report\n",
      "                 precision    recall  f1-score   support\n",
      "\n",
      "    Iris-setosa       0.00      0.00      0.00        13\n",
      "Iris-versicolor       0.00      0.00      0.00        16\n",
      " Iris-virginica       0.24      1.00      0.38         9\n",
      "\n",
      "       accuracy                           0.24        38\n",
      "      macro avg       0.08      0.33      0.13        38\n",
      "   weighted avg       0.06      0.24      0.09        38\n",
      "\n"
     ]
    },
    {
     "name": "stderr",
     "output_type": "stream",
     "text": [
      "c:\\Users\\aleja\\miniconda3\\envs\\ml1\\Lib\\site-packages\\sklearn\\utils\\validation.py:2742: UserWarning: X has feature names, but SVC was fitted without feature names\n",
      "  warnings.warn(\n",
      "c:\\Users\\aleja\\miniconda3\\envs\\ml1\\Lib\\site-packages\\sklearn\\metrics\\_classification.py:1731: UndefinedMetricWarning: Precision is ill-defined and being set to 0.0 in labels with no predicted samples. Use `zero_division` parameter to control this behavior.\n",
      "  _warn_prf(average, modifier, f\"{metric.capitalize()} is\", result.shape[0])\n",
      "c:\\Users\\aleja\\miniconda3\\envs\\ml1\\Lib\\site-packages\\sklearn\\metrics\\_classification.py:1731: UndefinedMetricWarning: Precision is ill-defined and being set to 0.0 in labels with no predicted samples. Use `zero_division` parameter to control this behavior.\n",
      "  _warn_prf(average, modifier, f\"{metric.capitalize()} is\", result.shape[0])\n",
      "c:\\Users\\aleja\\miniconda3\\envs\\ml1\\Lib\\site-packages\\sklearn\\metrics\\_classification.py:1731: UndefinedMetricWarning: Precision is ill-defined and being set to 0.0 in labels with no predicted samples. Use `zero_division` parameter to control this behavior.\n",
      "  _warn_prf(average, modifier, f\"{metric.capitalize()} is\", result.shape[0])\n"
     ]
    },
    {
     "data": {
      "text/html": [
       "<pre style=\"white-space:pre;overflow-x:auto;line-height:normal;font-family:Menlo,'DejaVu Sans Mono',consolas,'Courier New',monospace\">23:42:39.648 | <span style=\"color: #008080; text-decoration-color: #008080\">INFO</span>    | Task run 'show_classificationreport-ad9' - Task 'show_classificationreport' completed in 0.00 seconds\n",
       "</pre>\n"
      ],
      "text/plain": [
       "23:42:39.648 | \u001b[36mINFO\u001b[0m    | Task run 'show_classificationreport-ad9' - Task 'show_classificationreport' completed in 0.00 seconds\n"
      ]
     },
     "metadata": {},
     "output_type": "display_data"
    },
    {
     "data": {
      "text/html": [
       "<pre style=\"white-space:pre;overflow-x:auto;line-height:normal;font-family:Menlo,'DejaVu Sans Mono',consolas,'Courier New',monospace\">23:42:39.655 | <span style=\"color: #008080; text-decoration-color: #008080\">INFO</span>    | Task run 'show_classificationreport-ad9' - Finished in state <span style=\"color: #008000; text-decoration-color: #008000\">Completed</span>()\n",
       "</pre>\n"
      ],
      "text/plain": [
       "23:42:39.655 | \u001b[36mINFO\u001b[0m    | Task run 'show_classificationreport-ad9' - Finished in state \u001b[32mCompleted\u001b[0m()\n"
      ]
     },
     "metadata": {},
     "output_type": "display_data"
    },
    {
     "data": {
      "text/html": [
       "<pre style=\"white-space:pre;overflow-x:auto;line-height:normal;font-family:Menlo,'DejaVu Sans Mono',consolas,'Courier New',monospace\">23:42:39.694 | <span style=\"color: #008080; text-decoration-color: #008080\">INFO</span>    | Flow run<span style=\"color: #800080; text-decoration-color: #800080\"> 'grinning-turkey'</span> - Finished in state <span style=\"color: #008000; text-decoration-color: #008000\">Completed</span>()\n",
       "</pre>\n"
      ],
      "text/plain": [
       "23:42:39.694 | \u001b[36mINFO\u001b[0m    | Flow run\u001b[35m 'grinning-turkey'\u001b[0m - Finished in state \u001b[32mCompleted\u001b[0m()\n"
      ]
     },
     "metadata": {},
     "output_type": "display_data"
    }
   ],
   "source": [
    "@flow\n",
    "def iris_flow():\n",
    "    df = iris_dataset_retribution()\n",
    "    X_train, X_test, y_train, y_test = iris_preprocessing(df)\n",
    "    \n",
    "    class_names = ['Iris-setosa', 'Iris-versicolor', 'Iris-virginica']\n",
    "    \n",
    "    dtree_model, y_pred = decision_tree(X_train, X_test, y_train, y_test)\n",
    "    confusion_matrix(class_names, dtree_model, X_test, y_test)\n",
    "    show_classificationreport(dtree_model, X_test, y_test, class_names)\n",
    "\n",
    "    rf_model =random_forest(X_train, X_test, y_train, y_test)\n",
    "    confusion_matrix(class_names, rf_model, X_test, y_test)\n",
    "    show_classificationreport(rf_model, X_test, y_test, class_names)\n",
    "\n",
    "    knn_model = knn(X_train, X_test, y_train, y_test)\n",
    "    confusion_matrix(class_names, knn_model, X_test, y_test)\n",
    "    show_classificationreport(knn_model, X_test, y_test, class_names)\n",
    "\n",
    "    knn_scaled = knn_scaler(X_train, X_test, y_train, y_test)\n",
    "    confusion_matrix(class_names, knn_scaled, X_test, y_test)\n",
    "    show_classificationreport(knn_scaled, X_test, y_test, class_names)\n",
    "\n",
    "    svm_class_model = svm(X_train, X_test, y_train, y_test)\n",
    "    confusion_matrix(class_names, svm_class_model, X_test, y_test)\n",
    "    show_classificationreport(svm_class_model, X_test, y_test, class_names)\n",
    "\n",
    "    svm_class_scaled = svm_scaler(X_train, X_test, y_train, y_test)\n",
    "    confusion_matrix(class_names, svm_class_scaled, X_test, y_test)\n",
    "    show_classificationreport(svm_class_scaled, X_test, y_test, class_names)\n",
    "    \n",
    "iris_flow()"
   ]
  },
  {
   "cell_type": "code",
   "execution_count": 39,
   "id": "a31ba221",
   "metadata": {},
   "outputs": [
    {
     "data": {
      "text/html": [
       "<pre style=\"white-space:pre;overflow-x:auto;line-height:normal;font-family:Menlo,'DejaVu Sans Mono',consolas,'Courier New',monospace\">23:42:39.831 | <span style=\"color: #008080; text-decoration-color: #008080\">INFO</span>    | Flow run<span style=\"color: #800080; text-decoration-color: #800080\"> 'dandelion-mastiff'</span> - Beginning flow run<span style=\"color: #800080; text-decoration-color: #800080\"> 'dandelion-mastiff'</span> for flow<span style=\"color: #800080; text-decoration-color: #800080; font-weight: bold\"> 'cancer-flow'</span>\n",
       "</pre>\n"
      ],
      "text/plain": [
       "23:42:39.831 | \u001b[36mINFO\u001b[0m    | Flow run\u001b[35m 'dandelion-mastiff'\u001b[0m - Beginning flow run\u001b[35m 'dandelion-mastiff'\u001b[0m for flow\u001b[1;35m 'cancer-flow'\u001b[0m\n"
      ]
     },
     "metadata": {},
     "output_type": "display_data"
    },
    {
     "name": "stdout",
     "output_type": "stream",
     "text": [
      "Características (X_i):  ['mean radius' 'mean texture' 'mean perimeter' 'mean area'\n",
      " 'mean smoothness' 'mean compactness' 'mean concavity'\n",
      " 'mean concave points' 'mean symmetry' 'mean fractal dimension'\n",
      " 'radius error' 'texture error' 'perimeter error' 'area error'\n",
      " 'smoothness error' 'compactness error' 'concavity error'\n",
      " 'concave points error' 'symmetry error' 'fractal dimension error'\n",
      " 'worst radius' 'worst texture' 'worst perimeter' 'worst area'\n",
      " 'worst smoothness' 'worst compactness' 'worst concavity'\n",
      " 'worst concave points' 'worst symmetry' 'worst fractal dimension']\n"
     ]
    },
    {
     "data": {
      "text/html": [
       "<pre style=\"white-space:pre;overflow-x:auto;line-height:normal;font-family:Menlo,'DejaVu Sans Mono',consolas,'Courier New',monospace\">23:42:39.860 | <span style=\"color: #008080; text-decoration-color: #008080\">INFO</span>    | Task run 'cancer_dataset_retribution-842' - Task 'cancer_dataset_retribution' completed in 0.01 seconds\n",
       "</pre>\n"
      ],
      "text/plain": [
       "23:42:39.860 | \u001b[36mINFO\u001b[0m    | Task run 'cancer_dataset_retribution-842' - Task 'cancer_dataset_retribution' completed in 0.01 seconds\n"
      ]
     },
     "metadata": {},
     "output_type": "display_data"
    },
    {
     "data": {
      "text/html": [
       "<pre style=\"white-space:pre;overflow-x:auto;line-height:normal;font-family:Menlo,'DejaVu Sans Mono',consolas,'Courier New',monospace\">23:42:39.866 | <span style=\"color: #008080; text-decoration-color: #008080\">INFO</span>    | Task run 'cancer_dataset_retribution-842' - Finished in state <span style=\"color: #008000; text-decoration-color: #008000\">Completed</span>()\n",
       "</pre>\n"
      ],
      "text/plain": [
       "23:42:39.866 | \u001b[36mINFO\u001b[0m    | Task run 'cancer_dataset_retribution-842' - Finished in state \u001b[32mCompleted\u001b[0m()\n"
      ]
     },
     "metadata": {},
     "output_type": "display_data"
    },
    {
     "name": "stdout",
     "output_type": "stream",
     "text": [
      "Tamaño de X_train: (398, 30)\n",
      "Tamaño de y_train: (398,)\n",
      "Tamaño de X_test: (171, 30)\n",
      "Tamaño de y_test: (171,)\n"
     ]
    },
    {
     "data": {
      "text/html": [
       "<pre style=\"white-space:pre;overflow-x:auto;line-height:normal;font-family:Menlo,'DejaVu Sans Mono',consolas,'Courier New',monospace\">23:42:39.891 | <span style=\"color: #008080; text-decoration-color: #008080\">INFO</span>    | Task run 'cancer_preprocessing-d15' - Task 'cancer_preprocessing' completed in 0.00 seconds\n",
       "</pre>\n"
      ],
      "text/plain": [
       "23:42:39.891 | \u001b[36mINFO\u001b[0m    | Task run 'cancer_preprocessing-d15' - Task 'cancer_preprocessing' completed in 0.00 seconds\n"
      ]
     },
     "metadata": {},
     "output_type": "display_data"
    },
    {
     "data": {
      "text/html": [
       "<pre style=\"white-space:pre;overflow-x:auto;line-height:normal;font-family:Menlo,'DejaVu Sans Mono',consolas,'Courier New',monospace\">23:42:39.894 | <span style=\"color: #008080; text-decoration-color: #008080\">INFO</span>    | Task run 'cancer_preprocessing-d15' - Finished in state <span style=\"color: #008000; text-decoration-color: #008000\">Completed</span>()\n",
       "</pre>\n"
      ],
      "text/plain": [
       "23:42:39.894 | \u001b[36mINFO\u001b[0m    | Task run 'cancer_preprocessing-d15' - Finished in state \u001b[32mCompleted\u001b[0m()\n"
      ]
     },
     "metadata": {},
     "output_type": "display_data"
    },
    {
     "name": "stdout",
     "output_type": "stream",
     "text": [
      "Comparación de predicciones (primeras 5 filas):\n",
      "   feature_0  feature_1  feature_2  feature_3  feature_4  feature_5  \\\n",
      "0      11.67      20.02      75.21      416.2    0.10160    0.09453   \n",
      "1      11.94      18.24      75.71      437.6    0.08261    0.04751   \n",
      "2      19.16      26.60     126.20     1138.0    0.10200    0.14530   \n",
      "3      19.55      28.77     133.60     1207.0    0.09260    0.20630   \n",
      "4      12.47      18.60      81.09      481.9    0.09965    0.10580   \n",
      "\n",
      "   feature_6  feature_7  feature_8  feature_9  ...  feature_22  feature_23  \\\n",
      "0    0.04200    0.02157     0.1859    0.06461  ...       87.00       550.6   \n",
      "1    0.01972    0.01349     0.1868    0.06110  ...       83.67       527.2   \n",
      "2    0.19210    0.09664     0.1902    0.06220  ...      159.80      1724.0   \n",
      "3    0.17840    0.11440     0.1893    0.06232  ...      178.60      1926.0   \n",
      "4    0.08005    0.03821     0.1925    0.06373  ...       96.05       677.9   \n",
      "\n",
      "   feature_24  feature_25  feature_26  feature_27  feature_28  feature_29  \\\n",
      "0      0.1550     0.29640     0.27580     0.08120      0.3206     0.08950   \n",
      "1      0.1144     0.08906     0.09203     0.06296      0.2785     0.07408   \n",
      "2      0.1782     0.38410     0.57540     0.18720      0.3258     0.09720   \n",
      "3      0.1281     0.53290     0.42510     0.19410      0.2818     0.10050   \n",
      "4      0.1426     0.23780     0.26710     0.10150      0.3014     0.08750   \n",
      "\n",
      "   Actual  Predicción  \n",
      "0       1           1  \n",
      "1       1           1  \n",
      "2       0           0  \n",
      "3       0           0  \n",
      "4       1           1  \n",
      "\n",
      "[5 rows x 32 columns]\n",
      "Resultados de la validación cruzada en decision tree:  [0.95 0.94 0.93 0.92 0.89]\n",
      "Resultado promedio de la validación cruzada en decision tree: 0.9245253164556961\n",
      "Exactitud (accuracy) en prueba (testing) del decision tree: 0.9707602339181286\n"
     ]
    },
    {
     "data": {
      "text/html": [
       "<pre style=\"white-space:pre;overflow-x:auto;line-height:normal;font-family:Menlo,'DejaVu Sans Mono',consolas,'Courier New',monospace\">23:42:39.959 | <span style=\"color: #008080; text-decoration-color: #008080\">INFO</span>    | Task run 'decision_tree-8d0' - Task 'decision_tree' completed in 0.04 seconds\n",
       "</pre>\n"
      ],
      "text/plain": [
       "23:42:39.959 | \u001b[36mINFO\u001b[0m    | Task run 'decision_tree-8d0' - Task 'decision_tree' completed in 0.04 seconds\n"
      ]
     },
     "metadata": {},
     "output_type": "display_data"
    },
    {
     "data": {
      "text/html": [
       "<pre style=\"white-space:pre;overflow-x:auto;line-height:normal;font-family:Menlo,'DejaVu Sans Mono',consolas,'Courier New',monospace\">23:42:39.965 | <span style=\"color: #008080; text-decoration-color: #008080\">INFO</span>    | Task run 'decision_tree-8d0' - Finished in state <span style=\"color: #008000; text-decoration-color: #008000\">Completed</span>()\n",
       "</pre>\n"
      ],
      "text/plain": [
       "23:42:39.965 | \u001b[36mINFO\u001b[0m    | Task run 'decision_tree-8d0' - Finished in state \u001b[32mCompleted\u001b[0m()\n"
      ]
     },
     "metadata": {},
     "output_type": "display_data"
    },
    {
     "name": "stdout",
     "output_type": "stream",
     "text": [
      "Visualización de desempeño con Matriz de Confusión:\n",
      "Confusion Matrix\n",
      "[[ 60   3]\n",
      " [  2 106]]\n"
     ]
    },
    {
     "data": {
      "image/png": "[encoded data removed]",
      "text/plain": [
       "<Figure size 640x480 with 2 Axes>"
      ]
     },
     "metadata": {},
     "output_type": "display_data"
    },
    {
     "data": {
      "text/html": [
       "<pre style=\"white-space:pre;overflow-x:auto;line-height:normal;font-family:Menlo,'DejaVu Sans Mono',consolas,'Courier New',monospace\">23:42:40.120 | <span style=\"color: #008080; text-decoration-color: #008080\">INFO</span>    | Task run 'confusion_matrix-1a3' - Task 'confusion_matrix' completed in 0.13 seconds\n",
       "</pre>\n"
      ],
      "text/plain": [
       "23:42:40.120 | \u001b[36mINFO\u001b[0m    | Task run 'confusion_matrix-1a3' - Task 'confusion_matrix' completed in 0.13 seconds\n"
      ]
     },
     "metadata": {},
     "output_type": "display_data"
    },
    {
     "data": {
      "text/html": [
       "<pre style=\"white-space:pre;overflow-x:auto;line-height:normal;font-family:Menlo,'DejaVu Sans Mono',consolas,'Courier New',monospace\">23:42:40.128 | <span style=\"color: #008080; text-decoration-color: #008080\">INFO</span>    | Task run 'confusion_matrix-1a3' - Finished in state <span style=\"color: #008000; text-decoration-color: #008000\">Completed</span>()\n",
       "</pre>\n"
      ],
      "text/plain": [
       "23:42:40.128 | \u001b[36mINFO\u001b[0m    | Task run 'confusion_matrix-1a3' - Finished in state \u001b[32mCompleted\u001b[0m()\n"
      ]
     },
     "metadata": {},
     "output_type": "display_data"
    },
    {
     "name": "stdout",
     "output_type": "stream",
     "text": [
      "Clasification Report\n",
      "              precision    recall  f1-score   support\n",
      "\n",
      "           0       0.97      0.95      0.96        63\n",
      "           1       0.97      0.98      0.98       108\n",
      "\n",
      "    accuracy                           0.97       171\n",
      "   macro avg       0.97      0.97      0.97       171\n",
      "weighted avg       0.97      0.97      0.97       171\n",
      "\n"
     ]
    },
    {
     "data": {
      "text/html": [
       "<pre style=\"white-space:pre;overflow-x:auto;line-height:normal;font-family:Menlo,'DejaVu Sans Mono',consolas,'Courier New',monospace\">23:42:40.160 | <span style=\"color: #008080; text-decoration-color: #008080\">INFO</span>    | Task run 'show_classificationreport-b3d' - Task 'show_classificationreport' completed in 0.01 seconds\n",
       "</pre>\n"
      ],
      "text/plain": [
       "23:42:40.160 | \u001b[36mINFO\u001b[0m    | Task run 'show_classificationreport-b3d' - Task 'show_classificationreport' completed in 0.01 seconds\n"
      ]
     },
     "metadata": {},
     "output_type": "display_data"
    },
    {
     "data": {
      "text/html": [
       "<pre style=\"white-space:pre;overflow-x:auto;line-height:normal;font-family:Menlo,'DejaVu Sans Mono',consolas,'Courier New',monospace\">23:42:40.166 | <span style=\"color: #008080; text-decoration-color: #008080\">INFO</span>    | Task run 'show_classificationreport-b3d' - Finished in state <span style=\"color: #008000; text-decoration-color: #008000\">Completed</span>()\n",
       "</pre>\n"
      ],
      "text/plain": [
       "23:42:40.166 | \u001b[36mINFO\u001b[0m    | Task run 'show_classificationreport-b3d' - Finished in state \u001b[32mCompleted\u001b[0m()\n"
      ]
     },
     "metadata": {},
     "output_type": "display_data"
    },
    {
     "name": "stdout",
     "output_type": "stream",
     "text": [
      "Random Forest Accuracy: 0.9766\n"
     ]
    },
    {
     "data": {
      "text/html": [
       "<pre style=\"white-space:pre;overflow-x:auto;line-height:normal;font-family:Menlo,'DejaVu Sans Mono',consolas,'Courier New',monospace\">23:42:40.354 | <span style=\"color: #008080; text-decoration-color: #008080\">INFO</span>    | Task run 'random_forest-d12' - Task 'random_forest' completed in 0.16 seconds\n",
       "</pre>\n"
      ],
      "text/plain": [
       "23:42:40.354 | \u001b[36mINFO\u001b[0m    | Task run 'random_forest-d12' - Task 'random_forest' completed in 0.16 seconds\n"
      ]
     },
     "metadata": {},
     "output_type": "display_data"
    },
    {
     "data": {
      "text/html": [
       "<pre style=\"white-space:pre;overflow-x:auto;line-height:normal;font-family:Menlo,'DejaVu Sans Mono',consolas,'Courier New',monospace\">23:42:40.360 | <span style=\"color: #008080; text-decoration-color: #008080\">INFO</span>    | Task run 'random_forest-d12' - Finished in state <span style=\"color: #008000; text-decoration-color: #008000\">Completed</span>()\n",
       "</pre>\n"
      ],
      "text/plain": [
       "23:42:40.360 | \u001b[36mINFO\u001b[0m    | Task run 'random_forest-d12' - Finished in state \u001b[32mCompleted\u001b[0m()\n"
      ]
     },
     "metadata": {},
     "output_type": "display_data"
    },
    {
     "name": "stdout",
     "output_type": "stream",
     "text": [
      "Visualización de desempeño con Matriz de Confusión:\n",
      "Confusion Matrix\n",
      "[[ 59   4]\n",
      " [  0 108]]\n"
     ]
    },
    {
     "data": {
      "image/png": "[encoded data removed]",
      "text/plain": [
       "<Figure size 640x480 with 2 Axes>"
      ]
     },
     "metadata": {},
     "output_type": "display_data"
    },
    {
     "data": {
      "text/html": [
       "<pre style=\"white-space:pre;overflow-x:auto;line-height:normal;font-family:Menlo,'DejaVu Sans Mono',consolas,'Courier New',monospace\">23:42:40.502 | <span style=\"color: #008080; text-decoration-color: #008080\">INFO</span>    | Task run 'confusion_matrix-68a' - Task 'confusion_matrix' completed in 0.11 seconds\n",
       "</pre>\n"
      ],
      "text/plain": [
       "23:42:40.502 | \u001b[36mINFO\u001b[0m    | Task run 'confusion_matrix-68a' - Task 'confusion_matrix' completed in 0.11 seconds\n"
      ]
     },
     "metadata": {},
     "output_type": "display_data"
    },
    {
     "data": {
      "text/html": [
       "<pre style=\"white-space:pre;overflow-x:auto;line-height:normal;font-family:Menlo,'DejaVu Sans Mono',consolas,'Courier New',monospace\">23:42:40.505 | <span style=\"color: #008080; text-decoration-color: #008080\">INFO</span>    | Task run 'confusion_matrix-68a' - Finished in state <span style=\"color: #008000; text-decoration-color: #008000\">Completed</span>()\n",
       "</pre>\n"
      ],
      "text/plain": [
       "23:42:40.505 | \u001b[36mINFO\u001b[0m    | Task run 'confusion_matrix-68a' - Finished in state \u001b[32mCompleted\u001b[0m()\n"
      ]
     },
     "metadata": {},
     "output_type": "display_data"
    },
    {
     "name": "stdout",
     "output_type": "stream",
     "text": [
      "Clasification Report\n",
      "              precision    recall  f1-score   support\n",
      "\n",
      "           0       1.00      0.94      0.97        63\n",
      "           1       0.96      1.00      0.98       108\n",
      "\n",
      "    accuracy                           0.98       171\n",
      "   macro avg       0.98      0.97      0.97       171\n",
      "weighted avg       0.98      0.98      0.98       171\n",
      "\n"
     ]
    },
    {
     "data": {
      "text/html": [
       "<pre style=\"white-space:pre;overflow-x:auto;line-height:normal;font-family:Menlo,'DejaVu Sans Mono',consolas,'Courier New',monospace\">23:42:40.549 | <span style=\"color: #008080; text-decoration-color: #008080\">INFO</span>    | Task run 'show_classificationreport-290' - Task 'show_classificationreport' completed in 0.01 seconds\n",
       "</pre>\n"
      ],
      "text/plain": [
       "23:42:40.549 | \u001b[36mINFO\u001b[0m    | Task run 'show_classificationreport-290' - Task 'show_classificationreport' completed in 0.01 seconds\n"
      ]
     },
     "metadata": {},
     "output_type": "display_data"
    },
    {
     "data": {
      "text/html": [
       "<pre style=\"white-space:pre;overflow-x:auto;line-height:normal;font-family:Menlo,'DejaVu Sans Mono',consolas,'Courier New',monospace\">23:42:40.554 | <span style=\"color: #008080; text-decoration-color: #008080\">INFO</span>    | Task run 'show_classificationreport-290' - Finished in state <span style=\"color: #008000; text-decoration-color: #008000\">Completed</span>()\n",
       "</pre>\n"
      ],
      "text/plain": [
       "23:42:40.554 | \u001b[36mINFO\u001b[0m    | Task run 'show_classificationreport-290' - Finished in state \u001b[32mCompleted\u001b[0m()\n"
      ]
     },
     "metadata": {},
     "output_type": "display_data"
    },
    {
     "name": "stdout",
     "output_type": "stream",
     "text": [
      "Comparación de hiperparámetros:\n",
      "KNN (n_neighbors=1) - Prueba de accuracy: 0.9415\n",
      "KNN (n_neighbors=3) - Prueba de accuracy: 0.9532\n",
      "KNN (n_neighbors=5) - Prueba de accuracy: 0.9649\n",
      "KNN (n_neighbors=7) - Prueba de accuracy: 0.9708\n",
      "Comparación de predicciones (primeras 5 filas):\n",
      "   feature_0  feature_1  feature_2  feature_3  feature_4  feature_5  \\\n",
      "0      11.67      20.02      75.21      416.2    0.10160    0.09453   \n",
      "1      11.94      18.24      75.71      437.6    0.08261    0.04751   \n",
      "2      19.16      26.60     126.20     1138.0    0.10200    0.14530   \n",
      "3      19.55      28.77     133.60     1207.0    0.09260    0.20630   \n",
      "4      12.47      18.60      81.09      481.9    0.09965    0.10580   \n",
      "\n",
      "   feature_6  feature_7  feature_8  feature_9  ...  feature_22  feature_23  \\\n",
      "0    0.04200    0.02157     0.1859    0.06461  ...       87.00       550.6   \n",
      "1    0.01972    0.01349     0.1868    0.06110  ...       83.67       527.2   \n",
      "2    0.19210    0.09664     0.1902    0.06220  ...      159.80      1724.0   \n",
      "3    0.17840    0.11440     0.1893    0.06232  ...      178.60      1926.0   \n",
      "4    0.08005    0.03821     0.1925    0.06373  ...       96.05       677.9   \n",
      "\n",
      "   feature_24  feature_25  feature_26  feature_27  feature_28  feature_29  \\\n",
      "0      0.1550     0.29640     0.27580     0.08120      0.3206     0.08950   \n",
      "1      0.1144     0.08906     0.09203     0.06296      0.2785     0.07408   \n",
      "2      0.1782     0.38410     0.57540     0.18720      0.3258     0.09720   \n",
      "3      0.1281     0.53290     0.42510     0.19410      0.2818     0.10050   \n",
      "4      0.1426     0.23780     0.26710     0.10150      0.3014     0.08750   \n",
      "\n",
      "   Actual  Predicción  \n",
      "0       1           1  \n",
      "1       1           1  \n",
      "2       0           0  \n",
      "3       0           0  \n",
      "4       1           1  \n",
      "\n",
      "[5 rows x 32 columns]\n",
      "Score sobre el conjunto de test: 0.971\n",
      "[0.91 0.93 0.9  0.95 0.9 ]\n",
      "Desempeño promedio del kNN:\n",
      "0.9171202531645569\n",
      "Exactitud (accuracy) en prueba (testing) del kNN: 0.9415204678362573\n"
     ]
    },
    {
     "data": {
      "text/html": [
       "<pre style=\"white-space:pre;overflow-x:auto;line-height:normal;font-family:Menlo,'DejaVu Sans Mono',consolas,'Courier New',monospace\">23:42:40.625 | <span style=\"color: #008080; text-decoration-color: #008080\">INFO</span>    | Task run 'knn-a08' - Task 'knn' completed in 0.05 seconds\n",
       "</pre>\n"
      ],
      "text/plain": [
       "23:42:40.625 | \u001b[36mINFO\u001b[0m    | Task run 'knn-a08' - Task 'knn' completed in 0.05 seconds\n"
      ]
     },
     "metadata": {},
     "output_type": "display_data"
    },
    {
     "data": {
      "text/html": [
       "<pre style=\"white-space:pre;overflow-x:auto;line-height:normal;font-family:Menlo,'DejaVu Sans Mono',consolas,'Courier New',monospace\">23:42:40.628 | <span style=\"color: #008080; text-decoration-color: #008080\">INFO</span>    | Task run 'knn-a08' - Finished in state <span style=\"color: #008000; text-decoration-color: #008000\">Completed</span>()\n",
       "</pre>\n"
      ],
      "text/plain": [
       "23:42:40.628 | \u001b[36mINFO\u001b[0m    | Task run 'knn-a08' - Finished in state \u001b[32mCompleted\u001b[0m()\n"
      ]
     },
     "metadata": {},
     "output_type": "display_data"
    },
    {
     "name": "stdout",
     "output_type": "stream",
     "text": [
      "Visualización de desempeño con Matriz de Confusión:\n",
      "Confusion Matrix\n",
      "[[ 59   4]\n",
      " [  1 107]]\n"
     ]
    },
    {
     "data": {
      "image/png": "[encoded data removed]",
      "text/plain": [
       "<Figure size 640x480 with 2 Axes>"
      ]
     },
     "metadata": {},
     "output_type": "display_data"
    },
    {
     "data": {
      "text/html": [
       "<pre style=\"white-space:pre;overflow-x:auto;line-height:normal;font-family:Menlo,'DejaVu Sans Mono',consolas,'Courier New',monospace\">23:42:40.770 | <span style=\"color: #008080; text-decoration-color: #008080\">INFO</span>    | Task run 'confusion_matrix-513' - Task 'confusion_matrix' completed in 0.12 seconds\n",
       "</pre>\n"
      ],
      "text/plain": [
       "23:42:40.770 | \u001b[36mINFO\u001b[0m    | Task run 'confusion_matrix-513' - Task 'confusion_matrix' completed in 0.12 seconds\n"
      ]
     },
     "metadata": {},
     "output_type": "display_data"
    },
    {
     "data": {
      "text/html": [
       "<pre style=\"white-space:pre;overflow-x:auto;line-height:normal;font-family:Menlo,'DejaVu Sans Mono',consolas,'Courier New',monospace\">23:42:40.777 | <span style=\"color: #008080; text-decoration-color: #008080\">INFO</span>    | Task run 'confusion_matrix-513' - Finished in state <span style=\"color: #008000; text-decoration-color: #008000\">Completed</span>()\n",
       "</pre>\n"
      ],
      "text/plain": [
       "23:42:40.777 | \u001b[36mINFO\u001b[0m    | Task run 'confusion_matrix-513' - Finished in state \u001b[32mCompleted\u001b[0m()\n"
      ]
     },
     "metadata": {},
     "output_type": "display_data"
    },
    {
     "name": "stdout",
     "output_type": "stream",
     "text": [
      "Clasification Report\n",
      "              precision    recall  f1-score   support\n",
      "\n",
      "           0       0.98      0.94      0.96        63\n",
      "           1       0.96      0.99      0.98       108\n",
      "\n",
      "    accuracy                           0.97       171\n",
      "   macro avg       0.97      0.96      0.97       171\n",
      "weighted avg       0.97      0.97      0.97       171\n",
      "\n"
     ]
    },
    {
     "data": {
      "text/html": [
       "<pre style=\"white-space:pre;overflow-x:auto;line-height:normal;font-family:Menlo,'DejaVu Sans Mono',consolas,'Courier New',monospace\">23:42:40.810 | <span style=\"color: #008080; text-decoration-color: #008080\">INFO</span>    | Task run 'show_classificationreport-e02' - Task 'show_classificationreport' completed in 0.01 seconds\n",
       "</pre>\n"
      ],
      "text/plain": [
       "23:42:40.810 | \u001b[36mINFO\u001b[0m    | Task run 'show_classificationreport-e02' - Task 'show_classificationreport' completed in 0.01 seconds\n"
      ]
     },
     "metadata": {},
     "output_type": "display_data"
    },
    {
     "data": {
      "text/html": [
       "<pre style=\"white-space:pre;overflow-x:auto;line-height:normal;font-family:Menlo,'DejaVu Sans Mono',consolas,'Courier New',monospace\">23:42:40.814 | <span style=\"color: #008080; text-decoration-color: #008080\">INFO</span>    | Task run 'show_classificationreport-e02' - Finished in state <span style=\"color: #008000; text-decoration-color: #008000\">Completed</span>()\n",
       "</pre>\n"
      ],
      "text/plain": [
       "23:42:40.814 | \u001b[36mINFO\u001b[0m    | Task run 'show_classificationreport-e02' - Finished in state \u001b[32mCompleted\u001b[0m()\n"
      ]
     },
     "metadata": {},
     "output_type": "display_data"
    },
    {
     "name": "stdout",
     "output_type": "stream",
     "text": [
      "Comparación de hiperparámetros:\n",
      "SVM (kernel=linear, C=0.1) - Prueba de accuracy: 0.9708\n",
      "SVM (kernel=linear, C=1) - Prueba de accuracy: 0.9649\n",
      "SVM (kernel=linear, C=10) - Prueba de accuracy: 0.9649\n",
      "SVM (kernel=rbf, C=0.1) - Prueba de accuracy: 0.9064\n",
      "SVM (kernel=rbf, C=1) - Prueba de accuracy: 0.9240\n",
      "SVM (kernel=rbf, C=10) - Prueba de accuracy: 0.9532\n",
      "Comparación de predicciones:\n",
      "   feature_0  feature_1  feature_2  feature_3  feature_4  feature_5  \\\n",
      "0      11.67      20.02      75.21      416.2    0.10160    0.09453   \n",
      "1      11.94      18.24      75.71      437.6    0.08261    0.04751   \n",
      "2      19.16      26.60     126.20     1138.0    0.10200    0.14530   \n",
      "3      19.55      28.77     133.60     1207.0    0.09260    0.20630   \n",
      "4      12.47      18.60      81.09      481.9    0.09965    0.10580   \n",
      "\n",
      "   feature_6  feature_7  feature_8  feature_9  ...  feature_22  feature_23  \\\n",
      "0    0.04200    0.02157     0.1859    0.06461  ...       87.00       550.6   \n",
      "1    0.01972    0.01349     0.1868    0.06110  ...       83.67       527.2   \n",
      "2    0.19210    0.09664     0.1902    0.06220  ...      159.80      1724.0   \n",
      "3    0.17840    0.11440     0.1893    0.06232  ...      178.60      1926.0   \n",
      "4    0.08005    0.03821     0.1925    0.06373  ...       96.05       677.9   \n",
      "\n",
      "   feature_24  feature_25  feature_26  feature_27  feature_28  feature_29  \\\n",
      "0      0.1550     0.29640     0.27580     0.08120      0.3206     0.08950   \n",
      "1      0.1144     0.08906     0.09203     0.06296      0.2785     0.07408   \n",
      "2      0.1782     0.38410     0.57540     0.18720      0.3258     0.09720   \n",
      "3      0.1281     0.53290     0.42510     0.19410      0.2818     0.10050   \n",
      "4      0.1426     0.23780     0.26710     0.10150      0.3014     0.08750   \n",
      "\n",
      "   Actual  Predicción  \n",
      "0       1           1  \n",
      "1       1           1  \n",
      "2       0           0  \n",
      "3       0           0  \n",
      "4       1           1  \n",
      "\n",
      "[5 rows x 32 columns]\n",
      "Score sobre el conjunto de test: 0.947\n",
      "[0.95 0.96 0.93 0.95 0.91]\n",
      "Desempeño promedio:\n",
      "0.9396518987341771\n",
      "Exactitud (accuracy) en prueba (testing): 0.9473684210526315\n"
     ]
    },
    {
     "data": {
      "text/html": [
       "<pre style=\"white-space:pre;overflow-x:auto;line-height:normal;font-family:Menlo,'DejaVu Sans Mono',consolas,'Courier New',monospace\">23:42:46.041 | <span style=\"color: #008080; text-decoration-color: #008080\">INFO</span>    | Task run 'knn_scaler-fac' - Finished in state <span style=\"color: #008000; text-decoration-color: #008000\">Completed</span>()\n",
       "</pre>\n"
      ],
      "text/plain": [
       "23:42:46.041 | \u001b[36mINFO\u001b[0m    | Task run 'knn_scaler-fac' - Finished in state \u001b[32mCompleted\u001b[0m()\n"
      ]
     },
     "metadata": {},
     "output_type": "display_data"
    },
    {
     "name": "stdout",
     "output_type": "stream",
     "text": [
      "Visualización de desempeño con Matriz de Confusión:\n",
      "Confusion Matrix\n",
      "[[ 63   0]\n",
      " [108   0]]\n"
     ]
    },
    {
     "data": {
      "image/png": "[encoded data removed]",
      "text/plain": [
       "<Figure size 640x480 with 2 Axes>"
      ]
     },
     "metadata": {},
     "output_type": "display_data"
    },
    {
     "data": {
      "text/html": [
       "<pre style=\"white-space:pre;overflow-x:auto;line-height:normal;font-family:Menlo,'DejaVu Sans Mono',consolas,'Courier New',monospace\">23:42:46.174 | <span style=\"color: #008080; text-decoration-color: #008080\">INFO</span>    | Task run 'confusion_matrix-167' - Task 'confusion_matrix' completed in 0.10 seconds\n",
       "</pre>\n"
      ],
      "text/plain": [
       "23:42:46.174 | \u001b[36mINFO\u001b[0m    | Task run 'confusion_matrix-167' - Task 'confusion_matrix' completed in 0.10 seconds\n"
      ]
     },
     "metadata": {},
     "output_type": "display_data"
    },
    {
     "data": {
      "text/html": [
       "<pre style=\"white-space:pre;overflow-x:auto;line-height:normal;font-family:Menlo,'DejaVu Sans Mono',consolas,'Courier New',monospace\">23:42:46.178 | <span style=\"color: #008080; text-decoration-color: #008080\">INFO</span>    | Task run 'confusion_matrix-167' - Finished in state <span style=\"color: #008000; text-decoration-color: #008000\">Completed</span>()\n",
       "</pre>\n"
      ],
      "text/plain": [
       "23:42:46.178 | \u001b[36mINFO\u001b[0m    | Task run 'confusion_matrix-167' - Finished in state \u001b[32mCompleted\u001b[0m()\n"
      ]
     },
     "metadata": {},
     "output_type": "display_data"
    },
    {
     "name": "stdout",
     "output_type": "stream",
     "text": [
      "Clasification Report\n",
      "              precision    recall  f1-score   support\n",
      "\n",
      "           0       0.37      1.00      0.54        63\n",
      "           1       0.00      0.00      0.00       108\n",
      "\n",
      "    accuracy                           0.37       171\n",
      "   macro avg       0.18      0.50      0.27       171\n",
      "weighted avg       0.14      0.37      0.20       171\n",
      "\n"
     ]
    },
    {
     "name": "stderr",
     "output_type": "stream",
     "text": [
      "c:\\Users\\aleja\\miniconda3\\envs\\ml1\\Lib\\site-packages\\sklearn\\metrics\\_classification.py:1731: UndefinedMetricWarning: Precision is ill-defined and being set to 0.0 in labels with no predicted samples. Use `zero_division` parameter to control this behavior.\n",
      "  _warn_prf(average, modifier, f\"{metric.capitalize()} is\", result.shape[0])\n",
      "c:\\Users\\aleja\\miniconda3\\envs\\ml1\\Lib\\site-packages\\sklearn\\metrics\\_classification.py:1731: UndefinedMetricWarning: Precision is ill-defined and being set to 0.0 in labels with no predicted samples. Use `zero_division` parameter to control this behavior.\n",
      "  _warn_prf(average, modifier, f\"{metric.capitalize()} is\", result.shape[0])\n",
      "c:\\Users\\aleja\\miniconda3\\envs\\ml1\\Lib\\site-packages\\sklearn\\metrics\\_classification.py:1731: UndefinedMetricWarning: Precision is ill-defined and being set to 0.0 in labels with no predicted samples. Use `zero_division` parameter to control this behavior.\n",
      "  _warn_prf(average, modifier, f\"{metric.capitalize()} is\", result.shape[0])\n"
     ]
    },
    {
     "data": {
      "text/html": [
       "<pre style=\"white-space:pre;overflow-x:auto;line-height:normal;font-family:Menlo,'DejaVu Sans Mono',consolas,'Courier New',monospace\">23:42:46.206 | <span style=\"color: #008080; text-decoration-color: #008080\">INFO</span>    | Task run 'show_classificationreport-681' - Task 'show_classificationreport' completed in 0.01 seconds\n",
       "</pre>\n"
      ],
      "text/plain": [
       "23:42:46.206 | \u001b[36mINFO\u001b[0m    | Task run 'show_classificationreport-681' - Task 'show_classificationreport' completed in 0.01 seconds\n"
      ]
     },
     "metadata": {},
     "output_type": "display_data"
    },
    {
     "data": {
      "text/html": [
       "<pre style=\"white-space:pre;overflow-x:auto;line-height:normal;font-family:Menlo,'DejaVu Sans Mono',consolas,'Courier New',monospace\">23:42:46.216 | <span style=\"color: #008080; text-decoration-color: #008080\">INFO</span>    | Task run 'show_classificationreport-681' - Finished in state <span style=\"color: #008000; text-decoration-color: #008000\">Completed</span>()\n",
       "</pre>\n"
      ],
      "text/plain": [
       "23:42:46.216 | \u001b[36mINFO\u001b[0m    | Task run 'show_classificationreport-681' - Finished in state \u001b[32mCompleted\u001b[0m()\n"
      ]
     },
     "metadata": {},
     "output_type": "display_data"
    },
    {
     "name": "stdout",
     "output_type": "stream",
     "text": [
      "Comparación de predicciones (primeras 5 filas):\n",
      "   feature_0  feature_1  feature_2  feature_3  feature_4  feature_5  \\\n",
      "0      11.67      20.02      75.21      416.2    0.10160    0.09453   \n",
      "1      11.94      18.24      75.71      437.6    0.08261    0.04751   \n",
      "2      19.16      26.60     126.20     1138.0    0.10200    0.14530   \n",
      "3      19.55      28.77     133.60     1207.0    0.09260    0.20630   \n",
      "4      12.47      18.60      81.09      481.9    0.09965    0.10580   \n",
      "\n",
      "   feature_6  feature_7  feature_8  feature_9  ...  feature_22  feature_23  \\\n",
      "0    0.04200    0.02157     0.1859    0.06461  ...       87.00       550.6   \n",
      "1    0.01972    0.01349     0.1868    0.06110  ...       83.67       527.2   \n",
      "2    0.19210    0.09664     0.1902    0.06220  ...      159.80      1724.0   \n",
      "3    0.17840    0.11440     0.1893    0.06232  ...      178.60      1926.0   \n",
      "4    0.08005    0.03821     0.1925    0.06373  ...       96.05       677.9   \n",
      "\n",
      "   feature_24  feature_25  feature_26  feature_27  feature_28  feature_29  \\\n",
      "0      0.1550     0.29640     0.27580     0.08120      0.3206     0.08950   \n",
      "1      0.1144     0.08906     0.09203     0.06296      0.2785     0.07408   \n",
      "2      0.1782     0.38410     0.57540     0.18720      0.3258     0.09720   \n",
      "3      0.1281     0.53290     0.42510     0.19410      0.2818     0.10050   \n",
      "4      0.1426     0.23780     0.26710     0.10150      0.3014     0.08750   \n",
      "\n",
      "   Actual  Predicción  \n",
      "0       1           1  \n",
      "1       1           1  \n",
      "2       0           0  \n",
      "3       0           0  \n",
      "4       1           1  \n",
      "\n",
      "[5 rows x 32 columns]\n",
      "Score de entrenamiento: 0.905\n",
      "Score de test: 0.924\n",
      "Scores de validación cruzada:\n",
      "[0.88 0.94 0.88 0.91 0.89]\n",
      "Desempeño promedio:\n",
      "0.896993670886076\n",
      "Accuracy en el testing: 0.9239766081871345\n"
     ]
    },
    {
     "data": {
      "text/html": [
       "<pre style=\"white-space:pre;overflow-x:auto;line-height:normal;font-family:Menlo,'DejaVu Sans Mono',consolas,'Courier New',monospace\">23:42:46.296 | <span style=\"color: #008080; text-decoration-color: #008080\">INFO</span>    | Task run 'svm-d71' - Task 'svm' completed in 0.05 seconds\n",
       "</pre>\n"
      ],
      "text/plain": [
       "23:42:46.296 | \u001b[36mINFO\u001b[0m    | Task run 'svm-d71' - Task 'svm' completed in 0.05 seconds\n"
      ]
     },
     "metadata": {},
     "output_type": "display_data"
    },
    {
     "data": {
      "text/html": [
       "<pre style=\"white-space:pre;overflow-x:auto;line-height:normal;font-family:Menlo,'DejaVu Sans Mono',consolas,'Courier New',monospace\">23:42:46.303 | <span style=\"color: #008080; text-decoration-color: #008080\">INFO</span>    | Task run 'svm-d71' - Finished in state <span style=\"color: #008000; text-decoration-color: #008000\">Completed</span>()\n",
       "</pre>\n"
      ],
      "text/plain": [
       "23:42:46.303 | \u001b[36mINFO\u001b[0m    | Task run 'svm-d71' - Finished in state \u001b[32mCompleted\u001b[0m()\n"
      ]
     },
     "metadata": {},
     "output_type": "display_data"
    },
    {
     "name": "stdout",
     "output_type": "stream",
     "text": [
      "Visualización de desempeño con Matriz de Confusión:\n",
      "Confusion Matrix\n",
      "[[ 50  13]\n",
      " [  0 108]]\n"
     ]
    },
    {
     "data": {
      "image/png": "[encoded data removed]",
      "text/plain": [
       "<Figure size 640x480 with 2 Axes>"
      ]
     },
     "metadata": {},
     "output_type": "display_data"
    },
    {
     "data": {
      "text/html": [
       "<pre style=\"white-space:pre;overflow-x:auto;line-height:normal;font-family:Menlo,'DejaVu Sans Mono',consolas,'Courier New',monospace\">23:42:46.434 | <span style=\"color: #008080; text-decoration-color: #008080\">INFO</span>    | Task run 'confusion_matrix-e75' - Task 'confusion_matrix' completed in 0.11 seconds\n",
       "</pre>\n"
      ],
      "text/plain": [
       "23:42:46.434 | \u001b[36mINFO\u001b[0m    | Task run 'confusion_matrix-e75' - Task 'confusion_matrix' completed in 0.11 seconds\n"
      ]
     },
     "metadata": {},
     "output_type": "display_data"
    },
    {
     "data": {
      "text/html": [
       "<pre style=\"white-space:pre;overflow-x:auto;line-height:normal;font-family:Menlo,'DejaVu Sans Mono',consolas,'Courier New',monospace\">23:42:46.439 | <span style=\"color: #008080; text-decoration-color: #008080\">INFO</span>    | Task run 'confusion_matrix-e75' - Finished in state <span style=\"color: #008000; text-decoration-color: #008000\">Completed</span>()\n",
       "</pre>\n"
      ],
      "text/plain": [
       "23:42:46.439 | \u001b[36mINFO\u001b[0m    | Task run 'confusion_matrix-e75' - Finished in state \u001b[32mCompleted\u001b[0m()\n"
      ]
     },
     "metadata": {},
     "output_type": "display_data"
    },
    {
     "name": "stdout",
     "output_type": "stream",
     "text": [
      "Clasification Report\n",
      "              precision    recall  f1-score   support\n",
      "\n",
      "           0       1.00      0.79      0.88        63\n",
      "           1       0.89      1.00      0.94       108\n",
      "\n",
      "    accuracy                           0.92       171\n",
      "   macro avg       0.95      0.90      0.91       171\n",
      "weighted avg       0.93      0.92      0.92       171\n",
      "\n"
     ]
    },
    {
     "data": {
      "text/html": [
       "<pre style=\"white-space:pre;overflow-x:auto;line-height:normal;font-family:Menlo,'DejaVu Sans Mono',consolas,'Courier New',monospace\">23:42:46.471 | <span style=\"color: #008080; text-decoration-color: #008080\">INFO</span>    | Task run 'show_classificationreport-cc9' - Task 'show_classificationreport' completed in 0.01 seconds\n",
       "</pre>\n"
      ],
      "text/plain": [
       "23:42:46.471 | \u001b[36mINFO\u001b[0m    | Task run 'show_classificationreport-cc9' - Task 'show_classificationreport' completed in 0.01 seconds\n"
      ]
     },
     "metadata": {},
     "output_type": "display_data"
    },
    {
     "data": {
      "text/html": [
       "<pre style=\"white-space:pre;overflow-x:auto;line-height:normal;font-family:Menlo,'DejaVu Sans Mono',consolas,'Courier New',monospace\">23:42:46.477 | <span style=\"color: #008080; text-decoration-color: #008080\">INFO</span>    | Task run 'show_classificationreport-cc9' - Finished in state <span style=\"color: #008000; text-decoration-color: #008000\">Completed</span>()\n",
       "</pre>\n"
      ],
      "text/plain": [
       "23:42:46.477 | \u001b[36mINFO\u001b[0m    | Task run 'show_classificationreport-cc9' - Finished in state \u001b[32mCompleted\u001b[0m()\n"
      ]
     },
     "metadata": {},
     "output_type": "display_data"
    },
    {
     "name": "stdout",
     "output_type": "stream",
     "text": [
      "Comparación de predicciones (primeras 5 filas):\n",
      "   feature_0  feature_1  feature_2  feature_3  feature_4  feature_5  \\\n",
      "0      11.67      20.02      75.21      416.2    0.10160    0.09453   \n",
      "1      11.94      18.24      75.71      437.6    0.08261    0.04751   \n",
      "2      19.16      26.60     126.20     1138.0    0.10200    0.14530   \n",
      "3      19.55      28.77     133.60     1207.0    0.09260    0.20630   \n",
      "4      12.47      18.60      81.09      481.9    0.09965    0.10580   \n",
      "\n",
      "   feature_6  feature_7  feature_8  feature_9  ...  feature_22  feature_23  \\\n",
      "0    0.04200    0.02157     0.1859    0.06461  ...       87.00       550.6   \n",
      "1    0.01972    0.01349     0.1868    0.06110  ...       83.67       527.2   \n",
      "2    0.19210    0.09664     0.1902    0.06220  ...      159.80      1724.0   \n",
      "3    0.17840    0.11440     0.1893    0.06232  ...      178.60      1926.0   \n",
      "4    0.08005    0.03821     0.1925    0.06373  ...       96.05       677.9   \n",
      "\n",
      "   feature_24  feature_25  feature_26  feature_27  feature_28  feature_29  \\\n",
      "0      0.1550     0.29640     0.27580     0.08120      0.3206     0.08950   \n",
      "1      0.1144     0.08906     0.09203     0.06296      0.2785     0.07408   \n",
      "2      0.1782     0.38410     0.57540     0.18720      0.3258     0.09720   \n",
      "3      0.1281     0.53290     0.42510     0.19410      0.2818     0.10050   \n",
      "4      0.1426     0.23780     0.26710     0.10150      0.3014     0.08750   \n",
      "\n",
      "   Actual  Predicción  \n",
      "0       1           1  \n",
      "1       1           1  \n",
      "2       0           0  \n",
      "3       0           0  \n",
      "4       1           1  \n",
      "\n",
      "[5 rows x 32 columns]\n",
      "Score de entrenamiento: 0.987\n",
      "Score de test: 0.982\n",
      "Scores de validación cruzada:\n",
      "[0.96 0.97 0.97 0.97 0.94]\n",
      "Desempeño promedio:\n",
      "0.9647784810126583\n",
      "Accuracy en el testing: 0.9824561403508771\n"
     ]
    },
    {
     "data": {
      "text/html": [
       "<pre style=\"white-space:pre;overflow-x:auto;line-height:normal;font-family:Menlo,'DejaVu Sans Mono',consolas,'Courier New',monospace\">23:42:46.559 | <span style=\"color: #008080; text-decoration-color: #008080\">INFO</span>    | Task run 'svm_scaler-466' - Task 'svm_scaler' completed in 0.05 seconds\n",
       "</pre>\n"
      ],
      "text/plain": [
       "23:42:46.559 | \u001b[36mINFO\u001b[0m    | Task run 'svm_scaler-466' - Task 'svm_scaler' completed in 0.05 seconds\n"
      ]
     },
     "metadata": {},
     "output_type": "display_data"
    },
    {
     "data": {
      "text/html": [
       "<pre style=\"white-space:pre;overflow-x:auto;line-height:normal;font-family:Menlo,'DejaVu Sans Mono',consolas,'Courier New',monospace\">23:42:46.564 | <span style=\"color: #008080; text-decoration-color: #008080\">INFO</span>    | Task run 'svm_scaler-466' - Finished in state <span style=\"color: #008000; text-decoration-color: #008000\">Completed</span>()\n",
       "</pre>\n"
      ],
      "text/plain": [
       "23:42:46.564 | \u001b[36mINFO\u001b[0m    | Task run 'svm_scaler-466' - Finished in state \u001b[32mCompleted\u001b[0m()\n"
      ]
     },
     "metadata": {},
     "output_type": "display_data"
    },
    {
     "name": "stdout",
     "output_type": "stream",
     "text": [
      "Visualización de desempeño con Matriz de Confusión:\n",
      "Confusion Matrix\n",
      "[[ 63   0]\n",
      " [108   0]]\n"
     ]
    },
    {
     "data": {
      "image/png": "[encoded data removed]",
      "text/plain": [
       "<Figure size 640x480 with 2 Axes>"
      ]
     },
     "metadata": {},
     "output_type": "display_data"
    },
    {
     "data": {
      "text/html": [
       "<pre style=\"white-space:pre;overflow-x:auto;line-height:normal;font-family:Menlo,'DejaVu Sans Mono',consolas,'Courier New',monospace\">23:42:46.694 | <span style=\"color: #008080; text-decoration-color: #008080\">INFO</span>    | Task run 'confusion_matrix-c5a' - Task 'confusion_matrix' completed in 0.10 seconds\n",
       "</pre>\n"
      ],
      "text/plain": [
       "23:42:46.694 | \u001b[36mINFO\u001b[0m    | Task run 'confusion_matrix-c5a' - Task 'confusion_matrix' completed in 0.10 seconds\n"
      ]
     },
     "metadata": {},
     "output_type": "display_data"
    },
    {
     "data": {
      "text/html": [
       "<pre style=\"white-space:pre;overflow-x:auto;line-height:normal;font-family:Menlo,'DejaVu Sans Mono',consolas,'Courier New',monospace\">23:42:46.698 | <span style=\"color: #008080; text-decoration-color: #008080\">INFO</span>    | Task run 'confusion_matrix-c5a' - Finished in state <span style=\"color: #008000; text-decoration-color: #008000\">Completed</span>()\n",
       "</pre>\n"
      ],
      "text/plain": [
       "23:42:46.698 | \u001b[36mINFO\u001b[0m    | Task run 'confusion_matrix-c5a' - Finished in state \u001b[32mCompleted\u001b[0m()\n"
      ]
     },
     "metadata": {},
     "output_type": "display_data"
    },
    {
     "name": "stdout",
     "output_type": "stream",
     "text": [
      "Clasification Report\n",
      "              precision    recall  f1-score   support\n",
      "\n",
      "           0       0.37      1.00      0.54        63\n",
      "           1       0.00      0.00      0.00       108\n",
      "\n",
      "    accuracy                           0.37       171\n",
      "   macro avg       0.18      0.50      0.27       171\n",
      "weighted avg       0.14      0.37      0.20       171\n",
      "\n"
     ]
    },
    {
     "name": "stderr",
     "output_type": "stream",
     "text": [
      "c:\\Users\\aleja\\miniconda3\\envs\\ml1\\Lib\\site-packages\\sklearn\\metrics\\_classification.py:1731: UndefinedMetricWarning: Precision is ill-defined and being set to 0.0 in labels with no predicted samples. Use `zero_division` parameter to control this behavior.\n",
      "  _warn_prf(average, modifier, f\"{metric.capitalize()} is\", result.shape[0])\n",
      "c:\\Users\\aleja\\miniconda3\\envs\\ml1\\Lib\\site-packages\\sklearn\\metrics\\_classification.py:1731: UndefinedMetricWarning: Precision is ill-defined and being set to 0.0 in labels with no predicted samples. Use `zero_division` parameter to control this behavior.\n",
      "  _warn_prf(average, modifier, f\"{metric.capitalize()} is\", result.shape[0])\n",
      "c:\\Users\\aleja\\miniconda3\\envs\\ml1\\Lib\\site-packages\\sklearn\\metrics\\_classification.py:1731: UndefinedMetricWarning: Precision is ill-defined and being set to 0.0 in labels with no predicted samples. Use `zero_division` parameter to control this behavior.\n",
      "  _warn_prf(average, modifier, f\"{metric.capitalize()} is\", result.shape[0])\n"
     ]
    },
    {
     "data": {
      "text/html": [
       "<pre style=\"white-space:pre;overflow-x:auto;line-height:normal;font-family:Menlo,'DejaVu Sans Mono',consolas,'Courier New',monospace\">23:42:46.735 | <span style=\"color: #008080; text-decoration-color: #008080\">INFO</span>    | Task run 'show_classificationreport-917' - Task 'show_classificationreport' completed in 0.01 seconds\n",
       "</pre>\n"
      ],
      "text/plain": [
       "23:42:46.735 | \u001b[36mINFO\u001b[0m    | Task run 'show_classificationreport-917' - Task 'show_classificationreport' completed in 0.01 seconds\n"
      ]
     },
     "metadata": {},
     "output_type": "display_data"
    },
    {
     "data": {
      "text/html": [
       "<pre style=\"white-space:pre;overflow-x:auto;line-height:normal;font-family:Menlo,'DejaVu Sans Mono',consolas,'Courier New',monospace\">23:42:46.740 | <span style=\"color: #008080; text-decoration-color: #008080\">INFO</span>    | Task run 'show_classificationreport-917' - Finished in state <span style=\"color: #008000; text-decoration-color: #008000\">Completed</span>()\n",
       "</pre>\n"
      ],
      "text/plain": [
       "23:42:46.740 | \u001b[36mINFO\u001b[0m    | Task run 'show_classificationreport-917' - Finished in state \u001b[32mCompleted\u001b[0m()\n"
      ]
     },
     "metadata": {},
     "output_type": "display_data"
    },
    {
     "data": {
      "text/html": [
       "<pre style=\"white-space:pre;overflow-x:auto;line-height:normal;font-family:Menlo,'DejaVu Sans Mono',consolas,'Courier New',monospace\">23:42:46.780 | <span style=\"color: #008080; text-decoration-color: #008080\">INFO</span>    | Flow run<span style=\"color: #800080; text-decoration-color: #800080\"> 'dandelion-mastiff'</span> - Finished in state <span style=\"color: #008000; text-decoration-color: #008000\">Completed</span>()\n",
       "</pre>\n"
      ],
      "text/plain": [
       "23:42:46.780 | \u001b[36mINFO\u001b[0m    | Flow run\u001b[35m 'dandelion-mastiff'\u001b[0m - Finished in state \u001b[32mCompleted\u001b[0m()\n"
      ]
     },
     "metadata": {},
     "output_type": "display_data"
    }
   ],
   "source": [
    "@flow\n",
    "def cancer_flow():\n",
    "    dataset = cancer_dataset_retribution()\n",
    "    X_train, X_test, y_train, y_test = cancer_preprocessing(dataset)\n",
    "\n",
    "    class_names = ['0','1']\n",
    "\n",
    "    dtree_model, y_pred = decision_tree(X_train, X_test, y_train, y_test)\n",
    "    confusion_matrix(class_names, dtree_model, X_test, y_test)\n",
    "    show_classificationreport(dtree_model, X_test, y_test, class_names)\n",
    "\n",
    "    rf_model =random_forest(X_train, X_test, y_train, y_test)\n",
    "    confusion_matrix(class_names, rf_model, X_test, y_test)\n",
    "    show_classificationreport(rf_model, X_test, y_test, class_names)\n",
    "\n",
    "    knn_model = knn(X_train, X_test, y_train, y_test)\n",
    "    confusion_matrix(class_names, knn_model, X_test, y_test)\n",
    "    show_classificationreport(knn_model, X_test, y_test, class_names)\n",
    "\n",
    "    knn_scaled = knn_scaler(X_train, X_test, y_train, y_test)\n",
    "    confusion_matrix(class_names, knn_scaled, X_test, y_test)\n",
    "    show_classificationreport(knn_scaled, X_test, y_test, class_names)\n",
    "\n",
    "    svm_class_model = svm(X_train, X_test, y_train, y_test)\n",
    "    confusion_matrix(class_names, svm_class_model, X_test, y_test)\n",
    "    show_classificationreport(svm_class_model, X_test, y_test, class_names)\n",
    "\n",
    "    svm_class_scaled = svm_scaler(X_train, X_test, y_train, y_test)\n",
    "    confusion_matrix(class_names, svm_class_scaled, X_test, y_test)\n",
    "    show_classificationreport(svm_class_scaled, X_test, y_test, class_names)\n",
    "cancer_flow()"
   ]
  },
  {
   "cell_type": "code",
   "execution_count": 40,
   "id": "f1368fe9",
   "metadata": {},
   "outputs": [
    {
     "data": {
      "text/html": [
       "<pre style=\"white-space:pre;overflow-x:auto;line-height:normal;font-family:Menlo,'DejaVu Sans Mono',consolas,'Courier New',monospace\">23:42:46.891 | <span style=\"color: #008080; text-decoration-color: #008080\">INFO</span>    | Flow run<span style=\"color: #800080; text-decoration-color: #800080\"> 'astonishing-gazelle'</span> - Beginning flow run<span style=\"color: #800080; text-decoration-color: #800080\"> 'astonishing-gazelle'</span> for flow<span style=\"color: #800080; text-decoration-color: #800080; font-weight: bold\"> 'diabetes-flow'</span>\n",
       "</pre>\n"
      ],
      "text/plain": [
       "23:42:46.891 | \u001b[36mINFO\u001b[0m    | Flow run\u001b[35m 'astonishing-gazelle'\u001b[0m - Beginning flow run\u001b[35m 'astonishing-gazelle'\u001b[0m for flow\u001b[1;35m 'diabetes-flow'\u001b[0m\n"
      ]
     },
     "metadata": {},
     "output_type": "display_data"
    },
    {
     "name": "stdout",
     "output_type": "stream",
     "text": [
      "Dataset cargado exitosamente.\n",
      "   Embarazos  Glucosa  Presion Arterial  Grosor Piel  Insulina  \\\n",
      "0          1       85                66           29         0   \n",
      "1          8      183                64            0         0   \n",
      "2          1       89                66           23        94   \n",
      "3          0      137                40           35       168   \n",
      "4          5      116                74            0         0   \n",
      "\n",
      "   Indice Masa Corporal  Función de Pedigree  Edad  Etiqueta  \n",
      "0                  26.6                0.351    31         0  \n",
      "1                  23.3                0.672    32         1  \n",
      "2                  28.1                0.167    21         0  \n",
      "3                  43.1                2.288    33         1  \n",
      "4                  25.6                0.201    30         0  \n"
     ]
    },
    {
     "data": {
      "text/html": [
       "<pre style=\"white-space:pre;overflow-x:auto;line-height:normal;font-family:Menlo,'DejaVu Sans Mono',consolas,'Courier New',monospace\">23:42:47.076 | <span style=\"color: #008080; text-decoration-color: #008080\">INFO</span>    | Task run 'diabetes_dataset_retribution-90e' - Task 'diabetes_dataset_retribution' completed in 0.16 seconds\n",
       "</pre>\n"
      ],
      "text/plain": [
       "23:42:47.076 | \u001b[36mINFO\u001b[0m    | Task run 'diabetes_dataset_retribution-90e' - Task 'diabetes_dataset_retribution' completed in 0.16 seconds\n"
      ]
     },
     "metadata": {},
     "output_type": "display_data"
    },
    {
     "data": {
      "text/html": [
       "<pre style=\"white-space:pre;overflow-x:auto;line-height:normal;font-family:Menlo,'DejaVu Sans Mono',consolas,'Courier New',monospace\">23:42:47.083 | <span style=\"color: #008080; text-decoration-color: #008080\">INFO</span>    | Task run 'diabetes_dataset_retribution-90e' - Finished in state <span style=\"color: #008000; text-decoration-color: #008000\">Completed</span>()\n",
       "</pre>\n"
      ],
      "text/plain": [
       "23:42:47.083 | \u001b[36mINFO\u001b[0m    | Task run 'diabetes_dataset_retribution-90e' - Finished in state \u001b[32mCompleted\u001b[0m()\n"
      ]
     },
     "metadata": {},
     "output_type": "display_data"
    },
    {
     "name": "stdout",
     "output_type": "stream",
     "text": [
      "Tamaño de X_train: (536, 7)\n",
      "Tamaño de y_train: (536,)\n",
      "Tamaño de X_test: (231, 7)\n",
      "Tamaño de y_test: (231,)\n"
     ]
    },
    {
     "data": {
      "text/html": [
       "<pre style=\"white-space:pre;overflow-x:auto;line-height:normal;font-family:Menlo,'DejaVu Sans Mono',consolas,'Courier New',monospace\">23:42:47.115 | <span style=\"color: #008080; text-decoration-color: #008080\">INFO</span>    | Task run 'diabetes_preprocessing-033' - Task 'diabetes_preprocessing' completed in 0.01 seconds\n",
       "</pre>\n"
      ],
      "text/plain": [
       "23:42:47.115 | \u001b[36mINFO\u001b[0m    | Task run 'diabetes_preprocessing-033' - Task 'diabetes_preprocessing' completed in 0.01 seconds\n"
      ]
     },
     "metadata": {},
     "output_type": "display_data"
    },
    {
     "data": {
      "text/html": [
       "<pre style=\"white-space:pre;overflow-x:auto;line-height:normal;font-family:Menlo,'DejaVu Sans Mono',consolas,'Courier New',monospace\">23:42:47.119 | <span style=\"color: #008080; text-decoration-color: #008080\">INFO</span>    | Task run 'diabetes_preprocessing-033' - Finished in state <span style=\"color: #008000; text-decoration-color: #008000\">Completed</span>()\n",
       "</pre>\n"
      ],
      "text/plain": [
       "23:42:47.119 | \u001b[36mINFO\u001b[0m    | Task run 'diabetes_preprocessing-033' - Finished in state \u001b[32mCompleted\u001b[0m()\n"
      ]
     },
     "metadata": {},
     "output_type": "display_data"
    },
    {
     "name": "stdout",
     "output_type": "stream",
     "text": [
      "Comparación de predicciones (primeras 5 filas):\n",
      "     Embarazos  Insulina  Indice Masa Corporal  Edad  Glucosa  \\\n",
      "285          5       545                  38.7    34      155   \n",
      "101          0         0                  22.5    21      125   \n",
      "581         12         0                  26.5    62      121   \n",
      "352          1        43                  27.2    24       90   \n",
      "632          1       183                  27.5    22      128   \n",
      "\n",
      "     Presion Arterial  Función de Pedigree  Etiqueta  Predicción  \n",
      "285                84                0.619         0           1  \n",
      "101                96                0.262         0           0  \n",
      "581                78                0.259         0           1  \n",
      "352                62                0.580         0           0  \n",
      "632                82                0.115         0           0  \n",
      "Resultados de la validación cruzada en decision tree:  [0.72 0.71 0.71 0.77 0.67]\n",
      "Resultado promedio de la validación cruzada en decision tree: 0.7164070612668743\n",
      "Exactitud (accuracy) en prueba (testing) del decision tree: 0.7186147186147186\n"
     ]
    },
    {
     "data": {
      "text/html": [
       "<pre style=\"white-space:pre;overflow-x:auto;line-height:normal;font-family:Menlo,'DejaVu Sans Mono',consolas,'Courier New',monospace\">23:42:47.190 | <span style=\"color: #008080; text-decoration-color: #008080\">INFO</span>    | Task run 'decision_tree-e5e' - Task 'decision_tree' completed in 0.04 seconds\n",
       "</pre>\n"
      ],
      "text/plain": [
       "23:42:47.190 | \u001b[36mINFO\u001b[0m    | Task run 'decision_tree-e5e' - Task 'decision_tree' completed in 0.04 seconds\n"
      ]
     },
     "metadata": {},
     "output_type": "display_data"
    },
    {
     "data": {
      "text/html": [
       "<pre style=\"white-space:pre;overflow-x:auto;line-height:normal;font-family:Menlo,'DejaVu Sans Mono',consolas,'Courier New',monospace\">23:42:47.194 | <span style=\"color: #008080; text-decoration-color: #008080\">INFO</span>    | Task run 'decision_tree-e5e' - Finished in state <span style=\"color: #008000; text-decoration-color: #008000\">Completed</span>()\n",
       "</pre>\n"
      ],
      "text/plain": [
       "23:42:47.194 | \u001b[36mINFO\u001b[0m    | Task run 'decision_tree-e5e' - Finished in state \u001b[32mCompleted\u001b[0m()\n"
      ]
     },
     "metadata": {},
     "output_type": "display_data"
    },
    {
     "name": "stdout",
     "output_type": "stream",
     "text": [
      "0.6837610542743195\n"
     ]
    },
    {
     "data": {
      "text/html": [
       "<pre style=\"white-space:pre;overflow-x:auto;line-height:normal;font-family:Menlo,'DejaVu Sans Mono',consolas,'Courier New',monospace\">23:42:47.236 | <span style=\"color: #008080; text-decoration-color: #008080\">INFO</span>    | Task run 'roc_curve_analysis-ed2' - Task 'roc_curve_analysis' completed in 0.02 seconds\n",
       "</pre>\n"
      ],
      "text/plain": [
       "23:42:47.236 | \u001b[36mINFO\u001b[0m    | Task run 'roc_curve_analysis-ed2' - Task 'roc_curve_analysis' completed in 0.02 seconds\n"
      ]
     },
     "metadata": {},
     "output_type": "display_data"
    },
    {
     "data": {
      "text/html": [
       "<pre style=\"white-space:pre;overflow-x:auto;line-height:normal;font-family:Menlo,'DejaVu Sans Mono',consolas,'Courier New',monospace\">23:42:47.242 | <span style=\"color: #008080; text-decoration-color: #008080\">INFO</span>    | Task run 'roc_curve_analysis-ed2' - Finished in state <span style=\"color: #008000; text-decoration-color: #008000\">Completed</span>()\n",
       "</pre>\n"
      ],
      "text/plain": [
       "23:42:47.242 | \u001b[36mINFO\u001b[0m    | Task run 'roc_curve_analysis-ed2' - Finished in state \u001b[32mCompleted\u001b[0m()\n"
      ]
     },
     "metadata": {},
     "output_type": "display_data"
    },
    {
     "name": "stdout",
     "output_type": "stream",
     "text": [
      "Visualización de desempeño con Matriz de Confusión:\n",
      "Confusion Matrix\n",
      "[[123  35]\n",
      " [ 30  43]]\n"
     ]
    },
    {
     "data": {
      "image/png": "[encoded data removed]",
      "text/plain": [
       "<Figure size 640x480 with 1 Axes>"
      ]
     },
     "metadata": {},
     "output_type": "display_data"
    },
    {
     "data": {
      "image/png": "[encoded data removed]",
      "text/plain": [
       "<Figure size 640x480 with 2 Axes>"
      ]
     },
     "metadata": {},
     "output_type": "display_data"
    },
    {
     "data": {
      "text/html": [
       "<pre style=\"white-space:pre;overflow-x:auto;line-height:normal;font-family:Menlo,'DejaVu Sans Mono',consolas,'Courier New',monospace\">23:42:47.454 | <span style=\"color: #008080; text-decoration-color: #008080\">INFO</span>    | Task run 'confusion_matrix-4a5' - Task 'confusion_matrix' completed in 0.18 seconds\n",
       "</pre>\n"
      ],
      "text/plain": [
       "23:42:47.454 | \u001b[36mINFO\u001b[0m    | Task run 'confusion_matrix-4a5' - Task 'confusion_matrix' completed in 0.18 seconds\n"
      ]
     },
     "metadata": {},
     "output_type": "display_data"
    },
    {
     "data": {
      "text/html": [
       "<pre style=\"white-space:pre;overflow-x:auto;line-height:normal;font-family:Menlo,'DejaVu Sans Mono',consolas,'Courier New',monospace\">23:42:47.462 | <span style=\"color: #008080; text-decoration-color: #008080\">INFO</span>    | Task run 'confusion_matrix-4a5' - Finished in state <span style=\"color: #008000; text-decoration-color: #008000\">Completed</span>()\n",
       "</pre>\n"
      ],
      "text/plain": [
       "23:42:47.462 | \u001b[36mINFO\u001b[0m    | Task run 'confusion_matrix-4a5' - Finished in state \u001b[32mCompleted\u001b[0m()\n"
      ]
     },
     "metadata": {},
     "output_type": "display_data"
    },
    {
     "name": "stdout",
     "output_type": "stream",
     "text": [
      "Clasification Report\n",
      "              precision    recall  f1-score   support\n",
      "\n",
      "           0       0.80      0.78      0.79       158\n",
      "           1       0.55      0.59      0.57        73\n",
      "\n",
      "    accuracy                           0.72       231\n",
      "   macro avg       0.68      0.68      0.68       231\n",
      "weighted avg       0.72      0.72      0.72       231\n",
      "\n"
     ]
    },
    {
     "data": {
      "text/html": [
       "<pre style=\"white-space:pre;overflow-x:auto;line-height:normal;font-family:Menlo,'DejaVu Sans Mono',consolas,'Courier New',monospace\">23:42:47.494 | <span style=\"color: #008080; text-decoration-color: #008080\">INFO</span>    | Task run 'show_classificationreport-9cd' - Task 'show_classificationreport' completed in 0.01 seconds\n",
       "</pre>\n"
      ],
      "text/plain": [
       "23:42:47.494 | \u001b[36mINFO\u001b[0m    | Task run 'show_classificationreport-9cd' - Task 'show_classificationreport' completed in 0.01 seconds\n"
      ]
     },
     "metadata": {},
     "output_type": "display_data"
    },
    {
     "data": {
      "text/html": [
       "<pre style=\"white-space:pre;overflow-x:auto;line-height:normal;font-family:Menlo,'DejaVu Sans Mono',consolas,'Courier New',monospace\">23:42:47.499 | <span style=\"color: #008080; text-decoration-color: #008080\">INFO</span>    | Task run 'show_classificationreport-9cd' - Finished in state <span style=\"color: #008000; text-decoration-color: #008000\">Completed</span>()\n",
       "</pre>\n"
      ],
      "text/plain": [
       "23:42:47.499 | \u001b[36mINFO\u001b[0m    | Task run 'show_classificationreport-9cd' - Finished in state \u001b[32mCompleted\u001b[0m()\n"
      ]
     },
     "metadata": {},
     "output_type": "display_data"
    },
    {
     "name": "stdout",
     "output_type": "stream",
     "text": [
      "Random Forest Accuracy: 0.7706\n"
     ]
    },
    {
     "data": {
      "text/html": [
       "<pre style=\"white-space:pre;overflow-x:auto;line-height:normal;font-family:Menlo,'DejaVu Sans Mono',consolas,'Courier New',monospace\">23:42:47.673 | <span style=\"color: #008080; text-decoration-color: #008080\">INFO</span>    | Task run 'random_forest-4a1' - Task 'random_forest' completed in 0.15 seconds\n",
       "</pre>\n"
      ],
      "text/plain": [
       "23:42:47.673 | \u001b[36mINFO\u001b[0m    | Task run 'random_forest-4a1' - Task 'random_forest' completed in 0.15 seconds\n"
      ]
     },
     "metadata": {},
     "output_type": "display_data"
    },
    {
     "data": {
      "text/html": [
       "<pre style=\"white-space:pre;overflow-x:auto;line-height:normal;font-family:Menlo,'DejaVu Sans Mono',consolas,'Courier New',monospace\">23:42:47.674 | <span style=\"color: #008080; text-decoration-color: #008080\">INFO</span>    | Task run 'random_forest-4a1' - Finished in state <span style=\"color: #008000; text-decoration-color: #008000\">Completed</span>()\n",
       "</pre>\n"
      ],
      "text/plain": [
       "23:42:47.674 | \u001b[36mINFO\u001b[0m    | Task run 'random_forest-4a1' - Finished in state \u001b[32mCompleted\u001b[0m()\n"
      ]
     },
     "metadata": {},
     "output_type": "display_data"
    },
    {
     "name": "stdout",
     "output_type": "stream",
     "text": [
      "Visualización de desempeño con Matriz de Confusión:\n",
      "Confusion Matrix\n",
      "[[134  24]\n",
      " [ 29  44]]\n"
     ]
    },
    {
     "data": {
      "image/png": "[encoded data removed]",
      "text/plain": [
       "<Figure size 640x480 with 2 Axes>"
      ]
     },
     "metadata": {},
     "output_type": "display_data"
    },
    {
     "data": {
      "text/html": [
       "<pre style=\"white-space:pre;overflow-x:auto;line-height:normal;font-family:Menlo,'DejaVu Sans Mono',consolas,'Courier New',monospace\">23:42:47.818 | <span style=\"color: #008080; text-decoration-color: #008080\">INFO</span>    | Task run 'confusion_matrix-8db' - Task 'confusion_matrix' completed in 0.11 seconds\n",
       "</pre>\n"
      ],
      "text/plain": [
       "23:42:47.818 | \u001b[36mINFO\u001b[0m    | Task run 'confusion_matrix-8db' - Task 'confusion_matrix' completed in 0.11 seconds\n"
      ]
     },
     "metadata": {},
     "output_type": "display_data"
    },
    {
     "data": {
      "text/html": [
       "<pre style=\"white-space:pre;overflow-x:auto;line-height:normal;font-family:Menlo,'DejaVu Sans Mono',consolas,'Courier New',monospace\">23:42:47.822 | <span style=\"color: #008080; text-decoration-color: #008080\">INFO</span>    | Task run 'confusion_matrix-8db' - Finished in state <span style=\"color: #008000; text-decoration-color: #008000\">Completed</span>()\n",
       "</pre>\n"
      ],
      "text/plain": [
       "23:42:47.822 | \u001b[36mINFO\u001b[0m    | Task run 'confusion_matrix-8db' - Finished in state \u001b[32mCompleted\u001b[0m()\n"
      ]
     },
     "metadata": {},
     "output_type": "display_data"
    },
    {
     "name": "stdout",
     "output_type": "stream",
     "text": [
      "Clasification Report\n",
      "              precision    recall  f1-score   support\n",
      "\n",
      "           0       0.82      0.85      0.83       158\n",
      "           1       0.65      0.60      0.62        73\n",
      "\n",
      "    accuracy                           0.77       231\n",
      "   macro avg       0.73      0.73      0.73       231\n",
      "weighted avg       0.77      0.77      0.77       231\n",
      "\n"
     ]
    },
    {
     "data": {
      "text/html": [
       "<pre style=\"white-space:pre;overflow-x:auto;line-height:normal;font-family:Menlo,'DejaVu Sans Mono',consolas,'Courier New',monospace\">23:42:47.872 | <span style=\"color: #008080; text-decoration-color: #008080\">INFO</span>    | Task run 'show_classificationreport-f09' - Task 'show_classificationreport' completed in 0.02 seconds\n",
       "</pre>\n"
      ],
      "text/plain": [
       "23:42:47.872 | \u001b[36mINFO\u001b[0m    | Task run 'show_classificationreport-f09' - Task 'show_classificationreport' completed in 0.02 seconds\n"
      ]
     },
     "metadata": {},
     "output_type": "display_data"
    },
    {
     "data": {
      "text/html": [
       "<pre style=\"white-space:pre;overflow-x:auto;line-height:normal;font-family:Menlo,'DejaVu Sans Mono',consolas,'Courier New',monospace\">23:42:47.877 | <span style=\"color: #008080; text-decoration-color: #008080\">INFO</span>    | Task run 'show_classificationreport-f09' - Finished in state <span style=\"color: #008000; text-decoration-color: #008000\">Completed</span>()\n",
       "</pre>\n"
      ],
      "text/plain": [
       "23:42:47.877 | \u001b[36mINFO\u001b[0m    | Task run 'show_classificationreport-f09' - Finished in state \u001b[32mCompleted\u001b[0m()\n"
      ]
     },
     "metadata": {},
     "output_type": "display_data"
    },
    {
     "name": "stdout",
     "output_type": "stream",
     "text": [
      "Comparación de hiperparámetros:\n",
      "KNN (n_neighbors=1) - Prueba de accuracy: 0.6883\n",
      "KNN (n_neighbors=3) - Prueba de accuracy: 0.7229\n",
      "KNN (n_neighbors=5) - Prueba de accuracy: 0.7359\n",
      "KNN (n_neighbors=7) - Prueba de accuracy: 0.7489\n",
      "Comparación de predicciones (primeras 5 filas):\n",
      "     Embarazos  Insulina  Indice Masa Corporal  Edad  Glucosa  \\\n",
      "285          5       545                  38.7    34      155   \n",
      "101          0         0                  22.5    21      125   \n",
      "581         12         0                  26.5    62      121   \n",
      "352          1        43                  27.2    24       90   \n",
      "632          1       183                  27.5    22      128   \n",
      "\n",
      "     Presion Arterial  Función de Pedigree  Etiqueta  Predicción  \n",
      "285                84                0.619         0           1  \n",
      "101                96                0.262         0           0  \n",
      "581                78                0.259         0           0  \n",
      "352                62                0.580         0           0  \n",
      "632                82                0.115         0           0  \n",
      "Score sobre el conjunto de test: 0.749\n",
      "[0.76 0.76 0.71 0.69 0.69]\n",
      "Desempeño promedio del kNN:\n",
      "0.7219453097957771\n",
      "Exactitud (accuracy) en prueba (testing) del kNN: 0.6883116883116883\n"
     ]
    },
    {
     "data": {
      "text/html": [
       "<pre style=\"white-space:pre;overflow-x:auto;line-height:normal;font-family:Menlo,'DejaVu Sans Mono',consolas,'Courier New',monospace\">23:42:47.956 | <span style=\"color: #008080; text-decoration-color: #008080\">INFO</span>    | Task run 'knn-847' - Task 'knn' completed in 0.06 seconds\n",
       "</pre>\n"
      ],
      "text/plain": [
       "23:42:47.956 | \u001b[36mINFO\u001b[0m    | Task run 'knn-847' - Task 'knn' completed in 0.06 seconds\n"
      ]
     },
     "metadata": {},
     "output_type": "display_data"
    },
    {
     "data": {
      "text/html": [
       "<pre style=\"white-space:pre;overflow-x:auto;line-height:normal;font-family:Menlo,'DejaVu Sans Mono',consolas,'Courier New',monospace\">23:42:47.960 | <span style=\"color: #008080; text-decoration-color: #008080\">INFO</span>    | Task run 'knn-847' - Finished in state <span style=\"color: #008000; text-decoration-color: #008000\">Completed</span>()\n",
       "</pre>\n"
      ],
      "text/plain": [
       "23:42:47.960 | \u001b[36mINFO\u001b[0m    | Task run 'knn-847' - Finished in state \u001b[32mCompleted\u001b[0m()\n"
      ]
     },
     "metadata": {},
     "output_type": "display_data"
    },
    {
     "name": "stdout",
     "output_type": "stream",
     "text": [
      "Visualización de desempeño con Matriz de Confusión:\n",
      "Confusion Matrix\n",
      "[[132  26]\n",
      " [ 32  41]]\n"
     ]
    },
    {
     "data": {
      "image/png": "[encoded data removed]",
      "text/plain": [
       "<Figure size 640x480 with 2 Axes>"
      ]
     },
     "metadata": {},
     "output_type": "display_data"
    },
    {
     "data": {
      "text/html": [
       "<pre style=\"white-space:pre;overflow-x:auto;line-height:normal;font-family:Menlo,'DejaVu Sans Mono',consolas,'Courier New',monospace\">23:42:48.084 | <span style=\"color: #008080; text-decoration-color: #008080\">INFO</span>    | Task run 'confusion_matrix-4e2' - Task 'confusion_matrix' completed in 0.10 seconds\n",
       "</pre>\n"
      ],
      "text/plain": [
       "23:42:48.084 | \u001b[36mINFO\u001b[0m    | Task run 'confusion_matrix-4e2' - Task 'confusion_matrix' completed in 0.10 seconds\n"
      ]
     },
     "metadata": {},
     "output_type": "display_data"
    },
    {
     "data": {
      "text/html": [
       "<pre style=\"white-space:pre;overflow-x:auto;line-height:normal;font-family:Menlo,'DejaVu Sans Mono',consolas,'Courier New',monospace\">23:42:48.088 | <span style=\"color: #008080; text-decoration-color: #008080\">INFO</span>    | Task run 'confusion_matrix-4e2' - Finished in state <span style=\"color: #008000; text-decoration-color: #008000\">Completed</span>()\n",
       "</pre>\n"
      ],
      "text/plain": [
       "23:42:48.088 | \u001b[36mINFO\u001b[0m    | Task run 'confusion_matrix-4e2' - Finished in state \u001b[32mCompleted\u001b[0m()\n"
      ]
     },
     "metadata": {},
     "output_type": "display_data"
    },
    {
     "name": "stdout",
     "output_type": "stream",
     "text": [
      "Clasification Report\n",
      "              precision    recall  f1-score   support\n",
      "\n",
      "           0       0.80      0.84      0.82       158\n",
      "           1       0.61      0.56      0.59        73\n",
      "\n",
      "    accuracy                           0.75       231\n",
      "   macro avg       0.71      0.70      0.70       231\n",
      "weighted avg       0.74      0.75      0.75       231\n",
      "\n"
     ]
    },
    {
     "data": {
      "text/html": [
       "<pre style=\"white-space:pre;overflow-x:auto;line-height:normal;font-family:Menlo,'DejaVu Sans Mono',consolas,'Courier New',monospace\">23:42:48.123 | <span style=\"color: #008080; text-decoration-color: #008080\">INFO</span>    | Task run 'show_classificationreport-1bd' - Task 'show_classificationreport' completed in 0.01 seconds\n",
       "</pre>\n"
      ],
      "text/plain": [
       "23:42:48.123 | \u001b[36mINFO\u001b[0m    | Task run 'show_classificationreport-1bd' - Task 'show_classificationreport' completed in 0.01 seconds\n"
      ]
     },
     "metadata": {},
     "output_type": "display_data"
    },
    {
     "data": {
      "text/html": [
       "<pre style=\"white-space:pre;overflow-x:auto;line-height:normal;font-family:Menlo,'DejaVu Sans Mono',consolas,'Courier New',monospace\">23:42:48.126 | <span style=\"color: #008080; text-decoration-color: #008080\">INFO</span>    | Task run 'show_classificationreport-1bd' - Finished in state <span style=\"color: #008000; text-decoration-color: #008000\">Completed</span>()\n",
       "</pre>\n"
      ],
      "text/plain": [
       "23:42:48.126 | \u001b[36mINFO\u001b[0m    | Task run 'show_classificationreport-1bd' - Finished in state \u001b[32mCompleted\u001b[0m()\n"
      ]
     },
     "metadata": {},
     "output_type": "display_data"
    },
    {
     "name": "stdout",
     "output_type": "stream",
     "text": [
      "Comparación de hiperparámetros:\n",
      "SVM (kernel=linear, C=0.1) - Prueba de accuracy: 0.7706\n",
      "SVM (kernel=linear, C=1) - Prueba de accuracy: 0.7792\n",
      "SVM (kernel=linear, C=10) - Prueba de accuracy: 0.7749\n",
      "SVM (kernel=rbf, C=0.1) - Prueba de accuracy: 0.7100\n",
      "SVM (kernel=rbf, C=1) - Prueba de accuracy: 0.7835\n",
      "SVM (kernel=rbf, C=10) - Prueba de accuracy: 0.7619\n",
      "Comparación de predicciones:\n",
      "     Embarazos  Insulina  Indice Masa Corporal  Edad  Glucosa  \\\n",
      "285          5       545                  38.7    34      155   \n",
      "101          0         0                  22.5    21      125   \n",
      "581         12         0                  26.5    62      121   \n",
      "352          1        43                  27.2    24       90   \n",
      "632          1       183                  27.5    22      128   \n",
      "\n",
      "     Presion Arterial  Función de Pedigree  Etiqueta  Predicción  \n",
      "285                84                0.619         0           0  \n",
      "101                96                0.262         0           0  \n",
      "581                78                0.259         0           0  \n",
      "352                62                0.580         0           0  \n",
      "632                82                0.115         0           0  \n",
      "Score sobre el conjunto de test: 0.710\n",
      "[0.76 0.71 0.74 0.7  0.69]\n",
      "Desempeño promedio:\n",
      "0.7200761509172724\n",
      "Exactitud (accuracy) en prueba (testing): 0.70995670995671\n"
     ]
    },
    {
     "data": {
      "text/html": [
       "<pre style=\"white-space:pre;overflow-x:auto;line-height:normal;font-family:Menlo,'DejaVu Sans Mono',consolas,'Courier New',monospace\">23:43:05.729 | <span style=\"color: #008080; text-decoration-color: #008080\">INFO</span>    | Task run 'knn_scaler-bc8' - Finished in state <span style=\"color: #008000; text-decoration-color: #008000\">Completed</span>()\n",
       "</pre>\n"
      ],
      "text/plain": [
       "23:43:05.729 | \u001b[36mINFO\u001b[0m    | Task run 'knn_scaler-bc8' - Finished in state \u001b[32mCompleted\u001b[0m()\n"
      ]
     },
     "metadata": {},
     "output_type": "display_data"
    },
    {
     "name": "stdout",
     "output_type": "stream",
     "text": [
      "Visualización de desempeño con Matriz de Confusión:\n",
      "Confusion Matrix\n",
      "[[  9 149]\n",
      " [  1  72]]\n"
     ]
    },
    {
     "name": "stderr",
     "output_type": "stream",
     "text": [
      "c:\\Users\\aleja\\miniconda3\\envs\\ml1\\Lib\\site-packages\\sklearn\\utils\\validation.py:2742: UserWarning: X has feature names, but KNeighborsClassifier was fitted without feature names\n",
      "  warnings.warn(\n"
     ]
    },
    {
     "data": {
      "image/png": "[encoded data removed]",
      "text/plain": [
       "<Figure size 640x480 with 2 Axes>"
      ]
     },
     "metadata": {},
     "output_type": "display_data"
    },
    {
     "data": {
      "text/html": [
       "<pre style=\"white-space:pre;overflow-x:auto;line-height:normal;font-family:Menlo,'DejaVu Sans Mono',consolas,'Courier New',monospace\">23:43:05.867 | <span style=\"color: #008080; text-decoration-color: #008080\">INFO</span>    | Task run 'confusion_matrix-884' - Task 'confusion_matrix' completed in 0.11 seconds\n",
       "</pre>\n"
      ],
      "text/plain": [
       "23:43:05.867 | \u001b[36mINFO\u001b[0m    | Task run 'confusion_matrix-884' - Task 'confusion_matrix' completed in 0.11 seconds\n"
      ]
     },
     "metadata": {},
     "output_type": "display_data"
    },
    {
     "data": {
      "text/html": [
       "<pre style=\"white-space:pre;overflow-x:auto;line-height:normal;font-family:Menlo,'DejaVu Sans Mono',consolas,'Courier New',monospace\">23:43:05.874 | <span style=\"color: #008080; text-decoration-color: #008080\">INFO</span>    | Task run 'confusion_matrix-884' - Finished in state <span style=\"color: #008000; text-decoration-color: #008000\">Completed</span>()\n",
       "</pre>\n"
      ],
      "text/plain": [
       "23:43:05.874 | \u001b[36mINFO\u001b[0m    | Task run 'confusion_matrix-884' - Finished in state \u001b[32mCompleted\u001b[0m()\n"
      ]
     },
     "metadata": {},
     "output_type": "display_data"
    },
    {
     "name": "stdout",
     "output_type": "stream",
     "text": [
      "Clasification Report\n",
      "              precision    recall  f1-score   support\n",
      "\n",
      "           0       0.90      0.06      0.11       158\n",
      "           1       0.33      0.99      0.49        73\n",
      "\n",
      "    accuracy                           0.35       231\n",
      "   macro avg       0.61      0.52      0.30       231\n",
      "weighted avg       0.72      0.35      0.23       231\n",
      "\n"
     ]
    },
    {
     "name": "stderr",
     "output_type": "stream",
     "text": [
      "c:\\Users\\aleja\\miniconda3\\envs\\ml1\\Lib\\site-packages\\sklearn\\utils\\validation.py:2742: UserWarning: X has feature names, but KNeighborsClassifier was fitted without feature names\n",
      "  warnings.warn(\n"
     ]
    },
    {
     "data": {
      "text/html": [
       "<pre style=\"white-space:pre;overflow-x:auto;line-height:normal;font-family:Menlo,'DejaVu Sans Mono',consolas,'Courier New',monospace\">23:43:05.904 | <span style=\"color: #008080; text-decoration-color: #008080\">INFO</span>    | Task run 'show_classificationreport-cf1' - Task 'show_classificationreport' completed in 0.01 seconds\n",
       "</pre>\n"
      ],
      "text/plain": [
       "23:43:05.904 | \u001b[36mINFO\u001b[0m    | Task run 'show_classificationreport-cf1' - Task 'show_classificationreport' completed in 0.01 seconds\n"
      ]
     },
     "metadata": {},
     "output_type": "display_data"
    },
    {
     "data": {
      "text/html": [
       "<pre style=\"white-space:pre;overflow-x:auto;line-height:normal;font-family:Menlo,'DejaVu Sans Mono',consolas,'Courier New',monospace\">23:43:05.910 | <span style=\"color: #008080; text-decoration-color: #008080\">INFO</span>    | Task run 'show_classificationreport-cf1' - Finished in state <span style=\"color: #008000; text-decoration-color: #008000\">Completed</span>()\n",
       "</pre>\n"
      ],
      "text/plain": [
       "23:43:05.910 | \u001b[36mINFO\u001b[0m    | Task run 'show_classificationreport-cf1' - Finished in state \u001b[32mCompleted\u001b[0m()\n"
      ]
     },
     "metadata": {},
     "output_type": "display_data"
    },
    {
     "name": "stdout",
     "output_type": "stream",
     "text": [
      "Comparación de predicciones (primeras 5 filas):\n",
      "     Embarazos  Insulina  Indice Masa Corporal  Edad  Glucosa  \\\n",
      "285          5       545                  38.7    34      155   \n",
      "101          0         0                  22.5    21      125   \n",
      "581         12         0                  26.5    62      121   \n",
      "352          1        43                  27.2    24       90   \n",
      "632          1       183                  27.5    22      128   \n",
      "\n",
      "     Presion Arterial  Función de Pedigree  Etiqueta  Predicción  \n",
      "285                84                0.619         0           1  \n",
      "101                96                0.262         0           0  \n",
      "581                78                0.259         0           0  \n",
      "352                62                0.580         0           0  \n",
      "632                82                0.115         0           0  \n",
      "Score de entrenamiento: 0.757\n",
      "Score de test: 0.784\n",
      "Scores de validación cruzada:\n",
      "[0.75 0.76 0.76 0.72 0.72]\n",
      "Desempeño promedio:\n",
      "0.7406542056074766\n",
      "Accuracy en el testing: 0.7835497835497836\n"
     ]
    },
    {
     "data": {
      "text/html": [
       "<pre style=\"white-space:pre;overflow-x:auto;line-height:normal;font-family:Menlo,'DejaVu Sans Mono',consolas,'Courier New',monospace\">23:43:06.039 | <span style=\"color: #008080; text-decoration-color: #008080\">INFO</span>    | Task run 'svm-496' - Task 'svm' completed in 0.10 seconds\n",
       "</pre>\n"
      ],
      "text/plain": [
       "23:43:06.039 | \u001b[36mINFO\u001b[0m    | Task run 'svm-496' - Task 'svm' completed in 0.10 seconds\n"
      ]
     },
     "metadata": {},
     "output_type": "display_data"
    },
    {
     "data": {
      "text/html": [
       "<pre style=\"white-space:pre;overflow-x:auto;line-height:normal;font-family:Menlo,'DejaVu Sans Mono',consolas,'Courier New',monospace\">23:43:06.043 | <span style=\"color: #008080; text-decoration-color: #008080\">INFO</span>    | Task run 'svm-496' - Finished in state <span style=\"color: #008000; text-decoration-color: #008000\">Completed</span>()\n",
       "</pre>\n"
      ],
      "text/plain": [
       "23:43:06.043 | \u001b[36mINFO\u001b[0m    | Task run 'svm-496' - Finished in state \u001b[32mCompleted\u001b[0m()\n"
      ]
     },
     "metadata": {},
     "output_type": "display_data"
    },
    {
     "name": "stdout",
     "output_type": "stream",
     "text": [
      "Visualización de desempeño con Matriz de Confusión:\n",
      "Confusion Matrix\n",
      "[[148  10]\n",
      " [ 40  33]]\n"
     ]
    },
    {
     "data": {
      "image/png": "[encoded data removed]",
      "text/plain": [
       "<Figure size 640x480 with 2 Axes>"
      ]
     },
     "metadata": {},
     "output_type": "display_data"
    },
    {
     "data": {
      "text/html": [
       "<pre style=\"white-space:pre;overflow-x:auto;line-height:normal;font-family:Menlo,'DejaVu Sans Mono',consolas,'Courier New',monospace\">23:43:06.196 | <span style=\"color: #008080; text-decoration-color: #008080\">INFO</span>    | Task run 'confusion_matrix-67f' - Task 'confusion_matrix' completed in 0.13 seconds\n",
       "</pre>\n"
      ],
      "text/plain": [
       "23:43:06.196 | \u001b[36mINFO\u001b[0m    | Task run 'confusion_matrix-67f' - Task 'confusion_matrix' completed in 0.13 seconds\n"
      ]
     },
     "metadata": {},
     "output_type": "display_data"
    },
    {
     "data": {
      "text/html": [
       "<pre style=\"white-space:pre;overflow-x:auto;line-height:normal;font-family:Menlo,'DejaVu Sans Mono',consolas,'Courier New',monospace\">23:43:06.201 | <span style=\"color: #008080; text-decoration-color: #008080\">INFO</span>    | Task run 'confusion_matrix-67f' - Finished in state <span style=\"color: #008000; text-decoration-color: #008000\">Completed</span>()\n",
       "</pre>\n"
      ],
      "text/plain": [
       "23:43:06.201 | \u001b[36mINFO\u001b[0m    | Task run 'confusion_matrix-67f' - Finished in state \u001b[32mCompleted\u001b[0m()\n"
      ]
     },
     "metadata": {},
     "output_type": "display_data"
    },
    {
     "name": "stdout",
     "output_type": "stream",
     "text": [
      "Clasification Report\n",
      "              precision    recall  f1-score   support\n",
      "\n",
      "           0       0.79      0.94      0.86       158\n",
      "           1       0.77      0.45      0.57        73\n",
      "\n",
      "    accuracy                           0.78       231\n",
      "   macro avg       0.78      0.69      0.71       231\n",
      "weighted avg       0.78      0.78      0.76       231\n",
      "\n"
     ]
    },
    {
     "data": {
      "text/html": [
       "<pre style=\"white-space:pre;overflow-x:auto;line-height:normal;font-family:Menlo,'DejaVu Sans Mono',consolas,'Courier New',monospace\">23:43:06.238 | <span style=\"color: #008080; text-decoration-color: #008080\">INFO</span>    | Task run 'show_classificationreport-179' - Task 'show_classificationreport' completed in 0.01 seconds\n",
       "</pre>\n"
      ],
      "text/plain": [
       "23:43:06.238 | \u001b[36mINFO\u001b[0m    | Task run 'show_classificationreport-179' - Task 'show_classificationreport' completed in 0.01 seconds\n"
      ]
     },
     "metadata": {},
     "output_type": "display_data"
    },
    {
     "data": {
      "text/html": [
       "<pre style=\"white-space:pre;overflow-x:auto;line-height:normal;font-family:Menlo,'DejaVu Sans Mono',consolas,'Courier New',monospace\">23:43:06.243 | <span style=\"color: #008080; text-decoration-color: #008080\">INFO</span>    | Task run 'show_classificationreport-179' - Finished in state <span style=\"color: #008000; text-decoration-color: #008000\">Completed</span>()\n",
       "</pre>\n"
      ],
      "text/plain": [
       "23:43:06.243 | \u001b[36mINFO\u001b[0m    | Task run 'show_classificationreport-179' - Finished in state \u001b[32mCompleted\u001b[0m()\n"
      ]
     },
     "metadata": {},
     "output_type": "display_data"
    },
    {
     "name": "stdout",
     "output_type": "stream",
     "text": [
      "Comparación de predicciones (primeras 5 filas):\n",
      "     Embarazos  Insulina  Indice Masa Corporal  Edad  Glucosa  \\\n",
      "285          5       545                  38.7    34      155   \n",
      "101          0         0                  22.5    21      125   \n",
      "581         12         0                  26.5    62      121   \n",
      "352          1        43                  27.2    24       90   \n",
      "632          1       183                  27.5    22      128   \n",
      "\n",
      "     Presion Arterial  Función de Pedigree  Etiqueta  Predicción  \n",
      "285                84                0.619         0           1  \n",
      "101                96                0.262         0           0  \n",
      "581                78                0.259         0           0  \n",
      "352                62                0.580         0           0  \n",
      "632                82                0.115         0           0  \n",
      "Score de entrenamiento: 0.821\n",
      "Score de test: 0.736\n",
      "Scores de validación cruzada:\n",
      "[0.82 0.77 0.79 0.76 0.78]\n",
      "Desempeño promedio:\n",
      "0.7816372447213569\n",
      "Accuracy en el testing: 0.7359307359307359\n"
     ]
    },
    {
     "data": {
      "text/html": [
       "<pre style=\"white-space:pre;overflow-x:auto;line-height:normal;font-family:Menlo,'DejaVu Sans Mono',consolas,'Courier New',monospace\">23:43:06.344 | <span style=\"color: #008080; text-decoration-color: #008080\">INFO</span>    | Task run 'svm_scaler-79f' - Task 'svm_scaler' completed in 0.08 seconds\n",
       "</pre>\n"
      ],
      "text/plain": [
       "23:43:06.344 | \u001b[36mINFO\u001b[0m    | Task run 'svm_scaler-79f' - Task 'svm_scaler' completed in 0.08 seconds\n"
      ]
     },
     "metadata": {},
     "output_type": "display_data"
    },
    {
     "data": {
      "text/html": [
       "<pre style=\"white-space:pre;overflow-x:auto;line-height:normal;font-family:Menlo,'DejaVu Sans Mono',consolas,'Courier New',monospace\">23:43:06.344 | <span style=\"color: #008080; text-decoration-color: #008080\">INFO</span>    | Task run 'svm_scaler-79f' - Finished in state <span style=\"color: #008000; text-decoration-color: #008000\">Completed</span>()\n",
       "</pre>\n"
      ],
      "text/plain": [
       "23:43:06.344 | \u001b[36mINFO\u001b[0m    | Task run 'svm_scaler-79f' - Finished in state \u001b[32mCompleted\u001b[0m()\n"
      ]
     },
     "metadata": {},
     "output_type": "display_data"
    },
    {
     "name": "stdout",
     "output_type": "stream",
     "text": [
      "Visualización de desempeño con Matriz de Confusión:\n",
      "Confusion Matrix\n",
      "[[  0 158]\n",
      " [  0  73]]\n"
     ]
    },
    {
     "name": "stderr",
     "output_type": "stream",
     "text": [
      "c:\\Users\\aleja\\miniconda3\\envs\\ml1\\Lib\\site-packages\\sklearn\\utils\\validation.py:2742: UserWarning: X has feature names, but SVC was fitted without feature names\n",
      "  warnings.warn(\n"
     ]
    },
    {
     "data": {
      "image/png": "[encoded data removed]",
      "text/plain": [
       "<Figure size 640x480 with 2 Axes>"
      ]
     },
     "metadata": {},
     "output_type": "display_data"
    },
    {
     "data": {
      "text/html": [
       "<pre style=\"white-space:pre;overflow-x:auto;line-height:normal;font-family:Menlo,'DejaVu Sans Mono',consolas,'Courier New',monospace\">23:43:06.863 | <span style=\"color: #008080; text-decoration-color: #008080\">INFO</span>    | Task run 'confusion_matrix-594' - Task 'confusion_matrix' completed in 0.49 seconds\n",
       "</pre>\n"
      ],
      "text/plain": [
       "23:43:06.863 | \u001b[36mINFO\u001b[0m    | Task run 'confusion_matrix-594' - Task 'confusion_matrix' completed in 0.49 seconds\n"
      ]
     },
     "metadata": {},
     "output_type": "display_data"
    },
    {
     "data": {
      "text/html": [
       "<pre style=\"white-space:pre;overflow-x:auto;line-height:normal;font-family:Menlo,'DejaVu Sans Mono',consolas,'Courier New',monospace\">23:43:06.866 | <span style=\"color: #008080; text-decoration-color: #008080\">INFO</span>    | Task run 'confusion_matrix-594' - Finished in state <span style=\"color: #008000; text-decoration-color: #008000\">Completed</span>()\n",
       "</pre>\n"
      ],
      "text/plain": [
       "23:43:06.866 | \u001b[36mINFO\u001b[0m    | Task run 'confusion_matrix-594' - Finished in state \u001b[32mCompleted\u001b[0m()\n"
      ]
     },
     "metadata": {},
     "output_type": "display_data"
    },
    {
     "name": "stdout",
     "output_type": "stream",
     "text": [
      "Clasification Report\n",
      "              precision    recall  f1-score   support\n",
      "\n",
      "           0       0.00      0.00      0.00       158\n",
      "           1       0.32      1.00      0.48        73\n",
      "\n",
      "    accuracy                           0.32       231\n",
      "   macro avg       0.16      0.50      0.24       231\n",
      "weighted avg       0.10      0.32      0.15       231\n",
      "\n"
     ]
    },
    {
     "name": "stderr",
     "output_type": "stream",
     "text": [
      "c:\\Users\\aleja\\miniconda3\\envs\\ml1\\Lib\\site-packages\\sklearn\\utils\\validation.py:2742: UserWarning: X has feature names, but SVC was fitted without feature names\n",
      "  warnings.warn(\n",
      "c:\\Users\\aleja\\miniconda3\\envs\\ml1\\Lib\\site-packages\\sklearn\\metrics\\_classification.py:1731: UndefinedMetricWarning: Precision is ill-defined and being set to 0.0 in labels with no predicted samples. Use `zero_division` parameter to control this behavior.\n",
      "  _warn_prf(average, modifier, f\"{metric.capitalize()} is\", result.shape[0])\n",
      "c:\\Users\\aleja\\miniconda3\\envs\\ml1\\Lib\\site-packages\\sklearn\\metrics\\_classification.py:1731: UndefinedMetricWarning: Precision is ill-defined and being set to 0.0 in labels with no predicted samples. Use `zero_division` parameter to control this behavior.\n",
      "  _warn_prf(average, modifier, f\"{metric.capitalize()} is\", result.shape[0])\n",
      "c:\\Users\\aleja\\miniconda3\\envs\\ml1\\Lib\\site-packages\\sklearn\\metrics\\_classification.py:1731: UndefinedMetricWarning: Precision is ill-defined and being set to 0.0 in labels with no predicted samples. Use `zero_division` parameter to control this behavior.\n",
      "  _warn_prf(average, modifier, f\"{metric.capitalize()} is\", result.shape[0])\n"
     ]
    },
    {
     "data": {
      "text/html": [
       "<pre style=\"white-space:pre;overflow-x:auto;line-height:normal;font-family:Menlo,'DejaVu Sans Mono',consolas,'Courier New',monospace\">23:43:06.913 | <span style=\"color: #008080; text-decoration-color: #008080\">INFO</span>    | Task run 'show_classificationreport-f2b' - Task 'show_classificationreport' completed in 0.02 seconds\n",
       "</pre>\n"
      ],
      "text/plain": [
       "23:43:06.913 | \u001b[36mINFO\u001b[0m    | Task run 'show_classificationreport-f2b' - Task 'show_classificationreport' completed in 0.02 seconds\n"
      ]
     },
     "metadata": {},
     "output_type": "display_data"
    },
    {
     "data": {
      "text/html": [
       "<pre style=\"white-space:pre;overflow-x:auto;line-height:normal;font-family:Menlo,'DejaVu Sans Mono',consolas,'Courier New',monospace\">23:43:06.918 | <span style=\"color: #008080; text-decoration-color: #008080\">INFO</span>    | Task run 'show_classificationreport-f2b' - Finished in state <span style=\"color: #008000; text-decoration-color: #008000\">Completed</span>()\n",
       "</pre>\n"
      ],
      "text/plain": [
       "23:43:06.918 | \u001b[36mINFO\u001b[0m    | Task run 'show_classificationreport-f2b' - Finished in state \u001b[32mCompleted\u001b[0m()\n"
      ]
     },
     "metadata": {},
     "output_type": "display_data"
    },
    {
     "data": {
      "text/html": [
       "<pre style=\"white-space:pre;overflow-x:auto;line-height:normal;font-family:Menlo,'DejaVu Sans Mono',consolas,'Courier New',monospace\">23:43:06.942 | <span style=\"color: #008080; text-decoration-color: #008080\">INFO</span>    | Flow run<span style=\"color: #800080; text-decoration-color: #800080\"> 'astonishing-gazelle'</span> - Finished in state <span style=\"color: #008000; text-decoration-color: #008000\">Completed</span>()\n",
       "</pre>\n"
      ],
      "text/plain": [
       "23:43:06.942 | \u001b[36mINFO\u001b[0m    | Flow run\u001b[35m 'astonishing-gazelle'\u001b[0m - Finished in state \u001b[32mCompleted\u001b[0m()\n"
      ]
     },
     "metadata": {},
     "output_type": "display_data"
    }
   ],
   "source": [
    "@flow\n",
    "def diabetes_flow():\n",
    "    dataset = diabetes_dataset_retribution()\n",
    "    X_train, X_test, y_train, y_test = diabetes_preprocessing(dataset)\n",
    "\n",
    "    class_names = ['0','1']\n",
    "\n",
    "    dtree_model, y_pred = decision_tree(X_train, X_test, y_train, y_test)\n",
    "    roc_curve_analysis(dtree_model, X_test, y_test, y_pred)\n",
    "    confusion_matrix(class_names, dtree_model, X_test, y_test)\n",
    "    show_classificationreport(dtree_model, X_test, y_test, class_names)\n",
    "\n",
    "    rf_model =random_forest(X_train, X_test, y_train, y_test)\n",
    "    confusion_matrix(class_names, rf_model, X_test, y_test)\n",
    "    show_classificationreport(rf_model, X_test, y_test, class_names)\n",
    "\n",
    "    knn_model = knn(X_train, X_test, y_train, y_test)\n",
    "    confusion_matrix(class_names, knn_model, X_test, y_test)\n",
    "    show_classificationreport(knn_model, X_test, y_test, class_names)\n",
    "\n",
    "    knn_scaled = knn_scaler(X_train, X_test, y_train, y_test)\n",
    "    confusion_matrix(class_names, knn_scaled, X_test, y_test)\n",
    "    show_classificationreport(knn_scaled, X_test, y_test, class_names)\n",
    "\n",
    "    svm_class_model = svm(X_train, X_test, y_train, y_test)\n",
    "    confusion_matrix(class_names, svm_class_model, X_test, y_test)\n",
    "    show_classificationreport(svm_class_model, X_test, y_test, class_names)\n",
    "\n",
    "    svm_class_scaled = svm_scaler(X_train, X_test, y_train, y_test)\n",
    "    confusion_matrix(class_names, svm_class_scaled, X_test, y_test)\n",
    "    show_classificationreport(svm_class_scaled, X_test, y_test, class_names)\n",
    "    \n",
    "diabetes_flow()"
   ]
  }
 ],
 "metadata": {
  "kernelspec": {
   "display_name": "ml1",
   "language": "python",
   "name": "python3"
  },
  "language_info": {
   "codemirror_mode": {
    "name": "ipython",
    "version": 3
   },
   "file_extension": ".py",
   "mimetype": "text/x-python",
   "name": "python",
   "nbconvert_exporter": "python",
   "pygments_lexer": "ipython3",
   "version": "3.11.13"
  }
 },
 "nbformat": 4,
 "nbformat_minor": 5
}

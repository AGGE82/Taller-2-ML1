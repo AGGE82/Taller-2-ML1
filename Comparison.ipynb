{
 "cells": [
  {
   "cell_type": "markdown",
   "id": "f52aaab6",
   "metadata": {},
   "source": [
    "## DIABETES.csv\n"
   ]
  },
  {
   "cell_type": "code",
   "execution_count": 1,
   "id": "d03a4536",
   "metadata": {},
   "outputs": [],
   "source": [
    "import pandas as pd\n",
    "import numpy as np\n",
    "import requests\n",
    "import time\n",
    "\n",
    "from sklearn.ensemble import RandomForestClassifier \n",
    "from sklearn.metrics import accuracy_score\n",
    "from prefect import flow, task, get_run_logger\n",
    "from typing import Callable\n",
    "from functools import wraps\n",
    "from io import StringIO\n",
    "from sklearn.tree import DecisionTreeClassifier \n",
    "from sklearn.model_selection import train_test_split \n",
    "from sklearn.model_selection import cross_val_score\n",
    "from sklearn.neighbors import KNeighborsClassifier\n",
    "from sklearn import metrics \n",
    "from sklearn.svm import SVC\n",
    "from sklearn import datasets\n",
    "\n",
    "# Para representar el árbol de decisión\n",
    "from six import StringIO  # Capa de compatibilidad entre Python 2 y Python 3\n",
    "from sklearn.tree import export_graphviz # Visualización de árboles de decisión\n",
    "from IPython.display import Image # Módulo de gestión de imágenes digitales \n",
    "import pydotplus # Envoltorio mejorado del lenguaje \"dot\" de graphviz "
   ]
  },
  {
   "cell_type": "code",
   "execution_count": 2,
   "id": "6bbf9bb7",
   "metadata": {},
   "outputs": [],
   "source": [
    "def timing_decorator(func: Callable) -> Callable:\n",
    "    '''Custom decorator to time task execution'''\n",
    "    @wraps(func)\n",
    "    def wrapper(*args, **kwargs):\n",
    "        logger = get_run_logger()\n",
    "        start_time = time.time()\n",
    "\n",
    "        # Execute the original function\n",
    "        result = func(*args, **kwargs)\n",
    "\n",
    "        end_time = time.time()\n",
    "        execution_time = end_time - start_time\n",
    "\n",
    "        logger.info(f\"Task '{func.__name__}' completed in {execution_time:.2f} seconds\")\n",
    "        return result\n",
    "\n",
    "    return wrapper"
   ]
  },
  {
   "cell_type": "code",
   "execution_count": 3,
   "id": "7b68f622",
   "metadata": {},
   "outputs": [],
   "source": [
    "@task\n",
    "@timing_decorator\n",
    "def diabetes_dataset_retribution():\n",
    "        # Se define el nombre de las columnas en una lista \n",
    "    nombre_columnas = ['Embarazos', 'Glucosa', 'Presion Arterial', 'Grosor Piel', 'Insulina', 'Indice Masa Corporal', 'Función de Pedigree', 'Edad', 'Etiqueta']\n",
    "\n",
    "    # Se usa la biblioteca Pandas para cargar el dataset desde un archivo de texto \n",
    "    # \"separado por comas\" (CSV), usando los nombres de columna previamente definidos\n",
    "    try:\n",
    "        response = requests.get(\"https://raw.githubusercontent.com/plotly/datasets/master/diabetes.csv\")\n",
    "        response.raise_for_status()\n",
    "        csv_data = StringIO(response.text)\n",
    "        dataset = pd.read_csv(csv_data, header=1, names=nombre_columnas)\n",
    "        print(\"Dataset cargado exitosamente.\")\n",
    "        print(dataset.head())\n",
    "        return dataset\n",
    "    except requests.exceptions.RequestException as e:\n",
    "        print(f\"Error al descargar el dataset: {e}\")\n",
    "        raise e\n",
    "    except Exception as e:\n",
    "        print(f\"Error al cargar el dataset: {e}\")\n",
    "        raise e\n"
   ]
  },
  {
   "cell_type": "code",
   "execution_count": 4,
   "id": "d75e47f2",
   "metadata": {},
   "outputs": [],
   "source": [
    "@task\n",
    "@timing_decorator\n",
    "def iris_dataset_retribution():\n",
    "    #Lectura de los datos\n",
    "    df= pd.read_csv('iris.csv')\n",
    " \n",
    "    # También se puede cargar desde el paquete sklearn.datasets\n",
    "    #df = load_iris()\n",
    " \n",
    "    # previsualización del dataset\n",
    "    df.head(5)\n",
    " \n",
    "    return df\n"
   ]
  },
  {
   "cell_type": "code",
   "execution_count": 5,
   "id": "cb131ada",
   "metadata": {},
   "outputs": [],
   "source": [
    "@task\n",
    "@timing_decorator\n",
    "def cancer_dataset_retribution():\n",
    "    dataset = datasets.load_breast_cancer()\n",
    "    print(\"Características (X_i): \", dataset.feature_names)\n",
    " \n",
    "    return dataset\n"
   ]
  },
  {
   "cell_type": "code",
   "execution_count": 6,
   "id": "15ba88f7",
   "metadata": {},
   "outputs": [],
   "source": [
    "@task\n",
    "@timing_decorator\n",
    "def iris_preprocessing(df):\n",
    "    X_train, X_test, y_train, y_test = train_test_split(df[['SepalLengthCm', 'SepalWidthCm',\n",
    "                                                        'PetalLengthCm', 'PetalWidthCm']],\n",
    "                                                    df['Species'], random_state=0)\n",
    " \n",
    "    print(\"Tamaño de X_train: {}\\nTamaño de y_train: {}\".format(X_train.shape, y_train.shape))\n",
    "    print(\"Tamaño de X_test: {}\\nTamaño de y_test: {}\".format(X_test.shape, y_test.shape))\n",
    " \n",
    "    return X_train, X_test, y_train, y_test"
   ]
  },
  {
   "cell_type": "code",
   "execution_count": 7,
   "id": "fa8180fd",
   "metadata": {},
   "outputs": [],
   "source": [
    "@task\n",
    "@timing_decorator\n",
    "def diabetes_preprocessing(dataset):\n",
    "    feature_cols = ['Embarazos', 'Insulina', 'Indice Masa Corporal', 'Edad', 'Glucosa', 'Presion Arterial', 'Función de Pedigree']\n",
    "\n",
    "    X = dataset[feature_cols] # Características\n",
    "    y = dataset.Etiqueta # Variable objetivo\n",
    "\n",
    "    X_train, X_test, y_train, y_test = train_test_split(X, y, test_size=0.3, random_state=1) # 70% para entrenamiento\n",
    "    print(\"Tamaño de X_train: {}\\nTamaño de y_train: {}\".format(X_train.shape, y_train.shape)) #Salida con formato en Python\n",
    "    print(\"Tamaño de X_test: {}\\nTamaño de y_test: {}\".format(X_test.shape, y_test.shape))\n",
    "    return X_train, X_test, y_train, y_test"
   ]
  },
  {
   "cell_type": "code",
   "execution_count": 8,
   "id": "f1956722",
   "metadata": {},
   "outputs": [],
   "source": [
    "@task\n",
    "@timing_decorator\n",
    "def cancer_preprocessing(dataset):\n",
    "    X_train, X_test, y_train, y_test = train_test_split(dataset.data, dataset.target, test_size=0.3,random_state=109)\n",
    " \n",
    "    print(\"Tamaño de X_train: {}\\nTamaño de y_train: {}\".format(X_train.shape, y_train.shape))\n",
    "    print(\"Tamaño de X_test: {}\\nTamaño de y_test: {}\".format(X_test.shape, y_test.shape))\n",
    " \n",
    "    return X_train, X_test, y_train, y_test"
   ]
  },
  {
   "cell_type": "code",
   "execution_count": 9,
   "id": "041dbda1",
   "metadata": {},
   "outputs": [],
   "source": [
    "@task\n",
    "@timing_decorator\n",
    "def decision_tree(X_train, X_test, y_train, y_test):\n",
    "    dtree = DecisionTreeClassifier()\n",
    "\n",
    "    # Entrenamiento\n",
    "    dtree = dtree.fit(X_train,y_train)\n",
    "\n",
    "    #Predicción para evaluación\n",
    "    y_pred = dtree.predict(X_test)\n",
    "\n",
    "    pd.concat([X_test, y_test, pd.Series(y_pred, name='Predicción', index=X_test.index)], \n",
    "          ignore_index=False, axis=1)\n",
    "\n",
    "    cv_scores = cross_val_score(dtree, X_train, y_train, cv=5)\n",
    "\n",
    "    # Escribe en pantalla los desempeños (\"accuracy\") para cada \"pliegue\" (fold)\n",
    "    print(\"Resultados de la validación cruzada en decision tree: \", cv_scores)\n",
    "\n",
    "    # Escribe en pantalla el promedio de la métrica \"accuracy\" en el entrenamiento \n",
    "    print(\"Resultado promedio de la validación cruzada en decision tree\", np.average(cv_scores))\n",
    "\n",
    "    # Escribe en pantalla la métrica \"accuracy\" para prueba (datos no usados en el entrenamiento)\n",
    "    print(\"Exactitud (accuracy) en prueba (testing) del decision tree:\",metrics.accuracy_score(y_test, y_pred))\n",
    "\n",
    "    fpr,tpr,_r=metrics.roc_curve(y_test,y_pred)\n",
    "    roc_auc = metrics.auc(fpr, tpr)\n",
    "    print(roc_auc)\n",
    "    metrics.RocCurveDisplay.from_estimator(dtree, X_test, y_test)\n",
    "\n",
    "    return dtree"
   ]
  },
  {
   "cell_type": "code",
   "execution_count": 10,
   "id": "a33a3203",
   "metadata": {},
   "outputs": [],
   "source": [
    "@task\n",
    "@timing_decorator\n",
    "def random_forest(X_train, X_test, y_train, y_test):\n",
    "    # Create a Random Forest Classifier instance \n",
    "    rf_model = RandomForestClassifier(n_estimators=100, random_state=42)\n",
    "\n",
    "    # Train the model\n",
    "    rf_model.fit(X_train, y_train)\n",
    "\n",
    "    # Make predictions\n",
    "    rf_predictions = rf_model.predict(X_test)\n",
    "\n",
    "    # Evaluate the model \n",
    "    rf_accuracy = accuracy_score(y_test, rf_predictions) \n",
    "    print(f\"Random Forest Accuracy: {rf_accuracy:.4f}\")\n",
    "\n",
    "    return rf_model"
   ]
  },
  {
   "cell_type": "code",
   "execution_count": 11,
   "id": "ad3d7f0a",
   "metadata": {},
   "outputs": [],
   "source": [
    "@task\n",
    "@timing_decorator\n",
    "def knn(X_train, X_test, y_train, y_test):\n",
    "    knn = KNeighborsClassifier(n_neighbors=1)\n",
    "    knn.fit(X_train, y_train)\n",
    " \n",
    "    y_pred = knn.predict(X_test)\n",
    "    # comparación de las predicciones con las etiquetas originales\n",
    "    pd.concat([X_test, y_test, pd.Series(y_pred, name='Predicción', index=X_test.index)],\n",
    "            ignore_index=False, axis=1)\n",
    "    print(\"Score sobre el conjunto de test: {:.3f}\".format(knn.score(X_train, y_train)))\n",
    " \n",
    "    np.set_printoptions(precision=2)\n",
    "    cv_scores = cross_val_score(knn, X_test, y_test, cv=5)\n",
    "    print (cv_scores)\n",
    " \n",
    "    print(\"Desempeño promedio del kNN:\")\n",
    "    print(np.average(cv_scores))\n",
    " \n",
    "    print(\"Exactitud (accuracy) en prueba (testing) del kNN:\",metrics.accuracy_score(y_test, y_pred))\n",
    "  \n",
    "    return knn\n"
   ]
  },
  {
   "cell_type": "code",
   "execution_count": 12,
   "id": "f9ba4eb6",
   "metadata": {},
   "outputs": [],
   "source": [
    "@task\n",
    "def knn_scaler(X_train, X_test, y_train, y_test):\n",
    "    scaler = StandardScaler()\n",
    "    x_train_scaler = scaler.fit_transform(X_train)\n",
    "    x_test_scaler = scaler.transform(X_test)\n",
    " \n",
    " \n",
    "    knn_scaled = KNeighborsClassifier(n_neighbors=1)\n",
    "    knn_scaled.fit(x_train_scaler, y_train)\n",
    " \n",
    "    y_pred = knn_scaled.predict(x_test_scaler)\n",
    " \n",
    "    comparacion_df = pd.concat([X_test,\n",
    "                               y_test,\n",
    "                               pd.Series(y_pred, name='Predicción' , index=X_test.index)],\n",
    "                              ignore_index=False, axis=1)\n",
    "    print(\"Comparación de predicciones:\")\n",
    "    print(comparacion_df.head())\n",
    " \n",
    "    print(\"Score sobre el conjunto de test: {:.3f}\".format(knn_scaled.score(x_test_scaler, y_test)))\n",
    " \n",
    " \n",
    "    np.set_printoptions(precision=2)\n",
    "    cv_scores = cross_val_score(knn_scaled, x_train_scaler, y_train, cv=5)\n",
    "    print (cv_scores)\n",
    " \n",
    "    print(\"Desempeno promedio:\")\n",
    "    print(np.average(cv_scores))\n",
    " \n",
    "    print(\"Exactitud (accuracy) en prueba (testing):\",metrics.accuracy_score(y_test, y_pred))\n",
    " \n",
    "    return knn_scaled"
   ]
  },
  {
   "cell_type": "code",
   "execution_count": 13,
   "id": "2d729817",
   "metadata": {},
   "outputs": [],
   "source": [
    "@task\n",
    "@timing_decorator\n",
    "def svm(X_train, X_test, y_train, y_test):\n",
    "    svm_class = SVC(kernel='rbf', random_state=0)\n",
    "    svm_class.fit(X_train, y_train)\n",
    " \n",
    "    y_pred = svm_class.predict(X_test)\n",
    " \n",
    "    resultado_comparacion = pd.concat([X_test, y_test, pd.Series(y_pred, name='Predicción', index=X_test.index)],\n",
    "            ignore_index=False, axis=1)\n",
    "    print(\"Comparación de predicciones:\")\n",
    "    print(resultado_comparacion)\n",
    "   \n",
    "    print(\"Score de entrenamiento: {:.3f}\".format(svm_class.score(X_train, y_train)))\n",
    "    print(\"Score de test: {:.3f}\".format(svm_class.score(X_test, y_test)))\n",
    " \n",
    "    np.set_printoptions(precision=2)\n",
    "    cv_scores = cross_val_score(svm_class, X_train, y_train, cv=5)\n",
    "    print(\"Scores de validación cruzada:\")\n",
    "    print(cv_scores)\n",
    " \n",
    "    print(\"Desempeño promedio:\")\n",
    "    print(np.average(cv_scores))\n",
    " \n",
    "    print(\"Accuracy en el testing:\", metrics.accuracy_score(y_test, y_pred))\n",
    "\n",
    "    return svm_class\n",
    "\n"
   ]
  },
  {
   "cell_type": "code",
   "execution_count": 14,
   "id": "3f9c568c",
   "metadata": {},
   "outputs": [],
   "source": [
    "@task\n",
    "@timing_decorator\n",
    "def svm_scaler(X_train, X_test, y_train, y_test):\n",
    " \n",
    "    scaler = StandardScaler()\n",
    "    x_train_scaler = scaler.fit_transform(X_train)\n",
    "    x_test_scaler = scaler.transform(X_test)\n",
    " \n",
    "    svm_class_scaled = svm.SVC(kernel='rbf', random_state=0)\n",
    "    svm_class_scaled.fit(x_train_scaler, y_train)\n",
    " \n",
    "    y_pred = svm_class_scaled.predict(x_test_scaler)\n",
    " \n",
    "    resultado_comparacion = pd.concat([X_test, y_test, pd.Series(y_pred, name='Predicción', index=X_test.index)],\n",
    "            ignore_index=False, axis=1)\n",
    "    print(\"Comparación de predicciones:\")\n",
    "    print(resultado_comparacion)\n",
    "   \n",
    "    print(\"Score de entrenamiento: {:.3f}\".format(svm_class_scaled.score(x_train_scaler, y_train)))\n",
    "    print(\"Score de test: {:.3f}\".format(svm_class_scaled.score(x_test_scaler, y_test)))\n",
    " \n",
    "    np.set_printoptions(precision=2)\n",
    "    cv_scores = cross_val_score(svm_class_scaled, x_train_scaler, y_train, cv=5)\n",
    "    print(\"Scores de validación cruzada:\")\n",
    "    print(cv_scores)\n",
    " \n",
    "    print(\"Desempeño promedio:\")\n",
    "    print(np.average(cv_scores))\n",
    " \n",
    "    print(\"Accuracy en el testing:\", metrics.accuracy_score(y_test, y_pred))\n",
    " \n",
    "    return svm_class_scaled"
   ]
  },
  {
   "cell_type": "code",
   "execution_count": 15,
   "id": "7b8d998b",
   "metadata": {},
   "outputs": [],
   "source": [
    "@task\n",
    "@timing_decorator\n",
    "def confusion_matrix(class_names, model, X_test, y_test):\n",
    " \n",
    "    print(\"Visualización de desempeño con Matriz de Confusión:\")\n",
    "  \n",
    "    disp = ConfusionMatrixDisplay.from_estimator(\n",
    "        model,\n",
    "        X_test,\n",
    "        y_test,\n",
    "        display_labels=class_names,\n",
    "        cmap=plt.cm.Blues,\n",
    "        normalize=None\n",
    "    )\n",
    " \n",
    "    disp.ax_.set_title(\"Confusion Matrix\")\n",
    "    print(\"Confusion Matrix\")\n",
    "    print(disp.confusion_matrix)\n",
    " \n",
    "    plt.show()"
   ]
  },
  {
   "cell_type": "code",
   "execution_count": 16,
   "id": "1877acc8",
   "metadata": {},
   "outputs": [
    {
     "data": {
      "text/html": [
       "<pre style=\"white-space:pre;overflow-x:auto;line-height:normal;font-family:Menlo,'DejaVu Sans Mono',consolas,'Courier New',monospace\">12:22:19.956 | <span style=\"color: #008080; text-decoration-color: #008080\">INFO</span>    | prefect - Starting temporary server on <span style=\"color: #0000ff; text-decoration-color: #0000ff\">http://127.0.0.1:8281</span>\n",
       "See <span style=\"color: #0000ff; text-decoration-color: #0000ff\">https://docs.prefect.io/v3/concepts/server#how-to-guides</span> for more information on running a dedicated Prefect server.\n",
       "</pre>\n"
      ],
      "text/plain": [
       "12:22:19.956 | \u001b[36mINFO\u001b[0m    | prefect - Starting temporary server on \u001b[94mhttp://127.0.0.1:8281\u001b[0m\n",
       "See \u001b[94mhttps://docs.prefect.io/v3/concepts/server#how-to-guides\u001b[0m for more information on running a dedicated Prefect server.\n"
      ]
     },
     "metadata": {},
     "output_type": "display_data"
    },
    {
     "data": {
      "text/html": [
       "<pre style=\"white-space:pre;overflow-x:auto;line-height:normal;font-family:Menlo,'DejaVu Sans Mono',consolas,'Courier New',monospace\">12:22:31.105 | <span style=\"color: #008080; text-decoration-color: #008080\">INFO</span>    | Flow run<span style=\"color: #800080; text-decoration-color: #800080\"> 'gleaming-crab'</span> - Beginning flow run<span style=\"color: #800080; text-decoration-color: #800080\"> 'gleaming-crab'</span> for flow<span style=\"color: #800080; text-decoration-color: #800080; font-weight: bold\"> 'iris-flow'</span>\n",
       "</pre>\n"
      ],
      "text/plain": [
       "12:22:31.105 | \u001b[36mINFO\u001b[0m    | Flow run\u001b[35m 'gleaming-crab'\u001b[0m - Beginning flow run\u001b[35m 'gleaming-crab'\u001b[0m for flow\u001b[1;35m 'iris-flow'\u001b[0m\n"
      ]
     },
     "metadata": {},
     "output_type": "display_data"
    },
    {
     "data": {
      "text/html": [
       "<pre style=\"white-space:pre;overflow-x:auto;line-height:normal;font-family:Menlo,'DejaVu Sans Mono',consolas,'Courier New',monospace\">12:22:31.191 | <span style=\"color: #008080; text-decoration-color: #008080\">INFO</span>    | Task run 'iris_dataset_retribution-3b8' - Task 'iris_dataset_retribution' completed in 0.01 seconds\n",
       "</pre>\n"
      ],
      "text/plain": [
       "12:22:31.191 | \u001b[36mINFO\u001b[0m    | Task run 'iris_dataset_retribution-3b8' - Task 'iris_dataset_retribution' completed in 0.01 seconds\n"
      ]
     },
     "metadata": {},
     "output_type": "display_data"
    },
    {
     "data": {
      "text/html": [
       "<pre style=\"white-space:pre;overflow-x:auto;line-height:normal;font-family:Menlo,'DejaVu Sans Mono',consolas,'Courier New',monospace\">12:22:31.205 | <span style=\"color: #008080; text-decoration-color: #008080\">INFO</span>    | Task run 'iris_dataset_retribution-3b8' - Finished in state <span style=\"color: #008000; text-decoration-color: #008000\">Completed</span>()\n",
       "</pre>\n"
      ],
      "text/plain": [
       "12:22:31.205 | \u001b[36mINFO\u001b[0m    | Task run 'iris_dataset_retribution-3b8' - Finished in state \u001b[32mCompleted\u001b[0m()\n"
      ]
     },
     "metadata": {},
     "output_type": "display_data"
    },
    {
     "name": "stdout",
     "output_type": "stream",
     "text": [
      "Tamaño de X_train: (112, 4)\n",
      "Tamaño de y_train: (112,)\n",
      "Tamaño de X_test: (38, 4)\n",
      "Tamaño de y_test: (38,)\n"
     ]
    },
    {
     "data": {
      "text/html": [
       "<pre style=\"white-space:pre;overflow-x:auto;line-height:normal;font-family:Menlo,'DejaVu Sans Mono',consolas,'Courier New',monospace\">12:22:31.268 | <span style=\"color: #008080; text-decoration-color: #008080\">INFO</span>    | Task run 'iris_preprocessing-559' - Task 'iris_preprocessing' completed in 0.00 seconds\n",
       "</pre>\n"
      ],
      "text/plain": [
       "12:22:31.268 | \u001b[36mINFO\u001b[0m    | Task run 'iris_preprocessing-559' - Task 'iris_preprocessing' completed in 0.00 seconds\n"
      ]
     },
     "metadata": {},
     "output_type": "display_data"
    },
    {
     "data": {
      "text/html": [
       "<pre style=\"white-space:pre;overflow-x:auto;line-height:normal;font-family:Menlo,'DejaVu Sans Mono',consolas,'Courier New',monospace\">12:22:31.280 | <span style=\"color: #008080; text-decoration-color: #008080\">INFO</span>    | Task run 'iris_preprocessing-559' - Finished in state <span style=\"color: #008000; text-decoration-color: #008000\">Completed</span>()\n",
       "</pre>\n"
      ],
      "text/plain": [
       "12:22:31.280 | \u001b[36mINFO\u001b[0m    | Task run 'iris_preprocessing-559' - Finished in state \u001b[32mCompleted\u001b[0m()\n"
      ]
     },
     "metadata": {},
     "output_type": "display_data"
    },
    {
     "name": "stdout",
     "output_type": "stream",
     "text": [
      "Resultados de la validación cruzada en decision tree:  [1.         0.95652174 1.         0.90909091 0.95454545]\n",
      "Resultado promedio de la validación cruzada en decision tree 0.9640316205533598\n",
      "Exactitud (accuracy) en prueba (testing) del decision tree: 0.9736842105263158\n"
     ]
    },
    {
     "data": {
      "text/html": [
       "<pre style=\"white-space:pre;overflow-x:auto;line-height:normal;font-family:Menlo,'DejaVu Sans Mono',consolas,'Courier New',monospace\">12:22:31.384 | <span style=\"color: #d70000; text-decoration-color: #d70000\">ERROR</span>   | Task run 'decision_tree-e69' - Task run failed with exception: ValueError('multiclass format is not supported')\n",
       "Traceback (most recent call last):\n",
       "  File \"c:\\Users\\aleja\\miniconda3\\envs\\ml1\\Lib\\site-packages\\prefect\\task_engine.py\", line 870, in run_context\n",
       "    yield self\n",
       "  File \"c:\\Users\\aleja\\miniconda3\\envs\\ml1\\Lib\\site-packages\\prefect\\task_engine.py\", line 1510, in run_task_sync\n",
       "    engine.call_task_fn(txn)\n",
       "  File \"c:\\Users\\aleja\\miniconda3\\envs\\ml1\\Lib\\site-packages\\prefect\\task_engine.py\", line 887, in call_task_fn\n",
       "    result = call_with_parameters(self.task.fn, parameters)\n",
       "             ^^^^^^^^^^^^^^^^^^^^^^^^^^^^^^^^^^^^^^^^^^^^^^\n",
       "  File \"c:\\Users\\aleja\\miniconda3\\envs\\ml1\\Lib\\site-packages\\prefect\\utilities\\callables.py\", line 210, in call_with_parameters\n",
       "    return fn(*args, **kwargs)\n",
       "           ^^^^^^^^^^^^^^^^^^^\n",
       "  File \"C:\\Users\\aleja\\AppData\\Local\\Temp\\ipykernel_41676\\3613525291.py\", line 9, in wrapper\n",
       "    result = func(*args, **kwargs)\n",
       "             ^^^^^^^^^^^^^^^^^^^^^\n",
       "  File \"C:\\Users\\aleja\\AppData\\Local\\Temp\\ipykernel_41676\\1765878611.py\", line 26, in decision_tree\n",
       "    fpr,tpr,_r=metrics.roc_curve(y_test,y_pred)\n",
       "               ^^^^^^^^^^^^^^^^^^^^^^^^^^^^^^^^\n",
       "  File \"c:\\Users\\aleja\\miniconda3\\envs\\ml1\\Lib\\site-packages\\sklearn\\utils\\_param_validation.py\", line 218, in wrapper\n",
       "    return func(*args, **kwargs)\n",
       "           ^^^^^^^^^^^^^^^^^^^^^\n",
       "  File \"c:\\Users\\aleja\\miniconda3\\envs\\ml1\\Lib\\site-packages\\sklearn\\metrics\\_ranking.py\", line 1163, in roc_curve\n",
       "    fps, tps, thresholds = _binary_clf_curve(\n",
       "                           ^^^^^^^^^^^^^^^^^^\n",
       "  File \"c:\\Users\\aleja\\miniconda3\\envs\\ml1\\Lib\\site-packages\\sklearn\\metrics\\_ranking.py\", line 863, in _binary_clf_curve\n",
       "    raise ValueError(\"{0} format is not supported\".format(y_type))\n",
       "ValueError: multiclass format is not supported\n",
       "</pre>\n"
      ],
      "text/plain": [
       "12:22:31.384 | \u001b[38;5;160mERROR\u001b[0m   | Task run 'decision_tree-e69' - Task run failed with exception: ValueError('multiclass format is not supported')\n",
       "Traceback (most recent call last):\n",
       "  File \"c:\\Users\\aleja\\miniconda3\\envs\\ml1\\Lib\\site-packages\\prefect\\task_engine.py\", line 870, in run_context\n",
       "    yield self\n",
       "  File \"c:\\Users\\aleja\\miniconda3\\envs\\ml1\\Lib\\site-packages\\prefect\\task_engine.py\", line 1510, in run_task_sync\n",
       "    engine.call_task_fn(txn)\n",
       "  File \"c:\\Users\\aleja\\miniconda3\\envs\\ml1\\Lib\\site-packages\\prefect\\task_engine.py\", line 887, in call_task_fn\n",
       "    result = call_with_parameters(self.task.fn, parameters)\n",
       "             ^^^^^^^^^^^^^^^^^^^^^^^^^^^^^^^^^^^^^^^^^^^^^^\n",
       "  File \"c:\\Users\\aleja\\miniconda3\\envs\\ml1\\Lib\\site-packages\\prefect\\utilities\\callables.py\", line 210, in call_with_parameters\n",
       "    return fn(*args, **kwargs)\n",
       "           ^^^^^^^^^^^^^^^^^^^\n",
       "  File \"C:\\Users\\aleja\\AppData\\Local\\Temp\\ipykernel_41676\\3613525291.py\", line 9, in wrapper\n",
       "    result = func(*args, **kwargs)\n",
       "             ^^^^^^^^^^^^^^^^^^^^^\n",
       "  File \"C:\\Users\\aleja\\AppData\\Local\\Temp\\ipykernel_41676\\1765878611.py\", line 26, in decision_tree\n",
       "    fpr,tpr,_r=metrics.roc_curve(y_test,y_pred)\n",
       "               ^^^^^^^^^^^^^^^^^^^^^^^^^^^^^^^^\n",
       "  File \"c:\\Users\\aleja\\miniconda3\\envs\\ml1\\Lib\\site-packages\\sklearn\\utils\\_param_validation.py\", line 218, in wrapper\n",
       "    return func(*args, **kwargs)\n",
       "           ^^^^^^^^^^^^^^^^^^^^^\n",
       "  File \"c:\\Users\\aleja\\miniconda3\\envs\\ml1\\Lib\\site-packages\\sklearn\\metrics\\_ranking.py\", line 1163, in roc_curve\n",
       "    fps, tps, thresholds = _binary_clf_curve(\n",
       "                           ^^^^^^^^^^^^^^^^^^\n",
       "  File \"c:\\Users\\aleja\\miniconda3\\envs\\ml1\\Lib\\site-packages\\sklearn\\metrics\\_ranking.py\", line 863, in _binary_clf_curve\n",
       "    raise ValueError(\"{0} format is not supported\".format(y_type))\n",
       "ValueError: multiclass format is not supported\n"
      ]
     },
     "metadata": {},
     "output_type": "display_data"
    },
    {
     "data": {
      "text/html": [
       "<pre style=\"white-space:pre;overflow-x:auto;line-height:normal;font-family:Menlo,'DejaVu Sans Mono',consolas,'Courier New',monospace\">12:22:31.415 | <span style=\"color: #d70000; text-decoration-color: #d70000\">ERROR</span>   | Task run 'decision_tree-e69' - Finished in state <span style=\"color: #d70000; text-decoration-color: #d70000\">Failed</span>('Task run encountered an exception ValueError: multiclass format is not supported')\n",
       "</pre>\n"
      ],
      "text/plain": [
       "12:22:31.415 | \u001b[38;5;160mERROR\u001b[0m   | Task run 'decision_tree-e69' - Finished in state \u001b[38;5;160mFailed\u001b[0m('Task run encountered an exception ValueError: multiclass format is not supported')\n"
      ]
     },
     "metadata": {},
     "output_type": "display_data"
    },
    {
     "data": {
      "text/html": [
       "<pre style=\"white-space:pre;overflow-x:auto;line-height:normal;font-family:Menlo,'DejaVu Sans Mono',consolas,'Courier New',monospace\">12:22:31.424 | <span style=\"color: #d70000; text-decoration-color: #d70000\">ERROR</span>   | Flow run<span style=\"color: #800080; text-decoration-color: #800080\"> 'gleaming-crab'</span> - Encountered exception during execution: ValueError('multiclass format is not supported')\n",
       "Traceback (most recent call last):\n",
       "  File \"c:\\Users\\aleja\\miniconda3\\envs\\ml1\\Lib\\site-packages\\prefect\\flow_engine.py\", line 781, in run_context\n",
       "    yield self\n",
       "  File \"c:\\Users\\aleja\\miniconda3\\envs\\ml1\\Lib\\site-packages\\prefect\\flow_engine.py\", line 1395, in run_flow_sync\n",
       "    engine.call_flow_fn()\n",
       "  File \"c:\\Users\\aleja\\miniconda3\\envs\\ml1\\Lib\\site-packages\\prefect\\flow_engine.py\", line 801, in call_flow_fn\n",
       "    result = call_with_parameters(self.flow.fn, self.parameters)\n",
       "             ^^^^^^^^^^^^^^^^^^^^^^^^^^^^^^^^^^^^^^^^^^^^^^^^^^^\n",
       "  File \"c:\\Users\\aleja\\miniconda3\\envs\\ml1\\Lib\\site-packages\\prefect\\utilities\\callables.py\", line 210, in call_with_parameters\n",
       "    return fn(*args, **kwargs)\n",
       "           ^^^^^^^^^^^^^^^^^^^\n",
       "  File \"C:\\Users\\aleja\\AppData\\Local\\Temp\\ipykernel_41676\\3495911945.py\", line 8, in iris_flow\n",
       "    dtree = decision_tree(X_train, X_test, y_train, y_test)\n",
       "            ^^^^^^^^^^^^^^^^^^^^^^^^^^^^^^^^^^^^^^^^^^^^^^^\n",
       "  File \"c:\\Users\\aleja\\miniconda3\\envs\\ml1\\Lib\\site-packages\\prefect\\tasks.py\", line 1139, in __call__\n",
       "    return run_task(\n",
       "           ^^^^^^^^^\n",
       "  File \"c:\\Users\\aleja\\miniconda3\\envs\\ml1\\Lib\\site-packages\\prefect\\task_engine.py\", line 1737, in run_task\n",
       "    return run_task_sync(**kwargs)\n",
       "           ^^^^^^^^^^^^^^^^^^^^^^^\n",
       "  File \"c:\\Users\\aleja\\miniconda3\\envs\\ml1\\Lib\\site-packages\\prefect\\task_engine.py\", line 1512, in run_task_sync\n",
       "    return engine.state if return_type == \"state\" else engine.result()\n",
       "                                                       ^^^^^^^^^^^^^^^\n",
       "  File \"c:\\Users\\aleja\\miniconda3\\envs\\ml1\\Lib\\site-packages\\prefect\\task_engine.py\", line 493, in result\n",
       "    raise self._raised\n",
       "  File \"c:\\Users\\aleja\\miniconda3\\envs\\ml1\\Lib\\site-packages\\prefect\\task_engine.py\", line 870, in run_context\n",
       "    yield self\n",
       "  File \"c:\\Users\\aleja\\miniconda3\\envs\\ml1\\Lib\\site-packages\\prefect\\task_engine.py\", line 1510, in run_task_sync\n",
       "    engine.call_task_fn(txn)\n",
       "  File \"c:\\Users\\aleja\\miniconda3\\envs\\ml1\\Lib\\site-packages\\prefect\\task_engine.py\", line 887, in call_task_fn\n",
       "    result = call_with_parameters(self.task.fn, parameters)\n",
       "             ^^^^^^^^^^^^^^^^^^^^^^^^^^^^^^^^^^^^^^^^^^^^^^\n",
       "  File \"c:\\Users\\aleja\\miniconda3\\envs\\ml1\\Lib\\site-packages\\prefect\\utilities\\callables.py\", line 210, in call_with_parameters\n",
       "    return fn(*args, **kwargs)\n",
       "           ^^^^^^^^^^^^^^^^^^^\n",
       "  File \"C:\\Users\\aleja\\AppData\\Local\\Temp\\ipykernel_41676\\3613525291.py\", line 9, in wrapper\n",
       "    result = func(*args, **kwargs)\n",
       "             ^^^^^^^^^^^^^^^^^^^^^\n",
       "  File \"C:\\Users\\aleja\\AppData\\Local\\Temp\\ipykernel_41676\\1765878611.py\", line 26, in decision_tree\n",
       "    fpr,tpr,_r=metrics.roc_curve(y_test,y_pred)\n",
       "               ^^^^^^^^^^^^^^^^^^^^^^^^^^^^^^^^\n",
       "  File \"c:\\Users\\aleja\\miniconda3\\envs\\ml1\\Lib\\site-packages\\sklearn\\utils\\_param_validation.py\", line 218, in wrapper\n",
       "    return func(*args, **kwargs)\n",
       "           ^^^^^^^^^^^^^^^^^^^^^\n",
       "  File \"c:\\Users\\aleja\\miniconda3\\envs\\ml1\\Lib\\site-packages\\sklearn\\metrics\\_ranking.py\", line 1163, in roc_curve\n",
       "    fps, tps, thresholds = _binary_clf_curve(\n",
       "                           ^^^^^^^^^^^^^^^^^^\n",
       "  File \"c:\\Users\\aleja\\miniconda3\\envs\\ml1\\Lib\\site-packages\\sklearn\\metrics\\_ranking.py\", line 863, in _binary_clf_curve\n",
       "    raise ValueError(\"{0} format is not supported\".format(y_type))\n",
       "ValueError: multiclass format is not supported\n",
       "</pre>\n"
      ],
      "text/plain": [
       "12:22:31.424 | \u001b[38;5;160mERROR\u001b[0m   | Flow run\u001b[35m 'gleaming-crab'\u001b[0m - Encountered exception during execution: ValueError('multiclass format is not supported')\n",
       "Traceback (most recent call last):\n",
       "  File \"c:\\Users\\aleja\\miniconda3\\envs\\ml1\\Lib\\site-packages\\prefect\\flow_engine.py\", line 781, in run_context\n",
       "    yield self\n",
       "  File \"c:\\Users\\aleja\\miniconda3\\envs\\ml1\\Lib\\site-packages\\prefect\\flow_engine.py\", line 1395, in run_flow_sync\n",
       "    engine.call_flow_fn()\n",
       "  File \"c:\\Users\\aleja\\miniconda3\\envs\\ml1\\Lib\\site-packages\\prefect\\flow_engine.py\", line 801, in call_flow_fn\n",
       "    result = call_with_parameters(self.flow.fn, self.parameters)\n",
       "             ^^^^^^^^^^^^^^^^^^^^^^^^^^^^^^^^^^^^^^^^^^^^^^^^^^^\n",
       "  File \"c:\\Users\\aleja\\miniconda3\\envs\\ml1\\Lib\\site-packages\\prefect\\utilities\\callables.py\", line 210, in call_with_parameters\n",
       "    return fn(*args, **kwargs)\n",
       "           ^^^^^^^^^^^^^^^^^^^\n",
       "  File \"C:\\Users\\aleja\\AppData\\Local\\Temp\\ipykernel_41676\\3495911945.py\", line 8, in iris_flow\n",
       "    dtree = decision_tree(X_train, X_test, y_train, y_test)\n",
       "            ^^^^^^^^^^^^^^^^^^^^^^^^^^^^^^^^^^^^^^^^^^^^^^^\n",
       "  File \"c:\\Users\\aleja\\miniconda3\\envs\\ml1\\Lib\\site-packages\\prefect\\tasks.py\", line 1139, in __call__\n",
       "    return run_task(\n",
       "           ^^^^^^^^^\n",
       "  File \"c:\\Users\\aleja\\miniconda3\\envs\\ml1\\Lib\\site-packages\\prefect\\task_engine.py\", line 1737, in run_task\n",
       "    return run_task_sync(**kwargs)\n",
       "           ^^^^^^^^^^^^^^^^^^^^^^^\n",
       "  File \"c:\\Users\\aleja\\miniconda3\\envs\\ml1\\Lib\\site-packages\\prefect\\task_engine.py\", line 1512, in run_task_sync\n",
       "    return engine.state if return_type == \"state\" else engine.result()\n",
       "                                                       ^^^^^^^^^^^^^^^\n",
       "  File \"c:\\Users\\aleja\\miniconda3\\envs\\ml1\\Lib\\site-packages\\prefect\\task_engine.py\", line 493, in result\n",
       "    raise self._raised\n",
       "  File \"c:\\Users\\aleja\\miniconda3\\envs\\ml1\\Lib\\site-packages\\prefect\\task_engine.py\", line 870, in run_context\n",
       "    yield self\n",
       "  File \"c:\\Users\\aleja\\miniconda3\\envs\\ml1\\Lib\\site-packages\\prefect\\task_engine.py\", line 1510, in run_task_sync\n",
       "    engine.call_task_fn(txn)\n",
       "  File \"c:\\Users\\aleja\\miniconda3\\envs\\ml1\\Lib\\site-packages\\prefect\\task_engine.py\", line 887, in call_task_fn\n",
       "    result = call_with_parameters(self.task.fn, parameters)\n",
       "             ^^^^^^^^^^^^^^^^^^^^^^^^^^^^^^^^^^^^^^^^^^^^^^\n",
       "  File \"c:\\Users\\aleja\\miniconda3\\envs\\ml1\\Lib\\site-packages\\prefect\\utilities\\callables.py\", line 210, in call_with_parameters\n",
       "    return fn(*args, **kwargs)\n",
       "           ^^^^^^^^^^^^^^^^^^^\n",
       "  File \"C:\\Users\\aleja\\AppData\\Local\\Temp\\ipykernel_41676\\3613525291.py\", line 9, in wrapper\n",
       "    result = func(*args, **kwargs)\n",
       "             ^^^^^^^^^^^^^^^^^^^^^\n",
       "  File \"C:\\Users\\aleja\\AppData\\Local\\Temp\\ipykernel_41676\\1765878611.py\", line 26, in decision_tree\n",
       "    fpr,tpr,_r=metrics.roc_curve(y_test,y_pred)\n",
       "               ^^^^^^^^^^^^^^^^^^^^^^^^^^^^^^^^\n",
       "  File \"c:\\Users\\aleja\\miniconda3\\envs\\ml1\\Lib\\site-packages\\sklearn\\utils\\_param_validation.py\", line 218, in wrapper\n",
       "    return func(*args, **kwargs)\n",
       "           ^^^^^^^^^^^^^^^^^^^^^\n",
       "  File \"c:\\Users\\aleja\\miniconda3\\envs\\ml1\\Lib\\site-packages\\sklearn\\metrics\\_ranking.py\", line 1163, in roc_curve\n",
       "    fps, tps, thresholds = _binary_clf_curve(\n",
       "                           ^^^^^^^^^^^^^^^^^^\n",
       "  File \"c:\\Users\\aleja\\miniconda3\\envs\\ml1\\Lib\\site-packages\\sklearn\\metrics\\_ranking.py\", line 863, in _binary_clf_curve\n",
       "    raise ValueError(\"{0} format is not supported\".format(y_type))\n",
       "ValueError: multiclass format is not supported\n"
      ]
     },
     "metadata": {},
     "output_type": "display_data"
    },
    {
     "data": {
      "text/html": [
       "<pre style=\"white-space:pre;overflow-x:auto;line-height:normal;font-family:Menlo,'DejaVu Sans Mono',consolas,'Courier New',monospace\">12:22:31.483 | <span style=\"color: #008080; text-decoration-color: #008080\">INFO</span>    | Flow run<span style=\"color: #800080; text-decoration-color: #800080\"> 'gleaming-crab'</span> - Finished in state <span style=\"color: #d70000; text-decoration-color: #d70000\">Failed</span>('Flow run encountered an exception: ValueError: multiclass format is not supported')\n",
       "</pre>\n"
      ],
      "text/plain": [
       "12:22:31.483 | \u001b[36mINFO\u001b[0m    | Flow run\u001b[35m 'gleaming-crab'\u001b[0m - Finished in state \u001b[38;5;160mFailed\u001b[0m('Flow run encountered an exception: ValueError: multiclass format is not supported')\n"
      ]
     },
     "metadata": {},
     "output_type": "display_data"
    },
    {
     "ename": "ValueError",
     "evalue": "multiclass format is not supported",
     "output_type": "error",
     "traceback": [
      "\u001b[31m---------------------------------------------------------------------------\u001b[39m",
      "\u001b[31mValueError\u001b[39m                                Traceback (most recent call last)",
      "\u001b[36mCell\u001b[39m\u001b[36m \u001b[39m\u001b[32mIn[16]\u001b[39m\u001b[32m, line 23\u001b[39m\n\u001b[32m     21\u001b[39m     svm_class_scaled = svm_scaler(X_train, X_test, y_train, y_test)\n\u001b[32m     22\u001b[39m     confusion_matrix(class_names, svm_class_scaled, X_test, y_test)\n\u001b[32m---> \u001b[39m\u001b[32m23\u001b[39m \u001b[43miris_flow\u001b[49m\u001b[43m(\u001b[49m\u001b[43m)\u001b[49m\n",
      "\u001b[36mFile \u001b[39m\u001b[32mc:\\Users\\aleja\\miniconda3\\envs\\ml1\\Lib\\site-packages\\prefect\\flows.py:1702\u001b[39m, in \u001b[36mFlow.__call__\u001b[39m\u001b[34m(self, return_state, wait_for, *args, **kwargs)\u001b[39m\n\u001b[32m   1698\u001b[39m     \u001b[38;5;28;01mreturn\u001b[39;00m track_viz_task(\u001b[38;5;28mself\u001b[39m.isasync, \u001b[38;5;28mself\u001b[39m.name, parameters)\n\u001b[32m   1700\u001b[39m \u001b[38;5;28;01mfrom\u001b[39;00m\u001b[38;5;250m \u001b[39m\u001b[34;01mprefect\u001b[39;00m\u001b[34;01m.\u001b[39;00m\u001b[34;01mflow_engine\u001b[39;00m\u001b[38;5;250m \u001b[39m\u001b[38;5;28;01mimport\u001b[39;00m run_flow\n\u001b[32m-> \u001b[39m\u001b[32m1702\u001b[39m \u001b[38;5;28;01mreturn\u001b[39;00m \u001b[43mrun_flow\u001b[49m\u001b[43m(\u001b[49m\n\u001b[32m   1703\u001b[39m \u001b[43m    \u001b[49m\u001b[43mflow\u001b[49m\u001b[43m=\u001b[49m\u001b[38;5;28;43mself\u001b[39;49m\u001b[43m,\u001b[49m\n\u001b[32m   1704\u001b[39m \u001b[43m    \u001b[49m\u001b[43mparameters\u001b[49m\u001b[43m=\u001b[49m\u001b[43mparameters\u001b[49m\u001b[43m,\u001b[49m\n\u001b[32m   1705\u001b[39m \u001b[43m    \u001b[49m\u001b[43mwait_for\u001b[49m\u001b[43m=\u001b[49m\u001b[43mwait_for\u001b[49m\u001b[43m,\u001b[49m\n\u001b[32m   1706\u001b[39m \u001b[43m    \u001b[49m\u001b[43mreturn_type\u001b[49m\u001b[43m=\u001b[49m\u001b[43mreturn_type\u001b[49m\u001b[43m,\u001b[49m\n\u001b[32m   1707\u001b[39m \u001b[43m\u001b[49m\u001b[43m)\u001b[49m\n",
      "\u001b[36mFile \u001b[39m\u001b[32mc:\\Users\\aleja\\miniconda3\\envs\\ml1\\Lib\\site-packages\\prefect\\flow_engine.py:1552\u001b[39m, in \u001b[36mrun_flow\u001b[39m\u001b[34m(flow, flow_run, parameters, wait_for, return_type, error_logger, context)\u001b[39m\n\u001b[32m   1550\u001b[39m         ret_val = run_flow_async(**kwargs)\n\u001b[32m   1551\u001b[39m     \u001b[38;5;28;01melse\u001b[39;00m:\n\u001b[32m-> \u001b[39m\u001b[32m1552\u001b[39m         ret_val = \u001b[43mrun_flow_sync\u001b[49m\u001b[43m(\u001b[49m\u001b[43m*\u001b[49m\u001b[43m*\u001b[49m\u001b[43mkwargs\u001b[49m\u001b[43m)\u001b[49m\n\u001b[32m   1553\u001b[39m \u001b[38;5;28;01mexcept\u001b[39;00m (Abort, Pause):\n\u001b[32m   1554\u001b[39m     \u001b[38;5;28;01mraise\u001b[39;00m\n",
      "\u001b[36mFile \u001b[39m\u001b[32mc:\\Users\\aleja\\miniconda3\\envs\\ml1\\Lib\\site-packages\\prefect\\flow_engine.py:1397\u001b[39m, in \u001b[36mrun_flow_sync\u001b[39m\u001b[34m(flow, flow_run, parameters, wait_for, return_type, context)\u001b[39m\n\u001b[32m   1394\u001b[39m         \u001b[38;5;28;01mwith\u001b[39;00m engine.run_context():\n\u001b[32m   1395\u001b[39m             engine.call_flow_fn()\n\u001b[32m-> \u001b[39m\u001b[32m1397\u001b[39m \u001b[38;5;28;01mreturn\u001b[39;00m engine.state \u001b[38;5;28;01mif\u001b[39;00m return_type == \u001b[33m\"\u001b[39m\u001b[33mstate\u001b[39m\u001b[33m\"\u001b[39m \u001b[38;5;28;01melse\u001b[39;00m \u001b[43mengine\u001b[49m\u001b[43m.\u001b[49m\u001b[43mresult\u001b[49m\u001b[43m(\u001b[49m\u001b[43m)\u001b[49m\n",
      "\u001b[36mFile \u001b[39m\u001b[32mc:\\Users\\aleja\\miniconda3\\envs\\ml1\\Lib\\site-packages\\prefect\\flow_engine.py:361\u001b[39m, in \u001b[36mFlowRunEngine.result\u001b[39m\u001b[34m(self, raise_on_failure)\u001b[39m\n\u001b[32m    359\u001b[39m \u001b[38;5;28;01mif\u001b[39;00m \u001b[38;5;28mself\u001b[39m._raised \u001b[38;5;129;01mis\u001b[39;00m \u001b[38;5;129;01mnot\u001b[39;00m NotSet:\n\u001b[32m    360\u001b[39m     \u001b[38;5;28;01mif\u001b[39;00m raise_on_failure:\n\u001b[32m--> \u001b[39m\u001b[32m361\u001b[39m         \u001b[38;5;28;01mraise\u001b[39;00m \u001b[38;5;28mself\u001b[39m._raised\n\u001b[32m    362\u001b[39m     \u001b[38;5;28;01mreturn\u001b[39;00m \u001b[38;5;28mself\u001b[39m._raised\n\u001b[32m    364\u001b[39m \u001b[38;5;66;03m# This is a fall through case which leans on the existing state result mechanics to get the\u001b[39;00m\n\u001b[32m    365\u001b[39m \u001b[38;5;66;03m# return value. This is necessary because we currently will return a State object if the\u001b[39;00m\n\u001b[32m    366\u001b[39m \u001b[38;5;66;03m# the State was Prefect-created.\u001b[39;00m\n\u001b[32m    367\u001b[39m \u001b[38;5;66;03m# TODO: Remove the need to get the result from a State except in cases where the return value\u001b[39;00m\n\u001b[32m    368\u001b[39m \u001b[38;5;66;03m# is a State object.\u001b[39;00m\n",
      "\u001b[36mFile \u001b[39m\u001b[32mc:\\Users\\aleja\\miniconda3\\envs\\ml1\\Lib\\site-packages\\prefect\\flow_engine.py:781\u001b[39m, in \u001b[36mFlowRunEngine.run_context\u001b[39m\u001b[34m(self)\u001b[39m\n\u001b[32m    774\u001b[39m     \u001b[38;5;28;01mwith\u001b[39;00m timeout_context(\n\u001b[32m    775\u001b[39m         seconds=\u001b[38;5;28mself\u001b[39m.flow.timeout_seconds,\n\u001b[32m    776\u001b[39m         timeout_exc_type=FlowRunTimeoutError,\n\u001b[32m    777\u001b[39m     ):\n\u001b[32m    778\u001b[39m         \u001b[38;5;28mself\u001b[39m.logger.debug(\n\u001b[32m    779\u001b[39m             \u001b[33mf\u001b[39m\u001b[33m\"\u001b[39m\u001b[33mExecuting flow \u001b[39m\u001b[38;5;132;01m{\u001b[39;00m\u001b[38;5;28mself\u001b[39m.flow.name\u001b[38;5;132;01m!r}\u001b[39;00m\u001b[33m for flow run \u001b[39m\u001b[38;5;132;01m{\u001b[39;00m\u001b[38;5;28mself\u001b[39m.flow_run.name\u001b[38;5;132;01m!r}\u001b[39;00m\u001b[33m...\u001b[39m\u001b[33m\"\u001b[39m\n\u001b[32m    780\u001b[39m         )\n\u001b[32m--> \u001b[39m\u001b[32m781\u001b[39m         \u001b[38;5;28;01myield\u001b[39;00m \u001b[38;5;28mself\u001b[39m\n\u001b[32m    782\u001b[39m \u001b[38;5;28;01mexcept\u001b[39;00m \u001b[38;5;167;01mTimeoutError\u001b[39;00m \u001b[38;5;28;01mas\u001b[39;00m exc:\n\u001b[32m    783\u001b[39m     \u001b[38;5;28mself\u001b[39m.handle_timeout(exc)\n",
      "\u001b[36mFile \u001b[39m\u001b[32mc:\\Users\\aleja\\miniconda3\\envs\\ml1\\Lib\\site-packages\\prefect\\flow_engine.py:1395\u001b[39m, in \u001b[36mrun_flow_sync\u001b[39m\u001b[34m(flow, flow_run, parameters, wait_for, return_type, context)\u001b[39m\n\u001b[32m   1393\u001b[39m     \u001b[38;5;28;01mwhile\u001b[39;00m engine.is_running():\n\u001b[32m   1394\u001b[39m         \u001b[38;5;28;01mwith\u001b[39;00m engine.run_context():\n\u001b[32m-> \u001b[39m\u001b[32m1395\u001b[39m             \u001b[43mengine\u001b[49m\u001b[43m.\u001b[49m\u001b[43mcall_flow_fn\u001b[49m\u001b[43m(\u001b[49m\u001b[43m)\u001b[49m\n\u001b[32m   1397\u001b[39m \u001b[38;5;28;01mreturn\u001b[39;00m engine.state \u001b[38;5;28;01mif\u001b[39;00m return_type == \u001b[33m\"\u001b[39m\u001b[33mstate\u001b[39m\u001b[33m\"\u001b[39m \u001b[38;5;28;01melse\u001b[39;00m engine.result()\n",
      "\u001b[36mFile \u001b[39m\u001b[32mc:\\Users\\aleja\\miniconda3\\envs\\ml1\\Lib\\site-packages\\prefect\\flow_engine.py:801\u001b[39m, in \u001b[36mFlowRunEngine.call_flow_fn\u001b[39m\u001b[34m(self)\u001b[39m\n\u001b[32m    799\u001b[39m     \u001b[38;5;28;01mreturn\u001b[39;00m _call_flow_fn()\n\u001b[32m    800\u001b[39m \u001b[38;5;28;01melse\u001b[39;00m:\n\u001b[32m--> \u001b[39m\u001b[32m801\u001b[39m     result = \u001b[43mcall_with_parameters\u001b[49m\u001b[43m(\u001b[49m\u001b[38;5;28;43mself\u001b[39;49m\u001b[43m.\u001b[49m\u001b[43mflow\u001b[49m\u001b[43m.\u001b[49m\u001b[43mfn\u001b[49m\u001b[43m,\u001b[49m\u001b[43m \u001b[49m\u001b[38;5;28;43mself\u001b[39;49m\u001b[43m.\u001b[49m\u001b[43mparameters\u001b[49m\u001b[43m)\u001b[49m\n\u001b[32m    802\u001b[39m     \u001b[38;5;28mself\u001b[39m.handle_success(result)\n",
      "\u001b[36mFile \u001b[39m\u001b[32mc:\\Users\\aleja\\miniconda3\\envs\\ml1\\Lib\\site-packages\\prefect\\utilities\\callables.py:210\u001b[39m, in \u001b[36mcall_with_parameters\u001b[39m\u001b[34m(fn, parameters)\u001b[39m\n\u001b[32m    202\u001b[39m \u001b[38;5;250m\u001b[39m\u001b[33;03m\"\"\"\u001b[39;00m\n\u001b[32m    203\u001b[39m \u001b[33;03mCall a function with parameters extracted with `get_call_parameters`\u001b[39;00m\n\u001b[32m    204\u001b[39m \n\u001b[32m   (...)\u001b[39m\u001b[32m    207\u001b[39m \u001b[33;03mthe args/kwargs using `parameters_to_positional_and_keyword` directly\u001b[39;00m\n\u001b[32m    208\u001b[39m \u001b[33;03m\"\"\"\u001b[39;00m\n\u001b[32m    209\u001b[39m args, kwargs = parameters_to_args_kwargs(fn, parameters)\n\u001b[32m--> \u001b[39m\u001b[32m210\u001b[39m \u001b[38;5;28;01mreturn\u001b[39;00m \u001b[43mfn\u001b[49m\u001b[43m(\u001b[49m\u001b[43m*\u001b[49m\u001b[43margs\u001b[49m\u001b[43m,\u001b[49m\u001b[43m \u001b[49m\u001b[43m*\u001b[49m\u001b[43m*\u001b[49m\u001b[43mkwargs\u001b[49m\u001b[43m)\u001b[49m\n",
      "\u001b[36mCell\u001b[39m\u001b[36m \u001b[39m\u001b[32mIn[16]\u001b[39m\u001b[32m, line 8\u001b[39m, in \u001b[36miris_flow\u001b[39m\u001b[34m()\u001b[39m\n\u001b[32m      4\u001b[39m X_train, X_test, y_train, y_test = iris_preprocessing(df)\n\u001b[32m      6\u001b[39m class_names = [\u001b[33m'\u001b[39m\u001b[33mIris-setosa\u001b[39m\u001b[33m'\u001b[39m, \u001b[33m'\u001b[39m\u001b[33mIris-versicolor\u001b[39m\u001b[33m'\u001b[39m, \u001b[33m'\u001b[39m\u001b[33mIris-virginica\u001b[39m\u001b[33m'\u001b[39m]\n\u001b[32m----> \u001b[39m\u001b[32m8\u001b[39m dtree = \u001b[43mdecision_tree\u001b[49m\u001b[43m(\u001b[49m\u001b[43mX_train\u001b[49m\u001b[43m,\u001b[49m\u001b[43m \u001b[49m\u001b[43mX_test\u001b[49m\u001b[43m,\u001b[49m\u001b[43m \u001b[49m\u001b[43my_train\u001b[49m\u001b[43m,\u001b[49m\u001b[43m \u001b[49m\u001b[43my_test\u001b[49m\u001b[43m)\u001b[49m\n\u001b[32m      9\u001b[39m confusion_matrix(class_names, dtree, X_test, y_test)\n\u001b[32m     11\u001b[39m rf =random_forest(X_train, X_test, y_train, y_test)\n",
      "\u001b[36mFile \u001b[39m\u001b[32mc:\\Users\\aleja\\miniconda3\\envs\\ml1\\Lib\\site-packages\\prefect\\tasks.py:1139\u001b[39m, in \u001b[36mTask.__call__\u001b[39m\u001b[34m(self, return_state, wait_for, *args, **kwargs)\u001b[39m\n\u001b[32m   1133\u001b[39m     \u001b[38;5;28;01mreturn\u001b[39;00m track_viz_task(\n\u001b[32m   1134\u001b[39m         \u001b[38;5;28mself\u001b[39m.isasync, \u001b[38;5;28mself\u001b[39m.name, parameters, \u001b[38;5;28mself\u001b[39m.viz_return_value\n\u001b[32m   1135\u001b[39m     )\n\u001b[32m   1137\u001b[39m \u001b[38;5;28;01mfrom\u001b[39;00m\u001b[38;5;250m \u001b[39m\u001b[34;01mprefect\u001b[39;00m\u001b[34;01m.\u001b[39;00m\u001b[34;01mtask_engine\u001b[39;00m\u001b[38;5;250m \u001b[39m\u001b[38;5;28;01mimport\u001b[39;00m run_task\n\u001b[32m-> \u001b[39m\u001b[32m1139\u001b[39m \u001b[38;5;28;01mreturn\u001b[39;00m \u001b[43mrun_task\u001b[49m\u001b[43m(\u001b[49m\n\u001b[32m   1140\u001b[39m \u001b[43m    \u001b[49m\u001b[43mtask\u001b[49m\u001b[43m=\u001b[49m\u001b[38;5;28;43mself\u001b[39;49m\u001b[43m,\u001b[49m\n\u001b[32m   1141\u001b[39m \u001b[43m    \u001b[49m\u001b[43mparameters\u001b[49m\u001b[43m=\u001b[49m\u001b[43mparameters\u001b[49m\u001b[43m,\u001b[49m\n\u001b[32m   1142\u001b[39m \u001b[43m    \u001b[49m\u001b[43mwait_for\u001b[49m\u001b[43m=\u001b[49m\u001b[43mwait_for\u001b[49m\u001b[43m,\u001b[49m\n\u001b[32m   1143\u001b[39m \u001b[43m    \u001b[49m\u001b[43mreturn_type\u001b[49m\u001b[43m=\u001b[49m\u001b[43mreturn_type\u001b[49m\u001b[43m,\u001b[49m\n\u001b[32m   1144\u001b[39m \u001b[43m\u001b[49m\u001b[43m)\u001b[49m\n",
      "\u001b[36mFile \u001b[39m\u001b[32mc:\\Users\\aleja\\miniconda3\\envs\\ml1\\Lib\\site-packages\\prefect\\task_engine.py:1737\u001b[39m, in \u001b[36mrun_task\u001b[39m\u001b[34m(task, task_run_id, task_run, parameters, wait_for, return_type, dependencies, context)\u001b[39m\n\u001b[32m   1735\u001b[39m     \u001b[38;5;28;01mreturn\u001b[39;00m run_task_async(**kwargs)\n\u001b[32m   1736\u001b[39m \u001b[38;5;28;01melse\u001b[39;00m:\n\u001b[32m-> \u001b[39m\u001b[32m1737\u001b[39m     \u001b[38;5;28;01mreturn\u001b[39;00m \u001b[43mrun_task_sync\u001b[49m\u001b[43m(\u001b[49m\u001b[43m*\u001b[49m\u001b[43m*\u001b[49m\u001b[43mkwargs\u001b[49m\u001b[43m)\u001b[49m\n",
      "\u001b[36mFile \u001b[39m\u001b[32mc:\\Users\\aleja\\miniconda3\\envs\\ml1\\Lib\\site-packages\\prefect\\task_engine.py:1512\u001b[39m, in \u001b[36mrun_task_sync\u001b[39m\u001b[34m(task, task_run_id, task_run, parameters, wait_for, return_type, dependencies, context)\u001b[39m\n\u001b[32m   1505\u001b[39m         \u001b[38;5;28;01mwith\u001b[39;00m (\n\u001b[32m   1506\u001b[39m             engine.asset_context(),\n\u001b[32m   1507\u001b[39m             engine.run_context(),\n\u001b[32m   1508\u001b[39m             engine.transaction_context() \u001b[38;5;28;01mas\u001b[39;00m txn,\n\u001b[32m   1509\u001b[39m         ):\n\u001b[32m   1510\u001b[39m             engine.call_task_fn(txn)\n\u001b[32m-> \u001b[39m\u001b[32m1512\u001b[39m \u001b[38;5;28;01mreturn\u001b[39;00m engine.state \u001b[38;5;28;01mif\u001b[39;00m return_type == \u001b[33m\"\u001b[39m\u001b[33mstate\u001b[39m\u001b[33m\"\u001b[39m \u001b[38;5;28;01melse\u001b[39;00m \u001b[43mengine\u001b[49m\u001b[43m.\u001b[49m\u001b[43mresult\u001b[49m\u001b[43m(\u001b[49m\u001b[43m)\u001b[49m\n",
      "\u001b[36mFile \u001b[39m\u001b[32mc:\\Users\\aleja\\miniconda3\\envs\\ml1\\Lib\\site-packages\\prefect\\task_engine.py:493\u001b[39m, in \u001b[36mSyncTaskRunEngine.result\u001b[39m\u001b[34m(self, raise_on_failure)\u001b[39m\n\u001b[32m    490\u001b[39m \u001b[38;5;28;01mif\u001b[39;00m \u001b[38;5;28mself\u001b[39m._raised \u001b[38;5;129;01mis\u001b[39;00m \u001b[38;5;129;01mnot\u001b[39;00m NotSet:\n\u001b[32m    491\u001b[39m     \u001b[38;5;66;03m# if the task raised an exception, raise it\u001b[39;00m\n\u001b[32m    492\u001b[39m     \u001b[38;5;28;01mif\u001b[39;00m raise_on_failure:\n\u001b[32m--> \u001b[39m\u001b[32m493\u001b[39m         \u001b[38;5;28;01mraise\u001b[39;00m \u001b[38;5;28mself\u001b[39m._raised\n\u001b[32m    495\u001b[39m     \u001b[38;5;66;03m# otherwise, return the exception\u001b[39;00m\n\u001b[32m    496\u001b[39m     \u001b[38;5;28;01mreturn\u001b[39;00m \u001b[38;5;28mself\u001b[39m._raised\n",
      "\u001b[36mFile \u001b[39m\u001b[32mc:\\Users\\aleja\\miniconda3\\envs\\ml1\\Lib\\site-packages\\prefect\\task_engine.py:870\u001b[39m, in \u001b[36mSyncTaskRunEngine.run_context\u001b[39m\u001b[34m(self)\u001b[39m\n\u001b[32m    867\u001b[39m         \u001b[38;5;28;01mif\u001b[39;00m \u001b[38;5;28mself\u001b[39m.is_cancelled():\n\u001b[32m    868\u001b[39m             \u001b[38;5;28;01mraise\u001b[39;00m CancelledError(\u001b[33m\"\u001b[39m\u001b[33mTask run cancelled by the task runner\u001b[39m\u001b[33m\"\u001b[39m)\n\u001b[32m--> \u001b[39m\u001b[32m870\u001b[39m         \u001b[38;5;28;01myield\u001b[39;00m \u001b[38;5;28mself\u001b[39m\n\u001b[32m    871\u001b[39m \u001b[38;5;28;01mexcept\u001b[39;00m \u001b[38;5;167;01mTimeoutError\u001b[39;00m \u001b[38;5;28;01mas\u001b[39;00m exc:\n\u001b[32m    872\u001b[39m     \u001b[38;5;28mself\u001b[39m.handle_timeout(exc)\n",
      "\u001b[36mFile \u001b[39m\u001b[32mc:\\Users\\aleja\\miniconda3\\envs\\ml1\\Lib\\site-packages\\prefect\\task_engine.py:1510\u001b[39m, in \u001b[36mrun_task_sync\u001b[39m\u001b[34m(task, task_run_id, task_run, parameters, wait_for, return_type, dependencies, context)\u001b[39m\n\u001b[32m   1504\u001b[39m         run_coro_as_sync(engine.wait_until_ready())\n\u001b[32m   1505\u001b[39m         \u001b[38;5;28;01mwith\u001b[39;00m (\n\u001b[32m   1506\u001b[39m             engine.asset_context(),\n\u001b[32m   1507\u001b[39m             engine.run_context(),\n\u001b[32m   1508\u001b[39m             engine.transaction_context() \u001b[38;5;28;01mas\u001b[39;00m txn,\n\u001b[32m   1509\u001b[39m         ):\n\u001b[32m-> \u001b[39m\u001b[32m1510\u001b[39m             \u001b[43mengine\u001b[49m\u001b[43m.\u001b[49m\u001b[43mcall_task_fn\u001b[49m\u001b[43m(\u001b[49m\u001b[43mtxn\u001b[49m\u001b[43m)\u001b[49m\n\u001b[32m   1512\u001b[39m \u001b[38;5;28;01mreturn\u001b[39;00m engine.state \u001b[38;5;28;01mif\u001b[39;00m return_type == \u001b[33m\"\u001b[39m\u001b[33mstate\u001b[39m\u001b[33m\"\u001b[39m \u001b[38;5;28;01melse\u001b[39;00m engine.result()\n",
      "\u001b[36mFile \u001b[39m\u001b[32mc:\\Users\\aleja\\miniconda3\\envs\\ml1\\Lib\\site-packages\\prefect\\task_engine.py:887\u001b[39m, in \u001b[36mSyncTaskRunEngine.call_task_fn\u001b[39m\u001b[34m(self, transaction)\u001b[39m\n\u001b[32m    885\u001b[39m     result = transaction.read()\n\u001b[32m    886\u001b[39m \u001b[38;5;28;01melse\u001b[39;00m:\n\u001b[32m--> \u001b[39m\u001b[32m887\u001b[39m     result = \u001b[43mcall_with_parameters\u001b[49m\u001b[43m(\u001b[49m\u001b[38;5;28;43mself\u001b[39;49m\u001b[43m.\u001b[49m\u001b[43mtask\u001b[49m\u001b[43m.\u001b[49m\u001b[43mfn\u001b[49m\u001b[43m,\u001b[49m\u001b[43m \u001b[49m\u001b[43mparameters\u001b[49m\u001b[43m)\u001b[49m\n\u001b[32m    888\u001b[39m \u001b[38;5;28mself\u001b[39m.handle_success(result, transaction=transaction)\n\u001b[32m    889\u001b[39m \u001b[38;5;28;01mreturn\u001b[39;00m result\n",
      "\u001b[36mFile \u001b[39m\u001b[32mc:\\Users\\aleja\\miniconda3\\envs\\ml1\\Lib\\site-packages\\prefect\\utilities\\callables.py:210\u001b[39m, in \u001b[36mcall_with_parameters\u001b[39m\u001b[34m(fn, parameters)\u001b[39m\n\u001b[32m    202\u001b[39m \u001b[38;5;250m\u001b[39m\u001b[33;03m\"\"\"\u001b[39;00m\n\u001b[32m    203\u001b[39m \u001b[33;03mCall a function with parameters extracted with `get_call_parameters`\u001b[39;00m\n\u001b[32m    204\u001b[39m \n\u001b[32m   (...)\u001b[39m\u001b[32m    207\u001b[39m \u001b[33;03mthe args/kwargs using `parameters_to_positional_and_keyword` directly\u001b[39;00m\n\u001b[32m    208\u001b[39m \u001b[33;03m\"\"\"\u001b[39;00m\n\u001b[32m    209\u001b[39m args, kwargs = parameters_to_args_kwargs(fn, parameters)\n\u001b[32m--> \u001b[39m\u001b[32m210\u001b[39m \u001b[38;5;28;01mreturn\u001b[39;00m \u001b[43mfn\u001b[49m\u001b[43m(\u001b[49m\u001b[43m*\u001b[49m\u001b[43margs\u001b[49m\u001b[43m,\u001b[49m\u001b[43m \u001b[49m\u001b[43m*\u001b[49m\u001b[43m*\u001b[49m\u001b[43mkwargs\u001b[49m\u001b[43m)\u001b[49m\n",
      "\u001b[36mCell\u001b[39m\u001b[36m \u001b[39m\u001b[32mIn[2]\u001b[39m\u001b[32m, line 9\u001b[39m, in \u001b[36mtiming_decorator.<locals>.wrapper\u001b[39m\u001b[34m(*args, **kwargs)\u001b[39m\n\u001b[32m      6\u001b[39m start_time = time.time()\n\u001b[32m      8\u001b[39m \u001b[38;5;66;03m# Execute the original function\u001b[39;00m\n\u001b[32m----> \u001b[39m\u001b[32m9\u001b[39m result = \u001b[43mfunc\u001b[49m\u001b[43m(\u001b[49m\u001b[43m*\u001b[49m\u001b[43margs\u001b[49m\u001b[43m,\u001b[49m\u001b[43m \u001b[49m\u001b[43m*\u001b[49m\u001b[43m*\u001b[49m\u001b[43mkwargs\u001b[49m\u001b[43m)\u001b[49m\n\u001b[32m     11\u001b[39m end_time = time.time()\n\u001b[32m     12\u001b[39m execution_time = end_time - start_time\n",
      "\u001b[36mCell\u001b[39m\u001b[36m \u001b[39m\u001b[32mIn[9]\u001b[39m\u001b[32m, line 26\u001b[39m, in \u001b[36mdecision_tree\u001b[39m\u001b[34m(X_train, X_test, y_train, y_test)\u001b[39m\n\u001b[32m     23\u001b[39m \u001b[38;5;66;03m# Escribe en pantalla la métrica \"accuracy\" para prueba (datos no usados en el entrenamiento)\u001b[39;00m\n\u001b[32m     24\u001b[39m \u001b[38;5;28mprint\u001b[39m(\u001b[33m\"\u001b[39m\u001b[33mExactitud (accuracy) en prueba (testing) del decision tree:\u001b[39m\u001b[33m\"\u001b[39m,metrics.accuracy_score(y_test, y_pred))\n\u001b[32m---> \u001b[39m\u001b[32m26\u001b[39m fpr,tpr,_r=\u001b[43mmetrics\u001b[49m\u001b[43m.\u001b[49m\u001b[43mroc_curve\u001b[49m\u001b[43m(\u001b[49m\u001b[43my_test\u001b[49m\u001b[43m,\u001b[49m\u001b[43my_pred\u001b[49m\u001b[43m)\u001b[49m\n\u001b[32m     27\u001b[39m roc_auc = metrics.auc(fpr, tpr)\n\u001b[32m     28\u001b[39m \u001b[38;5;28mprint\u001b[39m(roc_auc)\n",
      "\u001b[36mFile \u001b[39m\u001b[32mc:\\Users\\aleja\\miniconda3\\envs\\ml1\\Lib\\site-packages\\sklearn\\utils\\_param_validation.py:218\u001b[39m, in \u001b[36mvalidate_params.<locals>.decorator.<locals>.wrapper\u001b[39m\u001b[34m(*args, **kwargs)\u001b[39m\n\u001b[32m    212\u001b[39m \u001b[38;5;28;01mtry\u001b[39;00m:\n\u001b[32m    213\u001b[39m     \u001b[38;5;28;01mwith\u001b[39;00m config_context(\n\u001b[32m    214\u001b[39m         skip_parameter_validation=(\n\u001b[32m    215\u001b[39m             prefer_skip_nested_validation \u001b[38;5;129;01mor\u001b[39;00m global_skip_validation\n\u001b[32m    216\u001b[39m         )\n\u001b[32m    217\u001b[39m     ):\n\u001b[32m--> \u001b[39m\u001b[32m218\u001b[39m         \u001b[38;5;28;01mreturn\u001b[39;00m \u001b[43mfunc\u001b[49m\u001b[43m(\u001b[49m\u001b[43m*\u001b[49m\u001b[43margs\u001b[49m\u001b[43m,\u001b[49m\u001b[43m \u001b[49m\u001b[43m*\u001b[49m\u001b[43m*\u001b[49m\u001b[43mkwargs\u001b[49m\u001b[43m)\u001b[49m\n\u001b[32m    219\u001b[39m \u001b[38;5;28;01mexcept\u001b[39;00m InvalidParameterError \u001b[38;5;28;01mas\u001b[39;00m e:\n\u001b[32m    220\u001b[39m     \u001b[38;5;66;03m# When the function is just a wrapper around an estimator, we allow\u001b[39;00m\n\u001b[32m    221\u001b[39m     \u001b[38;5;66;03m# the function to delegate validation to the estimator, but we replace\u001b[39;00m\n\u001b[32m    222\u001b[39m     \u001b[38;5;66;03m# the name of the estimator by the name of the function in the error\u001b[39;00m\n\u001b[32m    223\u001b[39m     \u001b[38;5;66;03m# message to avoid confusion.\u001b[39;00m\n\u001b[32m    224\u001b[39m     msg = re.sub(\n\u001b[32m    225\u001b[39m         \u001b[33mr\u001b[39m\u001b[33m\"\u001b[39m\u001b[33mparameter of \u001b[39m\u001b[33m\\\u001b[39m\u001b[33mw+ must be\u001b[39m\u001b[33m\"\u001b[39m,\n\u001b[32m    226\u001b[39m         \u001b[33mf\u001b[39m\u001b[33m\"\u001b[39m\u001b[33mparameter of \u001b[39m\u001b[38;5;132;01m{\u001b[39;00mfunc.\u001b[34m__qualname__\u001b[39m\u001b[38;5;132;01m}\u001b[39;00m\u001b[33m must be\u001b[39m\u001b[33m\"\u001b[39m,\n\u001b[32m    227\u001b[39m         \u001b[38;5;28mstr\u001b[39m(e),\n\u001b[32m    228\u001b[39m     )\n",
      "\u001b[36mFile \u001b[39m\u001b[32mc:\\Users\\aleja\\miniconda3\\envs\\ml1\\Lib\\site-packages\\sklearn\\metrics\\_ranking.py:1163\u001b[39m, in \u001b[36mroc_curve\u001b[39m\u001b[34m(y_true, y_score, pos_label, sample_weight, drop_intermediate)\u001b[39m\n\u001b[32m   1059\u001b[39m \u001b[38;5;129m@validate_params\u001b[39m(\n\u001b[32m   1060\u001b[39m     {\n\u001b[32m   1061\u001b[39m         \u001b[33m\"\u001b[39m\u001b[33my_true\u001b[39m\u001b[33m\"\u001b[39m: [\u001b[33m\"\u001b[39m\u001b[33marray-like\u001b[39m\u001b[33m\"\u001b[39m],\n\u001b[32m   (...)\u001b[39m\u001b[32m   1070\u001b[39m     y_true, y_score, *, pos_label=\u001b[38;5;28;01mNone\u001b[39;00m, sample_weight=\u001b[38;5;28;01mNone\u001b[39;00m, drop_intermediate=\u001b[38;5;28;01mTrue\u001b[39;00m\n\u001b[32m   1071\u001b[39m ):\n\u001b[32m   1072\u001b[39m \u001b[38;5;250m    \u001b[39m\u001b[33;03m\"\"\"Compute Receiver operating characteristic (ROC).\u001b[39;00m\n\u001b[32m   1073\u001b[39m \n\u001b[32m   1074\u001b[39m \u001b[33;03m    Note: this implementation is restricted to the binary classification task.\u001b[39;00m\n\u001b[32m   (...)\u001b[39m\u001b[32m   1161\u001b[39m \u001b[33;03m    array([ inf, 0.8 , 0.4 , 0.35, 0.1 ])\u001b[39;00m\n\u001b[32m   1162\u001b[39m \u001b[33;03m    \"\"\"\u001b[39;00m\n\u001b[32m-> \u001b[39m\u001b[32m1163\u001b[39m     fps, tps, thresholds = \u001b[43m_binary_clf_curve\u001b[49m\u001b[43m(\u001b[49m\n\u001b[32m   1164\u001b[39m \u001b[43m        \u001b[49m\u001b[43my_true\u001b[49m\u001b[43m,\u001b[49m\u001b[43m \u001b[49m\u001b[43my_score\u001b[49m\u001b[43m,\u001b[49m\u001b[43m \u001b[49m\u001b[43mpos_label\u001b[49m\u001b[43m=\u001b[49m\u001b[43mpos_label\u001b[49m\u001b[43m,\u001b[49m\u001b[43m \u001b[49m\u001b[43msample_weight\u001b[49m\u001b[43m=\u001b[49m\u001b[43msample_weight\u001b[49m\n\u001b[32m   1165\u001b[39m \u001b[43m    \u001b[49m\u001b[43m)\u001b[49m\n\u001b[32m   1167\u001b[39m     \u001b[38;5;66;03m# Attempt to drop thresholds corresponding to points in between and\u001b[39;00m\n\u001b[32m   1168\u001b[39m     \u001b[38;5;66;03m# collinear with other points. These are always suboptimal and do not\u001b[39;00m\n\u001b[32m   1169\u001b[39m     \u001b[38;5;66;03m# appear on a plotted ROC curve (and thus do not affect the AUC).\u001b[39;00m\n\u001b[32m   (...)\u001b[39m\u001b[32m   1174\u001b[39m     \u001b[38;5;66;03m# but does not drop more complicated cases like fps = [1, 3, 7],\u001b[39;00m\n\u001b[32m   1175\u001b[39m     \u001b[38;5;66;03m# tps = [1, 2, 4]; there is no harm in keeping too many thresholds.\u001b[39;00m\n\u001b[32m   1176\u001b[39m     \u001b[38;5;28;01mif\u001b[39;00m drop_intermediate \u001b[38;5;129;01mand\u001b[39;00m \u001b[38;5;28mlen\u001b[39m(fps) > \u001b[32m2\u001b[39m:\n",
      "\u001b[36mFile \u001b[39m\u001b[32mc:\\Users\\aleja\\miniconda3\\envs\\ml1\\Lib\\site-packages\\sklearn\\metrics\\_ranking.py:863\u001b[39m, in \u001b[36m_binary_clf_curve\u001b[39m\u001b[34m(y_true, y_score, pos_label, sample_weight)\u001b[39m\n\u001b[32m    861\u001b[39m y_type = type_of_target(y_true, input_name=\u001b[33m\"\u001b[39m\u001b[33my_true\u001b[39m\u001b[33m\"\u001b[39m)\n\u001b[32m    862\u001b[39m \u001b[38;5;28;01mif\u001b[39;00m \u001b[38;5;129;01mnot\u001b[39;00m (y_type == \u001b[33m\"\u001b[39m\u001b[33mbinary\u001b[39m\u001b[33m\"\u001b[39m \u001b[38;5;129;01mor\u001b[39;00m (y_type == \u001b[33m\"\u001b[39m\u001b[33mmulticlass\u001b[39m\u001b[33m\"\u001b[39m \u001b[38;5;129;01mand\u001b[39;00m pos_label \u001b[38;5;129;01mis\u001b[39;00m \u001b[38;5;129;01mnot\u001b[39;00m \u001b[38;5;28;01mNone\u001b[39;00m)):\n\u001b[32m--> \u001b[39m\u001b[32m863\u001b[39m     \u001b[38;5;28;01mraise\u001b[39;00m \u001b[38;5;167;01mValueError\u001b[39;00m(\u001b[33m\"\u001b[39m\u001b[38;5;132;01m{0}\u001b[39;00m\u001b[33m format is not supported\u001b[39m\u001b[33m\"\u001b[39m.format(y_type))\n\u001b[32m    865\u001b[39m check_consistent_length(y_true, y_score, sample_weight)\n\u001b[32m    866\u001b[39m y_true = column_or_1d(y_true)\n",
      "\u001b[31mValueError\u001b[39m: multiclass format is not supported"
     ]
    }
   ],
   "source": [
    "@flow\n",
    "def iris_flow():\n",
    "    df = iris_dataset_retribution()\n",
    "    X_train, X_test, y_train, y_test = iris_preprocessing(df)\n",
    "    \n",
    "    class_names = ['Iris-setosa', 'Iris-versicolor', 'Iris-virginica']\n",
    "    \n",
    "    dtree = decision_tree(X_train, X_test, y_train, y_test)\n",
    "    confusion_matrix(class_names, dtree, X_test, y_test)\n",
    "\n",
    "    rf =random_forest(X_train, X_test, y_train, y_test)\n",
    "    confusion_matrix(class_names, rf, X_test, y_test)\n",
    "\n",
    "    knn = knn(X_train, X_test, y_train, y_test)\n",
    "    confusion_matrix(class_names, knn, X_test, y_test)\n",
    "    knn_scaled = knn_scaler(X_train, X_test, y_train, y_test)\n",
    "    confusion_matrix(class_names, knn_scaled, X_test, y_test)\n",
    "\n",
    "    svm_class = svm(X_train, X_test, y_train, y_test)\n",
    "    confusion_matrix(class_names, svm_class, X_test, y_test)\n",
    "    svm_class_scaled = svm_scaler(X_train, X_test, y_train, y_test)\n",
    "    confusion_matrix(class_names, svm_class_scaled, X_test, y_test)\n",
    "iris_flow()"
   ]
  },
  {
   "cell_type": "code",
   "execution_count": 17,
   "id": "a31ba221",
   "metadata": {},
   "outputs": [
    {
     "data": {
      "text/html": [
       "<pre style=\"white-space:pre;overflow-x:auto;line-height:normal;font-family:Menlo,'DejaVu Sans Mono',consolas,'Courier New',monospace\">12:23:01.461 | <span style=\"color: #008080; text-decoration-color: #008080\">INFO</span>    | Flow run<span style=\"color: #800080; text-decoration-color: #800080\"> 'auspicious-jackal'</span> - Beginning flow run<span style=\"color: #800080; text-decoration-color: #800080\"> 'auspicious-jackal'</span> for flow<span style=\"color: #800080; text-decoration-color: #800080; font-weight: bold\"> 'cancer-flow'</span>\n",
       "</pre>\n"
      ],
      "text/plain": [
       "12:23:01.461 | \u001b[36mINFO\u001b[0m    | Flow run\u001b[35m 'auspicious-jackal'\u001b[0m - Beginning flow run\u001b[35m 'auspicious-jackal'\u001b[0m for flow\u001b[1;35m 'cancer-flow'\u001b[0m\n"
      ]
     },
     "metadata": {},
     "output_type": "display_data"
    },
    {
     "name": "stdout",
     "output_type": "stream",
     "text": [
      "Características (X_i):  ['mean radius' 'mean texture' 'mean perimeter' 'mean area'\n",
      " 'mean smoothness' 'mean compactness' 'mean concavity'\n",
      " 'mean concave points' 'mean symmetry' 'mean fractal dimension'\n",
      " 'radius error' 'texture error' 'perimeter error' 'area error'\n",
      " 'smoothness error' 'compactness error' 'concavity error'\n",
      " 'concave points error' 'symmetry error' 'fractal dimension error'\n",
      " 'worst radius' 'worst texture' 'worst perimeter' 'worst area'\n",
      " 'worst smoothness' 'worst compactness' 'worst concavity'\n",
      " 'worst concave points' 'worst symmetry' 'worst fractal dimension']\n"
     ]
    },
    {
     "data": {
      "text/html": [
       "<pre style=\"white-space:pre;overflow-x:auto;line-height:normal;font-family:Menlo,'DejaVu Sans Mono',consolas,'Courier New',monospace\">12:23:01.549 | <span style=\"color: #008080; text-decoration-color: #008080\">INFO</span>    | Task run 'cancer_dataset_retribution-ebd' - Task 'cancer_dataset_retribution' completed in 0.04 seconds\n",
       "</pre>\n"
      ],
      "text/plain": [
       "12:23:01.549 | \u001b[36mINFO\u001b[0m    | Task run 'cancer_dataset_retribution-ebd' - Task 'cancer_dataset_retribution' completed in 0.04 seconds\n"
      ]
     },
     "metadata": {},
     "output_type": "display_data"
    },
    {
     "data": {
      "text/html": [
       "<pre style=\"white-space:pre;overflow-x:auto;line-height:normal;font-family:Menlo,'DejaVu Sans Mono',consolas,'Courier New',monospace\">12:23:01.561 | <span style=\"color: #008080; text-decoration-color: #008080\">INFO</span>    | Task run 'cancer_dataset_retribution-ebd' - Finished in state <span style=\"color: #008000; text-decoration-color: #008000\">Completed</span>()\n",
       "</pre>\n"
      ],
      "text/plain": [
       "12:23:01.561 | \u001b[36mINFO\u001b[0m    | Task run 'cancer_dataset_retribution-ebd' - Finished in state \u001b[32mCompleted\u001b[0m()\n"
      ]
     },
     "metadata": {},
     "output_type": "display_data"
    },
    {
     "name": "stdout",
     "output_type": "stream",
     "text": [
      "Tamaño de X_train: (398, 30)\n",
      "Tamaño de y_train: (398,)\n",
      "Tamaño de X_test: (171, 30)\n",
      "Tamaño de y_test: (171,)\n"
     ]
    },
    {
     "data": {
      "text/html": [
       "<pre style=\"white-space:pre;overflow-x:auto;line-height:normal;font-family:Menlo,'DejaVu Sans Mono',consolas,'Courier New',monospace\">12:23:01.622 | <span style=\"color: #008080; text-decoration-color: #008080\">INFO</span>    | Task run 'cancer_preprocessing-8d2' - Task 'cancer_preprocessing' completed in 0.00 seconds\n",
       "</pre>\n"
      ],
      "text/plain": [
       "12:23:01.622 | \u001b[36mINFO\u001b[0m    | Task run 'cancer_preprocessing-8d2' - Task 'cancer_preprocessing' completed in 0.00 seconds\n"
      ]
     },
     "metadata": {},
     "output_type": "display_data"
    },
    {
     "data": {
      "text/html": [
       "<pre style=\"white-space:pre;overflow-x:auto;line-height:normal;font-family:Menlo,'DejaVu Sans Mono',consolas,'Courier New',monospace\">12:23:01.635 | <span style=\"color: #008080; text-decoration-color: #008080\">INFO</span>    | Task run 'cancer_preprocessing-8d2' - Finished in state <span style=\"color: #008000; text-decoration-color: #008000\">Completed</span>()\n",
       "</pre>\n"
      ],
      "text/plain": [
       "12:23:01.635 | \u001b[36mINFO\u001b[0m    | Task run 'cancer_preprocessing-8d2' - Finished in state \u001b[32mCompleted\u001b[0m()\n"
      ]
     },
     "metadata": {},
     "output_type": "display_data"
    },
    {
     "data": {
      "text/html": [
       "<pre style=\"white-space:pre;overflow-x:auto;line-height:normal;font-family:Menlo,'DejaVu Sans Mono',consolas,'Courier New',monospace\">12:23:01.705 | <span style=\"color: #d70000; text-decoration-color: #d70000\">ERROR</span>   | Task run 'decision_tree-b0c' - Task run failed with exception: AttributeError(\"'numpy.ndarray' object has no attribute 'index'\")\n",
       "Traceback (most recent call last):\n",
       "  File \"c:\\Users\\aleja\\miniconda3\\envs\\ml1\\Lib\\site-packages\\prefect\\task_engine.py\", line 870, in run_context\n",
       "    yield self\n",
       "  File \"c:\\Users\\aleja\\miniconda3\\envs\\ml1\\Lib\\site-packages\\prefect\\task_engine.py\", line 1510, in run_task_sync\n",
       "    engine.call_task_fn(txn)\n",
       "  File \"c:\\Users\\aleja\\miniconda3\\envs\\ml1\\Lib\\site-packages\\prefect\\task_engine.py\", line 887, in call_task_fn\n",
       "    result = call_with_parameters(self.task.fn, parameters)\n",
       "             ^^^^^^^^^^^^^^^^^^^^^^^^^^^^^^^^^^^^^^^^^^^^^^\n",
       "  File \"c:\\Users\\aleja\\miniconda3\\envs\\ml1\\Lib\\site-packages\\prefect\\utilities\\callables.py\", line 210, in call_with_parameters\n",
       "    return fn(*args, **kwargs)\n",
       "           ^^^^^^^^^^^^^^^^^^^\n",
       "  File \"C:\\Users\\aleja\\AppData\\Local\\Temp\\ipykernel_41676\\3613525291.py\", line 9, in wrapper\n",
       "    result = func(*args, **kwargs)\n",
       "             ^^^^^^^^^^^^^^^^^^^^^\n",
       "  File \"C:\\Users\\aleja\\AppData\\Local\\Temp\\ipykernel_41676\\1765878611.py\", line 12, in decision_tree\n",
       "    pd.concat([X_test, y_test, pd.Series(y_pred, name='Predicción', index=X_test.index)],\n",
       "                                                                         ^^^^^^^^^^^^\n",
       "AttributeError: 'numpy.ndarray' object has no attribute 'index'\n",
       "</pre>\n"
      ],
      "text/plain": [
       "12:23:01.705 | \u001b[38;5;160mERROR\u001b[0m   | Task run 'decision_tree-b0c' - Task run failed with exception: AttributeError(\"'numpy.ndarray' object has no attribute 'index'\")\n",
       "Traceback (most recent call last):\n",
       "  File \"c:\\Users\\aleja\\miniconda3\\envs\\ml1\\Lib\\site-packages\\prefect\\task_engine.py\", line 870, in run_context\n",
       "    yield self\n",
       "  File \"c:\\Users\\aleja\\miniconda3\\envs\\ml1\\Lib\\site-packages\\prefect\\task_engine.py\", line 1510, in run_task_sync\n",
       "    engine.call_task_fn(txn)\n",
       "  File \"c:\\Users\\aleja\\miniconda3\\envs\\ml1\\Lib\\site-packages\\prefect\\task_engine.py\", line 887, in call_task_fn\n",
       "    result = call_with_parameters(self.task.fn, parameters)\n",
       "             ^^^^^^^^^^^^^^^^^^^^^^^^^^^^^^^^^^^^^^^^^^^^^^\n",
       "  File \"c:\\Users\\aleja\\miniconda3\\envs\\ml1\\Lib\\site-packages\\prefect\\utilities\\callables.py\", line 210, in call_with_parameters\n",
       "    return fn(*args, **kwargs)\n",
       "           ^^^^^^^^^^^^^^^^^^^\n",
       "  File \"C:\\Users\\aleja\\AppData\\Local\\Temp\\ipykernel_41676\\3613525291.py\", line 9, in wrapper\n",
       "    result = func(*args, **kwargs)\n",
       "             ^^^^^^^^^^^^^^^^^^^^^\n",
       "  File \"C:\\Users\\aleja\\AppData\\Local\\Temp\\ipykernel_41676\\1765878611.py\", line 12, in decision_tree\n",
       "    pd.concat([X_test, y_test, pd.Series(y_pred, name='Predicción', index=X_test.index)],\n",
       "                                                                         ^^^^^^^^^^^^\n",
       "AttributeError: 'numpy.ndarray' object has no attribute 'index'\n"
      ]
     },
     "metadata": {},
     "output_type": "display_data"
    },
    {
     "data": {
      "text/html": [
       "<pre style=\"white-space:pre;overflow-x:auto;line-height:normal;font-family:Menlo,'DejaVu Sans Mono',consolas,'Courier New',monospace\">12:23:01.728 | <span style=\"color: #d70000; text-decoration-color: #d70000\">ERROR</span>   | Task run 'decision_tree-b0c' - Finished in state <span style=\"color: #d70000; text-decoration-color: #d70000\">Failed</span>(\"Task run encountered an exception AttributeError: 'numpy.ndarray' object has no attribute 'index'\")\n",
       "</pre>\n"
      ],
      "text/plain": [
       "12:23:01.728 | \u001b[38;5;160mERROR\u001b[0m   | Task run 'decision_tree-b0c' - Finished in state \u001b[38;5;160mFailed\u001b[0m(\"Task run encountered an exception AttributeError: 'numpy.ndarray' object has no attribute 'index'\")\n"
      ]
     },
     "metadata": {},
     "output_type": "display_data"
    },
    {
     "data": {
      "text/html": [
       "<pre style=\"white-space:pre;overflow-x:auto;line-height:normal;font-family:Menlo,'DejaVu Sans Mono',consolas,'Courier New',monospace\">12:23:01.735 | <span style=\"color: #d70000; text-decoration-color: #d70000\">ERROR</span>   | Flow run<span style=\"color: #800080; text-decoration-color: #800080\"> 'auspicious-jackal'</span> - Encountered exception during execution: AttributeError(\"'numpy.ndarray' object has no attribute 'index'\")\n",
       "Traceback (most recent call last):\n",
       "  File \"c:\\Users\\aleja\\miniconda3\\envs\\ml1\\Lib\\site-packages\\prefect\\flow_engine.py\", line 781, in run_context\n",
       "    yield self\n",
       "  File \"c:\\Users\\aleja\\miniconda3\\envs\\ml1\\Lib\\site-packages\\prefect\\flow_engine.py\", line 1395, in run_flow_sync\n",
       "    engine.call_flow_fn()\n",
       "  File \"c:\\Users\\aleja\\miniconda3\\envs\\ml1\\Lib\\site-packages\\prefect\\flow_engine.py\", line 801, in call_flow_fn\n",
       "    result = call_with_parameters(self.flow.fn, self.parameters)\n",
       "             ^^^^^^^^^^^^^^^^^^^^^^^^^^^^^^^^^^^^^^^^^^^^^^^^^^^\n",
       "  File \"c:\\Users\\aleja\\miniconda3\\envs\\ml1\\Lib\\site-packages\\prefect\\utilities\\callables.py\", line 210, in call_with_parameters\n",
       "    return fn(*args, **kwargs)\n",
       "           ^^^^^^^^^^^^^^^^^^^\n",
       "  File \"C:\\Users\\aleja\\AppData\\Local\\Temp\\ipykernel_41676\\39496208.py\", line 8, in cancer_flow\n",
       "    dtree = decision_tree(X_train, X_test, y_train, y_test)\n",
       "            ^^^^^^^^^^^^^^^^^^^^^^^^^^^^^^^^^^^^^^^^^^^^^^^\n",
       "  File \"c:\\Users\\aleja\\miniconda3\\envs\\ml1\\Lib\\site-packages\\prefect\\tasks.py\", line 1139, in __call__\n",
       "    return run_task(\n",
       "           ^^^^^^^^^\n",
       "  File \"c:\\Users\\aleja\\miniconda3\\envs\\ml1\\Lib\\site-packages\\prefect\\task_engine.py\", line 1737, in run_task\n",
       "    return run_task_sync(**kwargs)\n",
       "           ^^^^^^^^^^^^^^^^^^^^^^^\n",
       "  File \"c:\\Users\\aleja\\miniconda3\\envs\\ml1\\Lib\\site-packages\\prefect\\task_engine.py\", line 1512, in run_task_sync\n",
       "    return engine.state if return_type == \"state\" else engine.result()\n",
       "                                                       ^^^^^^^^^^^^^^^\n",
       "  File \"c:\\Users\\aleja\\miniconda3\\envs\\ml1\\Lib\\site-packages\\prefect\\task_engine.py\", line 493, in result\n",
       "    raise self._raised\n",
       "  File \"c:\\Users\\aleja\\miniconda3\\envs\\ml1\\Lib\\site-packages\\prefect\\task_engine.py\", line 870, in run_context\n",
       "    yield self\n",
       "  File \"c:\\Users\\aleja\\miniconda3\\envs\\ml1\\Lib\\site-packages\\prefect\\task_engine.py\", line 1510, in run_task_sync\n",
       "    engine.call_task_fn(txn)\n",
       "  File \"c:\\Users\\aleja\\miniconda3\\envs\\ml1\\Lib\\site-packages\\prefect\\task_engine.py\", line 887, in call_task_fn\n",
       "    result = call_with_parameters(self.task.fn, parameters)\n",
       "             ^^^^^^^^^^^^^^^^^^^^^^^^^^^^^^^^^^^^^^^^^^^^^^\n",
       "  File \"c:\\Users\\aleja\\miniconda3\\envs\\ml1\\Lib\\site-packages\\prefect\\utilities\\callables.py\", line 210, in call_with_parameters\n",
       "    return fn(*args, **kwargs)\n",
       "           ^^^^^^^^^^^^^^^^^^^\n",
       "  File \"C:\\Users\\aleja\\AppData\\Local\\Temp\\ipykernel_41676\\3613525291.py\", line 9, in wrapper\n",
       "    result = func(*args, **kwargs)\n",
       "             ^^^^^^^^^^^^^^^^^^^^^\n",
       "  File \"C:\\Users\\aleja\\AppData\\Local\\Temp\\ipykernel_41676\\1765878611.py\", line 12, in decision_tree\n",
       "    pd.concat([X_test, y_test, pd.Series(y_pred, name='Predicción', index=X_test.index)],\n",
       "                                                                         ^^^^^^^^^^^^\n",
       "AttributeError: 'numpy.ndarray' object has no attribute 'index'\n",
       "</pre>\n"
      ],
      "text/plain": [
       "12:23:01.735 | \u001b[38;5;160mERROR\u001b[0m   | Flow run\u001b[35m 'auspicious-jackal'\u001b[0m - Encountered exception during execution: AttributeError(\"'numpy.ndarray' object has no attribute 'index'\")\n",
       "Traceback (most recent call last):\n",
       "  File \"c:\\Users\\aleja\\miniconda3\\envs\\ml1\\Lib\\site-packages\\prefect\\flow_engine.py\", line 781, in run_context\n",
       "    yield self\n",
       "  File \"c:\\Users\\aleja\\miniconda3\\envs\\ml1\\Lib\\site-packages\\prefect\\flow_engine.py\", line 1395, in run_flow_sync\n",
       "    engine.call_flow_fn()\n",
       "  File \"c:\\Users\\aleja\\miniconda3\\envs\\ml1\\Lib\\site-packages\\prefect\\flow_engine.py\", line 801, in call_flow_fn\n",
       "    result = call_with_parameters(self.flow.fn, self.parameters)\n",
       "             ^^^^^^^^^^^^^^^^^^^^^^^^^^^^^^^^^^^^^^^^^^^^^^^^^^^\n",
       "  File \"c:\\Users\\aleja\\miniconda3\\envs\\ml1\\Lib\\site-packages\\prefect\\utilities\\callables.py\", line 210, in call_with_parameters\n",
       "    return fn(*args, **kwargs)\n",
       "           ^^^^^^^^^^^^^^^^^^^\n",
       "  File \"C:\\Users\\aleja\\AppData\\Local\\Temp\\ipykernel_41676\\39496208.py\", line 8, in cancer_flow\n",
       "    dtree = decision_tree(X_train, X_test, y_train, y_test)\n",
       "            ^^^^^^^^^^^^^^^^^^^^^^^^^^^^^^^^^^^^^^^^^^^^^^^\n",
       "  File \"c:\\Users\\aleja\\miniconda3\\envs\\ml1\\Lib\\site-packages\\prefect\\tasks.py\", line 1139, in __call__\n",
       "    return run_task(\n",
       "           ^^^^^^^^^\n",
       "  File \"c:\\Users\\aleja\\miniconda3\\envs\\ml1\\Lib\\site-packages\\prefect\\task_engine.py\", line 1737, in run_task\n",
       "    return run_task_sync(**kwargs)\n",
       "           ^^^^^^^^^^^^^^^^^^^^^^^\n",
       "  File \"c:\\Users\\aleja\\miniconda3\\envs\\ml1\\Lib\\site-packages\\prefect\\task_engine.py\", line 1512, in run_task_sync\n",
       "    return engine.state if return_type == \"state\" else engine.result()\n",
       "                                                       ^^^^^^^^^^^^^^^\n",
       "  File \"c:\\Users\\aleja\\miniconda3\\envs\\ml1\\Lib\\site-packages\\prefect\\task_engine.py\", line 493, in result\n",
       "    raise self._raised\n",
       "  File \"c:\\Users\\aleja\\miniconda3\\envs\\ml1\\Lib\\site-packages\\prefect\\task_engine.py\", line 870, in run_context\n",
       "    yield self\n",
       "  File \"c:\\Users\\aleja\\miniconda3\\envs\\ml1\\Lib\\site-packages\\prefect\\task_engine.py\", line 1510, in run_task_sync\n",
       "    engine.call_task_fn(txn)\n",
       "  File \"c:\\Users\\aleja\\miniconda3\\envs\\ml1\\Lib\\site-packages\\prefect\\task_engine.py\", line 887, in call_task_fn\n",
       "    result = call_with_parameters(self.task.fn, parameters)\n",
       "             ^^^^^^^^^^^^^^^^^^^^^^^^^^^^^^^^^^^^^^^^^^^^^^\n",
       "  File \"c:\\Users\\aleja\\miniconda3\\envs\\ml1\\Lib\\site-packages\\prefect\\utilities\\callables.py\", line 210, in call_with_parameters\n",
       "    return fn(*args, **kwargs)\n",
       "           ^^^^^^^^^^^^^^^^^^^\n",
       "  File \"C:\\Users\\aleja\\AppData\\Local\\Temp\\ipykernel_41676\\3613525291.py\", line 9, in wrapper\n",
       "    result = func(*args, **kwargs)\n",
       "             ^^^^^^^^^^^^^^^^^^^^^\n",
       "  File \"C:\\Users\\aleja\\AppData\\Local\\Temp\\ipykernel_41676\\1765878611.py\", line 12, in decision_tree\n",
       "    pd.concat([X_test, y_test, pd.Series(y_pred, name='Predicción', index=X_test.index)],\n",
       "                                                                         ^^^^^^^^^^^^\n",
       "AttributeError: 'numpy.ndarray' object has no attribute 'index'\n"
      ]
     },
     "metadata": {},
     "output_type": "display_data"
    },
    {
     "data": {
      "text/html": [
       "<pre style=\"white-space:pre;overflow-x:auto;line-height:normal;font-family:Menlo,'DejaVu Sans Mono',consolas,'Courier New',monospace\">12:23:01.810 | <span style=\"color: #008080; text-decoration-color: #008080\">INFO</span>    | Flow run<span style=\"color: #800080; text-decoration-color: #800080\"> 'auspicious-jackal'</span> - Finished in state <span style=\"color: #d70000; text-decoration-color: #d70000\">Failed</span>(\"Flow run encountered an exception: AttributeError: 'numpy.ndarray' object has no attribute 'index'\")\n",
       "</pre>\n"
      ],
      "text/plain": [
       "12:23:01.810 | \u001b[36mINFO\u001b[0m    | Flow run\u001b[35m 'auspicious-jackal'\u001b[0m - Finished in state \u001b[38;5;160mFailed\u001b[0m(\"Flow run encountered an exception: AttributeError: 'numpy.ndarray' object has no attribute 'index'\")\n"
      ]
     },
     "metadata": {},
     "output_type": "display_data"
    },
    {
     "ename": "AttributeError",
     "evalue": "'numpy.ndarray' object has no attribute 'index'",
     "output_type": "error",
     "traceback": [
      "\u001b[31m---------------------------------------------------------------------------\u001b[39m",
      "\u001b[31mAttributeError\u001b[39m                            Traceback (most recent call last)",
      "\u001b[36mCell\u001b[39m\u001b[36m \u001b[39m\u001b[32mIn[17]\u001b[39m\u001b[32m, line 23\u001b[39m\n\u001b[32m     21\u001b[39m     svm_class_scaled = svm_scaler(X_train, X_test, y_train, y_test)\n\u001b[32m     22\u001b[39m     confusion_matrix(class_names, svm_class_scaled, X_test, y_test)\n\u001b[32m---> \u001b[39m\u001b[32m23\u001b[39m \u001b[43mcancer_flow\u001b[49m\u001b[43m(\u001b[49m\u001b[43m)\u001b[49m\n",
      "\u001b[36mFile \u001b[39m\u001b[32mc:\\Users\\aleja\\miniconda3\\envs\\ml1\\Lib\\site-packages\\prefect\\flows.py:1702\u001b[39m, in \u001b[36mFlow.__call__\u001b[39m\u001b[34m(self, return_state, wait_for, *args, **kwargs)\u001b[39m\n\u001b[32m   1698\u001b[39m     \u001b[38;5;28;01mreturn\u001b[39;00m track_viz_task(\u001b[38;5;28mself\u001b[39m.isasync, \u001b[38;5;28mself\u001b[39m.name, parameters)\n\u001b[32m   1700\u001b[39m \u001b[38;5;28;01mfrom\u001b[39;00m\u001b[38;5;250m \u001b[39m\u001b[34;01mprefect\u001b[39;00m\u001b[34;01m.\u001b[39;00m\u001b[34;01mflow_engine\u001b[39;00m\u001b[38;5;250m \u001b[39m\u001b[38;5;28;01mimport\u001b[39;00m run_flow\n\u001b[32m-> \u001b[39m\u001b[32m1702\u001b[39m \u001b[38;5;28;01mreturn\u001b[39;00m \u001b[43mrun_flow\u001b[49m\u001b[43m(\u001b[49m\n\u001b[32m   1703\u001b[39m \u001b[43m    \u001b[49m\u001b[43mflow\u001b[49m\u001b[43m=\u001b[49m\u001b[38;5;28;43mself\u001b[39;49m\u001b[43m,\u001b[49m\n\u001b[32m   1704\u001b[39m \u001b[43m    \u001b[49m\u001b[43mparameters\u001b[49m\u001b[43m=\u001b[49m\u001b[43mparameters\u001b[49m\u001b[43m,\u001b[49m\n\u001b[32m   1705\u001b[39m \u001b[43m    \u001b[49m\u001b[43mwait_for\u001b[49m\u001b[43m=\u001b[49m\u001b[43mwait_for\u001b[49m\u001b[43m,\u001b[49m\n\u001b[32m   1706\u001b[39m \u001b[43m    \u001b[49m\u001b[43mreturn_type\u001b[49m\u001b[43m=\u001b[49m\u001b[43mreturn_type\u001b[49m\u001b[43m,\u001b[49m\n\u001b[32m   1707\u001b[39m \u001b[43m\u001b[49m\u001b[43m)\u001b[49m\n",
      "\u001b[36mFile \u001b[39m\u001b[32mc:\\Users\\aleja\\miniconda3\\envs\\ml1\\Lib\\site-packages\\prefect\\flow_engine.py:1552\u001b[39m, in \u001b[36mrun_flow\u001b[39m\u001b[34m(flow, flow_run, parameters, wait_for, return_type, error_logger, context)\u001b[39m\n\u001b[32m   1550\u001b[39m         ret_val = run_flow_async(**kwargs)\n\u001b[32m   1551\u001b[39m     \u001b[38;5;28;01melse\u001b[39;00m:\n\u001b[32m-> \u001b[39m\u001b[32m1552\u001b[39m         ret_val = \u001b[43mrun_flow_sync\u001b[49m\u001b[43m(\u001b[49m\u001b[43m*\u001b[49m\u001b[43m*\u001b[49m\u001b[43mkwargs\u001b[49m\u001b[43m)\u001b[49m\n\u001b[32m   1553\u001b[39m \u001b[38;5;28;01mexcept\u001b[39;00m (Abort, Pause):\n\u001b[32m   1554\u001b[39m     \u001b[38;5;28;01mraise\u001b[39;00m\n",
      "\u001b[36mFile \u001b[39m\u001b[32mc:\\Users\\aleja\\miniconda3\\envs\\ml1\\Lib\\site-packages\\prefect\\flow_engine.py:1397\u001b[39m, in \u001b[36mrun_flow_sync\u001b[39m\u001b[34m(flow, flow_run, parameters, wait_for, return_type, context)\u001b[39m\n\u001b[32m   1394\u001b[39m         \u001b[38;5;28;01mwith\u001b[39;00m engine.run_context():\n\u001b[32m   1395\u001b[39m             engine.call_flow_fn()\n\u001b[32m-> \u001b[39m\u001b[32m1397\u001b[39m \u001b[38;5;28;01mreturn\u001b[39;00m engine.state \u001b[38;5;28;01mif\u001b[39;00m return_type == \u001b[33m\"\u001b[39m\u001b[33mstate\u001b[39m\u001b[33m\"\u001b[39m \u001b[38;5;28;01melse\u001b[39;00m \u001b[43mengine\u001b[49m\u001b[43m.\u001b[49m\u001b[43mresult\u001b[49m\u001b[43m(\u001b[49m\u001b[43m)\u001b[49m\n",
      "\u001b[36mFile \u001b[39m\u001b[32mc:\\Users\\aleja\\miniconda3\\envs\\ml1\\Lib\\site-packages\\prefect\\flow_engine.py:361\u001b[39m, in \u001b[36mFlowRunEngine.result\u001b[39m\u001b[34m(self, raise_on_failure)\u001b[39m\n\u001b[32m    359\u001b[39m \u001b[38;5;28;01mif\u001b[39;00m \u001b[38;5;28mself\u001b[39m._raised \u001b[38;5;129;01mis\u001b[39;00m \u001b[38;5;129;01mnot\u001b[39;00m NotSet:\n\u001b[32m    360\u001b[39m     \u001b[38;5;28;01mif\u001b[39;00m raise_on_failure:\n\u001b[32m--> \u001b[39m\u001b[32m361\u001b[39m         \u001b[38;5;28;01mraise\u001b[39;00m \u001b[38;5;28mself\u001b[39m._raised\n\u001b[32m    362\u001b[39m     \u001b[38;5;28;01mreturn\u001b[39;00m \u001b[38;5;28mself\u001b[39m._raised\n\u001b[32m    364\u001b[39m \u001b[38;5;66;03m# This is a fall through case which leans on the existing state result mechanics to get the\u001b[39;00m\n\u001b[32m    365\u001b[39m \u001b[38;5;66;03m# return value. This is necessary because we currently will return a State object if the\u001b[39;00m\n\u001b[32m    366\u001b[39m \u001b[38;5;66;03m# the State was Prefect-created.\u001b[39;00m\n\u001b[32m    367\u001b[39m \u001b[38;5;66;03m# TODO: Remove the need to get the result from a State except in cases where the return value\u001b[39;00m\n\u001b[32m    368\u001b[39m \u001b[38;5;66;03m# is a State object.\u001b[39;00m\n",
      "\u001b[36mFile \u001b[39m\u001b[32mc:\\Users\\aleja\\miniconda3\\envs\\ml1\\Lib\\site-packages\\prefect\\flow_engine.py:781\u001b[39m, in \u001b[36mFlowRunEngine.run_context\u001b[39m\u001b[34m(self)\u001b[39m\n\u001b[32m    774\u001b[39m     \u001b[38;5;28;01mwith\u001b[39;00m timeout_context(\n\u001b[32m    775\u001b[39m         seconds=\u001b[38;5;28mself\u001b[39m.flow.timeout_seconds,\n\u001b[32m    776\u001b[39m         timeout_exc_type=FlowRunTimeoutError,\n\u001b[32m    777\u001b[39m     ):\n\u001b[32m    778\u001b[39m         \u001b[38;5;28mself\u001b[39m.logger.debug(\n\u001b[32m    779\u001b[39m             \u001b[33mf\u001b[39m\u001b[33m\"\u001b[39m\u001b[33mExecuting flow \u001b[39m\u001b[38;5;132;01m{\u001b[39;00m\u001b[38;5;28mself\u001b[39m.flow.name\u001b[38;5;132;01m!r}\u001b[39;00m\u001b[33m for flow run \u001b[39m\u001b[38;5;132;01m{\u001b[39;00m\u001b[38;5;28mself\u001b[39m.flow_run.name\u001b[38;5;132;01m!r}\u001b[39;00m\u001b[33m...\u001b[39m\u001b[33m\"\u001b[39m\n\u001b[32m    780\u001b[39m         )\n\u001b[32m--> \u001b[39m\u001b[32m781\u001b[39m         \u001b[38;5;28;01myield\u001b[39;00m \u001b[38;5;28mself\u001b[39m\n\u001b[32m    782\u001b[39m \u001b[38;5;28;01mexcept\u001b[39;00m \u001b[38;5;167;01mTimeoutError\u001b[39;00m \u001b[38;5;28;01mas\u001b[39;00m exc:\n\u001b[32m    783\u001b[39m     \u001b[38;5;28mself\u001b[39m.handle_timeout(exc)\n",
      "\u001b[36mFile \u001b[39m\u001b[32mc:\\Users\\aleja\\miniconda3\\envs\\ml1\\Lib\\site-packages\\prefect\\flow_engine.py:1395\u001b[39m, in \u001b[36mrun_flow_sync\u001b[39m\u001b[34m(flow, flow_run, parameters, wait_for, return_type, context)\u001b[39m\n\u001b[32m   1393\u001b[39m     \u001b[38;5;28;01mwhile\u001b[39;00m engine.is_running():\n\u001b[32m   1394\u001b[39m         \u001b[38;5;28;01mwith\u001b[39;00m engine.run_context():\n\u001b[32m-> \u001b[39m\u001b[32m1395\u001b[39m             \u001b[43mengine\u001b[49m\u001b[43m.\u001b[49m\u001b[43mcall_flow_fn\u001b[49m\u001b[43m(\u001b[49m\u001b[43m)\u001b[49m\n\u001b[32m   1397\u001b[39m \u001b[38;5;28;01mreturn\u001b[39;00m engine.state \u001b[38;5;28;01mif\u001b[39;00m return_type == \u001b[33m\"\u001b[39m\u001b[33mstate\u001b[39m\u001b[33m\"\u001b[39m \u001b[38;5;28;01melse\u001b[39;00m engine.result()\n",
      "\u001b[36mFile \u001b[39m\u001b[32mc:\\Users\\aleja\\miniconda3\\envs\\ml1\\Lib\\site-packages\\prefect\\flow_engine.py:801\u001b[39m, in \u001b[36mFlowRunEngine.call_flow_fn\u001b[39m\u001b[34m(self)\u001b[39m\n\u001b[32m    799\u001b[39m     \u001b[38;5;28;01mreturn\u001b[39;00m _call_flow_fn()\n\u001b[32m    800\u001b[39m \u001b[38;5;28;01melse\u001b[39;00m:\n\u001b[32m--> \u001b[39m\u001b[32m801\u001b[39m     result = \u001b[43mcall_with_parameters\u001b[49m\u001b[43m(\u001b[49m\u001b[38;5;28;43mself\u001b[39;49m\u001b[43m.\u001b[49m\u001b[43mflow\u001b[49m\u001b[43m.\u001b[49m\u001b[43mfn\u001b[49m\u001b[43m,\u001b[49m\u001b[43m \u001b[49m\u001b[38;5;28;43mself\u001b[39;49m\u001b[43m.\u001b[49m\u001b[43mparameters\u001b[49m\u001b[43m)\u001b[49m\n\u001b[32m    802\u001b[39m     \u001b[38;5;28mself\u001b[39m.handle_success(result)\n",
      "\u001b[36mFile \u001b[39m\u001b[32mc:\\Users\\aleja\\miniconda3\\envs\\ml1\\Lib\\site-packages\\prefect\\utilities\\callables.py:210\u001b[39m, in \u001b[36mcall_with_parameters\u001b[39m\u001b[34m(fn, parameters)\u001b[39m\n\u001b[32m    202\u001b[39m \u001b[38;5;250m\u001b[39m\u001b[33;03m\"\"\"\u001b[39;00m\n\u001b[32m    203\u001b[39m \u001b[33;03mCall a function with parameters extracted with `get_call_parameters`\u001b[39;00m\n\u001b[32m    204\u001b[39m \n\u001b[32m   (...)\u001b[39m\u001b[32m    207\u001b[39m \u001b[33;03mthe args/kwargs using `parameters_to_positional_and_keyword` directly\u001b[39;00m\n\u001b[32m    208\u001b[39m \u001b[33;03m\"\"\"\u001b[39;00m\n\u001b[32m    209\u001b[39m args, kwargs = parameters_to_args_kwargs(fn, parameters)\n\u001b[32m--> \u001b[39m\u001b[32m210\u001b[39m \u001b[38;5;28;01mreturn\u001b[39;00m \u001b[43mfn\u001b[49m\u001b[43m(\u001b[49m\u001b[43m*\u001b[49m\u001b[43margs\u001b[49m\u001b[43m,\u001b[49m\u001b[43m \u001b[49m\u001b[43m*\u001b[49m\u001b[43m*\u001b[49m\u001b[43mkwargs\u001b[49m\u001b[43m)\u001b[49m\n",
      "\u001b[36mCell\u001b[39m\u001b[36m \u001b[39m\u001b[32mIn[17]\u001b[39m\u001b[32m, line 8\u001b[39m, in \u001b[36mcancer_flow\u001b[39m\u001b[34m()\u001b[39m\n\u001b[32m      4\u001b[39m X_train, X_test, y_train, y_test = cancer_preprocessing(dataset)\n\u001b[32m      6\u001b[39m class_names = [\u001b[33m'\u001b[39m\u001b[33m0\u001b[39m\u001b[33m'\u001b[39m,\u001b[33m'\u001b[39m\u001b[33m1\u001b[39m\u001b[33m'\u001b[39m]\n\u001b[32m----> \u001b[39m\u001b[32m8\u001b[39m dtree = \u001b[43mdecision_tree\u001b[49m\u001b[43m(\u001b[49m\u001b[43mX_train\u001b[49m\u001b[43m,\u001b[49m\u001b[43m \u001b[49m\u001b[43mX_test\u001b[49m\u001b[43m,\u001b[49m\u001b[43m \u001b[49m\u001b[43my_train\u001b[49m\u001b[43m,\u001b[49m\u001b[43m \u001b[49m\u001b[43my_test\u001b[49m\u001b[43m)\u001b[49m\n\u001b[32m      9\u001b[39m confusion_matrix(class_names, dtree, X_test, y_test)\n\u001b[32m     11\u001b[39m rf =random_forest(X_train, X_test, y_train, y_test)\n",
      "\u001b[36mFile \u001b[39m\u001b[32mc:\\Users\\aleja\\miniconda3\\envs\\ml1\\Lib\\site-packages\\prefect\\tasks.py:1139\u001b[39m, in \u001b[36mTask.__call__\u001b[39m\u001b[34m(self, return_state, wait_for, *args, **kwargs)\u001b[39m\n\u001b[32m   1133\u001b[39m     \u001b[38;5;28;01mreturn\u001b[39;00m track_viz_task(\n\u001b[32m   1134\u001b[39m         \u001b[38;5;28mself\u001b[39m.isasync, \u001b[38;5;28mself\u001b[39m.name, parameters, \u001b[38;5;28mself\u001b[39m.viz_return_value\n\u001b[32m   1135\u001b[39m     )\n\u001b[32m   1137\u001b[39m \u001b[38;5;28;01mfrom\u001b[39;00m\u001b[38;5;250m \u001b[39m\u001b[34;01mprefect\u001b[39;00m\u001b[34;01m.\u001b[39;00m\u001b[34;01mtask_engine\u001b[39;00m\u001b[38;5;250m \u001b[39m\u001b[38;5;28;01mimport\u001b[39;00m run_task\n\u001b[32m-> \u001b[39m\u001b[32m1139\u001b[39m \u001b[38;5;28;01mreturn\u001b[39;00m \u001b[43mrun_task\u001b[49m\u001b[43m(\u001b[49m\n\u001b[32m   1140\u001b[39m \u001b[43m    \u001b[49m\u001b[43mtask\u001b[49m\u001b[43m=\u001b[49m\u001b[38;5;28;43mself\u001b[39;49m\u001b[43m,\u001b[49m\n\u001b[32m   1141\u001b[39m \u001b[43m    \u001b[49m\u001b[43mparameters\u001b[49m\u001b[43m=\u001b[49m\u001b[43mparameters\u001b[49m\u001b[43m,\u001b[49m\n\u001b[32m   1142\u001b[39m \u001b[43m    \u001b[49m\u001b[43mwait_for\u001b[49m\u001b[43m=\u001b[49m\u001b[43mwait_for\u001b[49m\u001b[43m,\u001b[49m\n\u001b[32m   1143\u001b[39m \u001b[43m    \u001b[49m\u001b[43mreturn_type\u001b[49m\u001b[43m=\u001b[49m\u001b[43mreturn_type\u001b[49m\u001b[43m,\u001b[49m\n\u001b[32m   1144\u001b[39m \u001b[43m\u001b[49m\u001b[43m)\u001b[49m\n",
      "\u001b[36mFile \u001b[39m\u001b[32mc:\\Users\\aleja\\miniconda3\\envs\\ml1\\Lib\\site-packages\\prefect\\task_engine.py:1737\u001b[39m, in \u001b[36mrun_task\u001b[39m\u001b[34m(task, task_run_id, task_run, parameters, wait_for, return_type, dependencies, context)\u001b[39m\n\u001b[32m   1735\u001b[39m     \u001b[38;5;28;01mreturn\u001b[39;00m run_task_async(**kwargs)\n\u001b[32m   1736\u001b[39m \u001b[38;5;28;01melse\u001b[39;00m:\n\u001b[32m-> \u001b[39m\u001b[32m1737\u001b[39m     \u001b[38;5;28;01mreturn\u001b[39;00m \u001b[43mrun_task_sync\u001b[49m\u001b[43m(\u001b[49m\u001b[43m*\u001b[49m\u001b[43m*\u001b[49m\u001b[43mkwargs\u001b[49m\u001b[43m)\u001b[49m\n",
      "\u001b[36mFile \u001b[39m\u001b[32mc:\\Users\\aleja\\miniconda3\\envs\\ml1\\Lib\\site-packages\\prefect\\task_engine.py:1512\u001b[39m, in \u001b[36mrun_task_sync\u001b[39m\u001b[34m(task, task_run_id, task_run, parameters, wait_for, return_type, dependencies, context)\u001b[39m\n\u001b[32m   1505\u001b[39m         \u001b[38;5;28;01mwith\u001b[39;00m (\n\u001b[32m   1506\u001b[39m             engine.asset_context(),\n\u001b[32m   1507\u001b[39m             engine.run_context(),\n\u001b[32m   1508\u001b[39m             engine.transaction_context() \u001b[38;5;28;01mas\u001b[39;00m txn,\n\u001b[32m   1509\u001b[39m         ):\n\u001b[32m   1510\u001b[39m             engine.call_task_fn(txn)\n\u001b[32m-> \u001b[39m\u001b[32m1512\u001b[39m \u001b[38;5;28;01mreturn\u001b[39;00m engine.state \u001b[38;5;28;01mif\u001b[39;00m return_type == \u001b[33m\"\u001b[39m\u001b[33mstate\u001b[39m\u001b[33m\"\u001b[39m \u001b[38;5;28;01melse\u001b[39;00m \u001b[43mengine\u001b[49m\u001b[43m.\u001b[49m\u001b[43mresult\u001b[49m\u001b[43m(\u001b[49m\u001b[43m)\u001b[49m\n",
      "\u001b[36mFile \u001b[39m\u001b[32mc:\\Users\\aleja\\miniconda3\\envs\\ml1\\Lib\\site-packages\\prefect\\task_engine.py:493\u001b[39m, in \u001b[36mSyncTaskRunEngine.result\u001b[39m\u001b[34m(self, raise_on_failure)\u001b[39m\n\u001b[32m    490\u001b[39m \u001b[38;5;28;01mif\u001b[39;00m \u001b[38;5;28mself\u001b[39m._raised \u001b[38;5;129;01mis\u001b[39;00m \u001b[38;5;129;01mnot\u001b[39;00m NotSet:\n\u001b[32m    491\u001b[39m     \u001b[38;5;66;03m# if the task raised an exception, raise it\u001b[39;00m\n\u001b[32m    492\u001b[39m     \u001b[38;5;28;01mif\u001b[39;00m raise_on_failure:\n\u001b[32m--> \u001b[39m\u001b[32m493\u001b[39m         \u001b[38;5;28;01mraise\u001b[39;00m \u001b[38;5;28mself\u001b[39m._raised\n\u001b[32m    495\u001b[39m     \u001b[38;5;66;03m# otherwise, return the exception\u001b[39;00m\n\u001b[32m    496\u001b[39m     \u001b[38;5;28;01mreturn\u001b[39;00m \u001b[38;5;28mself\u001b[39m._raised\n",
      "\u001b[36mFile \u001b[39m\u001b[32mc:\\Users\\aleja\\miniconda3\\envs\\ml1\\Lib\\site-packages\\prefect\\task_engine.py:870\u001b[39m, in \u001b[36mSyncTaskRunEngine.run_context\u001b[39m\u001b[34m(self)\u001b[39m\n\u001b[32m    867\u001b[39m         \u001b[38;5;28;01mif\u001b[39;00m \u001b[38;5;28mself\u001b[39m.is_cancelled():\n\u001b[32m    868\u001b[39m             \u001b[38;5;28;01mraise\u001b[39;00m CancelledError(\u001b[33m\"\u001b[39m\u001b[33mTask run cancelled by the task runner\u001b[39m\u001b[33m\"\u001b[39m)\n\u001b[32m--> \u001b[39m\u001b[32m870\u001b[39m         \u001b[38;5;28;01myield\u001b[39;00m \u001b[38;5;28mself\u001b[39m\n\u001b[32m    871\u001b[39m \u001b[38;5;28;01mexcept\u001b[39;00m \u001b[38;5;167;01mTimeoutError\u001b[39;00m \u001b[38;5;28;01mas\u001b[39;00m exc:\n\u001b[32m    872\u001b[39m     \u001b[38;5;28mself\u001b[39m.handle_timeout(exc)\n",
      "\u001b[36mFile \u001b[39m\u001b[32mc:\\Users\\aleja\\miniconda3\\envs\\ml1\\Lib\\site-packages\\prefect\\task_engine.py:1510\u001b[39m, in \u001b[36mrun_task_sync\u001b[39m\u001b[34m(task, task_run_id, task_run, parameters, wait_for, return_type, dependencies, context)\u001b[39m\n\u001b[32m   1504\u001b[39m         run_coro_as_sync(engine.wait_until_ready())\n\u001b[32m   1505\u001b[39m         \u001b[38;5;28;01mwith\u001b[39;00m (\n\u001b[32m   1506\u001b[39m             engine.asset_context(),\n\u001b[32m   1507\u001b[39m             engine.run_context(),\n\u001b[32m   1508\u001b[39m             engine.transaction_context() \u001b[38;5;28;01mas\u001b[39;00m txn,\n\u001b[32m   1509\u001b[39m         ):\n\u001b[32m-> \u001b[39m\u001b[32m1510\u001b[39m             \u001b[43mengine\u001b[49m\u001b[43m.\u001b[49m\u001b[43mcall_task_fn\u001b[49m\u001b[43m(\u001b[49m\u001b[43mtxn\u001b[49m\u001b[43m)\u001b[49m\n\u001b[32m   1512\u001b[39m \u001b[38;5;28;01mreturn\u001b[39;00m engine.state \u001b[38;5;28;01mif\u001b[39;00m return_type == \u001b[33m\"\u001b[39m\u001b[33mstate\u001b[39m\u001b[33m\"\u001b[39m \u001b[38;5;28;01melse\u001b[39;00m engine.result()\n",
      "\u001b[36mFile \u001b[39m\u001b[32mc:\\Users\\aleja\\miniconda3\\envs\\ml1\\Lib\\site-packages\\prefect\\task_engine.py:887\u001b[39m, in \u001b[36mSyncTaskRunEngine.call_task_fn\u001b[39m\u001b[34m(self, transaction)\u001b[39m\n\u001b[32m    885\u001b[39m     result = transaction.read()\n\u001b[32m    886\u001b[39m \u001b[38;5;28;01melse\u001b[39;00m:\n\u001b[32m--> \u001b[39m\u001b[32m887\u001b[39m     result = \u001b[43mcall_with_parameters\u001b[49m\u001b[43m(\u001b[49m\u001b[38;5;28;43mself\u001b[39;49m\u001b[43m.\u001b[49m\u001b[43mtask\u001b[49m\u001b[43m.\u001b[49m\u001b[43mfn\u001b[49m\u001b[43m,\u001b[49m\u001b[43m \u001b[49m\u001b[43mparameters\u001b[49m\u001b[43m)\u001b[49m\n\u001b[32m    888\u001b[39m \u001b[38;5;28mself\u001b[39m.handle_success(result, transaction=transaction)\n\u001b[32m    889\u001b[39m \u001b[38;5;28;01mreturn\u001b[39;00m result\n",
      "\u001b[36mFile \u001b[39m\u001b[32mc:\\Users\\aleja\\miniconda3\\envs\\ml1\\Lib\\site-packages\\prefect\\utilities\\callables.py:210\u001b[39m, in \u001b[36mcall_with_parameters\u001b[39m\u001b[34m(fn, parameters)\u001b[39m\n\u001b[32m    202\u001b[39m \u001b[38;5;250m\u001b[39m\u001b[33;03m\"\"\"\u001b[39;00m\n\u001b[32m    203\u001b[39m \u001b[33;03mCall a function with parameters extracted with `get_call_parameters`\u001b[39;00m\n\u001b[32m    204\u001b[39m \n\u001b[32m   (...)\u001b[39m\u001b[32m    207\u001b[39m \u001b[33;03mthe args/kwargs using `parameters_to_positional_and_keyword` directly\u001b[39;00m\n\u001b[32m    208\u001b[39m \u001b[33;03m\"\"\"\u001b[39;00m\n\u001b[32m    209\u001b[39m args, kwargs = parameters_to_args_kwargs(fn, parameters)\n\u001b[32m--> \u001b[39m\u001b[32m210\u001b[39m \u001b[38;5;28;01mreturn\u001b[39;00m \u001b[43mfn\u001b[49m\u001b[43m(\u001b[49m\u001b[43m*\u001b[49m\u001b[43margs\u001b[49m\u001b[43m,\u001b[49m\u001b[43m \u001b[49m\u001b[43m*\u001b[49m\u001b[43m*\u001b[49m\u001b[43mkwargs\u001b[49m\u001b[43m)\u001b[49m\n",
      "\u001b[36mCell\u001b[39m\u001b[36m \u001b[39m\u001b[32mIn[2]\u001b[39m\u001b[32m, line 9\u001b[39m, in \u001b[36mtiming_decorator.<locals>.wrapper\u001b[39m\u001b[34m(*args, **kwargs)\u001b[39m\n\u001b[32m      6\u001b[39m start_time = time.time()\n\u001b[32m      8\u001b[39m \u001b[38;5;66;03m# Execute the original function\u001b[39;00m\n\u001b[32m----> \u001b[39m\u001b[32m9\u001b[39m result = \u001b[43mfunc\u001b[49m\u001b[43m(\u001b[49m\u001b[43m*\u001b[49m\u001b[43margs\u001b[49m\u001b[43m,\u001b[49m\u001b[43m \u001b[49m\u001b[43m*\u001b[49m\u001b[43m*\u001b[49m\u001b[43mkwargs\u001b[49m\u001b[43m)\u001b[49m\n\u001b[32m     11\u001b[39m end_time = time.time()\n\u001b[32m     12\u001b[39m execution_time = end_time - start_time\n",
      "\u001b[36mCell\u001b[39m\u001b[36m \u001b[39m\u001b[32mIn[9]\u001b[39m\u001b[32m, line 12\u001b[39m, in \u001b[36mdecision_tree\u001b[39m\u001b[34m(X_train, X_test, y_train, y_test)\u001b[39m\n\u001b[32m      9\u001b[39m \u001b[38;5;66;03m#Predicción para evaluación\u001b[39;00m\n\u001b[32m     10\u001b[39m y_pred = dtree.predict(X_test)\n\u001b[32m---> \u001b[39m\u001b[32m12\u001b[39m pd.concat([X_test, y_test, pd.Series(y_pred, name=\u001b[33m'\u001b[39m\u001b[33mPredicción\u001b[39m\u001b[33m'\u001b[39m, index=\u001b[43mX_test\u001b[49m\u001b[43m.\u001b[49m\u001b[43mindex\u001b[49m)], \n\u001b[32m     13\u001b[39m       ignore_index=\u001b[38;5;28;01mFalse\u001b[39;00m, axis=\u001b[32m1\u001b[39m)\n\u001b[32m     15\u001b[39m cv_scores = cross_val_score(dtree, X_train, y_train, cv=\u001b[32m5\u001b[39m)\n\u001b[32m     17\u001b[39m \u001b[38;5;66;03m# Escribe en pantalla los desempeños (\"accuracy\") para cada \"pliegue\" (fold)\u001b[39;00m\n",
      "\u001b[31mAttributeError\u001b[39m: 'numpy.ndarray' object has no attribute 'index'"
     ]
    }
   ],
   "source": [
    "@flow\n",
    "def cancer_flow():\n",
    "    dataset = cancer_dataset_retribution()\n",
    "    X_train, X_test, y_train, y_test = cancer_preprocessing(dataset)\n",
    "\n",
    "    class_names = ['0','1']\n",
    "\n",
    "    dtree = decision_tree(X_train, X_test, y_train, y_test)\n",
    "    confusion_matrix(class_names, dtree, X_test, y_test)\n",
    "\n",
    "    rf =random_forest(X_train, X_test, y_train, y_test)\n",
    "    confusion_matrix(class_names, rf, X_test, y_test)\n",
    "\n",
    "    knn = knn(X_train, X_test, y_train, y_test)\n",
    "    confusion_matrix(class_names, knn, X_test, y_test)\n",
    "    knn_scaled = knn_scaler(X_train, X_test, y_train, y_test)\n",
    "    confusion_matrix(class_names, knn_scaled, X_test, y_test)\n",
    "\n",
    "    svm_class = svm(X_train, X_test, y_train, y_test)\n",
    "    confusion_matrix(class_names, svm_class, X_test, y_test)\n",
    "    svm_class_scaled = svm_scaler(X_train, X_test, y_train, y_test)\n",
    "    confusion_matrix(class_names, svm_class_scaled, X_test, y_test)\n",
    "cancer_flow()"
   ]
  },
  {
   "cell_type": "code",
   "execution_count": 18,
   "id": "f1368fe9",
   "metadata": {},
   "outputs": [
    {
     "data": {
      "text/html": [
       "<pre style=\"white-space:pre;overflow-x:auto;line-height:normal;font-family:Menlo,'DejaVu Sans Mono',consolas,'Courier New',monospace\">12:23:09.002 | <span style=\"color: #008080; text-decoration-color: #008080\">INFO</span>    | Flow run<span style=\"color: #800080; text-decoration-color: #800080\"> 'idealistic-millipede'</span> - Beginning flow run<span style=\"color: #800080; text-decoration-color: #800080\"> 'idealistic-millipede'</span> for flow<span style=\"color: #800080; text-decoration-color: #800080; font-weight: bold\"> 'diabetes-flow'</span>\n",
       "</pre>\n"
      ],
      "text/plain": [
       "12:23:09.002 | \u001b[36mINFO\u001b[0m    | Flow run\u001b[35m 'idealistic-millipede'\u001b[0m - Beginning flow run\u001b[35m 'idealistic-millipede'\u001b[0m for flow\u001b[1;35m 'diabetes-flow'\u001b[0m\n"
      ]
     },
     "metadata": {},
     "output_type": "display_data"
    },
    {
     "name": "stdout",
     "output_type": "stream",
     "text": [
      "Dataset cargado exitosamente.\n",
      "   Embarazos  Glucosa  Presion Arterial  Grosor Piel  Insulina  \\\n",
      "0          1       85                66           29         0   \n",
      "1          8      183                64            0         0   \n",
      "2          1       89                66           23        94   \n",
      "3          0      137                40           35       168   \n",
      "4          5      116                74            0         0   \n",
      "\n",
      "   Indice Masa Corporal  Función de Pedigree  Edad  Etiqueta  \n",
      "0                  26.6                0.351    31         0  \n",
      "1                  23.3                0.672    32         1  \n",
      "2                  28.1                0.167    21         0  \n",
      "3                  43.1                2.288    33         1  \n",
      "4                  25.6                0.201    30         0  \n"
     ]
    },
    {
     "data": {
      "text/html": [
       "<pre style=\"white-space:pre;overflow-x:auto;line-height:normal;font-family:Menlo,'DejaVu Sans Mono',consolas,'Courier New',monospace\">12:23:09.227 | <span style=\"color: #008080; text-decoration-color: #008080\">INFO</span>    | Task run 'diabetes_dataset_retribution-0e2' - Task 'diabetes_dataset_retribution' completed in 0.18 seconds\n",
       "</pre>\n"
      ],
      "text/plain": [
       "12:23:09.227 | \u001b[36mINFO\u001b[0m    | Task run 'diabetes_dataset_retribution-0e2' - Task 'diabetes_dataset_retribution' completed in 0.18 seconds\n"
      ]
     },
     "metadata": {},
     "output_type": "display_data"
    },
    {
     "data": {
      "text/html": [
       "<pre style=\"white-space:pre;overflow-x:auto;line-height:normal;font-family:Menlo,'DejaVu Sans Mono',consolas,'Courier New',monospace\">12:23:09.238 | <span style=\"color: #008080; text-decoration-color: #008080\">INFO</span>    | Task run 'diabetes_dataset_retribution-0e2' - Finished in state <span style=\"color: #008000; text-decoration-color: #008000\">Completed</span>()\n",
       "</pre>\n"
      ],
      "text/plain": [
       "12:23:09.238 | \u001b[36mINFO\u001b[0m    | Task run 'diabetes_dataset_retribution-0e2' - Finished in state \u001b[32mCompleted\u001b[0m()\n"
      ]
     },
     "metadata": {},
     "output_type": "display_data"
    },
    {
     "name": "stdout",
     "output_type": "stream",
     "text": [
      "Tamaño de X_train: (536, 7)\n",
      "Tamaño de y_train: (536,)\n",
      "Tamaño de X_test: (231, 7)\n",
      "Tamaño de y_test: (231,)\n"
     ]
    },
    {
     "data": {
      "text/html": [
       "<pre style=\"white-space:pre;overflow-x:auto;line-height:normal;font-family:Menlo,'DejaVu Sans Mono',consolas,'Courier New',monospace\">12:23:09.295 | <span style=\"color: #008080; text-decoration-color: #008080\">INFO</span>    | Task run 'diabetes_preprocessing-d30' - Task 'diabetes_preprocessing' completed in 0.00 seconds\n",
       "</pre>\n"
      ],
      "text/plain": [
       "12:23:09.295 | \u001b[36mINFO\u001b[0m    | Task run 'diabetes_preprocessing-d30' - Task 'diabetes_preprocessing' completed in 0.00 seconds\n"
      ]
     },
     "metadata": {},
     "output_type": "display_data"
    },
    {
     "data": {
      "text/html": [
       "<pre style=\"white-space:pre;overflow-x:auto;line-height:normal;font-family:Menlo,'DejaVu Sans Mono',consolas,'Courier New',monospace\">12:23:09.311 | <span style=\"color: #008080; text-decoration-color: #008080\">INFO</span>    | Task run 'diabetes_preprocessing-d30' - Finished in state <span style=\"color: #008000; text-decoration-color: #008000\">Completed</span>()\n",
       "</pre>\n"
      ],
      "text/plain": [
       "12:23:09.311 | \u001b[36mINFO\u001b[0m    | Task run 'diabetes_preprocessing-d30' - Finished in state \u001b[32mCompleted\u001b[0m()\n"
      ]
     },
     "metadata": {},
     "output_type": "display_data"
    },
    {
     "name": "stdout",
     "output_type": "stream",
     "text": [
      "Resultados de la validación cruzada en decision tree:  [0.73148148 0.71962617 0.6728972  0.71962617 0.69158879]\n",
      "Resultado promedio de la validación cruzada en decision tree 0.7070439598476981\n",
      "Exactitud (accuracy) en prueba (testing) del decision tree: 0.7142857142857143\n",
      "0.6732269810993584\n"
     ]
    },
    {
     "data": {
      "text/html": [
       "<pre style=\"white-space:pre;overflow-x:auto;line-height:normal;font-family:Menlo,'DejaVu Sans Mono',consolas,'Courier New',monospace\">12:23:10.516 | <span style=\"color: #008080; text-decoration-color: #008080\">INFO</span>    | Task run 'decision_tree-852' - Task 'decision_tree' completed in 1.15 seconds\n",
       "</pre>\n"
      ],
      "text/plain": [
       "12:23:10.516 | \u001b[36mINFO\u001b[0m    | Task run 'decision_tree-852' - Task 'decision_tree' completed in 1.15 seconds\n"
      ]
     },
     "metadata": {},
     "output_type": "display_data"
    },
    {
     "data": {
      "text/html": [
       "<pre style=\"white-space:pre;overflow-x:auto;line-height:normal;font-family:Menlo,'DejaVu Sans Mono',consolas,'Courier New',monospace\">12:23:10.530 | <span style=\"color: #008080; text-decoration-color: #008080\">INFO</span>    | Task run 'decision_tree-852' - Finished in state <span style=\"color: #008000; text-decoration-color: #008000\">Completed</span>()\n",
       "</pre>\n"
      ],
      "text/plain": [
       "12:23:10.530 | \u001b[36mINFO\u001b[0m    | Task run 'decision_tree-852' - Finished in state \u001b[32mCompleted\u001b[0m()\n"
      ]
     },
     "metadata": {},
     "output_type": "display_data"
    },
    {
     "name": "stdout",
     "output_type": "stream",
     "text": [
      "Visualización de desempeño con Matriz de Confusión:\n"
     ]
    },
    {
     "data": {
      "text/html": [
       "<pre style=\"white-space:pre;overflow-x:auto;line-height:normal;font-family:Menlo,'DejaVu Sans Mono',consolas,'Courier New',monospace\">12:23:10.590 | <span style=\"color: #d70000; text-decoration-color: #d70000\">ERROR</span>   | Task run 'confusion_matrix-3de' - Task run failed with exception: NameError(\"name 'ConfusionMatrixDisplay' is not defined\")\n",
       "Traceback (most recent call last):\n",
       "  File \"c:\\Users\\aleja\\miniconda3\\envs\\ml1\\Lib\\site-packages\\prefect\\task_engine.py\", line 870, in run_context\n",
       "    yield self\n",
       "  File \"c:\\Users\\aleja\\miniconda3\\envs\\ml1\\Lib\\site-packages\\prefect\\task_engine.py\", line 1510, in run_task_sync\n",
       "    engine.call_task_fn(txn)\n",
       "  File \"c:\\Users\\aleja\\miniconda3\\envs\\ml1\\Lib\\site-packages\\prefect\\task_engine.py\", line 887, in call_task_fn\n",
       "    result = call_with_parameters(self.task.fn, parameters)\n",
       "             ^^^^^^^^^^^^^^^^^^^^^^^^^^^^^^^^^^^^^^^^^^^^^^\n",
       "  File \"c:\\Users\\aleja\\miniconda3\\envs\\ml1\\Lib\\site-packages\\prefect\\utilities\\callables.py\", line 210, in call_with_parameters\n",
       "    return fn(*args, **kwargs)\n",
       "           ^^^^^^^^^^^^^^^^^^^\n",
       "  File \"C:\\Users\\aleja\\AppData\\Local\\Temp\\ipykernel_41676\\3613525291.py\", line 9, in wrapper\n",
       "    result = func(*args, **kwargs)\n",
       "             ^^^^^^^^^^^^^^^^^^^^^\n",
       "  File \"C:\\Users\\aleja\\AppData\\Local\\Temp\\ipykernel_41676\\1612211505.py\", line 7, in confusion_matrix\n",
       "    disp = ConfusionMatrixDisplay.from_estimator(\n",
       "           ^^^^^^^^^^^^^^^^^^^^^^\n",
       "NameError: name 'ConfusionMatrixDisplay' is not defined\n",
       "</pre>\n"
      ],
      "text/plain": [
       "12:23:10.590 | \u001b[38;5;160mERROR\u001b[0m   | Task run 'confusion_matrix-3de' - Task run failed with exception: NameError(\"name 'ConfusionMatrixDisplay' is not defined\")\n",
       "Traceback (most recent call last):\n",
       "  File \"c:\\Users\\aleja\\miniconda3\\envs\\ml1\\Lib\\site-packages\\prefect\\task_engine.py\", line 870, in run_context\n",
       "    yield self\n",
       "  File \"c:\\Users\\aleja\\miniconda3\\envs\\ml1\\Lib\\site-packages\\prefect\\task_engine.py\", line 1510, in run_task_sync\n",
       "    engine.call_task_fn(txn)\n",
       "  File \"c:\\Users\\aleja\\miniconda3\\envs\\ml1\\Lib\\site-packages\\prefect\\task_engine.py\", line 887, in call_task_fn\n",
       "    result = call_with_parameters(self.task.fn, parameters)\n",
       "             ^^^^^^^^^^^^^^^^^^^^^^^^^^^^^^^^^^^^^^^^^^^^^^\n",
       "  File \"c:\\Users\\aleja\\miniconda3\\envs\\ml1\\Lib\\site-packages\\prefect\\utilities\\callables.py\", line 210, in call_with_parameters\n",
       "    return fn(*args, **kwargs)\n",
       "           ^^^^^^^^^^^^^^^^^^^\n",
       "  File \"C:\\Users\\aleja\\AppData\\Local\\Temp\\ipykernel_41676\\3613525291.py\", line 9, in wrapper\n",
       "    result = func(*args, **kwargs)\n",
       "             ^^^^^^^^^^^^^^^^^^^^^\n",
       "  File \"C:\\Users\\aleja\\AppData\\Local\\Temp\\ipykernel_41676\\1612211505.py\", line 7, in confusion_matrix\n",
       "    disp = ConfusionMatrixDisplay.from_estimator(\n",
       "           ^^^^^^^^^^^^^^^^^^^^^^\n",
       "NameError: name 'ConfusionMatrixDisplay' is not defined\n"
      ]
     },
     "metadata": {},
     "output_type": "display_data"
    },
    {
     "data": {
      "text/html": [
       "<pre style=\"white-space:pre;overflow-x:auto;line-height:normal;font-family:Menlo,'DejaVu Sans Mono',consolas,'Courier New',monospace\">12:23:10.628 | <span style=\"color: #d70000; text-decoration-color: #d70000\">ERROR</span>   | Task run 'confusion_matrix-3de' - Finished in state <span style=\"color: #d70000; text-decoration-color: #d70000\">Failed</span>(\"Task run encountered an exception NameError: name 'ConfusionMatrixDisplay' is not defined\")\n",
       "</pre>\n"
      ],
      "text/plain": [
       "12:23:10.628 | \u001b[38;5;160mERROR\u001b[0m   | Task run 'confusion_matrix-3de' - Finished in state \u001b[38;5;160mFailed\u001b[0m(\"Task run encountered an exception NameError: name 'ConfusionMatrixDisplay' is not defined\")\n"
      ]
     },
     "metadata": {},
     "output_type": "display_data"
    },
    {
     "data": {
      "text/html": [
       "<pre style=\"white-space:pre;overflow-x:auto;line-height:normal;font-family:Menlo,'DejaVu Sans Mono',consolas,'Courier New',monospace\">12:23:10.631 | <span style=\"color: #d70000; text-decoration-color: #d70000\">ERROR</span>   | Flow run<span style=\"color: #800080; text-decoration-color: #800080\"> 'idealistic-millipede'</span> - Encountered exception during execution: NameError(\"name 'ConfusionMatrixDisplay' is not defined\")\n",
       "Traceback (most recent call last):\n",
       "  File \"c:\\Users\\aleja\\miniconda3\\envs\\ml1\\Lib\\site-packages\\prefect\\flow_engine.py\", line 781, in run_context\n",
       "    yield self\n",
       "  File \"c:\\Users\\aleja\\miniconda3\\envs\\ml1\\Lib\\site-packages\\prefect\\flow_engine.py\", line 1395, in run_flow_sync\n",
       "    engine.call_flow_fn()\n",
       "  File \"c:\\Users\\aleja\\miniconda3\\envs\\ml1\\Lib\\site-packages\\prefect\\flow_engine.py\", line 801, in call_flow_fn\n",
       "    result = call_with_parameters(self.flow.fn, self.parameters)\n",
       "             ^^^^^^^^^^^^^^^^^^^^^^^^^^^^^^^^^^^^^^^^^^^^^^^^^^^\n",
       "  File \"c:\\Users\\aleja\\miniconda3\\envs\\ml1\\Lib\\site-packages\\prefect\\utilities\\callables.py\", line 210, in call_with_parameters\n",
       "    return fn(*args, **kwargs)\n",
       "           ^^^^^^^^^^^^^^^^^^^\n",
       "  File \"C:\\Users\\aleja\\AppData\\Local\\Temp\\ipykernel_41676\\2286811579.py\", line 9, in diabetes_flow\n",
       "    confusion_matrix(class_names, dtree, X_test, y_test)\n",
       "  File \"c:\\Users\\aleja\\miniconda3\\envs\\ml1\\Lib\\site-packages\\prefect\\tasks.py\", line 1139, in __call__\n",
       "    return run_task(\n",
       "           ^^^^^^^^^\n",
       "  File \"c:\\Users\\aleja\\miniconda3\\envs\\ml1\\Lib\\site-packages\\prefect\\task_engine.py\", line 1737, in run_task\n",
       "    return run_task_sync(**kwargs)\n",
       "           ^^^^^^^^^^^^^^^^^^^^^^^\n",
       "  File \"c:\\Users\\aleja\\miniconda3\\envs\\ml1\\Lib\\site-packages\\prefect\\task_engine.py\", line 1512, in run_task_sync\n",
       "    return engine.state if return_type == \"state\" else engine.result()\n",
       "                                                       ^^^^^^^^^^^^^^^\n",
       "  File \"c:\\Users\\aleja\\miniconda3\\envs\\ml1\\Lib\\site-packages\\prefect\\task_engine.py\", line 493, in result\n",
       "    raise self._raised\n",
       "  File \"c:\\Users\\aleja\\miniconda3\\envs\\ml1\\Lib\\site-packages\\prefect\\task_engine.py\", line 870, in run_context\n",
       "    yield self\n",
       "  File \"c:\\Users\\aleja\\miniconda3\\envs\\ml1\\Lib\\site-packages\\prefect\\task_engine.py\", line 1510, in run_task_sync\n",
       "    engine.call_task_fn(txn)\n",
       "  File \"c:\\Users\\aleja\\miniconda3\\envs\\ml1\\Lib\\site-packages\\prefect\\task_engine.py\", line 887, in call_task_fn\n",
       "    result = call_with_parameters(self.task.fn, parameters)\n",
       "             ^^^^^^^^^^^^^^^^^^^^^^^^^^^^^^^^^^^^^^^^^^^^^^\n",
       "  File \"c:\\Users\\aleja\\miniconda3\\envs\\ml1\\Lib\\site-packages\\prefect\\utilities\\callables.py\", line 210, in call_with_parameters\n",
       "    return fn(*args, **kwargs)\n",
       "           ^^^^^^^^^^^^^^^^^^^\n",
       "  File \"C:\\Users\\aleja\\AppData\\Local\\Temp\\ipykernel_41676\\3613525291.py\", line 9, in wrapper\n",
       "    result = func(*args, **kwargs)\n",
       "             ^^^^^^^^^^^^^^^^^^^^^\n",
       "  File \"C:\\Users\\aleja\\AppData\\Local\\Temp\\ipykernel_41676\\1612211505.py\", line 7, in confusion_matrix\n",
       "    disp = ConfusionMatrixDisplay.from_estimator(\n",
       "           ^^^^^^^^^^^^^^^^^^^^^^\n",
       "NameError: name 'ConfusionMatrixDisplay' is not defined\n",
       "</pre>\n"
      ],
      "text/plain": [
       "12:23:10.631 | \u001b[38;5;160mERROR\u001b[0m   | Flow run\u001b[35m 'idealistic-millipede'\u001b[0m - Encountered exception during execution: NameError(\"name 'ConfusionMatrixDisplay' is not defined\")\n",
       "Traceback (most recent call last):\n",
       "  File \"c:\\Users\\aleja\\miniconda3\\envs\\ml1\\Lib\\site-packages\\prefect\\flow_engine.py\", line 781, in run_context\n",
       "    yield self\n",
       "  File \"c:\\Users\\aleja\\miniconda3\\envs\\ml1\\Lib\\site-packages\\prefect\\flow_engine.py\", line 1395, in run_flow_sync\n",
       "    engine.call_flow_fn()\n",
       "  File \"c:\\Users\\aleja\\miniconda3\\envs\\ml1\\Lib\\site-packages\\prefect\\flow_engine.py\", line 801, in call_flow_fn\n",
       "    result = call_with_parameters(self.flow.fn, self.parameters)\n",
       "             ^^^^^^^^^^^^^^^^^^^^^^^^^^^^^^^^^^^^^^^^^^^^^^^^^^^\n",
       "  File \"c:\\Users\\aleja\\miniconda3\\envs\\ml1\\Lib\\site-packages\\prefect\\utilities\\callables.py\", line 210, in call_with_parameters\n",
       "    return fn(*args, **kwargs)\n",
       "           ^^^^^^^^^^^^^^^^^^^\n",
       "  File \"C:\\Users\\aleja\\AppData\\Local\\Temp\\ipykernel_41676\\2286811579.py\", line 9, in diabetes_flow\n",
       "    confusion_matrix(class_names, dtree, X_test, y_test)\n",
       "  File \"c:\\Users\\aleja\\miniconda3\\envs\\ml1\\Lib\\site-packages\\prefect\\tasks.py\", line 1139, in __call__\n",
       "    return run_task(\n",
       "           ^^^^^^^^^\n",
       "  File \"c:\\Users\\aleja\\miniconda3\\envs\\ml1\\Lib\\site-packages\\prefect\\task_engine.py\", line 1737, in run_task\n",
       "    return run_task_sync(**kwargs)\n",
       "           ^^^^^^^^^^^^^^^^^^^^^^^\n",
       "  File \"c:\\Users\\aleja\\miniconda3\\envs\\ml1\\Lib\\site-packages\\prefect\\task_engine.py\", line 1512, in run_task_sync\n",
       "    return engine.state if return_type == \"state\" else engine.result()\n",
       "                                                       ^^^^^^^^^^^^^^^\n",
       "  File \"c:\\Users\\aleja\\miniconda3\\envs\\ml1\\Lib\\site-packages\\prefect\\task_engine.py\", line 493, in result\n",
       "    raise self._raised\n",
       "  File \"c:\\Users\\aleja\\miniconda3\\envs\\ml1\\Lib\\site-packages\\prefect\\task_engine.py\", line 870, in run_context\n",
       "    yield self\n",
       "  File \"c:\\Users\\aleja\\miniconda3\\envs\\ml1\\Lib\\site-packages\\prefect\\task_engine.py\", line 1510, in run_task_sync\n",
       "    engine.call_task_fn(txn)\n",
       "  File \"c:\\Users\\aleja\\miniconda3\\envs\\ml1\\Lib\\site-packages\\prefect\\task_engine.py\", line 887, in call_task_fn\n",
       "    result = call_with_parameters(self.task.fn, parameters)\n",
       "             ^^^^^^^^^^^^^^^^^^^^^^^^^^^^^^^^^^^^^^^^^^^^^^\n",
       "  File \"c:\\Users\\aleja\\miniconda3\\envs\\ml1\\Lib\\site-packages\\prefect\\utilities\\callables.py\", line 210, in call_with_parameters\n",
       "    return fn(*args, **kwargs)\n",
       "           ^^^^^^^^^^^^^^^^^^^\n",
       "  File \"C:\\Users\\aleja\\AppData\\Local\\Temp\\ipykernel_41676\\3613525291.py\", line 9, in wrapper\n",
       "    result = func(*args, **kwargs)\n",
       "             ^^^^^^^^^^^^^^^^^^^^^\n",
       "  File \"C:\\Users\\aleja\\AppData\\Local\\Temp\\ipykernel_41676\\1612211505.py\", line 7, in confusion_matrix\n",
       "    disp = ConfusionMatrixDisplay.from_estimator(\n",
       "           ^^^^^^^^^^^^^^^^^^^^^^\n",
       "NameError: name 'ConfusionMatrixDisplay' is not defined\n"
      ]
     },
     "metadata": {},
     "output_type": "display_data"
    },
    {
     "data": {
      "text/html": [
       "<pre style=\"white-space:pre;overflow-x:auto;line-height:normal;font-family:Menlo,'DejaVu Sans Mono',consolas,'Courier New',monospace\">12:23:10.689 | <span style=\"color: #008080; text-decoration-color: #008080\">INFO</span>    | Flow run<span style=\"color: #800080; text-decoration-color: #800080\"> 'idealistic-millipede'</span> - Finished in state <span style=\"color: #d70000; text-decoration-color: #d70000\">Failed</span>(\"Flow run encountered an exception: NameError: name 'ConfusionMatrixDisplay' is not defined\")\n",
       "</pre>\n"
      ],
      "text/plain": [
       "12:23:10.689 | \u001b[36mINFO\u001b[0m    | Flow run\u001b[35m 'idealistic-millipede'\u001b[0m - Finished in state \u001b[38;5;160mFailed\u001b[0m(\"Flow run encountered an exception: NameError: name 'ConfusionMatrixDisplay' is not defined\")\n"
      ]
     },
     "metadata": {},
     "output_type": "display_data"
    },
    {
     "ename": "NameError",
     "evalue": "name 'ConfusionMatrixDisplay' is not defined",
     "output_type": "error",
     "traceback": [
      "\u001b[31m---------------------------------------------------------------------------\u001b[39m",
      "\u001b[31mNameError\u001b[39m                                 Traceback (most recent call last)",
      "\u001b[36mCell\u001b[39m\u001b[36m \u001b[39m\u001b[32mIn[18]\u001b[39m\u001b[32m, line 23\u001b[39m\n\u001b[32m     21\u001b[39m     svm_class_scaled = svm_scaler(X_train, X_test, y_train, y_test)\n\u001b[32m     22\u001b[39m     confusion_matrix(class_names, svm_class_scaled, X_test, y_test)\n\u001b[32m---> \u001b[39m\u001b[32m23\u001b[39m \u001b[43mdiabetes_flow\u001b[49m\u001b[43m(\u001b[49m\u001b[43m)\u001b[49m\n",
      "\u001b[36mFile \u001b[39m\u001b[32mc:\\Users\\aleja\\miniconda3\\envs\\ml1\\Lib\\site-packages\\prefect\\flows.py:1702\u001b[39m, in \u001b[36mFlow.__call__\u001b[39m\u001b[34m(self, return_state, wait_for, *args, **kwargs)\u001b[39m\n\u001b[32m   1698\u001b[39m     \u001b[38;5;28;01mreturn\u001b[39;00m track_viz_task(\u001b[38;5;28mself\u001b[39m.isasync, \u001b[38;5;28mself\u001b[39m.name, parameters)\n\u001b[32m   1700\u001b[39m \u001b[38;5;28;01mfrom\u001b[39;00m\u001b[38;5;250m \u001b[39m\u001b[34;01mprefect\u001b[39;00m\u001b[34;01m.\u001b[39;00m\u001b[34;01mflow_engine\u001b[39;00m\u001b[38;5;250m \u001b[39m\u001b[38;5;28;01mimport\u001b[39;00m run_flow\n\u001b[32m-> \u001b[39m\u001b[32m1702\u001b[39m \u001b[38;5;28;01mreturn\u001b[39;00m \u001b[43mrun_flow\u001b[49m\u001b[43m(\u001b[49m\n\u001b[32m   1703\u001b[39m \u001b[43m    \u001b[49m\u001b[43mflow\u001b[49m\u001b[43m=\u001b[49m\u001b[38;5;28;43mself\u001b[39;49m\u001b[43m,\u001b[49m\n\u001b[32m   1704\u001b[39m \u001b[43m    \u001b[49m\u001b[43mparameters\u001b[49m\u001b[43m=\u001b[49m\u001b[43mparameters\u001b[49m\u001b[43m,\u001b[49m\n\u001b[32m   1705\u001b[39m \u001b[43m    \u001b[49m\u001b[43mwait_for\u001b[49m\u001b[43m=\u001b[49m\u001b[43mwait_for\u001b[49m\u001b[43m,\u001b[49m\n\u001b[32m   1706\u001b[39m \u001b[43m    \u001b[49m\u001b[43mreturn_type\u001b[49m\u001b[43m=\u001b[49m\u001b[43mreturn_type\u001b[49m\u001b[43m,\u001b[49m\n\u001b[32m   1707\u001b[39m \u001b[43m\u001b[49m\u001b[43m)\u001b[49m\n",
      "\u001b[36mFile \u001b[39m\u001b[32mc:\\Users\\aleja\\miniconda3\\envs\\ml1\\Lib\\site-packages\\prefect\\flow_engine.py:1552\u001b[39m, in \u001b[36mrun_flow\u001b[39m\u001b[34m(flow, flow_run, parameters, wait_for, return_type, error_logger, context)\u001b[39m\n\u001b[32m   1550\u001b[39m         ret_val = run_flow_async(**kwargs)\n\u001b[32m   1551\u001b[39m     \u001b[38;5;28;01melse\u001b[39;00m:\n\u001b[32m-> \u001b[39m\u001b[32m1552\u001b[39m         ret_val = \u001b[43mrun_flow_sync\u001b[49m\u001b[43m(\u001b[49m\u001b[43m*\u001b[49m\u001b[43m*\u001b[49m\u001b[43mkwargs\u001b[49m\u001b[43m)\u001b[49m\n\u001b[32m   1553\u001b[39m \u001b[38;5;28;01mexcept\u001b[39;00m (Abort, Pause):\n\u001b[32m   1554\u001b[39m     \u001b[38;5;28;01mraise\u001b[39;00m\n",
      "\u001b[36mFile \u001b[39m\u001b[32mc:\\Users\\aleja\\miniconda3\\envs\\ml1\\Lib\\site-packages\\prefect\\flow_engine.py:1397\u001b[39m, in \u001b[36mrun_flow_sync\u001b[39m\u001b[34m(flow, flow_run, parameters, wait_for, return_type, context)\u001b[39m\n\u001b[32m   1394\u001b[39m         \u001b[38;5;28;01mwith\u001b[39;00m engine.run_context():\n\u001b[32m   1395\u001b[39m             engine.call_flow_fn()\n\u001b[32m-> \u001b[39m\u001b[32m1397\u001b[39m \u001b[38;5;28;01mreturn\u001b[39;00m engine.state \u001b[38;5;28;01mif\u001b[39;00m return_type == \u001b[33m\"\u001b[39m\u001b[33mstate\u001b[39m\u001b[33m\"\u001b[39m \u001b[38;5;28;01melse\u001b[39;00m \u001b[43mengine\u001b[49m\u001b[43m.\u001b[49m\u001b[43mresult\u001b[49m\u001b[43m(\u001b[49m\u001b[43m)\u001b[49m\n",
      "\u001b[36mFile \u001b[39m\u001b[32mc:\\Users\\aleja\\miniconda3\\envs\\ml1\\Lib\\site-packages\\prefect\\flow_engine.py:361\u001b[39m, in \u001b[36mFlowRunEngine.result\u001b[39m\u001b[34m(self, raise_on_failure)\u001b[39m\n\u001b[32m    359\u001b[39m \u001b[38;5;28;01mif\u001b[39;00m \u001b[38;5;28mself\u001b[39m._raised \u001b[38;5;129;01mis\u001b[39;00m \u001b[38;5;129;01mnot\u001b[39;00m NotSet:\n\u001b[32m    360\u001b[39m     \u001b[38;5;28;01mif\u001b[39;00m raise_on_failure:\n\u001b[32m--> \u001b[39m\u001b[32m361\u001b[39m         \u001b[38;5;28;01mraise\u001b[39;00m \u001b[38;5;28mself\u001b[39m._raised\n\u001b[32m    362\u001b[39m     \u001b[38;5;28;01mreturn\u001b[39;00m \u001b[38;5;28mself\u001b[39m._raised\n\u001b[32m    364\u001b[39m \u001b[38;5;66;03m# This is a fall through case which leans on the existing state result mechanics to get the\u001b[39;00m\n\u001b[32m    365\u001b[39m \u001b[38;5;66;03m# return value. This is necessary because we currently will return a State object if the\u001b[39;00m\n\u001b[32m    366\u001b[39m \u001b[38;5;66;03m# the State was Prefect-created.\u001b[39;00m\n\u001b[32m    367\u001b[39m \u001b[38;5;66;03m# TODO: Remove the need to get the result from a State except in cases where the return value\u001b[39;00m\n\u001b[32m    368\u001b[39m \u001b[38;5;66;03m# is a State object.\u001b[39;00m\n",
      "\u001b[36mFile \u001b[39m\u001b[32mc:\\Users\\aleja\\miniconda3\\envs\\ml1\\Lib\\site-packages\\prefect\\flow_engine.py:781\u001b[39m, in \u001b[36mFlowRunEngine.run_context\u001b[39m\u001b[34m(self)\u001b[39m\n\u001b[32m    774\u001b[39m     \u001b[38;5;28;01mwith\u001b[39;00m timeout_context(\n\u001b[32m    775\u001b[39m         seconds=\u001b[38;5;28mself\u001b[39m.flow.timeout_seconds,\n\u001b[32m    776\u001b[39m         timeout_exc_type=FlowRunTimeoutError,\n\u001b[32m    777\u001b[39m     ):\n\u001b[32m    778\u001b[39m         \u001b[38;5;28mself\u001b[39m.logger.debug(\n\u001b[32m    779\u001b[39m             \u001b[33mf\u001b[39m\u001b[33m\"\u001b[39m\u001b[33mExecuting flow \u001b[39m\u001b[38;5;132;01m{\u001b[39;00m\u001b[38;5;28mself\u001b[39m.flow.name\u001b[38;5;132;01m!r}\u001b[39;00m\u001b[33m for flow run \u001b[39m\u001b[38;5;132;01m{\u001b[39;00m\u001b[38;5;28mself\u001b[39m.flow_run.name\u001b[38;5;132;01m!r}\u001b[39;00m\u001b[33m...\u001b[39m\u001b[33m\"\u001b[39m\n\u001b[32m    780\u001b[39m         )\n\u001b[32m--> \u001b[39m\u001b[32m781\u001b[39m         \u001b[38;5;28;01myield\u001b[39;00m \u001b[38;5;28mself\u001b[39m\n\u001b[32m    782\u001b[39m \u001b[38;5;28;01mexcept\u001b[39;00m \u001b[38;5;167;01mTimeoutError\u001b[39;00m \u001b[38;5;28;01mas\u001b[39;00m exc:\n\u001b[32m    783\u001b[39m     \u001b[38;5;28mself\u001b[39m.handle_timeout(exc)\n",
      "\u001b[36mFile \u001b[39m\u001b[32mc:\\Users\\aleja\\miniconda3\\envs\\ml1\\Lib\\site-packages\\prefect\\flow_engine.py:1395\u001b[39m, in \u001b[36mrun_flow_sync\u001b[39m\u001b[34m(flow, flow_run, parameters, wait_for, return_type, context)\u001b[39m\n\u001b[32m   1393\u001b[39m     \u001b[38;5;28;01mwhile\u001b[39;00m engine.is_running():\n\u001b[32m   1394\u001b[39m         \u001b[38;5;28;01mwith\u001b[39;00m engine.run_context():\n\u001b[32m-> \u001b[39m\u001b[32m1395\u001b[39m             \u001b[43mengine\u001b[49m\u001b[43m.\u001b[49m\u001b[43mcall_flow_fn\u001b[49m\u001b[43m(\u001b[49m\u001b[43m)\u001b[49m\n\u001b[32m   1397\u001b[39m \u001b[38;5;28;01mreturn\u001b[39;00m engine.state \u001b[38;5;28;01mif\u001b[39;00m return_type == \u001b[33m\"\u001b[39m\u001b[33mstate\u001b[39m\u001b[33m\"\u001b[39m \u001b[38;5;28;01melse\u001b[39;00m engine.result()\n",
      "\u001b[36mFile \u001b[39m\u001b[32mc:\\Users\\aleja\\miniconda3\\envs\\ml1\\Lib\\site-packages\\prefect\\flow_engine.py:801\u001b[39m, in \u001b[36mFlowRunEngine.call_flow_fn\u001b[39m\u001b[34m(self)\u001b[39m\n\u001b[32m    799\u001b[39m     \u001b[38;5;28;01mreturn\u001b[39;00m _call_flow_fn()\n\u001b[32m    800\u001b[39m \u001b[38;5;28;01melse\u001b[39;00m:\n\u001b[32m--> \u001b[39m\u001b[32m801\u001b[39m     result = \u001b[43mcall_with_parameters\u001b[49m\u001b[43m(\u001b[49m\u001b[38;5;28;43mself\u001b[39;49m\u001b[43m.\u001b[49m\u001b[43mflow\u001b[49m\u001b[43m.\u001b[49m\u001b[43mfn\u001b[49m\u001b[43m,\u001b[49m\u001b[43m \u001b[49m\u001b[38;5;28;43mself\u001b[39;49m\u001b[43m.\u001b[49m\u001b[43mparameters\u001b[49m\u001b[43m)\u001b[49m\n\u001b[32m    802\u001b[39m     \u001b[38;5;28mself\u001b[39m.handle_success(result)\n",
      "\u001b[36mFile \u001b[39m\u001b[32mc:\\Users\\aleja\\miniconda3\\envs\\ml1\\Lib\\site-packages\\prefect\\utilities\\callables.py:210\u001b[39m, in \u001b[36mcall_with_parameters\u001b[39m\u001b[34m(fn, parameters)\u001b[39m\n\u001b[32m    202\u001b[39m \u001b[38;5;250m\u001b[39m\u001b[33;03m\"\"\"\u001b[39;00m\n\u001b[32m    203\u001b[39m \u001b[33;03mCall a function with parameters extracted with `get_call_parameters`\u001b[39;00m\n\u001b[32m    204\u001b[39m \n\u001b[32m   (...)\u001b[39m\u001b[32m    207\u001b[39m \u001b[33;03mthe args/kwargs using `parameters_to_positional_and_keyword` directly\u001b[39;00m\n\u001b[32m    208\u001b[39m \u001b[33;03m\"\"\"\u001b[39;00m\n\u001b[32m    209\u001b[39m args, kwargs = parameters_to_args_kwargs(fn, parameters)\n\u001b[32m--> \u001b[39m\u001b[32m210\u001b[39m \u001b[38;5;28;01mreturn\u001b[39;00m \u001b[43mfn\u001b[49m\u001b[43m(\u001b[49m\u001b[43m*\u001b[49m\u001b[43margs\u001b[49m\u001b[43m,\u001b[49m\u001b[43m \u001b[49m\u001b[43m*\u001b[49m\u001b[43m*\u001b[49m\u001b[43mkwargs\u001b[49m\u001b[43m)\u001b[49m\n",
      "\u001b[36mCell\u001b[39m\u001b[36m \u001b[39m\u001b[32mIn[18]\u001b[39m\u001b[32m, line 9\u001b[39m, in \u001b[36mdiabetes_flow\u001b[39m\u001b[34m()\u001b[39m\n\u001b[32m      6\u001b[39m class_names = [\u001b[33m'\u001b[39m\u001b[33m0\u001b[39m\u001b[33m'\u001b[39m,\u001b[33m'\u001b[39m\u001b[33m1\u001b[39m\u001b[33m'\u001b[39m]\n\u001b[32m      8\u001b[39m dtree = decision_tree(X_train, X_test, y_train, y_test)\n\u001b[32m----> \u001b[39m\u001b[32m9\u001b[39m \u001b[43mconfusion_matrix\u001b[49m\u001b[43m(\u001b[49m\u001b[43mclass_names\u001b[49m\u001b[43m,\u001b[49m\u001b[43m \u001b[49m\u001b[43mdtree\u001b[49m\u001b[43m,\u001b[49m\u001b[43m \u001b[49m\u001b[43mX_test\u001b[49m\u001b[43m,\u001b[49m\u001b[43m \u001b[49m\u001b[43my_test\u001b[49m\u001b[43m)\u001b[49m\n\u001b[32m     11\u001b[39m rf =random_forest(X_train, X_test, y_train, y_test)\n\u001b[32m     12\u001b[39m confusion_matrix(class_names, rf, X_test, y_test)\n",
      "\u001b[36mFile \u001b[39m\u001b[32mc:\\Users\\aleja\\miniconda3\\envs\\ml1\\Lib\\site-packages\\prefect\\tasks.py:1139\u001b[39m, in \u001b[36mTask.__call__\u001b[39m\u001b[34m(self, return_state, wait_for, *args, **kwargs)\u001b[39m\n\u001b[32m   1133\u001b[39m     \u001b[38;5;28;01mreturn\u001b[39;00m track_viz_task(\n\u001b[32m   1134\u001b[39m         \u001b[38;5;28mself\u001b[39m.isasync, \u001b[38;5;28mself\u001b[39m.name, parameters, \u001b[38;5;28mself\u001b[39m.viz_return_value\n\u001b[32m   1135\u001b[39m     )\n\u001b[32m   1137\u001b[39m \u001b[38;5;28;01mfrom\u001b[39;00m\u001b[38;5;250m \u001b[39m\u001b[34;01mprefect\u001b[39;00m\u001b[34;01m.\u001b[39;00m\u001b[34;01mtask_engine\u001b[39;00m\u001b[38;5;250m \u001b[39m\u001b[38;5;28;01mimport\u001b[39;00m run_task\n\u001b[32m-> \u001b[39m\u001b[32m1139\u001b[39m \u001b[38;5;28;01mreturn\u001b[39;00m \u001b[43mrun_task\u001b[49m\u001b[43m(\u001b[49m\n\u001b[32m   1140\u001b[39m \u001b[43m    \u001b[49m\u001b[43mtask\u001b[49m\u001b[43m=\u001b[49m\u001b[38;5;28;43mself\u001b[39;49m\u001b[43m,\u001b[49m\n\u001b[32m   1141\u001b[39m \u001b[43m    \u001b[49m\u001b[43mparameters\u001b[49m\u001b[43m=\u001b[49m\u001b[43mparameters\u001b[49m\u001b[43m,\u001b[49m\n\u001b[32m   1142\u001b[39m \u001b[43m    \u001b[49m\u001b[43mwait_for\u001b[49m\u001b[43m=\u001b[49m\u001b[43mwait_for\u001b[49m\u001b[43m,\u001b[49m\n\u001b[32m   1143\u001b[39m \u001b[43m    \u001b[49m\u001b[43mreturn_type\u001b[49m\u001b[43m=\u001b[49m\u001b[43mreturn_type\u001b[49m\u001b[43m,\u001b[49m\n\u001b[32m   1144\u001b[39m \u001b[43m\u001b[49m\u001b[43m)\u001b[49m\n",
      "\u001b[36mFile \u001b[39m\u001b[32mc:\\Users\\aleja\\miniconda3\\envs\\ml1\\Lib\\site-packages\\prefect\\task_engine.py:1737\u001b[39m, in \u001b[36mrun_task\u001b[39m\u001b[34m(task, task_run_id, task_run, parameters, wait_for, return_type, dependencies, context)\u001b[39m\n\u001b[32m   1735\u001b[39m     \u001b[38;5;28;01mreturn\u001b[39;00m run_task_async(**kwargs)\n\u001b[32m   1736\u001b[39m \u001b[38;5;28;01melse\u001b[39;00m:\n\u001b[32m-> \u001b[39m\u001b[32m1737\u001b[39m     \u001b[38;5;28;01mreturn\u001b[39;00m \u001b[43mrun_task_sync\u001b[49m\u001b[43m(\u001b[49m\u001b[43m*\u001b[49m\u001b[43m*\u001b[49m\u001b[43mkwargs\u001b[49m\u001b[43m)\u001b[49m\n",
      "\u001b[36mFile \u001b[39m\u001b[32mc:\\Users\\aleja\\miniconda3\\envs\\ml1\\Lib\\site-packages\\prefect\\task_engine.py:1512\u001b[39m, in \u001b[36mrun_task_sync\u001b[39m\u001b[34m(task, task_run_id, task_run, parameters, wait_for, return_type, dependencies, context)\u001b[39m\n\u001b[32m   1505\u001b[39m         \u001b[38;5;28;01mwith\u001b[39;00m (\n\u001b[32m   1506\u001b[39m             engine.asset_context(),\n\u001b[32m   1507\u001b[39m             engine.run_context(),\n\u001b[32m   1508\u001b[39m             engine.transaction_context() \u001b[38;5;28;01mas\u001b[39;00m txn,\n\u001b[32m   1509\u001b[39m         ):\n\u001b[32m   1510\u001b[39m             engine.call_task_fn(txn)\n\u001b[32m-> \u001b[39m\u001b[32m1512\u001b[39m \u001b[38;5;28;01mreturn\u001b[39;00m engine.state \u001b[38;5;28;01mif\u001b[39;00m return_type == \u001b[33m\"\u001b[39m\u001b[33mstate\u001b[39m\u001b[33m\"\u001b[39m \u001b[38;5;28;01melse\u001b[39;00m \u001b[43mengine\u001b[49m\u001b[43m.\u001b[49m\u001b[43mresult\u001b[49m\u001b[43m(\u001b[49m\u001b[43m)\u001b[49m\n",
      "\u001b[36mFile \u001b[39m\u001b[32mc:\\Users\\aleja\\miniconda3\\envs\\ml1\\Lib\\site-packages\\prefect\\task_engine.py:493\u001b[39m, in \u001b[36mSyncTaskRunEngine.result\u001b[39m\u001b[34m(self, raise_on_failure)\u001b[39m\n\u001b[32m    490\u001b[39m \u001b[38;5;28;01mif\u001b[39;00m \u001b[38;5;28mself\u001b[39m._raised \u001b[38;5;129;01mis\u001b[39;00m \u001b[38;5;129;01mnot\u001b[39;00m NotSet:\n\u001b[32m    491\u001b[39m     \u001b[38;5;66;03m# if the task raised an exception, raise it\u001b[39;00m\n\u001b[32m    492\u001b[39m     \u001b[38;5;28;01mif\u001b[39;00m raise_on_failure:\n\u001b[32m--> \u001b[39m\u001b[32m493\u001b[39m         \u001b[38;5;28;01mraise\u001b[39;00m \u001b[38;5;28mself\u001b[39m._raised\n\u001b[32m    495\u001b[39m     \u001b[38;5;66;03m# otherwise, return the exception\u001b[39;00m\n\u001b[32m    496\u001b[39m     \u001b[38;5;28;01mreturn\u001b[39;00m \u001b[38;5;28mself\u001b[39m._raised\n",
      "\u001b[36mFile \u001b[39m\u001b[32mc:\\Users\\aleja\\miniconda3\\envs\\ml1\\Lib\\site-packages\\prefect\\task_engine.py:870\u001b[39m, in \u001b[36mSyncTaskRunEngine.run_context\u001b[39m\u001b[34m(self)\u001b[39m\n\u001b[32m    867\u001b[39m         \u001b[38;5;28;01mif\u001b[39;00m \u001b[38;5;28mself\u001b[39m.is_cancelled():\n\u001b[32m    868\u001b[39m             \u001b[38;5;28;01mraise\u001b[39;00m CancelledError(\u001b[33m\"\u001b[39m\u001b[33mTask run cancelled by the task runner\u001b[39m\u001b[33m\"\u001b[39m)\n\u001b[32m--> \u001b[39m\u001b[32m870\u001b[39m         \u001b[38;5;28;01myield\u001b[39;00m \u001b[38;5;28mself\u001b[39m\n\u001b[32m    871\u001b[39m \u001b[38;5;28;01mexcept\u001b[39;00m \u001b[38;5;167;01mTimeoutError\u001b[39;00m \u001b[38;5;28;01mas\u001b[39;00m exc:\n\u001b[32m    872\u001b[39m     \u001b[38;5;28mself\u001b[39m.handle_timeout(exc)\n",
      "\u001b[36mFile \u001b[39m\u001b[32mc:\\Users\\aleja\\miniconda3\\envs\\ml1\\Lib\\site-packages\\prefect\\task_engine.py:1510\u001b[39m, in \u001b[36mrun_task_sync\u001b[39m\u001b[34m(task, task_run_id, task_run, parameters, wait_for, return_type, dependencies, context)\u001b[39m\n\u001b[32m   1504\u001b[39m         run_coro_as_sync(engine.wait_until_ready())\n\u001b[32m   1505\u001b[39m         \u001b[38;5;28;01mwith\u001b[39;00m (\n\u001b[32m   1506\u001b[39m             engine.asset_context(),\n\u001b[32m   1507\u001b[39m             engine.run_context(),\n\u001b[32m   1508\u001b[39m             engine.transaction_context() \u001b[38;5;28;01mas\u001b[39;00m txn,\n\u001b[32m   1509\u001b[39m         ):\n\u001b[32m-> \u001b[39m\u001b[32m1510\u001b[39m             \u001b[43mengine\u001b[49m\u001b[43m.\u001b[49m\u001b[43mcall_task_fn\u001b[49m\u001b[43m(\u001b[49m\u001b[43mtxn\u001b[49m\u001b[43m)\u001b[49m\n\u001b[32m   1512\u001b[39m \u001b[38;5;28;01mreturn\u001b[39;00m engine.state \u001b[38;5;28;01mif\u001b[39;00m return_type == \u001b[33m\"\u001b[39m\u001b[33mstate\u001b[39m\u001b[33m\"\u001b[39m \u001b[38;5;28;01melse\u001b[39;00m engine.result()\n",
      "\u001b[36mFile \u001b[39m\u001b[32mc:\\Users\\aleja\\miniconda3\\envs\\ml1\\Lib\\site-packages\\prefect\\task_engine.py:887\u001b[39m, in \u001b[36mSyncTaskRunEngine.call_task_fn\u001b[39m\u001b[34m(self, transaction)\u001b[39m\n\u001b[32m    885\u001b[39m     result = transaction.read()\n\u001b[32m    886\u001b[39m \u001b[38;5;28;01melse\u001b[39;00m:\n\u001b[32m--> \u001b[39m\u001b[32m887\u001b[39m     result = \u001b[43mcall_with_parameters\u001b[49m\u001b[43m(\u001b[49m\u001b[38;5;28;43mself\u001b[39;49m\u001b[43m.\u001b[49m\u001b[43mtask\u001b[49m\u001b[43m.\u001b[49m\u001b[43mfn\u001b[49m\u001b[43m,\u001b[49m\u001b[43m \u001b[49m\u001b[43mparameters\u001b[49m\u001b[43m)\u001b[49m\n\u001b[32m    888\u001b[39m \u001b[38;5;28mself\u001b[39m.handle_success(result, transaction=transaction)\n\u001b[32m    889\u001b[39m \u001b[38;5;28;01mreturn\u001b[39;00m result\n",
      "\u001b[36mFile \u001b[39m\u001b[32mc:\\Users\\aleja\\miniconda3\\envs\\ml1\\Lib\\site-packages\\prefect\\utilities\\callables.py:210\u001b[39m, in \u001b[36mcall_with_parameters\u001b[39m\u001b[34m(fn, parameters)\u001b[39m\n\u001b[32m    202\u001b[39m \u001b[38;5;250m\u001b[39m\u001b[33;03m\"\"\"\u001b[39;00m\n\u001b[32m    203\u001b[39m \u001b[33;03mCall a function with parameters extracted with `get_call_parameters`\u001b[39;00m\n\u001b[32m    204\u001b[39m \n\u001b[32m   (...)\u001b[39m\u001b[32m    207\u001b[39m \u001b[33;03mthe args/kwargs using `parameters_to_positional_and_keyword` directly\u001b[39;00m\n\u001b[32m    208\u001b[39m \u001b[33;03m\"\"\"\u001b[39;00m\n\u001b[32m    209\u001b[39m args, kwargs = parameters_to_args_kwargs(fn, parameters)\n\u001b[32m--> \u001b[39m\u001b[32m210\u001b[39m \u001b[38;5;28;01mreturn\u001b[39;00m \u001b[43mfn\u001b[49m\u001b[43m(\u001b[49m\u001b[43m*\u001b[49m\u001b[43margs\u001b[49m\u001b[43m,\u001b[49m\u001b[43m \u001b[49m\u001b[43m*\u001b[49m\u001b[43m*\u001b[49m\u001b[43mkwargs\u001b[49m\u001b[43m)\u001b[49m\n",
      "\u001b[36mCell\u001b[39m\u001b[36m \u001b[39m\u001b[32mIn[2]\u001b[39m\u001b[32m, line 9\u001b[39m, in \u001b[36mtiming_decorator.<locals>.wrapper\u001b[39m\u001b[34m(*args, **kwargs)\u001b[39m\n\u001b[32m      6\u001b[39m start_time = time.time()\n\u001b[32m      8\u001b[39m \u001b[38;5;66;03m# Execute the original function\u001b[39;00m\n\u001b[32m----> \u001b[39m\u001b[32m9\u001b[39m result = \u001b[43mfunc\u001b[49m\u001b[43m(\u001b[49m\u001b[43m*\u001b[49m\u001b[43margs\u001b[49m\u001b[43m,\u001b[49m\u001b[43m \u001b[49m\u001b[43m*\u001b[49m\u001b[43m*\u001b[49m\u001b[43mkwargs\u001b[49m\u001b[43m)\u001b[49m\n\u001b[32m     11\u001b[39m end_time = time.time()\n\u001b[32m     12\u001b[39m execution_time = end_time - start_time\n",
      "\u001b[36mCell\u001b[39m\u001b[36m \u001b[39m\u001b[32mIn[15]\u001b[39m\u001b[32m, line 7\u001b[39m, in \u001b[36mconfusion_matrix\u001b[39m\u001b[34m(class_names, model, X_test, y_test)\u001b[39m\n\u001b[32m      1\u001b[39m \u001b[38;5;129m@task\u001b[39m\n\u001b[32m      2\u001b[39m \u001b[38;5;129m@timing_decorator\u001b[39m\n\u001b[32m      3\u001b[39m \u001b[38;5;28;01mdef\u001b[39;00m\u001b[38;5;250m \u001b[39m\u001b[34mconfusion_matrix\u001b[39m(class_names, model, X_test, y_test):\n\u001b[32m      5\u001b[39m     \u001b[38;5;28mprint\u001b[39m(\u001b[33m\"\u001b[39m\u001b[33mVisualización de desempeño con Matriz de Confusión:\u001b[39m\u001b[33m\"\u001b[39m)\n\u001b[32m----> \u001b[39m\u001b[32m7\u001b[39m     disp = \u001b[43mConfusionMatrixDisplay\u001b[49m.from_estimator(\n\u001b[32m      8\u001b[39m         model,\n\u001b[32m      9\u001b[39m         X_test,\n\u001b[32m     10\u001b[39m         y_test,\n\u001b[32m     11\u001b[39m         display_labels=class_names,\n\u001b[32m     12\u001b[39m         cmap=plt.cm.Blues,\n\u001b[32m     13\u001b[39m         normalize=\u001b[38;5;28;01mNone\u001b[39;00m\n\u001b[32m     14\u001b[39m     )\n\u001b[32m     16\u001b[39m     disp.ax_.set_title(\u001b[33m\"\u001b[39m\u001b[33mConfusion Matrix\u001b[39m\u001b[33m\"\u001b[39m)\n\u001b[32m     17\u001b[39m     \u001b[38;5;28mprint\u001b[39m(\u001b[33m\"\u001b[39m\u001b[33mConfusion Matrix\u001b[39m\u001b[33m\"\u001b[39m)\n",
      "\u001b[31mNameError\u001b[39m: name 'ConfusionMatrixDisplay' is not defined"
     ]
    },
    {
     "data": {
      "image/png": "[encoded data removed]",
      "text/plain": [
       "<Figure size 640x480 with 1 Axes>"
      ]
     },
     "metadata": {},
     "output_type": "display_data"
    }
   ],
   "source": [
    "@flow\n",
    "def diabetes_flow():\n",
    "    dataset = diabetes_dataset_retribution()\n",
    "    X_train, X_test, y_train, y_test = diabetes_preprocessing(dataset)\n",
    "\n",
    "    class_names = ['0','1']\n",
    "\n",
    "    dtree = decision_tree(X_train, X_test, y_train, y_test)\n",
    "    confusion_matrix(class_names, dtree, X_test, y_test)\n",
    "\n",
    "    rf =random_forest(X_train, X_test, y_train, y_test)\n",
    "    confusion_matrix(class_names, rf, X_test, y_test)\n",
    "\n",
    "    knn = knn(X_train, X_test, y_train, y_test)\n",
    "    confusion_matrix(class_names, knn, X_test, y_test)\n",
    "    knn_scaled = knn_scaler(X_train, X_test, y_train, y_test)\n",
    "    confusion_matrix(class_names, knn_scaled, X_test, y_test)\n",
    "\n",
    "    svm_class = svm(X_train, X_test, y_train, y_test)\n",
    "    confusion_matrix(class_names, svm_class, X_test, y_test)\n",
    "    svm_class_scaled = svm_scaler(X_train, X_test, y_train, y_test)\n",
    "    confusion_matrix(class_names, svm_class_scaled, X_test, y_test)\n",
    "diabetes_flow()"
   ]
  }
 ],
 "metadata": {
  "kernelspec": {
   "display_name": "ml1",
   "language": "python",
   "name": "python3"
  },
  "language_info": {
   "codemirror_mode": {
    "name": "ipython",
    "version": 3
   },
   "file_extension": ".py",
   "mimetype": "text/x-python",
   "name": "python",
   "nbconvert_exporter": "python",
   "pygments_lexer": "ipython3",
   "version": "3.11.13"
  }
 },
 "nbformat": 4,
 "nbformat_minor": 5
}
